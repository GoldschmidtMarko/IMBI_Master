{
 "cells": [
  {
   "attachments": {},
   "cell_type": "markdown",
   "metadata": {},
   "source": [
    "# This file compares and analyses the IMBI_Marko miner"
   ]
  },
  {
   "cell_type": "code",
   "execution_count": 1,
   "metadata": {},
   "outputs": [],
   "source": [
    "import sys\n",
    "# caution: path[0] is reserved for script path (or '' in REPL)\n",
    "sys.path.insert(1, 'C:/Users/Marko/Desktop/GIt/IMBI_Master')"
   ]
  },
  {
   "cell_type": "code",
   "execution_count": 2,
   "metadata": {},
   "outputs": [],
   "source": [
    "from local_pm4py.algo.discovery.inductive import algorithm as inductive_miner\n",
    "from pm4py.objects.log.importer.xes import importer as xes_importer\n",
    "from local_pm4py.algo.analysis import custom_enum\n",
    "from pm4py.visualization.petri_net import visualizer as pn_visualizer\n",
    "from pm4py import view_petri_net\n",
    "from pm4py.algo.evaluation.replay_fitness import algorithm as replay_fitness_evaluator\n",
    "from pm4py import precision_alignments\n",
    "from pm4py import precision_token_based_replay\n",
    "from pm4py import discover_petri_net_heuristics\n",
    "from pm4py.convert import convert_to_petri_net\n",
    "from pm4py.algo.discovery.inductive import algorithm as pm4py_algorithm\n",
    "from pm4py.algo.discovery.inductive.variants import imf as pm4py_imf\n",
    "import pandas as pd\n",
    "from pm4py.algo.discovery.inductive.algorithm import Variants as ind_Variants\n",
    "from local_pm4py.algo.analysis import Optimzation_Goals\n",
    "import matplotlib.pyplot as plt\n",
    "import numpy as np\n",
    "import math\n",
    "import fpdf\n",
    "from PIL import Image\n",
    "import os"
   ]
  },
  {
   "cell_type": "code",
   "execution_count": 3,
   "metadata": {},
   "outputs": [],
   "source": [
    "def f1_score(a, b):\n",
    "  # try: catch\n",
    "  if math.isclose(a+b,0):\n",
    "    return 0\n",
    "  return 2 * (a * b) / (a + b)"
   ]
  },
  {
   "cell_type": "code",
   "execution_count": 4,
   "metadata": {},
   "outputs": [],
   "source": [
    "def visualize_cuts(fileName):\n",
    "  pdf = fpdf.FPDF(format='letter') #pdf format\n",
    "  pdf.add_page() #create new page\n",
    "  pdf.set_font(\"Arial\", size=8) # font and textsize\n",
    "\n",
    "  depth = 0\n",
    "  currentIteration = 1\n",
    "  file_path = \"imbi_cuts/depth_\" + str(depth) + \"_It_\" + str(currentIteration)\n",
    "  \n",
    "  folder_name = \"imbi_cuts\"\n",
    "  # Check if the folder already exists\n",
    "  if not os.path.exists(folder_name):\n",
    "      # Create the folder\n",
    "      os.makedirs(folder_name)\n",
    "    \n",
    "  # for depth\n",
    "  while(os.path.isfile(file_path + \".png\")):\n",
    "    # for iteration\n",
    "    while(os.path.isfile(file_path + \".png\")):\n",
    "      with open(file_path + \".txt\") as f:\n",
    "        pdf.cell(100, 4, txt=\"Cut: \" + str(depth + 1) + \" it: \" + str(currentIteration), ln=1, align=\"C\")\n",
    "        pdf.cell(1000, 4, txt=\"cut | type | cost_p | cost_m | cost_ratio | fitP\", ln=1, align=\"L\")\n",
    "        pdf.cell(1000, 4, txt=\"\", ln=1, align=\"L\")\n",
    "        lines = f.readlines()\n",
    "        readLines = 0\n",
    "        for line in lines:\n",
    "          if readLines == 0:\n",
    "            outputLine = line.replace(\" \", \" | \")\n",
    "          else:\n",
    "            outputLine = line\n",
    "          pdf.cell(1000, 4, txt=outputLine, ln=1, align=\"L\")\n",
    "          readLines += 1\n",
    "          if readLines == 3:\n",
    "            readLines = 0\n",
    "            pdf.cell(1000, 4, txt=\"\", ln=1, align=\"L\")\n",
    "      img = Image.open(file_path + \".png\")\n",
    "      width,height = img.size\n",
    "      # print(width, height)\n",
    "      pdf.image(file_path + \".png\",w=min(150,width/3),h=min(150,height/3))\n",
    "      pdf.add_page()\n",
    "      currentIteration += 1\n",
    "      file_path = \"imbi_cuts/depth_\" + str(depth) + \"_It_\" + str(currentIteration)\n",
    "      \n",
    "    depth += 1\n",
    "    currentIteration = 1\n",
    "    file_path = \"imbi_cuts/depth_\" + str(depth) + \"_It_\" + str(currentIteration)\n",
    "  pdf.output(fileName + \".pdf\")"
   ]
  },
  {
   "cell_type": "code",
   "execution_count": 5,
   "metadata": {},
   "outputs": [],
   "source": [
    "def visualize_petriNet(df, miner, logPName, logMName = \"\"):\n",
    "  df_temp = df[df[\"miner\"] == miner]\n",
    "  df_temp = df_temp[df_temp[\"logM_Name\"] == logMName]\n",
    "  df_temp = df_temp[df_temp[\"logP_Name\"] == logPName]\n",
    "  for net, im, fm in zip(df_temp.net, df_temp.im, df_temp.fm):\n",
    "    print(\"Displaying: \" + str(miner) + \" \" + str(logPName) + \" \" + str(logMName))\n",
    "    view_petri_net(net, im, fm)"
   ]
  },
  {
   "cell_type": "code",
   "execution_count": 6,
   "metadata": {},
   "outputs": [],
   "source": [
    "def visualize_All_petriNet(df, miner):\n",
    "  df_temp = df[df[\"miner\"] == miner]\n",
    "  for logPName, logMName in zip(df_temp.logP_Name, df_temp.logM_Name):\n",
    "    visualize_petriNet(df,miner,logPName,logMName)"
   ]
  },
  {
   "cell_type": "code",
   "execution_count": 7,
   "metadata": {},
   "outputs": [],
   "source": [
    "def isRowPresent(df, miner, logPName, logMName, imf_noiseThreshold, hm_dependency_threshold, im_bi_sup, im_bi_ratio):\n",
    "  dftemp = df[df[\"miner\"] == miner]\n",
    "  dftemp = dftemp[dftemp[\"logP_Name\"] == logPName]\n",
    "  dftemp = dftemp[dftemp[\"logM_Name\"] == logMName]\n",
    "  dftemp = dftemp[dftemp[\"imf_noise_thr\"] == imf_noiseThreshold]\n",
    "  dftemp = dftemp[dftemp[\"hm_depen_thr\"] == hm_dependency_threshold]\n",
    "  dftemp = dftemp[dftemp[\"im_bi_sup\"] == im_bi_sup]\n",
    "  dftemp = dftemp[dftemp[\"im_bi_ratio\"] == im_bi_ratio]\n",
    "  if len(dftemp.index) > 0:\n",
    "    return True\n",
    "  return False\n"
   ]
  },
  {
   "cell_type": "code",
   "execution_count": 8,
   "metadata": {},
   "outputs": [],
   "source": [
    "def runDoubleLogEvaluation(df,log,logM, name,net, im, fm, logPName = \"\",logMName = \"\", imf_noiseThreshold = 0, hm_dependency_threshold = 0,im_bi_sup = 0, im_bi_ratio = 0):\n",
    "  mes = Optimzation_Goals.apply_petri(log,logM,net,im,fm)\n",
    "\n",
    "  df = pd.concat([df, pd.DataFrame.from_records([{\n",
    "    \"miner\" : name,\n",
    "    \"logP_Name\": logPName[:logPName.rfind(\".\")],\n",
    "    \"logM_Name\": logMName[:logMName.rfind(\".\")],\n",
    "    \"imf_noise_thr\" : imf_noiseThreshold,\n",
    "    \"hm_depen_thr\" : hm_dependency_threshold,\n",
    "    \"im_bi_sup\" : im_bi_sup,\n",
    "    \"im_bi_ratio\" : im_bi_ratio,\n",
    "    \"acc_logs\": mes['acc'],\n",
    "    \"fitP\" : mes['fitP'],\n",
    "    \"fitM\" : mes['fitM'],\n",
    "    \"f1_fit_logs\": mes['F1'],\n",
    "    \"precP\" : mes['precision'],\n",
    "    \"net\": net,\n",
    "    \"im\" : im,\n",
    "    \"fm\" : fm\n",
    "  }])])\n",
    "  return df"
   ]
  },
  {
   "cell_type": "code",
   "execution_count": 9,
   "metadata": {},
   "outputs": [],
   "source": [
    "def runSingleLogEvaluation(df,log,logM, name, net, im, fm, logPName = \"\",logMName = \"\", imf_noiseThreshold = 0, hm_dependency_threshold = 0,im_bi_sup = 0, im_bi_ratio = 0, pruning_threshold = 0):\n",
    "  \n",
    "  # if isRowPresent(df, name, logPName, logMName, imf_noiseThreshold, hm_dependency_threshold, im_bi_sup, im_bi_ratio) == True:\n",
    "  #   print (\"Skipped because present\")\n",
    "  #   return df\n",
    "  \n",
    "  parameters = {pn_visualizer.Variants.WO_DECORATION.value.Parameters.FORMAT:\"pdf\"}\n",
    "  gviz = pn_visualizer.apply(net, im, fm, parameters=parameters)\n",
    "\n",
    "  try:\n",
    "    fitness_token = replay_fitness_evaluator.apply(log, net, im, fm, variant=replay_fitness_evaluator.Variants.TOKEN_BASED)[\"log_fitness\"]\n",
    "  except:\n",
    "    fitness_token = 0\n",
    "  try:\n",
    "    fitness_align = replay_fitness_evaluator.apply(log, net, im, fm, variant=replay_fitness_evaluator.Variants.ALIGNMENT_BASED)[\"log_fitness\"]\n",
    "  except:\n",
    "    fitness_align = 0\n",
    "    \n",
    "  try:\n",
    "    prec_token = precision_token_based_replay(log, net, im, fm)\n",
    "  except:\n",
    "    prec_token = 0\n",
    "    \n",
    "  try:\n",
    "    prec_alignment = precision_alignments(log, net, im, fm)\n",
    "  except:\n",
    "    prec_alignment = 0\n",
    "    \n",
    "\n",
    "  df = pd.concat([df, pd.DataFrame.from_records([{\n",
    "      \"miner\" : name,\n",
    "      \"logP_Name\": logPName,\n",
    "      \"logM_Name\": logMName,\n",
    "      \"imf_noise_thr\" : imf_noiseThreshold,\n",
    "      \"hm_depen_thr\" : hm_dependency_threshold,\n",
    "      \"im_bi_sup\" : im_bi_sup,\n",
    "      \"im_bi_ratio\" : im_bi_ratio,\n",
    "      \"pruning_threshold\" : pruning_threshold,\n",
    "      \"fit_tok\": fitness_token,\n",
    "      \"fit_alig\": fitness_align,\n",
    "      \"prec_tok\": prec_token,\n",
    "      \"prec_alig\": prec_alignment,\n",
    "      \"f1_tok\": f1_score(fitness_token, prec_token),\n",
    "      \"f1_alig\": f1_score(fitness_align, prec_alignment),\n",
    "      \"net\": net,\n",
    "      \"im\" : im,\n",
    "      \"fm\" : fm\n",
    "  }])])\n",
    "  return df"
   ]
  },
  {
   "cell_type": "code",
   "execution_count": 10,
   "metadata": {},
   "outputs": [],
   "source": [
    "def add_Model_To_Database(df,log,logM, name,net, im, fm, logPName = \"\",logMName = \"\", imf_noiseThreshold = 0, hm_dependency_threshold = 0,im_bi_sup = 0, im_bi_ratio = 0, pruning_threshold = 0):\n",
    "  if logMName == \"\":\n",
    "    df = runSingleLogEvaluation(df,log,logM, name,net, im, fm, logPName,logMName, imf_noiseThreshold, hm_dependency_threshold,im_bi_sup, im_bi_ratio, pruning_threshold)\n",
    "  else:\n",
    "    df = runDoubleLogEvaluation(df,log,logM, name,net, im, fm, logPName,logMName, imf_noiseThreshold, hm_dependency_threshold,im_bi_sup, im_bi_ratio, pruning_threshold)\n",
    "  return df"
   ]
  },
  {
   "cell_type": "code",
   "execution_count": 11,
   "metadata": {},
   "outputs": [],
   "source": [
    "def getF1Value(df, miner, logPName, logMName, support, ratio):\n",
    "  dftemp = df[df[\"miner\"] == miner]\n",
    "  dftemp = dftemp[dftemp[\"logP_Name\"] == logPName[:logPName.rfind(\".\")]]\n",
    "  dftemp = dftemp[dftemp[\"logM_Name\"] == logMName[:logPName.rfind(\".\")]]\n",
    "  dftemp = dftemp[dftemp[\"im_bi_sup\"] == support]\n",
    "  dftemp = dftemp[dftemp[\"im_bi_ratio\"] == ratio]\n",
    "  if len(dftemp.index) > 1:\n",
    "    raise Exception(\"Error, too many rows.\")\n",
    "  return dftemp[\"f1_fit_logs\"].iloc[0]\n"
   ]
  },
  {
   "cell_type": "code",
   "execution_count": 12,
   "metadata": {},
   "outputs": [],
   "source": [
    "def applyMinerToLog(df, logPathP, logPathM,logPName, logMName = \"\", noiseThreshold = 0.0, dependency_threshold=0.0, support = 0, ratio = 0, pruning_threshold = 0):\n",
    "  logP = xes_importer.apply(logPathP)\n",
    "  if logMName == \"\":\n",
    "    logM = logP\n",
    "    # inductive miner\n",
    "    print(\"Running IM\")\n",
    "    pt = pm4py_algorithm.apply(logP,variant=ind_Variants.IM)\n",
    "    net, im, fm = convert_to_petri_net(pt)\n",
    "    df = add_Model_To_Database(df=df, log=logP, logM=logM,net=net,im=im,fm=fm,name=\"IM\",logPName=logPName, im_bi_sup=support,im_bi_ratio=ratio,pruning_threshold = pruning_threshold)\n",
    "    \n",
    "    #imf \n",
    "    print(\"Running IMF\")\n",
    "    parameters = {pm4py_imf.IMFParameters.NOISE_THRESHOLD : noiseThreshold}\n",
    "    pt = pm4py_algorithm.apply(logP,variant=ind_Variants.IMf, parameters=parameters)\n",
    "    net, im, fm = convert_to_petri_net(pt)\n",
    "    df = add_Model_To_Database(df=df, log=logP, logM=logM,net=net,im=im,fm=fm,name=\"IMF\",logPName=logPName,imf_noiseThreshold=noiseThreshold, im_bi_sup=support,im_bi_ratio=ratio,pruning_threshold = pruning_threshold)\n",
    "    \n",
    "    #hm\n",
    "    print(\"Running HM\")\n",
    "    net, im, fm = discover_petri_net_heuristics(logP,dependency_threshold=dependency_threshold)\n",
    "    df = add_Model_To_Database(df=df, log=logP, logM=logM,net=net,im=im,fm=fm,name=\"HM\",logPName=logPName,hm_dependency_threshold=dependency_threshold, im_bi_sup=support,im_bi_ratio=ratio,pruning_threshold = pruning_threshold)\n",
    "  else:\n",
    "    logM = xes_importer.apply(logPathM)\n",
    "    \n",
    "  # imbi_ali\n",
    "  print(\"Running IMbi_ali\")\n",
    "  cost_Variant = custom_enum.Cost_Variant.ACTIVITY_FREQUENCY_SCORE\n",
    "  net, im, fm = inductive_miner.apply_bi(logP,logM, variant=inductive_miner.Variants.IMbi, sup=support, ratio=ratio, pruning_threshold = pruning_threshold, size_par=len(logP)/len(logM), cost_Variant=cost_Variant)\n",
    "  df = add_Model_To_Database(df=df,log=logP, logM=logM,net=net,im=im,fm=fm,name=\"IMbi_ali\",logPName=logPName, logMName=logMName,im_bi_sup=support,im_bi_ratio=ratio,pruning_threshold = pruning_threshold)\n",
    "  \n",
    "  fileName_cuts_ali = \"cuts_IMbi_ali_sup_\" + str(support) + \"_ratio_\" + str(ratio) + \"_logP_\" + logPName[:logPName.rfind(\".\")] + \"_logM_\" + logMName[:logMName.rfind(\".\")]\n",
    "  visualize_cuts(fileName_cuts_ali)\n",
    "  \n",
    "  for f in os.listdir(\"imbi_cuts\"):\n",
    "    os.remove(os.path.join(\"imbi_cuts\", f))\n",
    "  \n",
    "  #imbi_mar\n",
    "  print(\"Running IMbi_mar\")\n",
    "  cost_Variant = custom_enum.Cost_Variant.ACTIVITY_RELATION_SCORE\n",
    "  net, im, fm = inductive_miner.apply_bi(logP,logM, variant=inductive_miner.Variants.IMbi, sup=support, ratio=ratio, pruning_threshold = pruning_threshold, size_par=len(logP)/len(logM), cost_Variant=cost_Variant)\n",
    "  df = add_Model_To_Database(df=df, log=logP, logM=logM,net=net,im=im,fm=fm,name=\"IMbi_mar\",logPName=logPName, logMName=logMName, im_bi_sup=support,im_bi_ratio=ratio,pruning_threshold = pruning_threshold)\n",
    "  \n",
    "  fileName_cuts_mar = \"cuts_IMbi_mar_sup_\" + str(support) + \"_ratio_\" + str(ratio) + \"_logP-\" + logPName[:logPName.rfind(\".\")] + \"_logM-\" + logMName[:logMName.rfind(\".\")]\n",
    "  visualize_cuts(fileName_cuts_mar)\n",
    "  \n",
    "  for f in os.listdir(\"imbi_cuts\"):\n",
    "    os.remove(os.path.join(\"imbi_cuts\", f))\n",
    "  \n",
    "  # for double log\n",
    "  marImproved = False\n",
    "  if logMName != \"\":\n",
    "    f1_ali = getF1Value(df,\"IMbi_ali\",logPName,logMName,support,ratio)\n",
    "    f1_mar = getF1Value(df,\"IMbi_mar\",logPName,logMName,support,ratio)\n",
    "    if f1_ali < f1_mar:\n",
    "      display(\"Mar > Ali\")\n",
    "      marImproved = True\n",
    "      if True:\n",
    "        if os.path.exists(fileName_cuts_ali+ \".pdf\"):\n",
    "          os.remove(fileName_cuts_ali+ \".pdf\")\n",
    "        if os.path.exists(fileName_cuts_mar+ \".pdf\"):\n",
    "          os.remove(fileName_cuts_mar + \".pdf\")\n",
    "    else:\n",
    "      display(\"Ali > Mar\")\n",
    "  return df, marImproved"
   ]
  },
  {
   "cell_type": "code",
   "execution_count": 13,
   "metadata": {},
   "outputs": [],
   "source": [
    "columns = [\"miner\", \"logP_Name\", \"logM_Name\",\"imf_noise_thr\",\"hm_depen_thr\",\"im_bi_sup\",\"im_bi_ratio\", \"fit_tok\", \"fit_alig\", \"prec_tok\", \"prec_alig\", \"f1_tok\", \"f1_alig\", \"net\", \"im\", \"fm\"]\n",
    "df = pd.DataFrame(data=None, index=None, columns=columns, dtype=None, copy=None)"
   ]
  },
  {
   "cell_type": "code",
   "execution_count": 14,
   "metadata": {},
   "outputs": [],
   "source": [
    "rootPath = \"C:/Users/Marko/Desktop/IMbi_Data/analysing/\"\n",
    "\n",
    "lpNames = [\"lp_2012.xes\", \"lp_2017.xes\", \"lp_2018.xes\"]\n",
    "# lpNames = [\"lp_2012.xes\"]\n",
    "\n",
    "lMNames = [\"lm_2012.xes\", \"lm_2017.xes\", \"lm_2018.xes\"]\n",
    "# lMNames = [\"lm_2012.xes\"]\n",
    "lpPaths = []\n",
    "lmPaths = []\n",
    "\n",
    "for lp in lpNames:\n",
    "  lpPaths.append((lp,rootPath + lp))\n",
    "for lm in lMNames:\n",
    "  lmPaths.append((lm,rootPath + lm))\n",
    "  "
   ]
  },
  {
   "cell_type": "code",
   "execution_count": 15,
   "metadata": {},
   "outputs": [
    {
     "data": {
      "text/plain": [
       "'Running: lp_2012.xes 1/18'"
      ]
     },
     "metadata": {},
     "output_type": "display_data"
    },
    {
     "data": {
      "text/plain": [
       "'i: 0 ratio: 0 sup: 0.2 pruning: 0'"
      ]
     },
     "metadata": {},
     "output_type": "display_data"
    },
    {
     "name": "stderr",
     "output_type": "stream",
     "text": [
      "c:\\Users\\Marko\\AppData\\Local\\Programs\\Python\\Python38\\lib\\site-packages\\pm4py\\util\\dt_parsing\\parser.py:76: UserWarning: ISO8601 strings are not fully supported with strpfromiso for Python versions below 3.11\n",
      "  warnings.warn(\n",
      "c:\\Users\\Marko\\AppData\\Local\\Programs\\Python\\Python38\\lib\\site-packages\\tqdm\\auto.py:22: TqdmWarning: IProgress not found. Please update jupyter and ipywidgets. See https://ipywidgets.readthedocs.io/en/stable/user_install.html\n",
      "  from .autonotebook import tqdm as notebook_tqdm\n",
      "parsing log, completed traces :: 100%|██████████| 10556/10556 [00:01<00:00, 8012.14it/s]\n"
     ]
    },
    {
     "name": "stdout",
     "output_type": "stream",
     "text": [
      "Running IM\n"
     ]
    },
    {
     "name": "stderr",
     "output_type": "stream",
     "text": [
      "replaying log with TBR, completed variants :: 100%|██████████| 25/25 [00:00<00:00, 1470.43it/s]\n",
      "aligning log, completed variants :: 100%|██████████| 25/25 [00:00<00:00, 378.78it/s]\n",
      "c:\\Users\\Marko\\AppData\\Local\\Programs\\Python\\Python38\\lib\\site-packages\\pm4py\\utils.py:486: UserWarning: the EventLog class has been deprecated and will be removed in a future release.\n",
      "  warnings.warn(\"the EventLog class has been deprecated and will be removed in a future release.\")\n",
      "replaying log with TBR, completed variants :: 100%|██████████| 43/43 [00:00<00:00, 1622.64it/s]\n",
      "computing precision with alignments, completed variants :: 100%|██████████| 43/43 [00:00<00:00, 789.01it/s]\n"
     ]
    },
    {
     "name": "stdout",
     "output_type": "stream",
     "text": [
      "Running IMF\n"
     ]
    },
    {
     "name": "stderr",
     "output_type": "stream",
     "text": [
      "replaying log with TBR, completed variants :: 100%|██████████| 25/25 [00:00<00:00, 1613.02it/s]\n",
      "aligning log, completed variants :: 100%|██████████| 25/25 [00:00<00:00, 406.51it/s]\n",
      "replaying log with TBR, completed variants :: 100%|██████████| 43/43 [00:00<00:00, 1698.32it/s]\n",
      "computing precision with alignments, completed variants :: 100%|██████████| 43/43 [00:00<00:00, 351.02it/s]\n"
     ]
    },
    {
     "name": "stdout",
     "output_type": "stream",
     "text": [
      "Running HM\n"
     ]
    },
    {
     "name": "stderr",
     "output_type": "stream",
     "text": [
      "replaying log with TBR, completed variants :: 100%|██████████| 25/25 [00:00<00:00, 1388.93it/s]\n",
      "aligning log, completed variants :: 100%|██████████| 25/25 [00:00<00:00, 356.77it/s]\n",
      "replaying log with TBR, completed variants :: 100%|██████████| 43/43 [00:00<00:00, 2605.99it/s]\n",
      "computing precision with alignments, completed variants :: 100%|██████████| 43/43 [00:00<00:00, 905.30it/s]\n"
     ]
    },
    {
     "name": "stdout",
     "output_type": "stream",
     "text": [
      "Running IMbi_ali\n"
     ]
    },
    {
     "name": "stderr",
     "output_type": "stream",
     "text": [
      "replaying log with TBR, completed variants :: 100%|██████████| 25/25 [00:00<00:00, 1249.99it/s]\n",
      "aligning log, completed variants :: 100%|██████████| 25/25 [00:00<00:00, 331.12it/s]\n",
      "replaying log with TBR, completed variants :: 100%|██████████| 43/43 [00:00<00:00, 1284.31it/s]\n",
      "computing precision with alignments, completed variants :: 100%|██████████| 43/43 [00:00<00:00, 641.79it/s]\n"
     ]
    },
    {
     "name": "stdout",
     "output_type": "stream",
     "text": [
      "Running IMbi_mar\n"
     ]
    },
    {
     "name": "stderr",
     "output_type": "stream",
     "text": [
      "replaying log with TBR, completed variants :: 100%|██████████| 25/25 [00:00<00:00, 1136.35it/s]\n",
      "aligning log, completed variants :: 100%|██████████| 25/25 [00:00<00:00, 136.24it/s]\n",
      "replaying log with TBR, completed variants :: 100%|██████████| 43/43 [00:00<00:00, 2263.24it/s]\n",
      "computing precision with alignments, completed variants :: 100%|██████████| 43/43 [00:00<00:00, 905.24it/s]\n"
     ]
    },
    {
     "data": {
      "text/plain": [
       "'Running: lp_2012.xes 2/18'"
      ]
     },
     "metadata": {},
     "output_type": "display_data"
    },
    {
     "data": {
      "text/plain": [
       "'i: 0 ratio: 0 sup: 0.2 pruning: 0.1'"
      ]
     },
     "metadata": {},
     "output_type": "display_data"
    },
    {
     "name": "stderr",
     "output_type": "stream",
     "text": [
      "parsing log, completed traces :: 100%|██████████| 10556/10556 [00:01<00:00, 8305.28it/s]\n"
     ]
    },
    {
     "name": "stdout",
     "output_type": "stream",
     "text": [
      "Running IM\n"
     ]
    },
    {
     "name": "stderr",
     "output_type": "stream",
     "text": [
      "replaying log with TBR, completed variants :: 100%|██████████| 25/25 [00:00<00:00, 1470.57it/s]\n",
      "aligning log, completed variants :: 100%|██████████| 25/25 [00:00<00:00, 396.83it/s]\n",
      "c:\\Users\\Marko\\AppData\\Local\\Programs\\Python\\Python38\\lib\\site-packages\\pm4py\\utils.py:486: UserWarning: the EventLog class has been deprecated and will be removed in a future release.\n",
      "  warnings.warn(\"the EventLog class has been deprecated and will be removed in a future release.\")\n",
      "replaying log with TBR, completed variants :: 100%|██████████| 43/43 [00:00<00:00, 1592.68it/s]\n",
      "computing precision with alignments, completed variants :: 100%|██████████| 43/43 [00:00<00:00, 796.30it/s]\n"
     ]
    },
    {
     "name": "stdout",
     "output_type": "stream",
     "text": [
      "Running IMF\n"
     ]
    },
    {
     "name": "stderr",
     "output_type": "stream",
     "text": [
      "replaying log with TBR, completed variants :: 100%|██████████| 25/25 [00:00<00:00, 1562.52it/s]\n",
      "aligning log, completed variants :: 100%|██████████| 25/25 [00:00<00:00, 406.50it/s]\n",
      "replaying log with TBR, completed variants :: 100%|██████████| 43/43 [00:00<00:00, 1720.06it/s]\n",
      "computing precision with alignments, completed variants :: 100%|██████████| 43/43 [00:00<00:00, 826.93it/s]\n"
     ]
    },
    {
     "name": "stdout",
     "output_type": "stream",
     "text": [
      "Running HM\n"
     ]
    },
    {
     "name": "stderr",
     "output_type": "stream",
     "text": [
      "replaying log with TBR, completed variants :: 100%|██████████| 25/25 [00:00<00:00, 1388.90it/s]\n",
      "aligning log, completed variants :: 100%|██████████| 25/25 [00:00<00:00, 352.11it/s]\n",
      "replaying log with TBR, completed variants :: 100%|██████████| 43/43 [00:00<00:00, 2529.38it/s]\n",
      "computing precision with alignments, completed variants :: 100%|██████████| 43/43 [00:00<00:00, 895.87it/s]\n"
     ]
    },
    {
     "name": "stdout",
     "output_type": "stream",
     "text": [
      "Running IMbi_ali\n"
     ]
    },
    {
     "name": "stderr",
     "output_type": "stream",
     "text": [
      "replaying log with TBR, completed variants :: 100%|██████████| 25/25 [00:00<00:00, 1282.03it/s]\n",
      "aligning log, completed variants :: 100%|██████████| 25/25 [00:00<00:00, 301.21it/s]\n",
      "replaying log with TBR, completed variants :: 100%|██████████| 43/43 [00:00<00:00, 1283.57it/s]\n",
      "computing precision with alignments, completed variants :: 100%|██████████| 43/43 [00:00<00:00, 641.80it/s]\n"
     ]
    },
    {
     "name": "stdout",
     "output_type": "stream",
     "text": [
      "Running IMbi_mar\n"
     ]
    },
    {
     "name": "stderr",
     "output_type": "stream",
     "text": [
      "replaying log with TBR, completed variants :: 100%|██████████| 25/25 [00:00<00:00, 1111.13it/s]\n",
      "aligning log, completed variants :: 100%|██████████| 25/25 [00:00<00:00, 136.61it/s]\n",
      "replaying log with TBR, completed variants :: 100%|██████████| 43/43 [00:00<00:00, 2097.54it/s]\n",
      "computing precision with alignments, completed variants :: 100%|██████████| 43/43 [00:00<00:00, 895.80it/s]\n"
     ]
    },
    {
     "data": {
      "text/plain": [
       "'Running: lp_2012.xes 3/18'"
      ]
     },
     "metadata": {},
     "output_type": "display_data"
    },
    {
     "data": {
      "text/plain": [
       "'i: 0 ratio: 0 sup: 0.2 pruning: 0.2'"
      ]
     },
     "metadata": {},
     "output_type": "display_data"
    },
    {
     "name": "stderr",
     "output_type": "stream",
     "text": [
      "parsing log, completed traces :: 100%|██████████| 10556/10556 [00:01<00:00, 9010.67it/s]\n"
     ]
    },
    {
     "name": "stdout",
     "output_type": "stream",
     "text": [
      "Running IM\n"
     ]
    },
    {
     "name": "stderr",
     "output_type": "stream",
     "text": [
      "replaying log with TBR, completed variants :: 100%|██████████| 25/25 [00:00<00:00, 1470.65it/s]\n",
      "aligning log, completed variants :: 100%|██████████| 25/25 [00:00<00:00, 378.78it/s]\n",
      "c:\\Users\\Marko\\AppData\\Local\\Programs\\Python\\Python38\\lib\\site-packages\\pm4py\\utils.py:486: UserWarning: the EventLog class has been deprecated and will be removed in a future release.\n",
      "  warnings.warn(\"the EventLog class has been deprecated and will be removed in a future release.\")\n",
      "replaying log with TBR, completed variants :: 100%|██████████| 43/43 [00:00<00:00, 1592.57it/s]\n",
      "computing precision with alignments, completed variants :: 100%|██████████| 43/43 [00:00<00:00, 789.27it/s]\n"
     ]
    },
    {
     "name": "stdout",
     "output_type": "stream",
     "text": [
      "Running IMF\n"
     ]
    },
    {
     "name": "stderr",
     "output_type": "stream",
     "text": [
      "replaying log with TBR, completed variants :: 100%|██████████| 25/25 [00:00<00:00, 1470.61it/s]\n",
      "aligning log, completed variants :: 100%|██████████| 25/25 [00:00<00:00, 387.59it/s]\n",
      "replaying log with TBR, completed variants :: 100%|██████████| 43/43 [00:00<00:00, 1686.29it/s]\n",
      "computing precision with alignments, completed variants :: 100%|██████████| 43/43 [00:00<00:00, 843.12it/s]\n"
     ]
    },
    {
     "name": "stdout",
     "output_type": "stream",
     "text": [
      "Running HM\n"
     ]
    },
    {
     "name": "stderr",
     "output_type": "stream",
     "text": [
      "replaying log with TBR, completed variants :: 100%|██████████| 25/25 [00:00<00:00, 1428.62it/s]\n",
      "aligning log, completed variants :: 100%|██████████| 25/25 [00:00<00:00, 349.66it/s]\n",
      "replaying log with TBR, completed variants :: 100%|██████████| 43/43 [00:00<00:00, 2529.42it/s]\n",
      "computing precision with alignments, completed variants :: 100%|██████████| 43/43 [00:00<00:00, 886.64it/s]\n"
     ]
    },
    {
     "name": "stdout",
     "output_type": "stream",
     "text": [
      "Running IMbi_ali\n"
     ]
    },
    {
     "name": "stderr",
     "output_type": "stream",
     "text": [
      "replaying log with TBR, completed variants :: 100%|██████████| 25/25 [00:00<00:00, 1221.42it/s]\n",
      "aligning log, completed variants :: 100%|██████████| 25/25 [00:00<00:00, 301.20it/s]\n",
      "replaying log with TBR, completed variants :: 100%|██████████| 43/43 [00:00<00:00, 1343.71it/s]\n",
      "computing precision with alignments, completed variants :: 100%|██████████| 43/43 [00:00<00:00, 728.84it/s]\n"
     ]
    },
    {
     "name": "stdout",
     "output_type": "stream",
     "text": [
      "Running IMbi_mar\n"
     ]
    },
    {
     "name": "stderr",
     "output_type": "stream",
     "text": [
      "replaying log with TBR, completed variants :: 100%|██████████| 25/25 [00:00<00:00, 1136.43it/s]\n",
      "aligning log, completed variants :: 100%|██████████| 25/25 [00:00<00:00, 134.05it/s]\n",
      "replaying log with TBR, completed variants :: 100%|██████████| 43/43 [00:00<00:00, 2205.05it/s]\n",
      "computing precision with alignments, completed variants :: 100%|██████████| 43/43 [00:00<00:00, 877.56it/s]\n"
     ]
    },
    {
     "data": {
      "text/plain": [
       "'Running: lp_2012.xes 4/18'"
      ]
     },
     "metadata": {},
     "output_type": "display_data"
    },
    {
     "data": {
      "text/plain": [
       "'i: 0 ratio: 0 sup: 0.4 pruning: 0'"
      ]
     },
     "metadata": {},
     "output_type": "display_data"
    },
    {
     "name": "stderr",
     "output_type": "stream",
     "text": [
      "parsing log, completed traces :: 100%|██████████| 10556/10556 [00:01<00:00, 9092.17it/s]\n"
     ]
    },
    {
     "name": "stdout",
     "output_type": "stream",
     "text": [
      "Running IM\n"
     ]
    },
    {
     "name": "stderr",
     "output_type": "stream",
     "text": [
      "replaying log with TBR, completed variants :: 100%|██████████| 25/25 [00:00<00:00, 1470.69it/s]\n",
      "aligning log, completed variants :: 100%|██████████| 25/25 [00:00<00:00, 378.79it/s]\n",
      "c:\\Users\\Marko\\AppData\\Local\\Programs\\Python\\Python38\\lib\\site-packages\\pm4py\\utils.py:486: UserWarning: the EventLog class has been deprecated and will be removed in a future release.\n",
      "  warnings.warn(\"the EventLog class has been deprecated and will be removed in a future release.\")\n",
      "replaying log with TBR, completed variants :: 100%|██████████| 43/43 [00:00<00:00, 1622.67it/s]\n",
      "computing precision with alignments, completed variants :: 100%|██████████| 43/43 [00:00<00:00, 811.33it/s]\n"
     ]
    },
    {
     "name": "stdout",
     "output_type": "stream",
     "text": [
      "Running IMF\n"
     ]
    },
    {
     "name": "stderr",
     "output_type": "stream",
     "text": [
      "replaying log with TBR, completed variants :: 100%|██████████| 25/25 [00:00<00:00, 1562.43it/s]\n",
      "aligning log, completed variants :: 100%|██████████| 25/25 [00:00<00:00, 387.59it/s]\n",
      "replaying log with TBR, completed variants :: 100%|██████████| 43/43 [00:00<00:00, 1653.86it/s]\n",
      "computing precision with alignments, completed variants :: 100%|██████████| 43/43 [00:00<00:00, 851.45it/s]\n"
     ]
    },
    {
     "name": "stdout",
     "output_type": "stream",
     "text": [
      "Running HM\n"
     ]
    },
    {
     "name": "stderr",
     "output_type": "stream",
     "text": [
      "replaying log with TBR, completed variants :: 100%|██████████| 25/25 [00:00<00:00, 1430.14it/s]\n",
      "aligning log, completed variants :: 100%|██████████| 25/25 [00:00<00:00, 347.24it/s]\n",
      "replaying log with TBR, completed variants :: 100%|██████████| 43/43 [00:00<00:00, 2528.67it/s]\n",
      "computing precision with alignments, completed variants :: 100%|██████████| 43/43 [00:00<00:00, 826.93it/s]\n"
     ]
    },
    {
     "name": "stdout",
     "output_type": "stream",
     "text": [
      "Running IMbi_ali\n"
     ]
    },
    {
     "name": "stderr",
     "output_type": "stream",
     "text": [
      "replaying log with TBR, completed variants :: 100%|██████████| 25/25 [00:00<00:00, 1250.02it/s]\n",
      "aligning log, completed variants :: 100%|██████████| 25/25 [00:00<00:00, 201.61it/s]\n",
      "replaying log with TBR, completed variants :: 100%|██████████| 43/43 [00:00<00:00, 2263.21it/s]\n",
      "computing precision with alignments, completed variants :: 100%|██████████| 43/43 [00:00<00:00, 803.73it/s]\n"
     ]
    },
    {
     "name": "stdout",
     "output_type": "stream",
     "text": [
      "Running IMbi_mar\n"
     ]
    },
    {
     "name": "stderr",
     "output_type": "stream",
     "text": [
      "replaying log with TBR, completed variants :: 100%|██████████| 25/25 [00:00<00:00, 1664.75it/s]\n",
      "aligning log, completed variants :: 100%|██████████| 25/25 [00:00<00:00, 381.80it/s]\n",
      "replaying log with TBR, completed variants :: 100%|██████████| 43/43 [00:00<00:00, 3583.31it/s]\n",
      "computing precision with alignments, completed variants :: 100%|██████████| 43/43 [00:00<00:00, 1011.76it/s]\n"
     ]
    },
    {
     "data": {
      "text/plain": [
       "'Running: lp_2012.xes 5/18'"
      ]
     },
     "metadata": {},
     "output_type": "display_data"
    },
    {
     "data": {
      "text/plain": [
       "'i: 0 ratio: 0 sup: 0.4 pruning: 0.1'"
      ]
     },
     "metadata": {},
     "output_type": "display_data"
    },
    {
     "name": "stderr",
     "output_type": "stream",
     "text": [
      "parsing log, completed traces :: 100%|██████████| 10556/10556 [00:01<00:00, 8132.51it/s]\n"
     ]
    },
    {
     "name": "stdout",
     "output_type": "stream",
     "text": [
      "Running IM\n"
     ]
    },
    {
     "name": "stderr",
     "output_type": "stream",
     "text": [
      "replaying log with TBR, completed variants :: 100%|██████████| 25/25 [00:00<00:00, 1471.13it/s]\n",
      "aligning log, completed variants :: 100%|██████████| 25/25 [00:00<00:00, 393.72it/s]\n",
      "c:\\Users\\Marko\\AppData\\Local\\Programs\\Python\\Python38\\lib\\site-packages\\pm4py\\utils.py:486: UserWarning: the EventLog class has been deprecated and will be removed in a future release.\n",
      "  warnings.warn(\"the EventLog class has been deprecated and will be removed in a future release.\")\n",
      "replaying log with TBR, completed variants :: 100%|██████████| 43/43 [00:00<00:00, 1535.68it/s]\n",
      "computing precision with alignments, completed variants :: 100%|██████████| 43/43 [00:00<00:00, 367.52it/s]\n"
     ]
    },
    {
     "name": "stdout",
     "output_type": "stream",
     "text": [
      "Running IMF\n"
     ]
    },
    {
     "name": "stderr",
     "output_type": "stream",
     "text": [
      "replaying log with TBR, completed variants :: 100%|██████████| 25/25 [00:00<00:00, 1613.02it/s]\n",
      "aligning log, completed variants :: 100%|██████████| 25/25 [00:00<00:00, 409.84it/s]\n",
      "replaying log with TBR, completed variants :: 100%|██████████| 43/43 [00:00<00:00, 1755.06it/s]\n",
      "computing precision with alignments, completed variants :: 100%|██████████| 43/43 [00:00<00:00, 868.70it/s]\n"
     ]
    },
    {
     "name": "stdout",
     "output_type": "stream",
     "text": [
      "Running HM\n"
     ]
    },
    {
     "name": "stderr",
     "output_type": "stream",
     "text": [
      "replaying log with TBR, completed variants :: 100%|██████████| 25/25 [00:00<00:00, 1428.27it/s]\n",
      "aligning log, completed variants :: 100%|██████████| 25/25 [00:00<00:00, 340.13it/s]\n",
      "replaying log with TBR, completed variants :: 100%|██████████| 43/43 [00:00<00:00, 2457.25it/s]\n",
      "computing precision with alignments, completed variants :: 100%|██████████| 43/43 [00:00<00:00, 868.64it/s]\n"
     ]
    },
    {
     "name": "stdout",
     "output_type": "stream",
     "text": [
      "Running IMbi_ali\n"
     ]
    },
    {
     "name": "stderr",
     "output_type": "stream",
     "text": [
      "replaying log with TBR, completed variants :: 100%|██████████| 25/25 [00:00<00:00, 1249.96it/s]\n",
      "aligning log, completed variants :: 100%|██████████| 25/25 [00:00<00:00, 194.55it/s]\n",
      "replaying log with TBR, completed variants :: 100%|██████████| 43/43 [00:00<00:00, 2263.21it/s]\n",
      "computing precision with alignments, completed variants :: 100%|██████████| 43/43 [00:00<00:00, 796.30it/s]\n"
     ]
    },
    {
     "name": "stdout",
     "output_type": "stream",
     "text": [
      "Running IMbi_mar\n"
     ]
    },
    {
     "name": "stderr",
     "output_type": "stream",
     "text": [
      "replaying log with TBR, completed variants :: 100%|██████████| 25/25 [00:00<00:00, 1724.21it/s]\n",
      "aligning log, completed variants :: 100%|██████████| 25/25 [00:00<00:00, 393.70it/s]\n",
      "replaying log with TBR, completed variants :: 100%|██████████| 43/43 [00:00<00:00, 3185.53it/s]\n",
      "computing precision with alignments, completed variants :: 100%|██████████| 43/43 [00:00<00:00, 1048.81it/s]\n"
     ]
    },
    {
     "data": {
      "text/plain": [
       "'Running: lp_2012.xes 6/18'"
      ]
     },
     "metadata": {},
     "output_type": "display_data"
    },
    {
     "data": {
      "text/plain": [
       "'i: 0 ratio: 0 sup: 0.4 pruning: 0.2'"
      ]
     },
     "metadata": {},
     "output_type": "display_data"
    },
    {
     "name": "stderr",
     "output_type": "stream",
     "text": [
      "parsing log, completed traces :: 100%|██████████| 10556/10556 [00:01<00:00, 7969.79it/s]\n"
     ]
    },
    {
     "name": "stdout",
     "output_type": "stream",
     "text": [
      "Running IM\n"
     ]
    },
    {
     "name": "stderr",
     "output_type": "stream",
     "text": [
      "replaying log with TBR, completed variants :: 100%|██████████| 25/25 [00:00<00:00, 1470.57it/s]\n",
      "aligning log, completed variants :: 100%|██████████| 25/25 [00:00<00:00, 373.13it/s]\n",
      "c:\\Users\\Marko\\AppData\\Local\\Programs\\Python\\Python38\\lib\\site-packages\\pm4py\\utils.py:486: UserWarning: the EventLog class has been deprecated and will be removed in a future release.\n",
      "  warnings.warn(\"the EventLog class has been deprecated and will be removed in a future release.\")\n",
      "replaying log with TBR, completed variants :: 100%|██████████| 43/43 [00:00<00:00, 1535.76it/s]\n",
      "computing precision with alignments, completed variants :: 100%|██████████| 43/43 [00:00<00:00, 789.01it/s]\n"
     ]
    },
    {
     "name": "stdout",
     "output_type": "stream",
     "text": [
      "Running IMF\n"
     ]
    },
    {
     "name": "stderr",
     "output_type": "stream",
     "text": [
      "replaying log with TBR, completed variants :: 100%|██████████| 25/25 [00:00<00:00, 1562.47it/s]\n",
      "aligning log, completed variants :: 100%|██████████| 25/25 [00:00<00:00, 384.63it/s]\n",
      "replaying log with TBR, completed variants :: 100%|██████████| 43/43 [00:00<00:00, 1686.30it/s]\n",
      "computing precision with alignments, completed variants :: 100%|██████████| 43/43 [00:00<00:00, 352.46it/s]\n"
     ]
    },
    {
     "name": "stdout",
     "output_type": "stream",
     "text": [
      "Running HM\n"
     ]
    },
    {
     "name": "stderr",
     "output_type": "stream",
     "text": [
      "replaying log with TBR, completed variants :: 100%|██████████| 25/25 [00:00<00:00, 1388.93it/s]\n",
      "aligning log, completed variants :: 100%|██████████| 25/25 [00:00<00:00, 349.66it/s]\n",
      "replaying log with TBR, completed variants :: 100%|██████████| 43/43 [00:00<00:00, 2457.12it/s]\n",
      "computing precision with alignments, completed variants :: 100%|██████████| 43/43 [00:00<00:00, 924.74it/s]\n"
     ]
    },
    {
     "name": "stdout",
     "output_type": "stream",
     "text": [
      "Running IMbi_ali\n"
     ]
    },
    {
     "name": "stderr",
     "output_type": "stream",
     "text": [
      "replaying log with TBR, completed variants :: 100%|██████████| 25/25 [00:00<00:00, 1041.48it/s]\n",
      "aligning log, completed variants :: 100%|██████████| 25/25 [00:00<00:00, 201.61it/s]\n",
      "replaying log with TBR, completed variants :: 100%|██████████| 43/43 [00:00<00:00, 2326.56it/s]\n",
      "computing precision with alignments, completed variants :: 100%|██████████| 43/43 [00:00<00:00, 886.94it/s]\n"
     ]
    },
    {
     "name": "stdout",
     "output_type": "stream",
     "text": [
      "Running IMbi_mar\n"
     ]
    },
    {
     "name": "stderr",
     "output_type": "stream",
     "text": [
      "replaying log with TBR, completed variants :: 100%|██████████| 25/25 [00:00<00:00, 1724.15it/s]\n",
      "aligning log, completed variants :: 100%|██████████| 25/25 [00:00<00:00, 336.94it/s]\n",
      "replaying log with TBR, completed variants :: 100%|██████████| 43/43 [00:00<00:00, 3583.31it/s]\n",
      "computing precision with alignments, completed variants :: 100%|██████████| 43/43 [00:00<00:00, 1023.85it/s]\n"
     ]
    },
    {
     "data": {
      "text/plain": [
       "'Running: lp_2017.xes 7/18'"
      ]
     },
     "metadata": {},
     "output_type": "display_data"
    },
    {
     "data": {
      "text/plain": [
       "'i: 1 ratio: 0 sup: 0.2 pruning: 0'"
      ]
     },
     "metadata": {},
     "output_type": "display_data"
    },
    {
     "name": "stderr",
     "output_type": "stream",
     "text": [
      "parsing log, completed traces :: 100%|██████████| 3000/3000 [00:01<00:00, 1705.39it/s]\n"
     ]
    },
    {
     "name": "stdout",
     "output_type": "stream",
     "text": [
      "Running IM\n"
     ]
    },
    {
     "name": "stderr",
     "output_type": "stream",
     "text": [
      "replaying log with TBR, completed variants :: 100%|██████████| 446/446 [00:00<00:00, 746.44it/s]\n",
      "aligning log, completed variants :: 100%|██████████| 446/446 [00:11<00:00, 40.13it/s]\n",
      "c:\\Users\\Marko\\AppData\\Local\\Programs\\Python\\Python38\\lib\\site-packages\\pm4py\\utils.py:486: UserWarning: the EventLog class has been deprecated and will be removed in a future release.\n",
      "  warnings.warn(\"the EventLog class has been deprecated and will be removed in a future release.\")\n",
      "replaying log with TBR, completed variants :: 100%|██████████| 1199/1199 [00:02<00:00, 550.65it/s]\n",
      "computing precision with alignments, completed variants :: 100%|██████████| 1199/1199 [00:14<00:00, 82.87it/s]\n"
     ]
    },
    {
     "name": "stdout",
     "output_type": "stream",
     "text": [
      "Running IMF\n"
     ]
    },
    {
     "name": "stderr",
     "output_type": "stream",
     "text": [
      "replaying log with TBR, completed variants :: 100%|██████████| 446/446 [00:00<00:00, 842.30it/s] \n",
      "aligning log, completed variants :: 100%|██████████| 446/446 [00:13<00:00, 32.98it/s]\n",
      "replaying log with TBR, completed variants :: 100%|██████████| 1199/1199 [00:00<00:00, 1502.51it/s]\n",
      "computing precision with alignments, completed variants :: 100%|██████████| 1199/1199 [00:02<00:00, 400.67it/s]\n"
     ]
    },
    {
     "name": "stdout",
     "output_type": "stream",
     "text": [
      "Running HM\n"
     ]
    },
    {
     "name": "stderr",
     "output_type": "stream",
     "text": [
      "replaying log with TBR, completed variants :: 100%|██████████| 446/446 [00:00<00:00, 838.35it/s] \n",
      "aligning log, completed variants :: 100%|██████████| 446/446 [00:05<00:00, 76.35it/s]\n",
      "replaying log with TBR, completed variants :: 100%|██████████| 1199/1199 [00:00<00:00, 2378.98it/s]\n",
      "computing precision with alignments, completed variants :: 100%|██████████| 1199/1199 [00:01<00:00, 687.30it/s]\n"
     ]
    },
    {
     "name": "stdout",
     "output_type": "stream",
     "text": [
      "Running IMbi_ali\n"
     ]
    },
    {
     "name": "stderr",
     "output_type": "stream",
     "text": [
      "replaying log with TBR, completed variants :: 100%|██████████| 446/446 [00:00<00:00, 1047.84it/s]\n",
      "aligning log, completed variants :: 100%|██████████| 446/446 [00:06<00:00, 73.66it/s]\n",
      "replaying log with TBR, completed variants :: 100%|██████████| 1199/1199 [00:00<00:00, 1796.26it/s]\n",
      "computing precision with alignments, completed variants :: 100%|██████████| 1199/1199 [00:01<00:00, 664.27it/s]\n"
     ]
    },
    {
     "name": "stdout",
     "output_type": "stream",
     "text": [
      "Running IMbi_mar\n"
     ]
    },
    {
     "name": "stderr",
     "output_type": "stream",
     "text": [
      "replaying log with TBR, completed variants :: 100%|██████████| 446/446 [00:00<00:00, 1285.30it/s]\n",
      "aligning log, completed variants :: 100%|██████████| 446/446 [00:02<00:00, 196.78it/s]\n",
      "replaying log with TBR, completed variants :: 100%|██████████| 1199/1199 [00:00<00:00, 2858.17it/s]\n",
      "computing precision with alignments, completed variants :: 100%|██████████| 1199/1199 [00:01<00:00, 805.11it/s]\n"
     ]
    },
    {
     "data": {
      "text/plain": [
       "'Running: lp_2017.xes 8/18'"
      ]
     },
     "metadata": {},
     "output_type": "display_data"
    },
    {
     "data": {
      "text/plain": [
       "'i: 1 ratio: 0 sup: 0.2 pruning: 0.1'"
      ]
     },
     "metadata": {},
     "output_type": "display_data"
    },
    {
     "name": "stderr",
     "output_type": "stream",
     "text": [
      "parsing log, completed traces :: 100%|██████████| 3000/3000 [00:01<00:00, 1549.89it/s]\n"
     ]
    },
    {
     "name": "stdout",
     "output_type": "stream",
     "text": [
      "Running IM\n"
     ]
    },
    {
     "name": "stderr",
     "output_type": "stream",
     "text": [
      "replaying log with TBR, completed variants :: 100%|██████████| 446/446 [00:00<00:00, 749.58it/s]\n",
      "aligning log, completed variants :: 100%|██████████| 446/446 [00:10<00:00, 40.56it/s]\n",
      "c:\\Users\\Marko\\AppData\\Local\\Programs\\Python\\Python38\\lib\\site-packages\\pm4py\\utils.py:486: UserWarning: the EventLog class has been deprecated and will be removed in a future release.\n",
      "  warnings.warn(\"the EventLog class has been deprecated and will be removed in a future release.\")\n",
      "replaying log with TBR, completed variants :: 100%|██████████| 1199/1199 [00:02<00:00, 539.94it/s]\n",
      "computing precision with alignments, completed variants :: 100%|██████████| 1199/1199 [00:13<00:00, 85.72it/s]\n"
     ]
    },
    {
     "name": "stdout",
     "output_type": "stream",
     "text": [
      "Running IMF\n"
     ]
    },
    {
     "name": "stderr",
     "output_type": "stream",
     "text": [
      "replaying log with TBR, completed variants :: 100%|██████████| 446/446 [00:00<00:00, 847.91it/s] \n",
      "aligning log, completed variants :: 100%|██████████| 446/446 [00:14<00:00, 31.56it/s]\n",
      "replaying log with TBR, completed variants :: 100%|██████████| 1199/1199 [00:00<00:00, 1494.08it/s]\n",
      "computing precision with alignments, completed variants :: 100%|██████████| 1199/1199 [00:02<00:00, 411.04it/s]\n"
     ]
    },
    {
     "name": "stdout",
     "output_type": "stream",
     "text": [
      "Running HM\n"
     ]
    },
    {
     "name": "stderr",
     "output_type": "stream",
     "text": [
      "replaying log with TBR, completed variants :: 100%|██████████| 446/446 [00:00<00:00, 807.80it/s]\n",
      "aligning log, completed variants :: 100%|██████████| 446/446 [00:06<00:00, 74.18it/s]\n",
      "replaying log with TBR, completed variants :: 100%|██████████| 1199/1199 [00:00<00:00, 2380.02it/s]\n",
      "computing precision with alignments, completed variants :: 100%|██████████| 1199/1199 [00:01<00:00, 682.65it/s]\n"
     ]
    },
    {
     "name": "stdout",
     "output_type": "stream",
     "text": [
      "Running IMbi_ali\n"
     ]
    },
    {
     "name": "stderr",
     "output_type": "stream",
     "text": [
      "replaying log with TBR, completed variants :: 100%|██████████| 446/446 [00:00<00:00, 1183.80it/s]\n",
      "aligning log, completed variants :: 100%|██████████| 446/446 [00:05<00:00, 88.51it/s]\n",
      "replaying log with TBR, completed variants :: 100%|██████████| 1199/1199 [00:00<00:00, 2053.45it/s]\n",
      "computing precision with alignments, completed variants :: 100%|██████████| 1199/1199 [00:01<00:00, 718.72it/s]\n"
     ]
    },
    {
     "name": "stdout",
     "output_type": "stream",
     "text": [
      "Running IMbi_mar\n"
     ]
    },
    {
     "name": "stderr",
     "output_type": "stream",
     "text": [
      "replaying log with TBR, completed variants :: 100%|██████████| 446/446 [00:00<00:00, 1134.86it/s]\n",
      "aligning log, completed variants :: 100%|██████████| 446/446 [00:04<00:00, 101.94it/s]\n",
      "replaying log with TBR, completed variants :: 100%|██████████| 1199/1199 [00:00<00:00, 2424.67it/s]\n",
      "computing precision with alignments, completed variants :: 100%|██████████| 1199/1199 [00:01<00:00, 740.74it/s]\n"
     ]
    },
    {
     "data": {
      "text/plain": [
       "'Running: lp_2017.xes 9/18'"
      ]
     },
     "metadata": {},
     "output_type": "display_data"
    },
    {
     "data": {
      "text/plain": [
       "'i: 1 ratio: 0 sup: 0.2 pruning: 0.2'"
      ]
     },
     "metadata": {},
     "output_type": "display_data"
    },
    {
     "name": "stderr",
     "output_type": "stream",
     "text": [
      "parsing log, completed traces :: 100%|██████████| 3000/3000 [00:01<00:00, 1540.04it/s]\n"
     ]
    },
    {
     "name": "stdout",
     "output_type": "stream",
     "text": [
      "Running IM\n"
     ]
    },
    {
     "name": "stderr",
     "output_type": "stream",
     "text": [
      "replaying log with TBR, completed variants :: 100%|██████████| 446/446 [00:00<00:00, 683.53it/s]\n",
      "aligning log, completed variants :: 100%|██████████| 446/446 [00:11<00:00, 40.27it/s]\n",
      "c:\\Users\\Marko\\AppData\\Local\\Programs\\Python\\Python38\\lib\\site-packages\\pm4py\\utils.py:486: UserWarning: the EventLog class has been deprecated and will be removed in a future release.\n",
      "  warnings.warn(\"the EventLog class has been deprecated and will be removed in a future release.\")\n",
      "replaying log with TBR, completed variants :: 100%|██████████| 1199/1199 [00:02<00:00, 556.76it/s]\n",
      "computing precision with alignments, completed variants :: 100%|██████████| 1199/1199 [00:13<00:00, 85.99it/s]\n"
     ]
    },
    {
     "name": "stdout",
     "output_type": "stream",
     "text": [
      "Running IMF\n"
     ]
    },
    {
     "name": "stderr",
     "output_type": "stream",
     "text": [
      "replaying log with TBR, completed variants :: 100%|██████████| 446/446 [00:00<00:00, 850.33it/s] \n",
      "aligning log, completed variants :: 100%|██████████| 446/446 [00:13<00:00, 32.92it/s]\n",
      "replaying log with TBR, completed variants :: 100%|██████████| 1199/1199 [00:00<00:00, 1495.02it/s]\n",
      "computing precision with alignments, completed variants :: 100%|██████████| 1199/1199 [00:03<00:00, 343.55it/s]\n"
     ]
    },
    {
     "name": "stdout",
     "output_type": "stream",
     "text": [
      "Running HM\n"
     ]
    },
    {
     "name": "stderr",
     "output_type": "stream",
     "text": [
      "replaying log with TBR, completed variants :: 100%|██████████| 446/446 [00:00<00:00, 801.73it/s]\n",
      "aligning log, completed variants :: 100%|██████████| 446/446 [00:05<00:00, 75.02it/s]\n",
      "replaying log with TBR, completed variants :: 100%|██████████| 1199/1199 [00:00<00:00, 2367.31it/s]\n",
      "computing precision with alignments, completed variants :: 100%|██████████| 1199/1199 [00:01<00:00, 686.12it/s]\n"
     ]
    },
    {
     "name": "stdout",
     "output_type": "stream",
     "text": [
      "Running IMbi_ali\n"
     ]
    },
    {
     "name": "stderr",
     "output_type": "stream",
     "text": [
      "replaying log with TBR, completed variants :: 100%|██████████| 446/446 [00:00<00:00, 1462.29it/s]\n",
      "aligning log, completed variants :: 100%|██████████| 446/446 [00:02<00:00, 161.39it/s]\n",
      "replaying log with TBR, completed variants :: 100%|██████████| 1199/1199 [00:00<00:00, 3307.58it/s]\n",
      "computing precision with alignments, completed variants :: 100%|██████████| 1199/1199 [00:01<00:00, 845.26it/s]\n"
     ]
    },
    {
     "name": "stdout",
     "output_type": "stream",
     "text": [
      "Running IMbi_mar\n"
     ]
    },
    {
     "name": "stderr",
     "output_type": "stream",
     "text": [
      "replaying log with TBR, completed variants :: 100%|██████████| 446/446 [00:00<00:00, 1184.59it/s]\n",
      "aligning log, completed variants :: 100%|██████████| 446/446 [00:02<00:00, 163.15it/s]\n",
      "replaying log with TBR, completed variants :: 100%|██████████| 1199/1199 [00:00<00:00, 2986.17it/s]\n",
      "computing precision with alignments, completed variants :: 100%|██████████| 1199/1199 [00:01<00:00, 817.76it/s]\n"
     ]
    },
    {
     "data": {
      "text/plain": [
       "'Running: lp_2017.xes 10/18'"
      ]
     },
     "metadata": {},
     "output_type": "display_data"
    },
    {
     "data": {
      "text/plain": [
       "'i: 1 ratio: 0 sup: 0.4 pruning: 0'"
      ]
     },
     "metadata": {},
     "output_type": "display_data"
    },
    {
     "name": "stderr",
     "output_type": "stream",
     "text": [
      "parsing log, completed traces :: 100%|██████████| 3000/3000 [00:01<00:00, 1552.80it/s]\n"
     ]
    },
    {
     "name": "stdout",
     "output_type": "stream",
     "text": [
      "Running IM\n"
     ]
    },
    {
     "name": "stderr",
     "output_type": "stream",
     "text": [
      "replaying log with TBR, completed variants :: 100%|██████████| 446/446 [00:00<00:00, 742.10it/s]\n",
      "aligning log, completed variants :: 100%|██████████| 446/446 [00:11<00:00, 39.39it/s]\n",
      "c:\\Users\\Marko\\AppData\\Local\\Programs\\Python\\Python38\\lib\\site-packages\\pm4py\\utils.py:486: UserWarning: the EventLog class has been deprecated and will be removed in a future release.\n",
      "  warnings.warn(\"the EventLog class has been deprecated and will be removed in a future release.\")\n",
      "replaying log with TBR, completed variants :: 100%|██████████| 1199/1199 [00:02<00:00, 544.13it/s]\n",
      "computing precision with alignments, completed variants :: 100%|██████████| 1199/1199 [00:14<00:00, 85.21it/s]\n"
     ]
    },
    {
     "name": "stdout",
     "output_type": "stream",
     "text": [
      "Running IMF\n"
     ]
    },
    {
     "name": "stderr",
     "output_type": "stream",
     "text": [
      "replaying log with TBR, completed variants :: 100%|██████████| 446/446 [00:00<00:00, 859.35it/s] \n",
      "aligning log, completed variants :: 100%|██████████| 446/446 [00:13<00:00, 32.60it/s]\n",
      "replaying log with TBR, completed variants :: 100%|██████████| 1199/1199 [00:00<00:00, 1506.28it/s]\n",
      "computing precision with alignments, completed variants :: 100%|██████████| 1199/1199 [00:02<00:00, 401.54it/s]\n"
     ]
    },
    {
     "name": "stdout",
     "output_type": "stream",
     "text": [
      "Running HM\n"
     ]
    },
    {
     "name": "stderr",
     "output_type": "stream",
     "text": [
      "replaying log with TBR, completed variants :: 100%|██████████| 446/446 [00:00<00:00, 806.51it/s]\n",
      "aligning log, completed variants :: 100%|██████████| 446/446 [00:06<00:00, 73.85it/s]\n",
      "replaying log with TBR, completed variants :: 100%|██████████| 1199/1199 [00:00<00:00, 2303.56it/s]\n",
      "computing precision with alignments, completed variants :: 100%|██████████| 1199/1199 [00:01<00:00, 665.49it/s]\n"
     ]
    },
    {
     "name": "stdout",
     "output_type": "stream",
     "text": [
      "Running IMbi_ali\n"
     ]
    },
    {
     "name": "stderr",
     "output_type": "stream",
     "text": [
      "replaying log with TBR, completed variants :: 100%|██████████| 446/446 [00:00<00:00, 1292.75it/s]\n",
      "aligning log, completed variants :: 100%|██████████| 446/446 [00:05<00:00, 86.77it/s] \n",
      "replaying log with TBR, completed variants :: 100%|██████████| 1199/1199 [00:00<00:00, 3372.70it/s]\n",
      "computing precision with alignments, completed variants :: 100%|██████████| 1199/1199 [00:01<00:00, 784.17it/s]\n"
     ]
    },
    {
     "name": "stdout",
     "output_type": "stream",
     "text": [
      "Running IMbi_mar\n"
     ]
    },
    {
     "name": "stderr",
     "output_type": "stream",
     "text": [
      "replaying log with TBR, completed variants :: 100%|██████████| 446/446 [00:00<00:00, 1265.24it/s]\n",
      "aligning log, completed variants :: 100%|██████████| 446/446 [00:02<00:00, 200.16it/s]\n",
      "replaying log with TBR, completed variants :: 100%|██████████| 1199/1199 [00:00<00:00, 2897.00it/s]\n",
      "computing precision with alignments, completed variants :: 100%|██████████| 1199/1199 [00:01<00:00, 893.75it/s]\n"
     ]
    },
    {
     "data": {
      "text/plain": [
       "'Running: lp_2017.xes 11/18'"
      ]
     },
     "metadata": {},
     "output_type": "display_data"
    },
    {
     "data": {
      "text/plain": [
       "'i: 1 ratio: 0 sup: 0.4 pruning: 0.1'"
      ]
     },
     "metadata": {},
     "output_type": "display_data"
    },
    {
     "name": "stderr",
     "output_type": "stream",
     "text": [
      "parsing log, completed traces :: 100%|██████████| 3000/3000 [00:01<00:00, 1547.59it/s]\n"
     ]
    },
    {
     "name": "stdout",
     "output_type": "stream",
     "text": [
      "Running IM\n"
     ]
    },
    {
     "name": "stderr",
     "output_type": "stream",
     "text": [
      "replaying log with TBR, completed variants :: 100%|██████████| 446/446 [00:00<00:00, 739.02it/s]\n",
      "aligning log, completed variants :: 100%|██████████| 446/446 [00:11<00:00, 39.77it/s]\n",
      "c:\\Users\\Marko\\AppData\\Local\\Programs\\Python\\Python38\\lib\\site-packages\\pm4py\\utils.py:486: UserWarning: the EventLog class has been deprecated and will be removed in a future release.\n",
      "  warnings.warn(\"the EventLog class has been deprecated and will be removed in a future release.\")\n",
      "replaying log with TBR, completed variants :: 100%|██████████| 1199/1199 [00:02<00:00, 555.61it/s]\n",
      "computing precision with alignments, completed variants :: 100%|██████████| 1199/1199 [00:14<00:00, 85.30it/s]\n"
     ]
    },
    {
     "name": "stdout",
     "output_type": "stream",
     "text": [
      "Running IMF\n"
     ]
    },
    {
     "name": "stderr",
     "output_type": "stream",
     "text": [
      "replaying log with TBR, completed variants :: 100%|██████████| 446/446 [00:00<00:00, 854.41it/s] \n",
      "aligning log, completed variants :: 100%|██████████| 446/446 [00:13<00:00, 32.82it/s]\n",
      "replaying log with TBR, completed variants :: 100%|██████████| 1199/1199 [00:00<00:00, 1497.28it/s]\n",
      "computing precision with alignments, completed variants :: 100%|██████████| 1199/1199 [00:02<00:00, 412.10it/s]\n"
     ]
    },
    {
     "name": "stdout",
     "output_type": "stream",
     "text": [
      "Running HM\n"
     ]
    },
    {
     "name": "stderr",
     "output_type": "stream",
     "text": [
      "replaying log with TBR, completed variants :: 100%|██████████| 446/446 [00:00<00:00, 807.97it/s]\n",
      "aligning log, completed variants :: 100%|██████████| 446/446 [00:05<00:00, 74.36it/s]\n",
      "replaying log with TBR, completed variants :: 100%|██████████| 1199/1199 [00:00<00:00, 2395.60it/s]\n",
      "computing precision with alignments, completed variants :: 100%|██████████| 1199/1199 [00:01<00:00, 693.01it/s]\n"
     ]
    },
    {
     "name": "stdout",
     "output_type": "stream",
     "text": [
      "Running IMbi_ali\n"
     ]
    },
    {
     "name": "stderr",
     "output_type": "stream",
     "text": [
      "replaying log with TBR, completed variants :: 100%|██████████| 446/446 [00:00<00:00, 1322.12it/s]\n",
      "aligning log, completed variants :: 100%|██████████| 446/446 [00:04<00:00, 103.47it/s]\n",
      "replaying log with TBR, completed variants :: 100%|██████████| 1199/1199 [00:00<00:00, 2885.68it/s]\n",
      "computing precision with alignments, completed variants :: 100%|██████████| 1199/1199 [00:01<00:00, 786.75it/s]\n"
     ]
    },
    {
     "name": "stdout",
     "output_type": "stream",
     "text": [
      "Running IMbi_mar\n"
     ]
    },
    {
     "name": "stderr",
     "output_type": "stream",
     "text": [
      "replaying log with TBR, completed variants :: 100%|██████████| 446/446 [00:00<00:00, 1175.23it/s]\n",
      "aligning log, completed variants :: 100%|██████████| 446/446 [00:03<00:00, 148.53it/s]\n",
      "replaying log with TBR, completed variants :: 100%|██████████| 1199/1199 [00:00<00:00, 3023.96it/s]\n",
      "computing precision with alignments, completed variants :: 100%|██████████| 1199/1199 [00:01<00:00, 838.92it/s]\n"
     ]
    },
    {
     "data": {
      "text/plain": [
       "'Running: lp_2017.xes 12/18'"
      ]
     },
     "metadata": {},
     "output_type": "display_data"
    },
    {
     "data": {
      "text/plain": [
       "'i: 1 ratio: 0 sup: 0.4 pruning: 0.2'"
      ]
     },
     "metadata": {},
     "output_type": "display_data"
    },
    {
     "name": "stderr",
     "output_type": "stream",
     "text": [
      "parsing log, completed traces :: 100%|██████████| 3000/3000 [00:01<00:00, 1543.21it/s]\n"
     ]
    },
    {
     "name": "stdout",
     "output_type": "stream",
     "text": [
      "Running IM\n"
     ]
    },
    {
     "name": "stderr",
     "output_type": "stream",
     "text": [
      "replaying log with TBR, completed variants :: 100%|██████████| 446/446 [00:00<00:00, 751.48it/s]\n",
      "aligning log, completed variants :: 100%|██████████| 446/446 [00:11<00:00, 39.98it/s]\n",
      "c:\\Users\\Marko\\AppData\\Local\\Programs\\Python\\Python38\\lib\\site-packages\\pm4py\\utils.py:486: UserWarning: the EventLog class has been deprecated and will be removed in a future release.\n",
      "  warnings.warn(\"the EventLog class has been deprecated and will be removed in a future release.\")\n",
      "replaying log with TBR, completed variants :: 100%|██████████| 1199/1199 [00:02<00:00, 559.63it/s]\n",
      "computing precision with alignments, completed variants :: 100%|██████████| 1199/1199 [00:13<00:00, 85.76it/s]\n"
     ]
    },
    {
     "name": "stdout",
     "output_type": "stream",
     "text": [
      "Running IMF\n"
     ]
    },
    {
     "name": "stderr",
     "output_type": "stream",
     "text": [
      "replaying log with TBR, completed variants :: 100%|██████████| 446/446 [00:00<00:00, 829.26it/s] \n",
      "aligning log, completed variants :: 100%|██████████| 446/446 [00:14<00:00, 30.89it/s]\n",
      "replaying log with TBR, completed variants :: 100%|██████████| 1199/1199 [00:00<00:00, 1501.56it/s]\n",
      "computing precision with alignments, completed variants :: 100%|██████████| 1199/1199 [00:02<00:00, 413.80it/s]\n"
     ]
    },
    {
     "name": "stdout",
     "output_type": "stream",
     "text": [
      "Running HM\n"
     ]
    },
    {
     "name": "stderr",
     "output_type": "stream",
     "text": [
      "replaying log with TBR, completed variants :: 100%|██████████| 446/446 [00:00<00:00, 807.24it/s]\n",
      "aligning log, completed variants :: 100%|██████████| 446/446 [00:05<00:00, 75.70it/s]\n",
      "replaying log with TBR, completed variants :: 100%|██████████| 1199/1199 [00:00<00:00, 2382.44it/s]\n",
      "computing precision with alignments, completed variants :: 100%|██████████| 1199/1199 [00:01<00:00, 690.88it/s]\n"
     ]
    },
    {
     "name": "stdout",
     "output_type": "stream",
     "text": [
      "Running IMbi_ali\n"
     ]
    },
    {
     "name": "stderr",
     "output_type": "stream",
     "text": [
      "replaying log with TBR, completed variants :: 100%|██████████| 446/446 [00:00<00:00, 1479.27it/s]\n",
      "aligning log, completed variants :: 100%|██████████| 446/446 [00:02<00:00, 161.16it/s]\n",
      "replaying log with TBR, completed variants :: 100%|██████████| 1199/1199 [00:00<00:00, 3475.38it/s]\n",
      "computing precision with alignments, completed variants :: 100%|██████████| 1199/1199 [00:01<00:00, 819.83it/s]\n"
     ]
    },
    {
     "name": "stdout",
     "output_type": "stream",
     "text": [
      "Running IMbi_mar\n"
     ]
    },
    {
     "name": "stderr",
     "output_type": "stream",
     "text": [
      "replaying log with TBR, completed variants :: 100%|██████████| 446/446 [00:00<00:00, 1290.89it/s]\n",
      "aligning log, completed variants :: 100%|██████████| 446/446 [00:02<00:00, 159.43it/s]\n",
      "replaying log with TBR, completed variants :: 100%|██████████| 1199/1199 [00:00<00:00, 3102.19it/s]\n",
      "computing precision with alignments, completed variants :: 100%|██████████| 1199/1199 [00:01<00:00, 830.05it/s]\n"
     ]
    },
    {
     "data": {
      "text/plain": [
       "'Running: lp_2018.xes 13/18'"
      ]
     },
     "metadata": {},
     "output_type": "display_data"
    },
    {
     "data": {
      "text/plain": [
       "'i: 2 ratio: 0 sup: 0.2 pruning: 0'"
      ]
     },
     "metadata": {},
     "output_type": "display_data"
    },
    {
     "name": "stderr",
     "output_type": "stream",
     "text": [
      "parsing log, completed traces :: 100%|██████████| 3000/3000 [00:01<00:00, 2235.47it/s]\n"
     ]
    },
    {
     "name": "stdout",
     "output_type": "stream",
     "text": [
      "Running IM\n"
     ]
    },
    {
     "name": "stderr",
     "output_type": "stream",
     "text": [
      "replaying log with TBR, completed variants :: 100%|██████████| 197/197 [00:00<00:00, 413.43it/s]\n",
      "aligning log, completed variants :: 100%|██████████| 197/197 [00:04<00:00, 40.75it/s]\n",
      "c:\\Users\\Marko\\AppData\\Local\\Programs\\Python\\Python38\\lib\\site-packages\\pm4py\\utils.py:486: UserWarning: the EventLog class has been deprecated and will be removed in a future release.\n",
      "  warnings.warn(\"the EventLog class has been deprecated and will be removed in a future release.\")\n",
      "replaying log with TBR, completed variants :: 100%|██████████| 1326/1326 [00:02<00:00, 503.69it/s]\n",
      "computing precision with alignments, completed variants :: 100%|██████████| 1326/1326 [00:16<00:00, 79.05it/s]\n"
     ]
    },
    {
     "name": "stdout",
     "output_type": "stream",
     "text": [
      "Running IMF\n"
     ]
    },
    {
     "name": "stderr",
     "output_type": "stream",
     "text": [
      "replaying log with TBR, completed variants :: 100%|██████████| 197/197 [00:00<00:00, 607.09it/s]\n",
      "aligning log, completed variants :: 100%|██████████| 197/197 [00:03<00:00, 63.95it/s]\n",
      "replaying log with TBR, completed variants :: 100%|██████████| 1326/1326 [00:02<00:00, 613.96it/s]\n",
      "computing precision with alignments, completed variants :: 100%|██████████| 1326/1326 [00:05<00:00, 264.88it/s]\n"
     ]
    },
    {
     "name": "stdout",
     "output_type": "stream",
     "text": [
      "Running HM\n"
     ]
    },
    {
     "name": "stderr",
     "output_type": "stream",
     "text": [
      "replaying log with TBR, completed variants :: 100%|██████████| 197/197 [00:00<00:00, 799.18it/s]\n",
      "replaying log with TBR, completed variants :: 100%|██████████| 1326/1326 [00:01<00:00, 1118.99it/s]\n"
     ]
    },
    {
     "name": "stdout",
     "output_type": "stream",
     "text": [
      "Running IMbi_ali\n"
     ]
    },
    {
     "name": "stderr",
     "output_type": "stream",
     "text": [
      "replaying log with TBR, completed variants :: 100%|██████████| 197/197 [00:00<00:00, 869.75it/s]\n",
      "aligning log, completed variants :: 100%|██████████| 197/197 [00:01<00:00, 108.27it/s]\n",
      "replaying log with TBR, completed variants :: 100%|██████████| 1326/1326 [00:01<00:00, 1104.54it/s]\n",
      "computing precision with alignments, completed variants :: 100%|██████████| 1326/1326 [00:02<00:00, 527.34it/s]\n"
     ]
    },
    {
     "name": "stdout",
     "output_type": "stream",
     "text": [
      "Running IMbi_mar\n"
     ]
    },
    {
     "name": "stderr",
     "output_type": "stream",
     "text": [
      "replaying log with TBR, completed variants :: 100%|██████████| 197/197 [00:00<00:00, 1050.66it/s]\n",
      "aligning log, completed variants :: 100%|██████████| 197/197 [00:01<00:00, 121.59it/s]\n",
      "replaying log with TBR, completed variants :: 100%|██████████| 1326/1326 [00:00<00:00, 1334.42it/s]\n",
      "computing precision with alignments, completed variants :: 100%|██████████| 1326/1326 [00:02<00:00, 545.34it/s]\n"
     ]
    },
    {
     "data": {
      "text/plain": [
       "'Running: lp_2018.xes 14/18'"
      ]
     },
     "metadata": {},
     "output_type": "display_data"
    },
    {
     "data": {
      "text/plain": [
       "'i: 2 ratio: 0 sup: 0.2 pruning: 0.1'"
      ]
     },
     "metadata": {},
     "output_type": "display_data"
    },
    {
     "name": "stderr",
     "output_type": "stream",
     "text": [
      "parsing log, completed traces :: 100%|██████████| 3000/3000 [00:01<00:00, 2316.60it/s]\n"
     ]
    },
    {
     "name": "stdout",
     "output_type": "stream",
     "text": [
      "Running IM\n"
     ]
    },
    {
     "name": "stderr",
     "output_type": "stream",
     "text": [
      "replaying log with TBR, completed variants :: 100%|██████████| 197/197 [00:00<00:00, 511.69it/s]\n",
      "aligning log, completed variants :: 100%|██████████| 197/197 [00:04<00:00, 40.63it/s]\n",
      "c:\\Users\\Marko\\AppData\\Local\\Programs\\Python\\Python38\\lib\\site-packages\\pm4py\\utils.py:486: UserWarning: the EventLog class has been deprecated and will be removed in a future release.\n",
      "  warnings.warn(\"the EventLog class has been deprecated and will be removed in a future release.\")\n",
      "replaying log with TBR, completed variants :: 100%|██████████| 1326/1326 [00:02<00:00, 488.31it/s]\n",
      "computing precision with alignments, completed variants :: 100%|██████████| 1326/1326 [00:16<00:00, 79.01it/s]\n"
     ]
    },
    {
     "name": "stdout",
     "output_type": "stream",
     "text": [
      "Running IMF\n"
     ]
    },
    {
     "name": "stderr",
     "output_type": "stream",
     "text": [
      "replaying log with TBR, completed variants :: 100%|██████████| 197/197 [00:00<00:00, 610.85it/s]\n",
      "aligning log, completed variants :: 100%|██████████| 197/197 [00:02<00:00, 81.17it/s]\n",
      "replaying log with TBR, completed variants :: 100%|██████████| 1326/1326 [00:02<00:00, 635.31it/s]\n",
      "computing precision with alignments, completed variants :: 100%|██████████| 1326/1326 [00:05<00:00, 262.73it/s]\n"
     ]
    },
    {
     "name": "stdout",
     "output_type": "stream",
     "text": [
      "Running HM\n"
     ]
    },
    {
     "name": "stderr",
     "output_type": "stream",
     "text": [
      "replaying log with TBR, completed variants :: 100%|██████████| 197/197 [00:00<00:00, 795.73it/s]\n",
      "replaying log with TBR, completed variants :: 100%|██████████| 1326/1326 [00:01<00:00, 1113.82it/s]\n"
     ]
    },
    {
     "name": "stdout",
     "output_type": "stream",
     "text": [
      "Running IMbi_ali\n"
     ]
    },
    {
     "name": "stderr",
     "output_type": "stream",
     "text": [
      "replaying log with TBR, completed variants :: 100%|██████████| 197/197 [00:00<00:00, 819.12it/s]\n",
      "aligning log, completed variants :: 100%|██████████| 197/197 [00:01<00:00, 109.60it/s]\n",
      "replaying log with TBR, completed variants :: 100%|██████████| 1326/1326 [00:01<00:00, 1083.76it/s]\n",
      "computing precision with alignments, completed variants :: 100%|██████████| 1326/1326 [00:02<00:00, 552.58it/s]\n"
     ]
    },
    {
     "name": "stdout",
     "output_type": "stream",
     "text": [
      "Running IMbi_mar\n"
     ]
    },
    {
     "name": "stderr",
     "output_type": "stream",
     "text": [
      "replaying log with TBR, completed variants :: 100%|██████████| 197/197 [00:00<00:00, 1050.65it/s]\n",
      "aligning log, completed variants :: 100%|██████████| 197/197 [00:01<00:00, 129.16it/s]\n",
      "replaying log with TBR, completed variants :: 100%|██████████| 1326/1326 [00:01<00:00, 1324.67it/s]\n",
      "computing precision with alignments, completed variants :: 100%|██████████| 1326/1326 [00:02<00:00, 621.08it/s]\n"
     ]
    },
    {
     "data": {
      "text/plain": [
       "'Running: lp_2018.xes 15/18'"
      ]
     },
     "metadata": {},
     "output_type": "display_data"
    },
    {
     "data": {
      "text/plain": [
       "'i: 2 ratio: 0 sup: 0.2 pruning: 0.2'"
      ]
     },
     "metadata": {},
     "output_type": "display_data"
    },
    {
     "name": "stderr",
     "output_type": "stream",
     "text": [
      "parsing log, completed traces :: 100%|██████████| 3000/3000 [00:01<00:00, 2375.30it/s]\n"
     ]
    },
    {
     "name": "stdout",
     "output_type": "stream",
     "text": [
      "Running IM\n"
     ]
    },
    {
     "name": "stderr",
     "output_type": "stream",
     "text": [
      "replaying log with TBR, completed variants :: 100%|██████████| 197/197 [00:00<00:00, 526.74it/s]\n",
      "aligning log, completed variants :: 100%|██████████| 197/197 [00:04<00:00, 41.86it/s]\n",
      "c:\\Users\\Marko\\AppData\\Local\\Programs\\Python\\Python38\\lib\\site-packages\\pm4py\\utils.py:486: UserWarning: the EventLog class has been deprecated and will be removed in a future release.\n",
      "  warnings.warn(\"the EventLog class has been deprecated and will be removed in a future release.\")\n",
      "replaying log with TBR, completed variants :: 100%|██████████| 1326/1326 [00:02<00:00, 507.17it/s]\n",
      "computing precision with alignments, completed variants :: 100%|██████████| 1326/1326 [00:16<00:00, 78.49it/s]\n"
     ]
    },
    {
     "name": "stdout",
     "output_type": "stream",
     "text": [
      "Running IMF\n"
     ]
    },
    {
     "name": "stderr",
     "output_type": "stream",
     "text": [
      "replaying log with TBR, completed variants :: 100%|██████████| 197/197 [00:00<00:00, 580.26it/s]\n",
      "aligning log, completed variants :: 100%|██████████| 197/197 [00:03<00:00, 65.10it/s]\n",
      "replaying log with TBR, completed variants :: 100%|██████████| 1326/1326 [00:02<00:00, 629.93it/s]\n",
      "computing precision with alignments, completed variants :: 100%|██████████| 1326/1326 [00:05<00:00, 256.51it/s]\n"
     ]
    },
    {
     "name": "stdout",
     "output_type": "stream",
     "text": [
      "Running HM\n"
     ]
    },
    {
     "name": "stderr",
     "output_type": "stream",
     "text": [
      "replaying log with TBR, completed variants :: 100%|██████████| 197/197 [00:00<00:00, 797.57it/s]\n",
      "replaying log with TBR, completed variants :: 100%|██████████| 1326/1326 [00:01<00:00, 1121.35it/s]\n"
     ]
    },
    {
     "name": "stdout",
     "output_type": "stream",
     "text": [
      "Running IMbi_ali\n"
     ]
    },
    {
     "name": "stderr",
     "output_type": "stream",
     "text": [
      "replaying log with TBR, completed variants :: 100%|██████████| 197/197 [00:00<00:00, 1044.91it/s]\n",
      "aligning log, completed variants :: 100%|██████████| 197/197 [00:01<00:00, 126.65it/s]\n",
      "replaying log with TBR, completed variants :: 100%|██████████| 1326/1326 [00:00<00:00, 1344.15it/s]\n",
      "computing precision with alignments, completed variants :: 100%|██████████| 1326/1326 [00:02<00:00, 583.16it/s]\n"
     ]
    },
    {
     "name": "stdout",
     "output_type": "stream",
     "text": [
      "Running IMbi_mar\n"
     ]
    },
    {
     "name": "stderr",
     "output_type": "stream",
     "text": [
      "replaying log with TBR, completed variants :: 100%|██████████| 197/197 [00:00<00:00, 749.05it/s]\n",
      "aligning log, completed variants :: 100%|██████████| 197/197 [00:01<00:00, 126.97it/s]\n",
      "replaying log with TBR, completed variants :: 100%|██████████| 1326/1326 [00:00<00:00, 1338.78it/s]\n",
      "computing precision with alignments, completed variants :: 100%|██████████| 1326/1326 [00:02<00:00, 552.43it/s]\n"
     ]
    },
    {
     "data": {
      "text/plain": [
       "'Running: lp_2018.xes 16/18'"
      ]
     },
     "metadata": {},
     "output_type": "display_data"
    },
    {
     "data": {
      "text/plain": [
       "'i: 2 ratio: 0 sup: 0.4 pruning: 0'"
      ]
     },
     "metadata": {},
     "output_type": "display_data"
    },
    {
     "name": "stderr",
     "output_type": "stream",
     "text": [
      "parsing log, completed traces :: 100%|██████████| 3000/3000 [00:01<00:00, 2405.77it/s]\n"
     ]
    },
    {
     "name": "stdout",
     "output_type": "stream",
     "text": [
      "Running IM\n"
     ]
    },
    {
     "name": "stderr",
     "output_type": "stream",
     "text": [
      "replaying log with TBR, completed variants :: 100%|██████████| 197/197 [00:00<00:00, 527.44it/s]\n",
      "aligning log, completed variants :: 100%|██████████| 197/197 [00:04<00:00, 41.83it/s]\n",
      "c:\\Users\\Marko\\AppData\\Local\\Programs\\Python\\Python38\\lib\\site-packages\\pm4py\\utils.py:486: UserWarning: the EventLog class has been deprecated and will be removed in a future release.\n",
      "  warnings.warn(\"the EventLog class has been deprecated and will be removed in a future release.\")\n",
      "replaying log with TBR, completed variants :: 100%|██████████| 1326/1326 [00:02<00:00, 510.10it/s]\n",
      "computing precision with alignments, completed variants :: 100%|██████████| 1326/1326 [00:16<00:00, 79.75it/s]\n"
     ]
    },
    {
     "name": "stdout",
     "output_type": "stream",
     "text": [
      "Running IMF\n"
     ]
    },
    {
     "name": "stderr",
     "output_type": "stream",
     "text": [
      "replaying log with TBR, completed variants :: 100%|██████████| 197/197 [00:00<00:00, 613.71it/s]\n",
      "aligning log, completed variants :: 100%|██████████| 197/197 [00:02<00:00, 80.56it/s]\n",
      "replaying log with TBR, completed variants :: 100%|██████████| 1326/1326 [00:02<00:00, 640.71it/s]\n",
      "computing precision with alignments, completed variants :: 100%|██████████| 1326/1326 [00:05<00:00, 258.88it/s]\n"
     ]
    },
    {
     "name": "stdout",
     "output_type": "stream",
     "text": [
      "Running HM\n"
     ]
    },
    {
     "name": "stderr",
     "output_type": "stream",
     "text": [
      "replaying log with TBR, completed variants :: 100%|██████████| 197/197 [00:00<00:00, 791.17it/s]\n",
      "replaying log with TBR, completed variants :: 100%|██████████| 1326/1326 [00:01<00:00, 1123.05it/s]\n"
     ]
    },
    {
     "name": "stdout",
     "output_type": "stream",
     "text": [
      "Running IMbi_ali\n"
     ]
    },
    {
     "name": "stderr",
     "output_type": "stream",
     "text": [
      "replaying log with TBR, completed variants :: 100%|██████████| 197/197 [00:00<00:00, 963.33it/s] \n",
      "aligning log, completed variants :: 100%|██████████| 197/197 [00:01<00:00, 130.07it/s]\n",
      "replaying log with TBR, completed variants :: 100%|██████████| 1326/1326 [00:00<00:00, 3138.33it/s]\n",
      "computing precision with alignments, completed variants :: 100%|██████████| 1326/1326 [00:01<00:00, 804.24it/s]\n"
     ]
    },
    {
     "name": "stdout",
     "output_type": "stream",
     "text": [
      "Running IMbi_mar\n"
     ]
    },
    {
     "name": "stderr",
     "output_type": "stream",
     "text": [
      "replaying log with TBR, completed variants :: 100%|██████████| 197/197 [00:00<00:00, 1097.50it/s]\n",
      "aligning log, completed variants :: 100%|██████████| 197/197 [00:01<00:00, 140.46it/s]\n",
      "replaying log with TBR, completed variants :: 100%|██████████| 1326/1326 [00:00<00:00, 3435.25it/s]\n",
      "computing precision with alignments, completed variants :: 100%|██████████| 1326/1326 [00:01<00:00, 791.64it/s]\n"
     ]
    },
    {
     "data": {
      "text/plain": [
       "'Running: lp_2018.xes 17/18'"
      ]
     },
     "metadata": {},
     "output_type": "display_data"
    },
    {
     "data": {
      "text/plain": [
       "'i: 2 ratio: 0 sup: 0.4 pruning: 0.1'"
      ]
     },
     "metadata": {},
     "output_type": "display_data"
    },
    {
     "name": "stderr",
     "output_type": "stream",
     "text": [
      "parsing log, completed traces :: 100%|██████████| 3000/3000 [00:01<00:00, 2679.47it/s]\n"
     ]
    },
    {
     "name": "stdout",
     "output_type": "stream",
     "text": [
      "Running IM\n"
     ]
    },
    {
     "name": "stderr",
     "output_type": "stream",
     "text": [
      "replaying log with TBR, completed variants :: 100%|██████████| 197/197 [00:00<00:00, 531.00it/s]\n",
      "aligning log, completed variants :: 100%|██████████| 197/197 [00:04<00:00, 41.27it/s]\n",
      "c:\\Users\\Marko\\AppData\\Local\\Programs\\Python\\Python38\\lib\\site-packages\\pm4py\\utils.py:486: UserWarning: the EventLog class has been deprecated and will be removed in a future release.\n",
      "  warnings.warn(\"the EventLog class has been deprecated and will be removed in a future release.\")\n",
      "replaying log with TBR, completed variants :: 100%|██████████| 1326/1326 [00:02<00:00, 498.12it/s]\n",
      "computing precision with alignments, completed variants :: 100%|██████████| 1326/1326 [00:17<00:00, 77.90it/s]\n"
     ]
    },
    {
     "name": "stdout",
     "output_type": "stream",
     "text": [
      "Running IMF\n"
     ]
    },
    {
     "name": "stderr",
     "output_type": "stream",
     "text": [
      "replaying log with TBR, completed variants :: 100%|██████████| 197/197 [00:00<00:00, 603.32it/s]\n",
      "aligning log, completed variants :: 100%|██████████| 197/197 [00:02<00:00, 81.96it/s]\n",
      "replaying log with TBR, completed variants :: 100%|██████████| 1326/1326 [00:02<00:00, 634.91it/s]\n",
      "computing precision with alignments, completed variants :: 100%|██████████| 1326/1326 [00:05<00:00, 235.62it/s]\n"
     ]
    },
    {
     "name": "stdout",
     "output_type": "stream",
     "text": [
      "Running HM\n"
     ]
    },
    {
     "name": "stderr",
     "output_type": "stream",
     "text": [
      "replaying log with TBR, completed variants :: 100%|██████████| 197/197 [00:00<00:00, 819.13it/s]\n",
      "replaying log with TBR, completed variants :: 100%|██████████| 1326/1326 [00:01<00:00, 1074.55it/s]\n"
     ]
    },
    {
     "name": "stdout",
     "output_type": "stream",
     "text": [
      "Running IMbi_ali\n"
     ]
    },
    {
     "name": "stderr",
     "output_type": "stream",
     "text": [
      "replaying log with TBR, completed variants :: 100%|██████████| 197/197 [00:00<00:00, 1116.15it/s]\n",
      "aligning log, completed variants :: 100%|██████████| 197/197 [00:01<00:00, 145.01it/s]\n",
      "replaying log with TBR, completed variants :: 100%|██████████| 1326/1326 [00:00<00:00, 3709.34it/s]\n",
      "computing precision with alignments, completed variants :: 100%|██████████| 1326/1326 [00:01<00:00, 851.81it/s]\n"
     ]
    },
    {
     "name": "stdout",
     "output_type": "stream",
     "text": [
      "Running IMbi_mar\n"
     ]
    },
    {
     "name": "stderr",
     "output_type": "stream",
     "text": [
      "replaying log with TBR, completed variants :: 100%|██████████| 197/197 [00:00<00:00, 1113.01it/s]\n",
      "aligning log, completed variants :: 100%|██████████| 197/197 [00:01<00:00, 147.78it/s]\n",
      "replaying log with TBR, completed variants :: 100%|██████████| 1326/1326 [00:00<00:00, 3709.09it/s]\n",
      "computing precision with alignments, completed variants :: 100%|██████████| 1326/1326 [00:01<00:00, 840.57it/s]\n"
     ]
    },
    {
     "data": {
      "text/plain": [
       "'Running: lp_2018.xes 18/18'"
      ]
     },
     "metadata": {},
     "output_type": "display_data"
    },
    {
     "data": {
      "text/plain": [
       "'i: 2 ratio: 0 sup: 0.4 pruning: 0.2'"
      ]
     },
     "metadata": {},
     "output_type": "display_data"
    },
    {
     "name": "stderr",
     "output_type": "stream",
     "text": [
      "parsing log, completed traces :: 100%|██████████| 3000/3000 [00:01<00:00, 2638.53it/s]\n"
     ]
    },
    {
     "name": "stdout",
     "output_type": "stream",
     "text": [
      "Running IM\n"
     ]
    },
    {
     "name": "stderr",
     "output_type": "stream",
     "text": [
      "replaying log with TBR, completed variants :: 100%|██████████| 197/197 [00:00<00:00, 536.06it/s]\n",
      "aligning log, completed variants :: 100%|██████████| 197/197 [00:04<00:00, 41.11it/s]\n",
      "c:\\Users\\Marko\\AppData\\Local\\Programs\\Python\\Python38\\lib\\site-packages\\pm4py\\utils.py:486: UserWarning: the EventLog class has been deprecated and will be removed in a future release.\n",
      "  warnings.warn(\"the EventLog class has been deprecated and will be removed in a future release.\")\n",
      "replaying log with TBR, completed variants :: 100%|██████████| 1326/1326 [00:02<00:00, 510.00it/s]\n",
      "computing precision with alignments, completed variants :: 100%|██████████| 1326/1326 [00:16<00:00, 79.53it/s]\n"
     ]
    },
    {
     "name": "stdout",
     "output_type": "stream",
     "text": [
      "Running IMF\n"
     ]
    },
    {
     "name": "stderr",
     "output_type": "stream",
     "text": [
      "replaying log with TBR, completed variants :: 100%|██████████| 197/197 [00:00<00:00, 605.22it/s]\n",
      "aligning log, completed variants :: 100%|██████████| 197/197 [00:02<00:00, 74.52it/s]\n",
      "replaying log with TBR, completed variants :: 100%|██████████| 1326/1326 [00:02<00:00, 620.21it/s]\n",
      "computing precision with alignments, completed variants :: 100%|██████████| 1326/1326 [00:05<00:00, 249.93it/s]\n"
     ]
    },
    {
     "name": "stdout",
     "output_type": "stream",
     "text": [
      "Running HM\n"
     ]
    },
    {
     "name": "stderr",
     "output_type": "stream",
     "text": [
      "replaying log with TBR, completed variants :: 100%|██████████| 197/197 [00:00<00:00, 784.86it/s]\n",
      "replaying log with TBR, completed variants :: 100%|██████████| 1326/1326 [00:01<00:00, 1068.06it/s]\n"
     ]
    },
    {
     "name": "stdout",
     "output_type": "stream",
     "text": [
      "Running IMbi_ali\n"
     ]
    },
    {
     "name": "stderr",
     "output_type": "stream",
     "text": [
      "replaying log with TBR, completed variants :: 100%|██████████| 197/197 [00:00<00:00, 1082.42it/s]\n",
      "aligning log, completed variants :: 100%|██████████| 197/197 [00:01<00:00, 144.59it/s]\n",
      "replaying log with TBR, completed variants :: 100%|██████████| 1326/1326 [00:00<00:00, 3701.34it/s]\n",
      "computing precision with alignments, completed variants :: 100%|██████████| 1326/1326 [00:01<00:00, 779.08it/s]\n"
     ]
    },
    {
     "name": "stdout",
     "output_type": "stream",
     "text": [
      "Running IMbi_mar\n"
     ]
    },
    {
     "name": "stderr",
     "output_type": "stream",
     "text": [
      "replaying log with TBR, completed variants :: 100%|██████████| 197/197 [00:00<00:00, 1116.14it/s]\n",
      "aligning log, completed variants :: 100%|██████████| 197/197 [00:01<00:00, 141.42it/s]\n",
      "replaying log with TBR, completed variants :: 100%|██████████| 1326/1326 [00:00<00:00, 3417.56it/s]\n",
      "computing precision with alignments, completed variants :: 100%|██████████| 1326/1326 [00:01<00:00, 798.80it/s]\n"
     ]
    }
   ],
   "source": [
    "runSingleLog = True\n",
    "\n",
    "ratios = [0]\n",
    "sups = [0.2, 0.4]\n",
    "pruning_thresholds = [0, 0.1, 0.2]\n",
    "runs = 1\n",
    "\n",
    "totalRuns = len(lpPaths) * len(ratios) * len(sups) * len(pruning_thresholds)\n",
    "if runSingleLog:\n",
    "  for i in range(0,len(lpPaths)):\n",
    "    for ratio in ratios:\n",
    "      for sup in sups:\n",
    "        for pruning_threshold in pruning_thresholds:\n",
    "          display(\"Running: \" + lpPaths[i][0] + \" \" + str(runs) + \"/\" + str(totalRuns))\n",
    "          display(\"i: \" + str(i) + \" ratio: \" + str(ratio) + \" sup: \" + str(sup) + \" pruning: \" + str(pruning_threshold))\n",
    "          df, marImproved = applyMinerToLog(df, lpPaths[i][1], \"\", lpPaths[i][0],\"\", 0.2, 0.99, sup, ratio, pruning_threshold)\n",
    "          runs += 1"
   ]
  },
  {
   "cell_type": "code",
   "execution_count": 16,
   "metadata": {},
   "outputs": [],
   "source": [
    "if runSingleLog == False:\n",
    "  runs = 1\n",
    "  improving_runs = 0\n",
    "  \n",
    "  ratios = [1, 0.8]\n",
    "  sups = [0.2, 0.3]\n",
    "  pruning_thresholds = [0,0.1,0.2]\n",
    "  \n",
    "  totalRuns = len(lpPaths) * len(ratios) * len(sups) * len(pruning_thresholds)\n",
    "\n",
    "  for i in range(0,len(lpPaths)):\n",
    "    for ratio in ratios:\n",
    "      for sup in sups:\n",
    "        for pruning_threshold in pruning_thresholds:\n",
    "          display(\"Running: \" + lpPaths[i][0] + \" \" + str(runs) + \"/\" + str(totalRuns))\n",
    "          display(\"i: \" + str(i) + \" ratio: \" + str(ratio) + \" sup: \" + str(sup) + \" pruning: \" + str(pruning_threshold))\n",
    "          display(\"Stats: \" + str(improving_runs) + \"/\" + str(runs))\n",
    "          df, marImproved = applyMinerToLog(df, lpPaths[i][1], lmPaths[i][1], lpPaths[i][0],lmPaths[i][0], 0.2, 0.99, sup, ratio, pruning_threshold)\n",
    "          if marImproved:\n",
    "            improving_runs += 1\n",
    "          runs += 1\n",
    "  \n",
    "# display(df)"
   ]
  },
  {
   "cell_type": "code",
   "execution_count": 17,
   "metadata": {},
   "outputs": [],
   "source": [
    "\n",
    "def setupYTickList(minValue, step):\n",
    "  res = []\n",
    "  cur = 1\n",
    "  while cur > minValue:\n",
    "    res.append(cur)\n",
    "    cur -= step\n",
    "  res.append(cur)\n",
    "  return res\n",
    "    \n",
    "\n",
    "def displayDoubleLog(df, saveFig = False):\n",
    "  df_grouped = df.groupby(by=[\"logP_Name\",\t\"logM_Name\", \"im_bi_sup\", \"im_bi_ratio\", \"pruning_threshold\"], group_keys=True).apply(lambda x : x)\n",
    "  \n",
    "  numberOfPlotPerRow = 4\n",
    "  rows = math.ceil(float(len(df_grouped.index.unique()))/numberOfPlotPerRow)\n",
    "  cols = min(len(df_grouped.index.unique()),numberOfPlotPerRow)\n",
    "\n",
    "  fig, axs = plt.subplots(rows, cols, figsize=(15 * (cols / numberOfPlotPerRow), 4 * rows), squeeze=False)\n",
    "  fig.tight_layout(pad=10.0)\n",
    "  cur_Row = 0\n",
    "  cur_Col = 0\n",
    "  for logGroup in df_grouped.index.unique():\n",
    "    df_log_grouped = df_grouped.loc[logGroup]\n",
    "    axs[cur_Row,cur_Col].set_title(\"LogP: \" + logGroup[0] + \" LogM: \" + logGroup[1] + \"\\n\" + \"Sup: \" + str(df_log_grouped.im_bi_sup[0]) + \" ratio: \" + str(df_log_grouped.im_bi_ratio[0]) + \" Pruning: \" + str(df_log_grouped.pruning_threshold[0]))\n",
    "    axs[cur_Row,cur_Col].set_xlabel(\"Miners\")\n",
    "    j = 0\n",
    "    xTickLabel = []\n",
    "    idx = []\n",
    "    minValue = 0\n",
    "    for miner, acc, fitP, fitM, f1_fit in zip(df_log_grouped.miner, df_log_grouped.acc_logs, df_log_grouped.fitP, df_log_grouped.fitM, df_log_grouped.f1_fit_logs):\n",
    "      minValue = min([minValue, acc, fitP, fitM, f1_fit])\n",
    "      axs[cur_Row,cur_Col].bar(j,acc, color=\"r\", label=\"acc\")\n",
    "      axs[cur_Row,cur_Col].bar(j+1,fitP, color=\"g\", label=\"fitP\")\n",
    "      axs[cur_Row,cur_Col].bar(j+2,fitM, color=\"b\", label=\"fitM\")\n",
    "      axs[cur_Row,cur_Col].bar(j+3,f1_fit, color=\"orange\", label=\"f1_fit\")\n",
    "      xTickLabel.append(miner)\n",
    "      idx.append(j + 1.5)\n",
    "      j += 5\n",
    "      \n",
    "    \n",
    "    axs[cur_Row,cur_Col].set_yticks(setupYTickList(minValue, 0.25))\n",
    "    axs[cur_Row,cur_Col].set_xticks(idx)\n",
    "    axs[cur_Row,cur_Col].set_xticklabels(xTickLabel)\n",
    "    axs[cur_Row,cur_Col].legend(loc='center left', ncols=1, labels=[\"acc\", \"fitP\", \"fitM\", \"f1_fit\"], bbox_to_anchor=(1, 0.5))\n",
    "    cur_Col += 1\n",
    "    \n",
    "    if cur_Col == numberOfPlotPerRow:\n",
    "      cur_Row += 1\n",
    "      cur_Col = 0\n",
    "      \n",
    "  plt.show()\n",
    "\n",
    "  if saveFig:\n",
    "    fig.savefig(\"plot\" + \".pdf\")"
   ]
  },
  {
   "cell_type": "code",
   "execution_count": 18,
   "metadata": {},
   "outputs": [],
   "source": [
    "def displaySingleLog(df, saveFig = False):\n",
    "  df_grouped = df.groupby(by=[\"logP_Name\",\t\"logM_Name\", \"im_bi_sup\", \"pruning_threshold\"], group_keys=True).apply(lambda x : x)\n",
    "\n",
    "  numberOfPlotPerRow = 3\n",
    "  rows = math.ceil(float(len(df_grouped.index.unique()))/numberOfPlotPerRow)\n",
    "  cols = min(len(df_grouped.index.unique()),numberOfPlotPerRow)\n",
    "  \n",
    "\n",
    "  for f1_measure in [\"f1_tok\", \"f1_alig\"]:\n",
    "    fig, axs = plt.subplots(rows, cols, figsize=(15 * (cols / numberOfPlotPerRow), 4 * rows), squeeze=False)\n",
    "    fig.tight_layout(pad=10.0)\n",
    "    cur_Row = 0\n",
    "    cur_Col = 0\n",
    "    for logGroup in df_grouped.index.unique():\n",
    "      df_log_grouped = df_grouped.loc[logGroup]\n",
    "      axs[cur_Row,cur_Col].set_title(\"LogP: \" + logGroup[0] + \" LogM: \" + logGroup[1] + \"\\n\" + \"Sup: \" + str(df_log_grouped.im_bi_sup[0]) + \" Pruning: \" + str(df_log_grouped.pruning_threshold[0]))\n",
    "      axs[cur_Row,cur_Col].set_ylabel(f1_measure)\n",
    "      axs[cur_Row,cur_Col].set_xlabel(\"Miners\")\n",
    "      j = 0\n",
    "      xTickLabel = []\n",
    "      idx = []\n",
    "      for miner, f1_tok in zip(df_log_grouped.miner, df_log_grouped[f1_measure]):\n",
    "        axs[cur_Row,cur_Col].bar(j,f1_tok, label=str(miner))\n",
    "        xTickLabel.append(miner)\n",
    "        idx.append(j)\n",
    "        j += 1\n",
    "      axs[cur_Row,cur_Col].set_xticks(idx)\n",
    "      axs[cur_Row,cur_Col].set_xticklabels(xTickLabel, rotation=90)\n",
    "      cur_Col += 1\n",
    "      if cur_Col == numberOfPlotPerRow:\n",
    "        cur_Row += 1\n",
    "        cur_Col = 0\n",
    "        \n",
    "    plt.show()\n",
    "    if saveFig:\n",
    "      fig.savefig(\"plot_\" + f1_measure + \".pdf\")"
   ]
  },
  {
   "cell_type": "code",
   "execution_count": 19,
   "metadata": {},
   "outputs": [
    {
     "data": {
      "image/png": "[encoded data removed]",
      "text/plain": [
       "<Figure size 1500x2400 with 18 Axes>"
      ]
     },
     "metadata": {},
     "output_type": "display_data"
    },
    {
     "data": {
      "image/png": "[encoded data removed]",
      "text/plain": [
       "<Figure size 1500x2400 with 18 Axes>"
      ]
     },
     "metadata": {},
     "output_type": "display_data"
    }
   ],
   "source": [
    "if runSingleLog == False:\n",
    "  displayDoubleLog(df)\n",
    "else:\n",
    "  displaySingleLog(df)"
   ]
  },
  {
   "cell_type": "code",
   "execution_count": 20,
   "metadata": {},
   "outputs": [],
   "source": [
    "if False:\n",
    "  if runSingleLog == False:\n",
    "    visualize_petriNet(df, \"IM\", \"lp_2012.xes\", \"\")\n",
    "    visualize_petriNet(df, \"IMbi_mar\", \"lp_2012\", \"lm_2012\")\n",
    "    visualize_petriNet(df, \"IMbi_ali\", \"lp_2012\", \"lm_2012\")\n",
    "  else:\n",
    "    visualize_petriNet(df, \"IM\", \"lp_2012.xes\", \"\")\n",
    "    visualize_petriNet(df, \"IMbi_mar\", \"lp_2012.xes\", \"\")\n",
    "    visualize_petriNet(df, \"IMbi_ali\", \"lp_2012.xes\", \"\")\n"
   ]
  },
  {
   "cell_type": "code",
   "execution_count": 21,
   "metadata": {},
   "outputs": [],
   "source": [
    "if False:\n",
    "  display(df)"
   ]
  },
  {
   "attachments": {},
   "cell_type": "markdown",
   "metadata": {},
   "source": [
    "from pm4py.objects.petri_net.exporter import exporter as pnml_exporter\n",
    "\n",
    "net, im, fm = df.iloc[4].net, df.iloc[4].im, df.iloc[4].fm\n",
    "view_petri_net(net, im, fm)\n",
    "pnml_exporter.apply(net, im, \"petri_IMbi.pnml\", final_marking=fm)"
   ]
  },
  {
   "cell_type": "code",
   "execution_count": null,
   "metadata": {},
   "outputs": [],
   "source": []
  }
 ],
 "metadata": {
  "kernelspec": {
   "display_name": "Python 3 (ipykernel)",
   "language": "python",
   "name": "python3"
  },
  "language_info": {
   "codemirror_mode": {
    "name": "ipython",
    "version": 3
   },
   "file_extension": ".py",
   "mimetype": "text/x-python",
   "name": "python",
   "nbconvert_exporter": "python",
   "pygments_lexer": "ipython3",
   "version": "3.8.5"
  }
 },
 "nbformat": 4,
 "nbformat_minor": 2
}
