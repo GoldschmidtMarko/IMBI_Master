{
 "cells": [
  {
   "attachments": {},
   "cell_type": "markdown",
   "metadata": {},
   "source": [
    "# This file compares and analyses the IMBI_Marko miner"
   ]
  },
  {
   "cell_type": "code",
   "execution_count": 247,
   "metadata": {},
   "outputs": [],
   "source": [
    "import sys\n",
    "# caution: path[0] is reserved for script path (or '' in REPL)\n",
    "sys.path.insert(1, 'C:/Users/Marko/Desktop/GIt/IMBI_Master')"
   ]
  },
  {
   "cell_type": "code",
   "execution_count": 248,
   "metadata": {},
   "outputs": [],
   "source": [
    "from local_pm4py.algo.discovery.inductive import algorithm as inductive_miner\n",
    "from pm4py.objects.log.importer.xes import importer as xes_importer\n",
    "from local_pm4py.algo.analysis import custom_enum\n",
    "from pm4py.visualization.petri_net import visualizer as pn_visualizer\n",
    "from pm4py import view_petri_net\n",
    "from pm4py.algo.evaluation.replay_fitness import algorithm as replay_fitness_evaluator\n",
    "from pm4py import precision_alignments\n",
    "from pm4py import precision_token_based_replay\n",
    "from pm4py import discover_petri_net_heuristics\n",
    "from pm4py.convert import convert_to_petri_net\n",
    "from pm4py.algo.discovery.inductive import algorithm as pm4py_algorithm\n",
    "from pm4py.algo.discovery.inductive.variants import imf as pm4py_imf\n",
    "import pandas as pd\n",
    "from pm4py.algo.discovery.inductive.algorithm import Variants as ind_Variants\n",
    "from local_pm4py.algo.analysis import Optimzation_Goals\n",
    "import matplotlib.pyplot as plt\n",
    "import numpy as np\n",
    "import math\n",
    "import fpdf\n",
    "from PIL import Image\n",
    "import os"
   ]
  },
  {
   "cell_type": "code",
   "execution_count": 249,
   "metadata": {},
   "outputs": [],
   "source": [
    "def f1_score(a, b):\n",
    "  # try: catch\n",
    "  if math.isclose(a+b,0):\n",
    "    return 0\n",
    "  return 2 * (a * b) / (a + b)"
   ]
  },
  {
   "cell_type": "code",
   "execution_count": 250,
   "metadata": {},
   "outputs": [],
   "source": [
    "def visualize_cuts(fileName):\n",
    "  pdf = fpdf.FPDF(format='letter') #pdf format\n",
    "  pdf.add_page() #create new page\n",
    "  pdf.set_font(\"Arial\", size=8) # font and textsize\n",
    "\n",
    "  depth = 0\n",
    "  currentIteration = 1\n",
    "  file_path = \"imbi_cuts/depth_\" + str(depth) + \"_It_\" + str(currentIteration)\n",
    "  # for depth\n",
    "  while(os.path.isfile(file_path + \".png\")):\n",
    "    # for iteration\n",
    "    while(os.path.isfile(file_path + \".png\")):\n",
    "      with open(file_path + \".txt\") as f:\n",
    "        pdf.cell(100, 4, txt=\"Cut: \" + str(depth + 1) + \" it: \" + str(currentIteration), ln=1, align=\"C\")\n",
    "        pdf.cell(1000, 4, txt=\"cut | type | cost_p | cost_m | cost_ratio | fitP\", ln=1, align=\"L\")\n",
    "        pdf.cell(1000, 4, txt=\"\", ln=1, align=\"L\")\n",
    "        lines = f.readlines()\n",
    "        readLines = 0\n",
    "        for line in lines:\n",
    "          if readLines == 0:\n",
    "            outputLine = line.replace(\" \", \" | \")\n",
    "          else:\n",
    "            outputLine = line\n",
    "          pdf.cell(1000, 4, txt=outputLine, ln=1, align=\"L\")\n",
    "          readLines += 1\n",
    "          if readLines == 3:\n",
    "            readLines = 0\n",
    "            pdf.cell(1000, 4, txt=\"\", ln=1, align=\"L\")\n",
    "      img = Image.open(file_path + \".png\")\n",
    "      width,height = img.size\n",
    "      # print(width, height)\n",
    "      pdf.image(file_path + \".png\",w=min(150,width/3),h=min(150,height/3))\n",
    "      pdf.add_page()\n",
    "      currentIteration += 1\n",
    "      file_path = \"imbi_cuts/depth_\" + str(depth) + \"_It_\" + str(currentIteration)\n",
    "      \n",
    "    depth += 1\n",
    "    currentIteration = 1\n",
    "    file_path = \"imbi_cuts/depth_\" + str(depth) + \"_It_\" + str(currentIteration)\n",
    "  pdf.output(fileName + \".pdf\")"
   ]
  },
  {
   "cell_type": "code",
   "execution_count": 251,
   "metadata": {},
   "outputs": [],
   "source": [
    "def visualize_petriNet(df, miner, logPName, logMName = \"\"):\n",
    "  df_temp = df[df[\"miner\"] == miner]\n",
    "  df_temp = df_temp[df_temp[\"logM_Name\"] == logMName]\n",
    "  df_temp = df_temp[df_temp[\"logP_Name\"] == logPName]\n",
    "  for net, im, fm in zip(df_temp.net, df_temp.im, df_temp.fm):\n",
    "    print(\"Displaying: \" + str(miner) + \" \" + str(logPName) + \" \" + str(logMName))\n",
    "    view_petri_net(net, im, fm)"
   ]
  },
  {
   "cell_type": "code",
   "execution_count": 252,
   "metadata": {},
   "outputs": [],
   "source": [
    "def visualize_All_petriNet(df, miner):\n",
    "  df_temp = df[df[\"miner\"] == miner]\n",
    "  for logPName, logMName in zip(df_temp.logP_Name, df_temp.logM_Name):\n",
    "    visualize_petriNet(df,miner,logPName,logMName)"
   ]
  },
  {
   "cell_type": "code",
   "execution_count": 253,
   "metadata": {},
   "outputs": [],
   "source": [
    "def isRowPresent(df, miner, logPName, logMName, imf_noiseThreshold, hm_dependency_threshold, im_bi_sup, im_bi_ratio):\n",
    "  dftemp = df[df[\"miner\"] == miner]\n",
    "  dftemp = dftemp[dftemp[\"logP_Name\"] == logPName]\n",
    "  dftemp = dftemp[dftemp[\"logM_Name\"] == logMName]\n",
    "  dftemp = dftemp[dftemp[\"imf_noise_thr\"] == imf_noiseThreshold]\n",
    "  dftemp = dftemp[dftemp[\"hm_depen_thr\"] == hm_dependency_threshold]\n",
    "  dftemp = dftemp[dftemp[\"im_bi_sup\"] == im_bi_sup]\n",
    "  dftemp = dftemp[dftemp[\"im_bi_ratio\"] == im_bi_ratio]\n",
    "  if len(dftemp.index) > 0:\n",
    "    return True\n",
    "  return False\n"
   ]
  },
  {
   "cell_type": "code",
   "execution_count": 254,
   "metadata": {},
   "outputs": [],
   "source": [
    "def runDoubleLogEvaluation(df,log,logM, name,net, im, fm, logPName = \"\",logMName = \"\", imf_noiseThreshold = 0, hm_dependency_threshold = 0,im_bi_sup = 0, im_bi_ratio = 0):\n",
    "  mes = Optimzation_Goals.apply_petri(log,logM,net,im,fm)\n",
    "\n",
    "  df = pd.concat([df, pd.DataFrame.from_records([{\n",
    "    \"miner\" : name,\n",
    "    \"logP_Name\": logPName[:logPName.rfind(\".\")],\n",
    "    \"logM_Name\": logMName[:logMName.rfind(\".\")],\n",
    "    \"imf_noise_thr\" : imf_noiseThreshold,\n",
    "    \"hm_depen_thr\" : hm_dependency_threshold,\n",
    "    \"im_bi_sup\" : im_bi_sup,\n",
    "    \"im_bi_ratio\" : im_bi_ratio,\n",
    "    \"acc_logs\": mes['acc'],\n",
    "    \"fitP\" : mes['fitP'],\n",
    "    \"fitM\" : mes['fitM'],\n",
    "    \"f1_fit_logs\": mes['F1'],\n",
    "    \"precP\" : mes['precision'],\n",
    "    \"net\": net,\n",
    "    \"im\" : im,\n",
    "    \"fm\" : fm\n",
    "  }])])\n",
    "  return df"
   ]
  },
  {
   "cell_type": "code",
   "execution_count": 255,
   "metadata": {},
   "outputs": [],
   "source": [
    "def runSingleLogEvaluation(df,log,logM, name, net, im, fm, logPName = \"\",logMName = \"\", imf_noiseThreshold = 0, hm_dependency_threshold = 0,im_bi_sup = 0, im_bi_ratio = 0):\n",
    "  \n",
    "  # if isRowPresent(df, name, logPName, logMName, imf_noiseThreshold, hm_dependency_threshold, im_bi_sup, im_bi_ratio) == True:\n",
    "  #   print (\"Skipped because present\")\n",
    "  #   return df\n",
    "  \n",
    "  parameters = {pn_visualizer.Variants.WO_DECORATION.value.Parameters.FORMAT:\"pdf\"}\n",
    "  gviz = pn_visualizer.apply(net, im, fm, parameters=parameters)\n",
    "\n",
    "  try:\n",
    "    fitness_token = replay_fitness_evaluator.apply(log, net, im, fm, variant=replay_fitness_evaluator.Variants.TOKEN_BASED)[\"log_fitness\"]\n",
    "  except:\n",
    "    fitness_token = 0\n",
    "  try:\n",
    "    fitness_align = replay_fitness_evaluator.apply(log, net, im, fm, variant=replay_fitness_evaluator.Variants.ALIGNMENT_BASED)[\"log_fitness\"]\n",
    "  except:\n",
    "    fitness_align = 0\n",
    "    \n",
    "  try:\n",
    "    prec_token = precision_token_based_replay(log, net, im, fm)\n",
    "  except:\n",
    "    prec_token = 0\n",
    "    \n",
    "  try:\n",
    "    prec_alignment = precision_alignments(log, net, im, fm)\n",
    "  except:\n",
    "    prec_alignment = 0\n",
    "    \n",
    "\n",
    "  df = pd.concat([df, pd.DataFrame.from_records([{\n",
    "      \"miner\" : name,\n",
    "      \"logP_Name\": logPName,\n",
    "      \"logM_Name\": logMName,\n",
    "      \"imf_noise_thr\" : imf_noiseThreshold,\n",
    "      \"hm_depen_thr\" : hm_dependency_threshold,\n",
    "      \"im_bi_sup\" : im_bi_sup,\n",
    "      \"im_bi_ratio\" : im_bi_ratio,\n",
    "      \"fit_tok\": fitness_token,\n",
    "      \"fit_alig\": fitness_align,\n",
    "      \"prec_tok\": prec_token,\n",
    "      \"prec_alig\": prec_alignment,\n",
    "      \"f1_tok\": f1_score(fitness_token, prec_token),\n",
    "      \"f1_alig\": f1_score(fitness_align, prec_alignment),\n",
    "      \"net\": net,\n",
    "      \"im\" : im,\n",
    "      \"fm\" : fm\n",
    "  }])])\n",
    "  return df"
   ]
  },
  {
   "cell_type": "code",
   "execution_count": 256,
   "metadata": {},
   "outputs": [],
   "source": [
    "def add_Model_To_Database(df,log,logM, name,net, im, fm, logPName = \"\",logMName = \"\", imf_noiseThreshold = 0, hm_dependency_threshold = 0,im_bi_sup = 0, im_bi_ratio = 0):\n",
    "  if logMName == \"\":\n",
    "    df = runSingleLogEvaluation(df,log,logM, name,net, im, fm, logPName,logMName, imf_noiseThreshold, hm_dependency_threshold,im_bi_sup, im_bi_ratio)\n",
    "  else:\n",
    "    df = runDoubleLogEvaluation(df,log,logM, name,net, im, fm, logPName,logMName, imf_noiseThreshold, hm_dependency_threshold,im_bi_sup, im_bi_ratio)\n",
    "  return df"
   ]
  },
  {
   "cell_type": "code",
   "execution_count": 257,
   "metadata": {},
   "outputs": [],
   "source": [
    "def getF1Value(df, miner, logPName, logMName, support, ratio):\n",
    "  dftemp = df[df[\"miner\"] == miner]\n",
    "  dftemp = dftemp[dftemp[\"logP_Name\"] == logPName[:logPName.rfind(\".\")]]\n",
    "  dftemp = dftemp[dftemp[\"logM_Name\"] == logMName[:logPName.rfind(\".\")]]\n",
    "  dftemp = dftemp[dftemp[\"im_bi_sup\"] == support]\n",
    "  dftemp = dftemp[dftemp[\"im_bi_ratio\"] == ratio]\n",
    "  if len(dftemp.index) > 1:\n",
    "    raise Exception(\"Error, too many rows.\")\n",
    "  return dftemp[\"f1_fit_logs\"].iloc[0]\n"
   ]
  },
  {
   "cell_type": "code",
   "execution_count": 258,
   "metadata": {},
   "outputs": [],
   "source": [
    "def applyMinerToLog(df, logPathP, logPathM,logPName, logMName = \"\", noiseThreshold = 0.0, dependency_threshold=0.0, support = 0, ratio = 0):\n",
    "  logP = xes_importer.apply(logPathP)\n",
    "  if logMName == \"\":\n",
    "    logM = logP\n",
    "    # inductive miner\n",
    "    print(\"Running IM\")\n",
    "    pt = pm4py_algorithm.apply(logP,variant=ind_Variants.IM)\n",
    "    net, im, fm = convert_to_petri_net(pt)\n",
    "    df = add_Model_To_Database(df=df, log=logP, logM=logM,net=net,im=im,fm=fm,name=\"IM\",logPName=logPName, im_bi_sup=support,im_bi_ratio=ratio)\n",
    "    \n",
    "    #imf \n",
    "    print(\"Running IMF\")\n",
    "    parameters = {pm4py_imf.IMFParameters.NOISE_THRESHOLD : noiseThreshold}\n",
    "    pt = pm4py_algorithm.apply(logP,variant=ind_Variants.IMf, parameters=parameters)\n",
    "    net, im, fm = convert_to_petri_net(pt)\n",
    "    df = add_Model_To_Database(df=df, log=logP, logM=logM,net=net,im=im,fm=fm,name=\"IMF\",logPName=logPName,imf_noiseThreshold=noiseThreshold, im_bi_sup=support,im_bi_ratio=ratio)\n",
    "    \n",
    "    #hm\n",
    "    print(\"Running HM\")\n",
    "    net, im, fm = discover_petri_net_heuristics(logP,dependency_threshold=dependency_threshold)\n",
    "    df = add_Model_To_Database(df=df, log=logP, logM=logM,net=net,im=im,fm=fm,name=\"HM\",logPName=logPName,hm_dependency_threshold=dependency_threshold, im_bi_sup=support,im_bi_ratio=ratio)\n",
    "  else:\n",
    "    logM = xes_importer.apply(logPathM)\n",
    "    \n",
    "  # imbi_ali\n",
    "  print(\"Running IMbi_ali\")\n",
    "  cost_Variant = custom_enum.Cost_Variant.ACTIVITY_FREQUENCY_SCORE\n",
    "  net, im, fm = inductive_miner.apply_bi(logP,logM, variant=inductive_miner.Variants.IMbi, sup=support, ratio=ratio, size_par=len(logP)/len(logM), cost_Variant=cost_Variant)\n",
    "  df = add_Model_To_Database(df=df,log=logP, logM=logM,net=net,im=im,fm=fm,name=\"IMbi_ali\",logPName=logPName, logMName=logMName,im_bi_sup=support,im_bi_ratio=ratio)\n",
    "  \n",
    "  fileName_cuts_ali = \"cuts_IMbi_ali_sup_\" + str(support) + \"_ratio_\" + str(ratio) + \"_logP_\" + logPName[:logPName.rfind(\".\")] + \"_logM_\" + logMName[:logMName.rfind(\".\")]\n",
    "  visualize_cuts(fileName_cuts_ali)\n",
    "  \n",
    "  for f in os.listdir(\"imbi_cuts\"):\n",
    "    os.remove(os.path.join(\"imbi_cuts\", f))\n",
    "  \n",
    "  #imbi_mar\n",
    "  print(\"Running IMbi_mar\")\n",
    "  cost_Variant = custom_enum.Cost_Variant.ACTIVITY_RELATION_SCORE\n",
    "  net, im, fm = inductive_miner.apply_bi(logP,logM, variant=inductive_miner.Variants.IMbi, sup=support, ratio=ratio, size_par=len(logP)/len(logM), cost_Variant=cost_Variant)\n",
    "  df = add_Model_To_Database(df=df, log=logP, logM=logM,net=net,im=im,fm=fm,name=\"IMbi_mar\",logPName=logPName, logMName=logMName, im_bi_sup=support,im_bi_ratio=ratio)\n",
    "  \n",
    "  fileName_cuts_mar = \"cuts_IMbi_mar_sup_\" + str(support) + \"_ratio_\" + str(ratio) + \"_logP-\" + logPName[:logPName.rfind(\".\")] + \"_logM-\" + logMName[:logMName.rfind(\".\")]\n",
    "  visualize_cuts(fileName_cuts_mar)\n",
    "  \n",
    "  for f in os.listdir(\"imbi_cuts\"):\n",
    "    os.remove(os.path.join(\"imbi_cuts\", f))\n",
    "  \n",
    "  # for double log\n",
    "  marImproved = False\n",
    "  if logMName != \"\":\n",
    "    f1_ali = getF1Value(df,\"IMbi_ali\",logPName,logMName,support,ratio)\n",
    "    f1_mar = getF1Value(df,\"IMbi_mar\",logPName,logMName,support,ratio)\n",
    "    if f1_ali < f1_mar:\n",
    "      display(\"Mar > Ali\")\n",
    "      marImproved = True\n",
    "      if True:\n",
    "        if os.path.exists(fileName_cuts_ali+ \".pdf\"):\n",
    "          os.remove(fileName_cuts_ali+ \".pdf\")\n",
    "        if os.path.exists(fileName_cuts_mar+ \".pdf\"):\n",
    "          os.remove(fileName_cuts_mar + \".pdf\")\n",
    "    else:\n",
    "      display(\"Ali > Mar\")\n",
    "  return df, marImproved"
   ]
  },
  {
   "cell_type": "code",
   "execution_count": 259,
   "metadata": {},
   "outputs": [],
   "source": [
    "columns = [\"miner\", \"logP_Name\", \"logM_Name\",\"imf_noise_thr\",\"hm_depen_thr\",\"im_bi_sup\",\"im_bi_ratio\", \"fit_tok\", \"fit_alig\", \"prec_tok\", \"prec_alig\", \"f1_tok\", \"f1_alig\", \"net\", \"im\", \"fm\"]\n",
    "df = pd.DataFrame(data=None, index=None, columns=columns, dtype=None, copy=None)"
   ]
  },
  {
   "cell_type": "code",
   "execution_count": 260,
   "metadata": {},
   "outputs": [],
   "source": [
    "rootPath = \"C:/Users/Marko/Desktop/IMbi_Data/analysing/\"\n",
    "\n",
    "lpNames = [\"lp_2012.xes\", \"lp_2017.xes\", \"lp_2018.xes\"]\n",
    "# lpNames = [\"lp_2012.xes\"]\n",
    "\n",
    "lMNames = [\"lm_2012.xes\", \"lm_2017.xes\", \"lm_2018.xes\"]\n",
    "# lMNames = [\"lm_2012.xes\"]\n",
    "lpPaths = []\n",
    "lmPaths = []\n",
    "\n",
    "for lp in lpNames:\n",
    "  lpPaths.append((lp,rootPath + lp))\n",
    "for lm in lMNames:\n",
    "  lmPaths.append((lm,rootPath + lm))\n",
    "  "
   ]
  },
  {
   "cell_type": "code",
   "execution_count": 261,
   "metadata": {},
   "outputs": [
    {
     "data": {
      "text/plain": [
       "'Running: lp_2012.xes 1/12'"
      ]
     },
     "metadata": {},
     "output_type": "display_data"
    },
    {
     "data": {
      "text/plain": [
       "'i: 0 ratio: 0 sup: 0'"
      ]
     },
     "metadata": {},
     "output_type": "display_data"
    },
    {
     "name": "stderr",
     "output_type": "stream",
     "text": [
      "parsing log, completed traces :: 100%|██████████| 10556/10556 [00:01<00:00, 7011.63it/s]\n"
     ]
    },
    {
     "name": "stdout",
     "output_type": "stream",
     "text": [
      "Running IM\n"
     ]
    },
    {
     "name": "stderr",
     "output_type": "stream",
     "text": [
      "replaying log with TBR, completed variants :: 100%|██████████| 25/25 [00:00<00:00, 1428.50it/s]\n",
      "aligning log, completed variants :: 100%|██████████| 25/25 [00:00<00:00, 331.12it/s]\n",
      "c:\\Users\\Marko\\AppData\\Local\\Programs\\Python\\Python38\\lib\\site-packages\\pm4py\\utils.py:486: UserWarning: the EventLog class has been deprecated and will be removed in a future release.\n",
      "  warnings.warn(\"the EventLog class has been deprecated and will be removed in a future release.\")\n",
      "replaying log with TBR, completed variants :: 100%|██████████| 43/43 [00:00<00:00, 1457.67it/s]\n",
      "computing precision with alignments, completed variants :: 100%|██████████| 43/43 [00:00<00:00, 262.19it/s]\n"
     ]
    },
    {
     "name": "stdout",
     "output_type": "stream",
     "text": [
      "Running IMF\n"
     ]
    },
    {
     "name": "stderr",
     "output_type": "stream",
     "text": [
      "replaying log with TBR, completed variants :: 100%|██████████| 25/25 [00:00<00:00, 1428.67it/s]\n",
      "aligning log, completed variants :: 100%|██████████| 25/25 [00:00<00:00, 373.14it/s]\n",
      "replaying log with TBR, completed variants :: 100%|██████████| 43/43 [00:00<00:00, 1686.29it/s]\n",
      "computing precision with alignments, completed variants :: 100%|██████████| 43/43 [00:00<00:00, 565.79it/s]\n"
     ]
    },
    {
     "name": "stdout",
     "output_type": "stream",
     "text": [
      "Running HM\n"
     ]
    },
    {
     "name": "stderr",
     "output_type": "stream",
     "text": [
      "replaying log with TBR, completed variants :: 100%|██████████| 25/25 [00:00<00:00, 1351.22it/s]\n",
      "aligning log, completed variants :: 100%|██████████| 25/25 [00:00<00:00, 318.47it/s]\n",
      "replaying log with TBR, completed variants :: 100%|██████████| 43/43 [00:00<00:00, 2204.91it/s]\n",
      "computing precision with alignments, completed variants :: 100%|██████████| 43/43 [00:00<00:00, 772.08it/s]\n"
     ]
    },
    {
     "name": "stdout",
     "output_type": "stream",
     "text": [
      "Running IMbi_ali\n"
     ]
    },
    {
     "name": "stderr",
     "output_type": "stream",
     "text": [
      "replaying log with TBR, completed variants :: 100%|██████████| 25/25 [00:00<00:00, 1251.36it/s]\n",
      "aligning log, completed variants :: 100%|██████████| 25/25 [00:00<00:00, 276.25it/s]\n",
      "replaying log with TBR, completed variants :: 100%|██████████| 43/43 [00:00<00:00, 1194.49it/s]\n",
      "computing precision with alignments, completed variants :: 100%|██████████| 43/43 [00:00<00:00, 562.08it/s]\n"
     ]
    },
    {
     "name": "stdout",
     "output_type": "stream",
     "text": [
      "Running IMbi_mar\n"
     ]
    },
    {
     "name": "stderr",
     "output_type": "stream",
     "text": [
      "replaying log with TBR, completed variants :: 100%|██████████| 25/25 [00:00<00:00, 1250.02it/s]\n",
      "aligning log, completed variants :: 100%|██████████| 25/25 [00:00<00:00, 257.73it/s]\n",
      "replaying log with TBR, completed variants :: 100%|██████████| 43/43 [00:00<00:00, 1178.69it/s]\n",
      "computing precision with alignments, completed variants :: 100%|██████████| 43/43 [00:00<00:00, 589.04it/s]\n"
     ]
    },
    {
     "data": {
      "text/plain": [
       "'Running: lp_2012.xes 2/12'"
      ]
     },
     "metadata": {},
     "output_type": "display_data"
    },
    {
     "data": {
      "text/plain": [
       "'i: 0 ratio: 0 sup: 0.2'"
      ]
     },
     "metadata": {},
     "output_type": "display_data"
    },
    {
     "name": "stderr",
     "output_type": "stream",
     "text": [
      "parsing log, completed traces :: 100%|██████████| 10556/10556 [00:01<00:00, 7423.27it/s]\n"
     ]
    },
    {
     "name": "stdout",
     "output_type": "stream",
     "text": [
      "Running IM\n"
     ]
    },
    {
     "name": "stderr",
     "output_type": "stream",
     "text": [
      "replaying log with TBR, completed variants :: 100%|██████████| 25/25 [00:00<00:00, 1190.51it/s]\n",
      "aligning log, completed variants :: 100%|██████████| 25/25 [00:00<00:00, 270.31it/s]\n",
      "c:\\Users\\Marko\\AppData\\Local\\Programs\\Python\\Python38\\lib\\site-packages\\pm4py\\utils.py:486: UserWarning: the EventLog class has been deprecated and will be removed in a future release.\n",
      "  warnings.warn(\"the EventLog class has been deprecated and will be removed in a future release.\")\n",
      "replaying log with TBR, completed variants :: 100%|██████████| 43/43 [00:00<00:00, 1264.60it/s]\n",
      "computing precision with alignments, completed variants :: 100%|██████████| 43/43 [00:00<00:00, 722.45it/s]\n"
     ]
    },
    {
     "name": "stdout",
     "output_type": "stream",
     "text": [
      "Running IMF\n"
     ]
    },
    {
     "name": "stderr",
     "output_type": "stream",
     "text": [
      "replaying log with TBR, completed variants :: 100%|██████████| 25/25 [00:00<00:00, 1471.89it/s]\n",
      "aligning log, completed variants :: 100%|██████████| 25/25 [00:00<00:00, 333.34it/s]\n",
      "replaying log with TBR, completed variants :: 100%|██████████| 43/43 [00:00<00:00, 1433.24it/s]\n",
      "computing precision with alignments, completed variants :: 100%|██████████| 43/43 [00:00<00:00, 716.65it/s]\n"
     ]
    },
    {
     "name": "stdout",
     "output_type": "stream",
     "text": [
      "Running HM\n"
     ]
    },
    {
     "name": "stderr",
     "output_type": "stream",
     "text": [
      "replaying log with TBR, completed variants :: 100%|██████████| 25/25 [00:00<00:00, 1249.96it/s]\n",
      "aligning log, completed variants :: 100%|██████████| 25/25 [00:00<00:00, 226.39it/s]\n",
      "replaying log with TBR, completed variants :: 100%|██████████| 43/43 [00:00<00:00, 2204.91it/s]\n",
      "computing precision with alignments, completed variants :: 100%|██████████| 43/43 [00:00<00:00, 788.99it/s]\n"
     ]
    },
    {
     "name": "stdout",
     "output_type": "stream",
     "text": [
      "Running IMbi_ali\n"
     ]
    },
    {
     "name": "stderr",
     "output_type": "stream",
     "text": [
      "replaying log with TBR, completed variants :: 100%|██████████| 25/25 [00:00<00:00, 1162.78it/s]\n",
      "aligning log, completed variants :: 100%|██████████| 25/25 [00:00<00:00, 284.09it/s]\n",
      "replaying log with TBR, completed variants :: 100%|██████████| 43/43 [00:00<00:00, 1116.91it/s]\n",
      "computing precision with alignments, completed variants :: 100%|██████████| 43/43 [00:00<00:00, 480.44it/s]\n"
     ]
    },
    {
     "name": "stdout",
     "output_type": "stream",
     "text": [
      "Running IMbi_mar\n"
     ]
    },
    {
     "name": "stderr",
     "output_type": "stream",
     "text": [
      "replaying log with TBR, completed variants :: 100%|██████████| 25/25 [00:00<00:00, 999.99it/s]\n",
      "aligning log, completed variants :: 100%|██████████| 25/25 [00:00<00:00, 138.50it/s]\n",
      "replaying log with TBR, completed variants :: 100%|██████████| 43/43 [00:00<00:00, 2205.15it/s]\n",
      "computing precision with alignments, completed variants :: 100%|██████████| 43/43 [00:00<00:00, 834.98it/s]\n"
     ]
    },
    {
     "data": {
      "text/plain": [
       "'Running: lp_2012.xes 3/12'"
      ]
     },
     "metadata": {},
     "output_type": "display_data"
    },
    {
     "data": {
      "text/plain": [
       "'i: 0 ratio: 0 sup: 0.3'"
      ]
     },
     "metadata": {},
     "output_type": "display_data"
    },
    {
     "name": "stderr",
     "output_type": "stream",
     "text": [
      "parsing log, completed traces :: 100%|██████████| 10556/10556 [00:01<00:00, 7910.08it/s]\n"
     ]
    },
    {
     "name": "stdout",
     "output_type": "stream",
     "text": [
      "Running IM\n"
     ]
    },
    {
     "name": "stderr",
     "output_type": "stream",
     "text": [
      "replaying log with TBR, completed variants :: 100%|██████████| 25/25 [00:00<00:00, 1388.79it/s]\n",
      "aligning log, completed variants :: 100%|██████████| 25/25 [00:00<00:00, 359.70it/s]\n",
      "c:\\Users\\Marko\\AppData\\Local\\Programs\\Python\\Python38\\lib\\site-packages\\pm4py\\utils.py:486: UserWarning: the EventLog class has been deprecated and will be removed in a future release.\n",
      "  warnings.warn(\"the EventLog class has been deprecated and will be removed in a future release.\")\n",
      "replaying log with TBR, completed variants :: 100%|██████████| 43/43 [00:00<00:00, 1508.77it/s]\n",
      "computing precision with alignments, completed variants :: 100%|██████████| 43/43 [00:00<00:00, 722.67it/s]\n"
     ]
    },
    {
     "name": "stdout",
     "output_type": "stream",
     "text": [
      "Running IMF\n"
     ]
    },
    {
     "name": "stderr",
     "output_type": "stream",
     "text": [
      "replaying log with TBR, completed variants :: 100%|██████████| 25/25 [00:00<00:00, 1515.15it/s]\n",
      "aligning log, completed variants :: 100%|██████████| 25/25 [00:00<00:00, 387.59it/s]\n",
      "replaying log with TBR, completed variants :: 100%|██████████| 43/43 [00:00<00:00, 1622.50it/s]\n",
      "computing precision with alignments, completed variants :: 100%|██████████| 43/43 [00:00<00:00, 735.02it/s]\n"
     ]
    },
    {
     "name": "stdout",
     "output_type": "stream",
     "text": [
      "Running HM\n"
     ]
    },
    {
     "name": "stderr",
     "output_type": "stream",
     "text": [
      "replaying log with TBR, completed variants :: 100%|██████████| 25/25 [00:00<00:00, 1250.05it/s]\n",
      "aligning log, completed variants :: 100%|██████████| 25/25 [00:00<00:00, 314.47it/s]\n",
      "replaying log with TBR, completed variants :: 100%|██████████| 43/43 [00:00<00:00, 2388.90it/s]\n",
      "computing precision with alignments, completed variants :: 100%|██████████| 43/43 [00:00<00:00, 246.42it/s]\n"
     ]
    },
    {
     "name": "stdout",
     "output_type": "stream",
     "text": [
      "Running IMbi_ali\n"
     ]
    },
    {
     "name": "stderr",
     "output_type": "stream",
     "text": [
      "replaying log with TBR, completed variants :: 100%|██████████| 25/25 [00:00<00:00, 1282.02it/s]\n",
      "aligning log, completed variants :: 100%|██████████| 25/25 [00:00<00:00, 199.20it/s]\n",
      "replaying log with TBR, completed variants :: 100%|██████████| 43/43 [00:00<00:00, 2205.10it/s]\n",
      "computing precision with alignments, completed variants :: 100%|██████████| 43/43 [00:00<00:00, 754.40it/s]\n"
     ]
    },
    {
     "name": "stdout",
     "output_type": "stream",
     "text": [
      "Running IMbi_mar\n"
     ]
    },
    {
     "name": "stderr",
     "output_type": "stream",
     "text": [
      "replaying log with TBR, completed variants :: 100%|██████████| 25/25 [00:00<00:00, 1388.92it/s]\n",
      "aligning log, completed variants :: 100%|██████████| 25/25 [00:00<00:00, 225.23it/s]\n",
      "replaying log with TBR, completed variants :: 100%|██████████| 43/43 [00:00<00:00, 2388.62it/s]\n",
      "computing precision with alignments, completed variants :: 100%|██████████| 43/43 [00:00<00:00, 905.32it/s]\n"
     ]
    },
    {
     "data": {
      "text/plain": [
       "'Running: lp_2012.xes 4/12'"
      ]
     },
     "metadata": {},
     "output_type": "display_data"
    },
    {
     "data": {
      "text/plain": [
       "'i: 0 ratio: 0 sup: 0.5'"
      ]
     },
     "metadata": {},
     "output_type": "display_data"
    },
    {
     "name": "stderr",
     "output_type": "stream",
     "text": [
      "parsing log, completed traces :: 100%|██████████| 10556/10556 [00:01<00:00, 7640.98it/s]\n"
     ]
    },
    {
     "name": "stdout",
     "output_type": "stream",
     "text": [
      "Running IM\n"
     ]
    },
    {
     "name": "stderr",
     "output_type": "stream",
     "text": [
      "replaying log with TBR, completed variants :: 100%|██████████| 25/25 [00:00<00:00, 1268.22it/s]\n",
      "aligning log, completed variants :: 100%|██████████| 25/25 [00:00<00:00, 362.31it/s]\n",
      "c:\\Users\\Marko\\AppData\\Local\\Programs\\Python\\Python38\\lib\\site-packages\\pm4py\\utils.py:486: UserWarning: the EventLog class has been deprecated and will be removed in a future release.\n",
      "  warnings.warn(\"the EventLog class has been deprecated and will be removed in a future release.\")\n",
      "replaying log with TBR, completed variants :: 100%|██████████| 43/43 [00:00<00:00, 1563.74it/s]\n",
      "computing precision with alignments, completed variants :: 100%|██████████| 43/43 [00:00<00:00, 491.43it/s]\n"
     ]
    },
    {
     "name": "stdout",
     "output_type": "stream",
     "text": [
      "Running IMF\n"
     ]
    },
    {
     "name": "stderr",
     "output_type": "stream",
     "text": [
      "replaying log with TBR, completed variants :: 100%|██████████| 25/25 [00:00<00:00, 1562.57it/s]\n",
      "aligning log, completed variants :: 100%|██████████| 25/25 [00:00<00:00, 347.23it/s]\n",
      "replaying log with TBR, completed variants :: 100%|██████████| 43/43 [00:00<00:00, 1264.70it/s]\n",
      "computing precision with alignments, completed variants :: 100%|██████████| 43/43 [00:00<00:00, 646.62it/s]\n"
     ]
    },
    {
     "name": "stdout",
     "output_type": "stream",
     "text": [
      "Running HM\n"
     ]
    },
    {
     "name": "stderr",
     "output_type": "stream",
     "text": [
      "replaying log with TBR, completed variants :: 100%|██████████| 25/25 [00:00<00:00, 1315.90it/s]\n",
      "aligning log, completed variants :: 100%|██████████| 25/25 [00:00<00:00, 280.91it/s]\n",
      "replaying log with TBR, completed variants :: 100%|██████████| 43/43 [00:00<00:00, 2457.25it/s]\n",
      "computing precision with alignments, completed variants :: 100%|██████████| 43/43 [00:00<00:00, 789.01it/s]\n"
     ]
    },
    {
     "name": "stdout",
     "output_type": "stream",
     "text": [
      "Running IMbi_ali\n"
     ]
    },
    {
     "name": "stderr",
     "output_type": "stream",
     "text": [
      "replaying log with TBR, completed variants :: 100%|██████████| 25/25 [00:00<00:00, 1136.36it/s]\n",
      "aligning log, completed variants :: 100%|██████████| 25/25 [00:00<00:00, 199.20it/s]\n",
      "replaying log with TBR, completed variants :: 100%|██████████| 43/43 [00:00<00:00, 2324.28it/s]\n",
      "computing precision with alignments, completed variants :: 100%|██████████| 43/43 [00:00<00:00, 826.97it/s]\n"
     ]
    },
    {
     "name": "stdout",
     "output_type": "stream",
     "text": [
      "Running IMbi_mar\n"
     ]
    },
    {
     "name": "stderr",
     "output_type": "stream",
     "text": [
      "replaying log with TBR, completed variants :: 100%|██████████| 25/25 [00:00<00:00, 1612.92it/s]\n",
      "aligning log, completed variants :: 100%|██████████| 25/25 [00:00<00:00, 367.66it/s]\n",
      "replaying log with TBR, completed variants :: 100%|██████████| 43/43 [00:00<00:00, 2965.29it/s]\n",
      "computing precision with alignments, completed variants :: 100%|██████████| 43/43 [00:00<00:00, 877.59it/s]\n"
     ]
    },
    {
     "data": {
      "text/plain": [
       "'Running: lp_2017.xes 5/12'"
      ]
     },
     "metadata": {},
     "output_type": "display_data"
    },
    {
     "data": {
      "text/plain": [
       "'i: 1 ratio: 0 sup: 0'"
      ]
     },
     "metadata": {},
     "output_type": "display_data"
    },
    {
     "name": "stderr",
     "output_type": "stream",
     "text": [
      "parsing log, completed traces :: 100%|██████████| 3000/3000 [00:01<00:00, 1610.31it/s]\n"
     ]
    },
    {
     "name": "stdout",
     "output_type": "stream",
     "text": [
      "Running IM\n"
     ]
    },
    {
     "name": "stderr",
     "output_type": "stream",
     "text": [
      "replaying log with TBR, completed variants :: 100%|██████████| 446/446 [00:00<00:00, 719.36it/s]\n",
      "aligning log, completed variants :: 100%|██████████| 446/446 [00:11<00:00, 37.22it/s]\n",
      "c:\\Users\\Marko\\AppData\\Local\\Programs\\Python\\Python38\\lib\\site-packages\\pm4py\\utils.py:486: UserWarning: the EventLog class has been deprecated and will be removed in a future release.\n",
      "  warnings.warn(\"the EventLog class has been deprecated and will be removed in a future release.\")\n",
      "replaying log with TBR, completed variants :: 100%|██████████| 1199/1199 [00:02<00:00, 539.24it/s]\n",
      "computing precision with alignments, completed variants :: 100%|██████████| 1199/1199 [00:14<00:00, 81.76it/s]\n"
     ]
    },
    {
     "name": "stdout",
     "output_type": "stream",
     "text": [
      "Running IMF\n"
     ]
    },
    {
     "name": "stderr",
     "output_type": "stream",
     "text": [
      "replaying log with TBR, completed variants :: 100%|██████████| 446/446 [00:00<00:00, 832.09it/s]\n",
      "aligning log, completed variants :: 100%|██████████| 446/446 [00:14<00:00, 30.92it/s]\n",
      "replaying log with TBR, completed variants :: 100%|██████████| 1199/1199 [00:00<00:00, 1466.66it/s]\n",
      "computing precision with alignments, completed variants :: 100%|██████████| 1199/1199 [00:03<00:00, 385.65it/s]\n"
     ]
    },
    {
     "name": "stdout",
     "output_type": "stream",
     "text": [
      "Running HM\n"
     ]
    },
    {
     "name": "stderr",
     "output_type": "stream",
     "text": [
      "replaying log with TBR, completed variants :: 100%|██████████| 446/446 [00:00<00:00, 806.51it/s]\n",
      "aligning log, completed variants :: 100%|██████████| 446/446 [00:06<00:00, 69.13it/s]\n",
      "replaying log with TBR, completed variants :: 100%|██████████| 1199/1199 [00:00<00:00, 2260.13it/s]\n",
      "computing precision with alignments, completed variants :: 100%|██████████| 1199/1199 [00:01<00:00, 612.05it/s]\n"
     ]
    },
    {
     "name": "stdout",
     "output_type": "stream",
     "text": [
      "Running IMbi_ali\n"
     ]
    },
    {
     "name": "stderr",
     "output_type": "stream",
     "text": [
      "replaying log with TBR, completed variants :: 100%|██████████| 446/446 [00:00<00:00, 587.23it/s]\n",
      "aligning log, completed variants :: 100%|██████████| 446/446 [00:20<00:00, 21.82it/s]\n",
      "replaying log with TBR, completed variants :: 100%|██████████| 1199/1199 [00:04<00:00, 280.30it/s]\n",
      "computing precision with alignments, completed variants :: 100%|██████████| 1199/1199 [00:17<00:00, 68.71it/s]\n"
     ]
    },
    {
     "name": "stdout",
     "output_type": "stream",
     "text": [
      "Running IMbi_mar\n"
     ]
    },
    {
     "name": "stderr",
     "output_type": "stream",
     "text": [
      "replaying log with TBR, completed variants :: 100%|██████████| 446/446 [00:00<00:00, 711.32it/s]\n",
      "aligning log, completed variants :: 100%|██████████| 446/446 [00:03<00:00, 113.99it/s]\n",
      "replaying log with TBR, completed variants :: 100%|██████████| 1199/1199 [00:01<00:00, 647.23it/s]\n",
      "computing precision with alignments, completed variants :: 100%|██████████| 1199/1199 [00:04<00:00, 297.41it/s]\n"
     ]
    },
    {
     "data": {
      "text/plain": [
       "'Running: lp_2017.xes 6/12'"
      ]
     },
     "metadata": {},
     "output_type": "display_data"
    },
    {
     "data": {
      "text/plain": [
       "'i: 1 ratio: 0 sup: 0.2'"
      ]
     },
     "metadata": {},
     "output_type": "display_data"
    },
    {
     "name": "stderr",
     "output_type": "stream",
     "text": [
      "parsing log, completed traces :: 100%|██████████| 3000/3000 [00:02<00:00, 1474.20it/s]\n"
     ]
    },
    {
     "name": "stdout",
     "output_type": "stream",
     "text": [
      "Running IM\n"
     ]
    },
    {
     "name": "stderr",
     "output_type": "stream",
     "text": [
      "replaying log with TBR, completed variants :: 100%|██████████| 446/446 [00:00<00:00, 638.97it/s]\n",
      "aligning log, completed variants :: 100%|██████████| 446/446 [00:13<00:00, 33.36it/s]\n",
      "c:\\Users\\Marko\\AppData\\Local\\Programs\\Python\\Python38\\lib\\site-packages\\pm4py\\utils.py:486: UserWarning: the EventLog class has been deprecated and will be removed in a future release.\n",
      "  warnings.warn(\"the EventLog class has been deprecated and will be removed in a future release.\")\n",
      "replaying log with TBR, completed variants :: 100%|██████████| 1199/1199 [00:02<00:00, 462.04it/s]\n",
      "computing precision with alignments, completed variants :: 100%|██████████| 1199/1199 [00:15<00:00, 76.50it/s]\n"
     ]
    },
    {
     "name": "stdout",
     "output_type": "stream",
     "text": [
      "Running IMF\n"
     ]
    },
    {
     "name": "stderr",
     "output_type": "stream",
     "text": [
      "replaying log with TBR, completed variants :: 100%|██████████| 446/446 [00:00<00:00, 738.41it/s]\n",
      "aligning log, completed variants :: 100%|██████████| 446/446 [00:15<00:00, 29.48it/s]\n",
      "replaying log with TBR, completed variants :: 100%|██████████| 1199/1199 [00:00<00:00, 1397.43it/s]\n",
      "computing precision with alignments, completed variants :: 100%|██████████| 1199/1199 [00:03<00:00, 316.32it/s]\n"
     ]
    },
    {
     "name": "stdout",
     "output_type": "stream",
     "text": [
      "Running HM\n"
     ]
    },
    {
     "name": "stderr",
     "output_type": "stream",
     "text": [
      "replaying log with TBR, completed variants :: 100%|██████████| 446/446 [00:00<00:00, 725.20it/s]\n",
      "aligning log, completed variants :: 100%|██████████| 446/446 [00:06<00:00, 67.42it/s]\n",
      "replaying log with TBR, completed variants :: 100%|██████████| 1199/1199 [00:00<00:00, 2154.54it/s]\n",
      "computing precision with alignments, completed variants :: 100%|██████████| 1199/1199 [00:01<00:00, 602.97it/s]\n"
     ]
    },
    {
     "name": "stdout",
     "output_type": "stream",
     "text": [
      "Running IMbi_ali\n"
     ]
    },
    {
     "name": "stderr",
     "output_type": "stream",
     "text": [
      "replaying log with TBR, completed variants :: 100%|██████████| 446/446 [00:00<00:00, 949.95it/s] \n",
      "aligning log, completed variants :: 100%|██████████| 446/446 [00:06<00:00, 68.85it/s]\n",
      "replaying log with TBR, completed variants :: 100%|██████████| 1199/1199 [00:00<00:00, 1840.37it/s]\n",
      "computing precision with alignments, completed variants :: 100%|██████████| 1199/1199 [00:02<00:00, 576.03it/s]\n"
     ]
    },
    {
     "name": "stdout",
     "output_type": "stream",
     "text": [
      "Running IMbi_mar\n"
     ]
    },
    {
     "name": "stderr",
     "output_type": "stream",
     "text": [
      "replaying log with TBR, completed variants :: 100%|██████████| 446/446 [00:00<00:00, 1137.76it/s]\n",
      "aligning log, completed variants :: 100%|██████████| 446/446 [00:02<00:00, 173.57it/s]\n",
      "replaying log with TBR, completed variants :: 100%|██████████| 1199/1199 [00:00<00:00, 2479.84it/s]\n",
      "computing precision with alignments, completed variants :: 100%|██████████| 1199/1199 [00:01<00:00, 699.74it/s]\n"
     ]
    },
    {
     "data": {
      "text/plain": [
       "'Running: lp_2017.xes 7/12'"
      ]
     },
     "metadata": {},
     "output_type": "display_data"
    },
    {
     "data": {
      "text/plain": [
       "'i: 1 ratio: 0 sup: 0.3'"
      ]
     },
     "metadata": {},
     "output_type": "display_data"
    },
    {
     "name": "stderr",
     "output_type": "stream",
     "text": [
      "parsing log, completed traces :: 100%|██████████| 3000/3000 [00:02<00:00, 1373.00it/s]\n"
     ]
    },
    {
     "name": "stdout",
     "output_type": "stream",
     "text": [
      "Running IM\n"
     ]
    },
    {
     "name": "stderr",
     "output_type": "stream",
     "text": [
      "replaying log with TBR, completed variants :: 100%|██████████| 446/446 [00:00<00:00, 666.66it/s]\n",
      "aligning log, completed variants :: 100%|██████████| 446/446 [00:12<00:00, 36.52it/s]\n",
      "c:\\Users\\Marko\\AppData\\Local\\Programs\\Python\\Python38\\lib\\site-packages\\pm4py\\utils.py:486: UserWarning: the EventLog class has been deprecated and will be removed in a future release.\n",
      "  warnings.warn(\"the EventLog class has been deprecated and will be removed in a future release.\")\n",
      "replaying log with TBR, completed variants :: 100%|██████████| 1199/1199 [00:02<00:00, 508.81it/s]\n",
      "computing precision with alignments, completed variants :: 100%|██████████| 1199/1199 [00:15<00:00, 76.45it/s]\n"
     ]
    },
    {
     "name": "stdout",
     "output_type": "stream",
     "text": [
      "Running IMF\n"
     ]
    },
    {
     "name": "stderr",
     "output_type": "stream",
     "text": [
      "replaying log with TBR, completed variants :: 100%|██████████| 446/446 [00:00<00:00, 794.30it/s]\n",
      "aligning log, completed variants :: 100%|██████████| 446/446 [00:15<00:00, 28.91it/s]\n",
      "replaying log with TBR, completed variants :: 100%|██████████| 1199/1199 [00:00<00:00, 1382.14it/s]\n",
      "computing precision with alignments, completed variants :: 100%|██████████| 1199/1199 [00:03<00:00, 353.32it/s]\n"
     ]
    },
    {
     "name": "stdout",
     "output_type": "stream",
     "text": [
      "Running HM\n"
     ]
    },
    {
     "name": "stderr",
     "output_type": "stream",
     "text": [
      "replaying log with TBR, completed variants :: 100%|██████████| 446/446 [00:00<00:00, 716.47it/s]\n",
      "aligning log, completed variants :: 100%|██████████| 446/446 [00:06<00:00, 67.15it/s]\n",
      "replaying log with TBR, completed variants :: 100%|██████████| 1199/1199 [00:00<00:00, 1676.93it/s]\n",
      "computing precision with alignments, completed variants :: 100%|██████████| 1199/1199 [00:01<00:00, 620.12it/s]\n"
     ]
    },
    {
     "name": "stdout",
     "output_type": "stream",
     "text": [
      "Running IMbi_ali\n"
     ]
    },
    {
     "name": "stderr",
     "output_type": "stream",
     "text": [
      "replaying log with TBR, completed variants :: 100%|██████████| 446/446 [00:00<00:00, 1143.59it/s]\n",
      "aligning log, completed variants :: 100%|██████████| 446/446 [00:04<00:00, 93.35it/s] \n",
      "replaying log with TBR, completed variants :: 100%|██████████| 1199/1199 [00:00<00:00, 2575.73it/s]\n",
      "computing precision with alignments, completed variants :: 100%|██████████| 1199/1199 [00:01<00:00, 659.33it/s]\n"
     ]
    },
    {
     "name": "stdout",
     "output_type": "stream",
     "text": [
      "Running IMbi_mar\n"
     ]
    },
    {
     "name": "stderr",
     "output_type": "stream",
     "text": [
      "replaying log with TBR, completed variants :: 100%|██████████| 446/446 [00:00<00:00, 1164.48it/s]\n",
      "aligning log, completed variants :: 100%|██████████| 446/446 [00:02<00:00, 185.56it/s]\n",
      "replaying log with TBR, completed variants :: 100%|██████████| 1199/1199 [00:00<00:00, 2703.51it/s]\n",
      "computing precision with alignments, completed variants :: 100%|██████████| 1199/1199 [00:01<00:00, 792.20it/s]\n"
     ]
    },
    {
     "data": {
      "text/plain": [
       "'Running: lp_2017.xes 8/12'"
      ]
     },
     "metadata": {},
     "output_type": "display_data"
    },
    {
     "data": {
      "text/plain": [
       "'i: 1 ratio: 0 sup: 0.5'"
      ]
     },
     "metadata": {},
     "output_type": "display_data"
    },
    {
     "name": "stderr",
     "output_type": "stream",
     "text": [
      "parsing log, completed traces :: 100%|██████████| 3000/3000 [00:02<00:00, 1404.50it/s]\n"
     ]
    },
    {
     "name": "stdout",
     "output_type": "stream",
     "text": [
      "Running IM\n"
     ]
    },
    {
     "name": "stderr",
     "output_type": "stream",
     "text": [
      "replaying log with TBR, completed variants :: 100%|██████████| 446/446 [00:00<00:00, 652.05it/s]\n",
      "aligning log, completed variants :: 100%|██████████| 446/446 [00:12<00:00, 35.57it/s]\n",
      "c:\\Users\\Marko\\AppData\\Local\\Programs\\Python\\Python38\\lib\\site-packages\\pm4py\\utils.py:486: UserWarning: the EventLog class has been deprecated and will be removed in a future release.\n",
      "  warnings.warn(\"the EventLog class has been deprecated and will be removed in a future release.\")\n",
      "replaying log with TBR, completed variants :: 100%|██████████| 1199/1199 [00:02<00:00, 480.85it/s]\n",
      "computing precision with alignments, completed variants :: 100%|██████████| 1199/1199 [00:15<00:00, 79.51it/s]\n"
     ]
    },
    {
     "name": "stdout",
     "output_type": "stream",
     "text": [
      "Running IMF\n"
     ]
    },
    {
     "name": "stderr",
     "output_type": "stream",
     "text": [
      "replaying log with TBR, completed variants :: 100%|██████████| 446/446 [00:00<00:00, 781.09it/s]\n",
      "aligning log, completed variants :: 100%|██████████| 446/446 [00:15<00:00, 28.52it/s]\n",
      "replaying log with TBR, completed variants :: 100%|██████████| 1199/1199 [00:00<00:00, 1347.20it/s]\n",
      "computing precision with alignments, completed variants :: 100%|██████████| 1199/1199 [00:03<00:00, 347.39it/s]\n"
     ]
    },
    {
     "name": "stdout",
     "output_type": "stream",
     "text": [
      "Running HM\n"
     ]
    },
    {
     "name": "stderr",
     "output_type": "stream",
     "text": [
      "replaying log with TBR, completed variants :: 100%|██████████| 446/446 [00:00<00:00, 748.95it/s]\n",
      "aligning log, completed variants :: 100%|██████████| 446/446 [00:06<00:00, 69.99it/s]\n",
      "replaying log with TBR, completed variants :: 100%|██████████| 1199/1199 [00:00<00:00, 2204.03it/s]\n",
      "computing precision with alignments, completed variants :: 100%|██████████| 1199/1199 [00:02<00:00, 585.45it/s]\n"
     ]
    },
    {
     "name": "stdout",
     "output_type": "stream",
     "text": [
      "Running IMbi_ali\n"
     ]
    },
    {
     "name": "stderr",
     "output_type": "stream",
     "text": [
      "replaying log with TBR, completed variants :: 100%|██████████| 446/446 [00:00<00:00, 1050.65it/s]\n",
      "aligning log, completed variants :: 100%|██████████| 446/446 [00:04<00:00, 100.35it/s]\n",
      "replaying log with TBR, completed variants :: 100%|██████████| 1199/1199 [00:00<00:00, 2459.49it/s]\n",
      "computing precision with alignments, completed variants :: 100%|██████████| 1199/1199 [00:01<00:00, 661.33it/s]\n"
     ]
    },
    {
     "name": "stdout",
     "output_type": "stream",
     "text": [
      "Running IMbi_mar\n"
     ]
    },
    {
     "name": "stderr",
     "output_type": "stream",
     "text": [
      "replaying log with TBR, completed variants :: 100%|██████████| 446/446 [00:00<00:00, 1323.44it/s]\n",
      "aligning log, completed variants :: 100%|██████████| 446/446 [00:03<00:00, 145.70it/s]\n",
      "replaying log with TBR, completed variants :: 100%|██████████| 1199/1199 [00:00<00:00, 3106.22it/s]\n",
      "computing precision with alignments, completed variants :: 100%|██████████| 1199/1199 [00:01<00:00, 788.82it/s]\n"
     ]
    },
    {
     "data": {
      "text/plain": [
       "'Running: lp_2018.xes 9/12'"
      ]
     },
     "metadata": {},
     "output_type": "display_data"
    },
    {
     "data": {
      "text/plain": [
       "'i: 2 ratio: 0 sup: 0'"
      ]
     },
     "metadata": {},
     "output_type": "display_data"
    },
    {
     "name": "stderr",
     "output_type": "stream",
     "text": [
      "parsing log, completed traces :: 100%|██████████| 3000/3000 [00:01<00:00, 2159.83it/s]\n"
     ]
    },
    {
     "name": "stdout",
     "output_type": "stream",
     "text": [
      "Running IM\n"
     ]
    },
    {
     "name": "stderr",
     "output_type": "stream",
     "text": [
      "replaying log with TBR, completed variants :: 100%|██████████| 197/197 [00:00<00:00, 459.75it/s]\n",
      "aligning log, completed variants :: 100%|██████████| 197/197 [00:05<00:00, 35.37it/s]\n",
      "c:\\Users\\Marko\\AppData\\Local\\Programs\\Python\\Python38\\lib\\site-packages\\pm4py\\utils.py:486: UserWarning: the EventLog class has been deprecated and will be removed in a future release.\n",
      "  warnings.warn(\"the EventLog class has been deprecated and will be removed in a future release.\")\n",
      "replaying log with TBR, completed variants :: 100%|██████████| 1326/1326 [00:03<00:00, 430.94it/s]\n",
      "computing precision with alignments, completed variants :: 100%|██████████| 1326/1326 [00:19<00:00, 69.74it/s]\n"
     ]
    },
    {
     "name": "stdout",
     "output_type": "stream",
     "text": [
      "Running IMF\n"
     ]
    },
    {
     "name": "stderr",
     "output_type": "stream",
     "text": [
      "replaying log with TBR, completed variants :: 100%|██████████| 197/197 [00:00<00:00, 544.95it/s]\n",
      "aligning log, completed variants :: 100%|██████████| 197/197 [00:02<00:00, 72.20it/s]\n",
      "replaying log with TBR, completed variants :: 100%|██████████| 1326/1326 [00:02<00:00, 563.30it/s]\n",
      "computing precision with alignments, completed variants :: 100%|██████████| 1326/1326 [00:06<00:00, 201.46it/s]\n"
     ]
    },
    {
     "name": "stdout",
     "output_type": "stream",
     "text": [
      "Running HM\n"
     ]
    },
    {
     "name": "stderr",
     "output_type": "stream",
     "text": [
      "replaying log with TBR, completed variants :: 100%|██████████| 197/197 [00:00<00:00, 685.22it/s]\n",
      "replaying log with TBR, completed variants :: 100%|██████████| 1326/1326 [00:01<00:00, 1013.37it/s]\n"
     ]
    },
    {
     "name": "stdout",
     "output_type": "stream",
     "text": [
      "Running IMbi_ali\n"
     ]
    },
    {
     "name": "stderr",
     "output_type": "stream",
     "text": [
      "replaying log with TBR, completed variants :: 100%|██████████| 197/197 [00:00<00:00, 487.62it/s]\n",
      "aligning log, completed variants :: 100%|██████████| 197/197 [00:03<00:00, 50.03it/s]\n",
      "replaying log with TBR, completed variants :: 100%|██████████| 1326/1326 [00:02<00:00, 581.07it/s]\n",
      "computing precision with alignments, completed variants :: 100%|██████████| 1326/1326 [00:04<00:00, 320.79it/s]\n"
     ]
    },
    {
     "name": "stdout",
     "output_type": "stream",
     "text": [
      "Running IMbi_mar\n"
     ]
    },
    {
     "name": "stderr",
     "output_type": "stream",
     "text": [
      "replaying log with TBR, completed variants :: 100%|██████████| 197/197 [00:00<00:00, 543.45it/s]\n",
      "aligning log, completed variants :: 100%|██████████| 197/197 [00:02<00:00, 75.54it/s]\n",
      "replaying log with TBR, completed variants :: 100%|██████████| 1326/1326 [00:02<00:00, 642.91it/s]\n",
      "computing precision with alignments, completed variants :: 100%|██████████| 1326/1326 [00:03<00:00, 344.82it/s]\n"
     ]
    },
    {
     "data": {
      "text/plain": [
       "'Running: lp_2018.xes 10/12'"
      ]
     },
     "metadata": {},
     "output_type": "display_data"
    },
    {
     "data": {
      "text/plain": [
       "'i: 2 ratio: 0 sup: 0.2'"
      ]
     },
     "metadata": {},
     "output_type": "display_data"
    },
    {
     "name": "stderr",
     "output_type": "stream",
     "text": [
      "parsing log, completed traces :: 100%|██████████| 3000/3000 [00:01<00:00, 1815.98it/s]\n"
     ]
    },
    {
     "name": "stdout",
     "output_type": "stream",
     "text": [
      "Running IM\n"
     ]
    },
    {
     "name": "stderr",
     "output_type": "stream",
     "text": [
      "replaying log with TBR, completed variants :: 100%|██████████| 197/197 [00:00<00:00, 460.28it/s]\n",
      "aligning log, completed variants :: 100%|██████████| 197/197 [00:05<00:00, 35.57it/s]\n",
      "c:\\Users\\Marko\\AppData\\Local\\Programs\\Python\\Python38\\lib\\site-packages\\pm4py\\utils.py:486: UserWarning: the EventLog class has been deprecated and will be removed in a future release.\n",
      "  warnings.warn(\"the EventLog class has been deprecated and will be removed in a future release.\")\n",
      "replaying log with TBR, completed variants :: 100%|██████████| 1326/1326 [00:02<00:00, 463.80it/s]\n",
      "computing precision with alignments, completed variants :: 100%|██████████| 1326/1326 [00:18<00:00, 70.21it/s]\n"
     ]
    },
    {
     "name": "stdout",
     "output_type": "stream",
     "text": [
      "Running IMF\n"
     ]
    },
    {
     "name": "stderr",
     "output_type": "stream",
     "text": [
      "replaying log with TBR, completed variants :: 100%|██████████| 197/197 [00:00<00:00, 571.01it/s]\n",
      "aligning log, completed variants :: 100%|██████████| 197/197 [00:02<00:00, 70.48it/s]\n",
      "replaying log with TBR, completed variants :: 100%|██████████| 1326/1326 [00:02<00:00, 556.21it/s]\n",
      "computing precision with alignments, completed variants :: 100%|██████████| 1326/1326 [00:05<00:00, 221.66it/s]\n"
     ]
    },
    {
     "name": "stdout",
     "output_type": "stream",
     "text": [
      "Running HM\n"
     ]
    },
    {
     "name": "stderr",
     "output_type": "stream",
     "text": [
      "replaying log with TBR, completed variants :: 100%|██████████| 197/197 [00:00<00:00, 711.19it/s]\n",
      "replaying log with TBR, completed variants :: 100%|██████████| 1326/1326 [00:01<00:00, 1010.67it/s]\n"
     ]
    },
    {
     "name": "stdout",
     "output_type": "stream",
     "text": [
      "Running IMbi_ali\n"
     ]
    },
    {
     "name": "stderr",
     "output_type": "stream",
     "text": [
      "replaying log with TBR, completed variants :: 100%|██████████| 197/197 [00:00<00:00, 791.17it/s]\n",
      "aligning log, completed variants :: 100%|██████████| 197/197 [00:02<00:00, 93.03it/s] \n",
      "replaying log with TBR, completed variants :: 100%|██████████| 1326/1326 [00:01<00:00, 938.76it/s]\n",
      "computing precision with alignments, completed variants :: 100%|██████████| 1326/1326 [00:03<00:00, 416.33it/s]\n"
     ]
    },
    {
     "name": "stdout",
     "output_type": "stream",
     "text": [
      "Running IMbi_mar\n"
     ]
    },
    {
     "name": "stderr",
     "output_type": "stream",
     "text": [
      "replaying log with TBR, completed variants :: 100%|██████████| 197/197 [00:00<00:00, 867.84it/s] \n",
      "aligning log, completed variants :: 100%|██████████| 197/197 [00:01<00:00, 113.84it/s]\n",
      "replaying log with TBR, completed variants :: 100%|██████████| 1326/1326 [00:01<00:00, 1199.46it/s]\n",
      "computing precision with alignments, completed variants :: 100%|██████████| 1326/1326 [00:02<00:00, 456.38it/s]\n"
     ]
    },
    {
     "data": {
      "text/plain": [
       "'Running: lp_2018.xes 11/12'"
      ]
     },
     "metadata": {},
     "output_type": "display_data"
    },
    {
     "data": {
      "text/plain": [
       "'i: 2 ratio: 0 sup: 0.3'"
      ]
     },
     "metadata": {},
     "output_type": "display_data"
    },
    {
     "name": "stderr",
     "output_type": "stream",
     "text": [
      "parsing log, completed traces :: 100%|██████████| 3000/3000 [00:01<00:00, 2472.19it/s]\n"
     ]
    },
    {
     "name": "stdout",
     "output_type": "stream",
     "text": [
      "Running IM\n"
     ]
    },
    {
     "name": "stderr",
     "output_type": "stream",
     "text": [
      "replaying log with TBR, completed variants :: 100%|██████████| 197/197 [00:00<00:00, 456.02it/s]\n",
      "aligning log, completed variants :: 100%|██████████| 197/197 [00:05<00:00, 34.46it/s]\n",
      "c:\\Users\\Marko\\AppData\\Local\\Programs\\Python\\Python38\\lib\\site-packages\\pm4py\\utils.py:486: UserWarning: the EventLog class has been deprecated and will be removed in a future release.\n",
      "  warnings.warn(\"the EventLog class has been deprecated and will be removed in a future release.\")\n",
      "replaying log with TBR, completed variants :: 100%|██████████| 1326/1326 [00:02<00:00, 444.89it/s]\n",
      "computing precision with alignments, completed variants :: 100%|██████████| 1326/1326 [00:19<00:00, 69.63it/s]\n"
     ]
    },
    {
     "name": "stdout",
     "output_type": "stream",
     "text": [
      "Running IMF\n"
     ]
    },
    {
     "name": "stderr",
     "output_type": "stream",
     "text": [
      "replaying log with TBR, completed variants :: 100%|██████████| 197/197 [00:00<00:00, 539.73it/s]\n",
      "aligning log, completed variants :: 100%|██████████| 197/197 [00:02<00:00, 71.82it/s]\n",
      "replaying log with TBR, completed variants :: 100%|██████████| 1326/1326 [00:02<00:00, 581.45it/s]\n",
      "computing precision with alignments, completed variants :: 100%|██████████| 1326/1326 [00:06<00:00, 200.59it/s]\n"
     ]
    },
    {
     "name": "stdout",
     "output_type": "stream",
     "text": [
      "Running HM\n"
     ]
    },
    {
     "name": "stderr",
     "output_type": "stream",
     "text": [
      "replaying log with TBR, completed variants :: 100%|██████████| 197/197 [00:00<00:00, 713.77it/s]\n",
      "replaying log with TBR, completed variants :: 100%|██████████| 1326/1326 [00:01<00:00, 974.64it/s]\n"
     ]
    },
    {
     "name": "stdout",
     "output_type": "stream",
     "text": [
      "Running IMbi_ali\n"
     ]
    },
    {
     "name": "stderr",
     "output_type": "stream",
     "text": [
      "replaying log with TBR, completed variants :: 100%|██████████| 197/197 [00:00<00:00, 920.57it/s] \n",
      "aligning log, completed variants :: 100%|██████████| 197/197 [00:01<00:00, 116.02it/s]\n",
      "replaying log with TBR, completed variants :: 100%|██████████| 1326/1326 [00:00<00:00, 2882.62it/s]\n",
      "computing precision with alignments, completed variants :: 100%|██████████| 1326/1326 [00:01<00:00, 715.02it/s]\n"
     ]
    },
    {
     "name": "stdout",
     "output_type": "stream",
     "text": [
      "Running IMbi_mar\n"
     ]
    },
    {
     "name": "stderr",
     "output_type": "stream",
     "text": [
      "replaying log with TBR, completed variants :: 100%|██████████| 197/197 [00:00<00:00, 1018.08it/s]\n",
      "aligning log, completed variants :: 100%|██████████| 197/197 [00:01<00:00, 121.68it/s]\n",
      "replaying log with TBR, completed variants :: 100%|██████████| 1326/1326 [00:00<00:00, 3282.18it/s]\n",
      "computing precision with alignments, completed variants :: 100%|██████████| 1326/1326 [00:01<00:00, 744.74it/s]\n"
     ]
    },
    {
     "data": {
      "text/plain": [
       "'Running: lp_2018.xes 12/12'"
      ]
     },
     "metadata": {},
     "output_type": "display_data"
    },
    {
     "data": {
      "text/plain": [
       "'i: 2 ratio: 0 sup: 0.5'"
      ]
     },
     "metadata": {},
     "output_type": "display_data"
    },
    {
     "name": "stderr",
     "output_type": "stream",
     "text": [
      "parsing log, completed traces :: 100%|██████████| 3000/3000 [00:01<00:00, 2570.69it/s]\n"
     ]
    },
    {
     "name": "stdout",
     "output_type": "stream",
     "text": [
      "Running IM\n"
     ]
    },
    {
     "name": "stderr",
     "output_type": "stream",
     "text": [
      "replaying log with TBR, completed variants :: 100%|██████████| 197/197 [00:00<00:00, 472.42it/s]\n",
      "aligning log, completed variants :: 100%|██████████| 197/197 [00:05<00:00, 35.27it/s]\n",
      "c:\\Users\\Marko\\AppData\\Local\\Programs\\Python\\Python38\\lib\\site-packages\\pm4py\\utils.py:486: UserWarning: the EventLog class has been deprecated and will be removed in a future release.\n",
      "  warnings.warn(\"the EventLog class has been deprecated and will be removed in a future release.\")\n",
      "replaying log with TBR, completed variants :: 100%|██████████| 1326/1326 [00:02<00:00, 445.12it/s]\n",
      "computing precision with alignments, completed variants :: 100%|██████████| 1326/1326 [00:18<00:00, 71.56it/s]\n"
     ]
    },
    {
     "name": "stdout",
     "output_type": "stream",
     "text": [
      "Running IMF\n"
     ]
    },
    {
     "name": "stderr",
     "output_type": "stream",
     "text": [
      "replaying log with TBR, completed variants :: 100%|██████████| 197/197 [00:00<00:00, 557.29it/s]\n",
      "aligning log, completed variants :: 100%|██████████| 197/197 [00:03<00:00, 55.89it/s]\n",
      "replaying log with TBR, completed variants :: 100%|██████████| 1326/1326 [00:02<00:00, 528.92it/s]\n",
      "computing precision with alignments, completed variants :: 100%|██████████| 1326/1326 [00:06<00:00, 220.27it/s]\n"
     ]
    },
    {
     "name": "stdout",
     "output_type": "stream",
     "text": [
      "Running HM\n"
     ]
    },
    {
     "name": "stderr",
     "output_type": "stream",
     "text": [
      "replaying log with TBR, completed variants :: 100%|██████████| 197/197 [00:00<00:00, 720.30it/s]\n",
      "replaying log with TBR, completed variants :: 100%|██████████| 1326/1326 [00:01<00:00, 1000.00it/s]\n"
     ]
    },
    {
     "name": "stdout",
     "output_type": "stream",
     "text": [
      "Running IMbi_ali\n"
     ]
    },
    {
     "name": "stderr",
     "output_type": "stream",
     "text": [
      "replaying log with TBR, completed variants :: 100%|██████████| 197/197 [00:00<00:00, 1050.67it/s]\n",
      "aligning log, completed variants :: 100%|██████████| 197/197 [00:01<00:00, 127.59it/s]\n",
      "replaying log with TBR, completed variants :: 100%|██████████| 1326/1326 [00:00<00:00, 3400.00it/s]\n",
      "computing precision with alignments, completed variants :: 100%|██████████| 1326/1326 [00:02<00:00, 614.89it/s]\n"
     ]
    },
    {
     "name": "stdout",
     "output_type": "stream",
     "text": [
      "Running IMbi_mar\n"
     ]
    },
    {
     "name": "stderr",
     "output_type": "stream",
     "text": [
      "replaying log with TBR, completed variants :: 100%|██████████| 197/197 [00:00<00:00, 1042.34it/s]\n",
      "aligning log, completed variants :: 100%|██████████| 197/197 [00:01<00:00, 123.55it/s]\n",
      "replaying log with TBR, completed variants :: 100%|██████████| 1326/1326 [00:00<00:00, 3274.07it/s]\n",
      "computing precision with alignments, completed variants :: 100%|██████████| 1326/1326 [00:01<00:00, 665.66it/s]\n"
     ]
    }
   ],
   "source": [
    "runSingleLog = True\n",
    "\n",
    "ratios = [0]\n",
    "sups = [0, 0.2, 0.3, 0.5]\n",
    "\n",
    "runs = 1\n",
    "totalRuns = len(lpPaths) * len(ratios) * len(sups)\n",
    "if runSingleLog:\n",
    "  for i in range(0,len(lpPaths)):\n",
    "    for ratio in ratios:\n",
    "      for sup in sups:\n",
    "        display(\"Running: \" + lpPaths[i][0] + \" \" + str(runs) + \"/\" + str(totalRuns))\n",
    "        display(\"i: \" + str(i) + \" ratio: \" + str(ratio) + \" sup: \" + str(sup))\n",
    "        df, marImproved = applyMinerToLog(df, lpPaths[i][1], \"\", lpPaths[i][0],\"\", 0.2, 0.99, sup, ratio)\n",
    "        runs += 1"
   ]
  },
  {
   "cell_type": "code",
   "execution_count": 262,
   "metadata": {},
   "outputs": [],
   "source": [
    "if runSingleLog == False:\n",
    "  runs = 1\n",
    "  improving_runs = 0\n",
    "  \n",
    "  ratios = [1, 0.8]\n",
    "  sups = [0.2, 0.3]\n",
    "  \n",
    "  totalRuns = len(lpPaths) * len(ratios) * len(sups)\n",
    "\n",
    "  for i in range(0,len(lpPaths)):\n",
    "    for ratio in ratios:\n",
    "      for sup in sups:\n",
    "        display(\"Running: \" + lpPaths[i][0] + \" \" + str(runs) + \"/\" + str(totalRuns))\n",
    "        display(\"i: \" + str(i) + \" ratio: \" + str(ratio) + \" sup: \" + str(sup))\n",
    "        display(\"Stats: \" + str(improving_runs) + \"/\" + str(runs))\n",
    "        df, marImproved = applyMinerToLog(df, lpPaths[i][1], lmPaths[i][1], lpPaths[i][0],lmPaths[i][0], 0.2, 0.99, sup, ratio)\n",
    "        if marImproved:\n",
    "          improving_runs += 1\n",
    "        runs += 1\n",
    "  \n",
    "# display(df)"
   ]
  },
  {
   "cell_type": "code",
   "execution_count": 263,
   "metadata": {},
   "outputs": [],
   "source": [
    "\n",
    "def setupYTickList(minValue, step):\n",
    "  res = []\n",
    "  cur = 1\n",
    "  while cur > minValue:\n",
    "    res.append(cur)\n",
    "    cur -= step\n",
    "  res.append(cur)\n",
    "  return res\n",
    "    \n",
    "\n",
    "def displayDoubleLog(df, saveFig = False):\n",
    "  df_grouped = df.groupby(by=[\"logP_Name\",\t\"logM_Name\", \"im_bi_sup\", \"im_bi_ratio\"], group_keys=True).apply(lambda x : x)\n",
    "  \n",
    "  numberOfPlotPerRow = 4\n",
    "  rows = math.ceil(float(len(df_grouped.index.unique()))/numberOfPlotPerRow)\n",
    "  cols = min(len(df_grouped.index.unique()),numberOfPlotPerRow)\n",
    "\n",
    "  fig, axs = plt.subplots(rows, cols, figsize=(15 * (cols / numberOfPlotPerRow), 4 * rows), squeeze=False)\n",
    "  fig.tight_layout(pad=10.0)\n",
    "  cur_Row = 0\n",
    "  cur_Col = 0\n",
    "  for logGroup in df_grouped.index.unique():\n",
    "    df_log_grouped = df_grouped.loc[logGroup]\n",
    "    axs[cur_Row,cur_Col].set_title(\"LogP: \" + logGroup[0] + \" LogM: \" + logGroup[1] + \"\\n\" + \"Sup: \" + str(df_log_grouped.im_bi_sup[0]) + \" ratio: \" + str(df_log_grouped.im_bi_ratio[0]))\n",
    "    axs[cur_Row,cur_Col].set_xlabel(\"Miners\")\n",
    "    j = 0\n",
    "    xTickLabel = []\n",
    "    idx = []\n",
    "    minValue = 0\n",
    "    for miner, acc, fitP, fitM, f1_fit in zip(df_log_grouped.miner, df_log_grouped.acc_logs, df_log_grouped.fitP, df_log_grouped.fitM, df_log_grouped.f1_fit_logs):\n",
    "      minValue = min([minValue, acc, fitP, fitM, f1_fit])\n",
    "      axs[cur_Row,cur_Col].bar(j,acc, color=\"r\", label=\"acc\")\n",
    "      axs[cur_Row,cur_Col].bar(j+1,fitP, color=\"g\", label=\"fitP\")\n",
    "      axs[cur_Row,cur_Col].bar(j+2,fitM, color=\"b\", label=\"fitM\")\n",
    "      axs[cur_Row,cur_Col].bar(j+3,f1_fit, color=\"orange\", label=\"f1_fit\")\n",
    "      xTickLabel.append(miner)\n",
    "      idx.append(j + 1.5)\n",
    "      j += 5\n",
    "      \n",
    "    \n",
    "    axs[cur_Row,cur_Col].set_yticks(setupYTickList(minValue, 0.25))\n",
    "    axs[cur_Row,cur_Col].set_xticks(idx)\n",
    "    axs[cur_Row,cur_Col].set_xticklabels(xTickLabel)\n",
    "    axs[cur_Row,cur_Col].legend(loc='center left', ncols=1, labels=[\"acc\", \"fitP\", \"fitM\", \"f1_fit\"], bbox_to_anchor=(1, 0.5))\n",
    "    cur_Col += 1\n",
    "    \n",
    "    if cur_Col == numberOfPlotPerRow:\n",
    "      cur_Row += 1\n",
    "      cur_Col = 0\n",
    "      \n",
    "  plt.show()\n",
    "\n",
    "  if saveFig:\n",
    "    fig.savefig(\"plot\" + \".pdf\")"
   ]
  },
  {
   "cell_type": "code",
   "execution_count": 268,
   "metadata": {},
   "outputs": [],
   "source": [
    "def displaySingleLog(df, saveFig = False):\n",
    "  df_grouped = df.groupby(by=[\"logP_Name\",\t\"logM_Name\", \"im_bi_sup\"], group_keys=True).apply(lambda x : x)\n",
    "\n",
    "  numberOfPlotPerRow = 3\n",
    "  rows = math.ceil(float(len(df_grouped.index.unique()))/numberOfPlotPerRow)\n",
    "  cols = min(len(df_grouped.index.unique()),numberOfPlotPerRow)\n",
    "  \n",
    "\n",
    "  for f1_measure in [\"f1_tok\", \"f1_alig\"]:\n",
    "    fig, axs = plt.subplots(rows, cols, figsize=(15 * (cols / numberOfPlotPerRow), 4 * rows), squeeze=False)\n",
    "    fig.tight_layout(pad=10.0)\n",
    "    cur_Row = 0\n",
    "    cur_Col = 0\n",
    "    for logGroup in df_grouped.index.unique():\n",
    "      df_log_grouped = df_grouped.loc[logGroup]\n",
    "      axs[cur_Row,cur_Col].set_title(\"LogP: \" + logGroup[0] + \" LogM: \" + logGroup[1] + \"\\n\" + \"Sup: \" + str(df_log_grouped.im_bi_sup[0]))\n",
    "      axs[cur_Row,cur_Col].set_ylabel(f1_measure)\n",
    "      axs[cur_Row,cur_Col].set_xlabel(\"Miners\")\n",
    "      j = 0\n",
    "      xTickLabel = []\n",
    "      idx = []\n",
    "      for miner, f1_tok in zip(df_log_grouped.miner, df_log_grouped[f1_measure]):\n",
    "        axs[cur_Row,cur_Col].bar(j,f1_tok, label=str(miner))\n",
    "        xTickLabel.append(miner)\n",
    "        idx.append(j)\n",
    "        j += 1\n",
    "      axs[cur_Row,cur_Col].set_xticks(idx)\n",
    "      axs[cur_Row,cur_Col].set_xticklabels(xTickLabel, rotation=90)\n",
    "      cur_Col += 1\n",
    "      if cur_Col == numberOfPlotPerRow:\n",
    "        cur_Row += 1\n",
    "        cur_Col = 0\n",
    "        \n",
    "    plt.show()\n",
    "    if saveFig:\n",
    "      fig.savefig(\"plot_\" + f1_measure + \".pdf\")"
   ]
  },
  {
   "cell_type": "code",
   "execution_count": 269,
   "metadata": {},
   "outputs": [
    {
     "data": {
      "text/html": [
       "<div>\n",
       "<style scoped>\n",
       "    .dataframe tbody tr th:only-of-type {\n",
       "        vertical-align: middle;\n",
       "    }\n",
       "\n",
       "    .dataframe tbody tr th {\n",
       "        vertical-align: top;\n",
       "    }\n",
       "\n",
       "    .dataframe thead th {\n",
       "        text-align: right;\n",
       "    }\n",
       "</style>\n",
       "<table border=\"1\" class=\"dataframe\">\n",
       "  <thead>\n",
       "    <tr style=\"text-align: right;\">\n",
       "      <th></th>\n",
       "      <th></th>\n",
       "      <th></th>\n",
       "      <th></th>\n",
       "      <th>miner</th>\n",
       "      <th>logP_Name</th>\n",
       "      <th>logM_Name</th>\n",
       "      <th>imf_noise_thr</th>\n",
       "      <th>hm_depen_thr</th>\n",
       "      <th>im_bi_sup</th>\n",
       "      <th>im_bi_ratio</th>\n",
       "      <th>fit_tok</th>\n",
       "      <th>fit_alig</th>\n",
       "      <th>prec_tok</th>\n",
       "      <th>prec_alig</th>\n",
       "      <th>f1_tok</th>\n",
       "      <th>f1_alig</th>\n",
       "      <th>net</th>\n",
       "      <th>im</th>\n",
       "      <th>fm</th>\n",
       "    </tr>\n",
       "    <tr>\n",
       "      <th>logP_Name</th>\n",
       "      <th>logM_Name</th>\n",
       "      <th>im_bi_sup</th>\n",
       "      <th></th>\n",
       "      <th></th>\n",
       "      <th></th>\n",
       "      <th></th>\n",
       "      <th></th>\n",
       "      <th></th>\n",
       "      <th></th>\n",
       "      <th></th>\n",
       "      <th></th>\n",
       "      <th></th>\n",
       "      <th></th>\n",
       "      <th></th>\n",
       "      <th></th>\n",
       "      <th></th>\n",
       "      <th></th>\n",
       "      <th></th>\n",
       "      <th></th>\n",
       "    </tr>\n",
       "  </thead>\n",
       "  <tbody>\n",
       "    <tr>\n",
       "      <th rowspan=\"20\" valign=\"top\">lp_2012.xes</th>\n",
       "      <th rowspan=\"20\" valign=\"top\"></th>\n",
       "      <th rowspan=\"14\" valign=\"top\">0.0</th>\n",
       "      <th>0</th>\n",
       "      <td>IM</td>\n",
       "      <td>lp_2012.xes</td>\n",
       "      <td></td>\n",
       "      <td>0</td>\n",
       "      <td>0</td>\n",
       "      <td>0</td>\n",
       "      <td>0</td>\n",
       "      <td>1.000000</td>\n",
       "      <td>0.999975</td>\n",
       "      <td>0.978462</td>\n",
       "      <td>0.978462</td>\n",
       "      <td>0.989114</td>\n",
       "      <td>0.989102</td>\n",
       "      <td>places: [ p_12, p_13, p_14, p_15, p_3, p_4, p_...</td>\n",
       "      <td>{source: 1}</td>\n",
       "      <td>{sink: 1}</td>\n",
       "    </tr>\n",
       "    <tr>\n",
       "      <th>0</th>\n",
       "      <td>IMF</td>\n",
       "      <td>lp_2012.xes</td>\n",
       "      <td></td>\n",
       "      <td>0.2</td>\n",
       "      <td>0</td>\n",
       "      <td>0</td>\n",
       "      <td>0</td>\n",
       "      <td>0.998129</td>\n",
       "      <td>0.998613</td>\n",
       "      <td>0.977643</td>\n",
       "      <td>0.977643</td>\n",
       "      <td>0.987780</td>\n",
       "      <td>0.988017</td>\n",
       "      <td>places: [ p_12, p_13, p_14, p_15, p_3, p_4, p_...</td>\n",
       "      <td>{source: 1}</td>\n",
       "      <td>{sink: 1}</td>\n",
       "    </tr>\n",
       "    <tr>\n",
       "      <th>0</th>\n",
       "      <td>HM</td>\n",
       "      <td>lp_2012.xes</td>\n",
       "      <td></td>\n",
       "      <td>0</td>\n",
       "      <td>0.99</td>\n",
       "      <td>0</td>\n",
       "      <td>0</td>\n",
       "      <td>0.895280</td>\n",
       "      <td>0.867262</td>\n",
       "      <td>1.000000</td>\n",
       "      <td>1.000000</td>\n",
       "      <td>0.944747</td>\n",
       "      <td>0.928913</td>\n",
       "      <td>places: [ intplace_A_ACCEPTED, intplace_A_PART...</td>\n",
       "      <td>{source0: 1}</td>\n",
       "      <td>{sink0: 1}</td>\n",
       "    </tr>\n",
       "    <tr>\n",
       "      <th>0</th>\n",
       "      <td>IMbi_ali</td>\n",
       "      <td>lp_2012.xes</td>\n",
       "      <td></td>\n",
       "      <td>0</td>\n",
       "      <td>0</td>\n",
       "      <td>0</td>\n",
       "      <td>0</td>\n",
       "      <td>1.000000</td>\n",
       "      <td>0.999960</td>\n",
       "      <td>0.682827</td>\n",
       "      <td>0.682827</td>\n",
       "      <td>0.811524</td>\n",
       "      <td>0.811510</td>\n",
       "      <td>places: [ p_11, p_12, p_13, p_14, p_15, p_3, p...</td>\n",
       "      <td>{source: 1}</td>\n",
       "      <td>{sink: 1}</td>\n",
       "    </tr>\n",
       "    <tr>\n",
       "      <th>0</th>\n",
       "      <td>IMbi_mar</td>\n",
       "      <td>lp_2012.xes</td>\n",
       "      <td></td>\n",
       "      <td>0</td>\n",
       "      <td>0</td>\n",
       "      <td>0</td>\n",
       "      <td>0</td>\n",
       "      <td>1.000000</td>\n",
       "      <td>0.999930</td>\n",
       "      <td>0.716316</td>\n",
       "      <td>0.716316</td>\n",
       "      <td>0.834713</td>\n",
       "      <td>0.834689</td>\n",
       "      <td>places: [ p_10, p_11, p_13, p_14, p_16, p_3, p...</td>\n",
       "      <td>{source: 1}</td>\n",
       "      <td>{sink: 1}</td>\n",
       "    </tr>\n",
       "    <tr>\n",
       "      <th>0</th>\n",
       "      <td>IM</td>\n",
       "      <td>lp_2012.xes</td>\n",
       "      <td></td>\n",
       "      <td>0</td>\n",
       "      <td>0</td>\n",
       "      <td>0</td>\n",
       "      <td>0</td>\n",
       "      <td>1.000000</td>\n",
       "      <td>0.999975</td>\n",
       "      <td>0.978462</td>\n",
       "      <td>0.978462</td>\n",
       "      <td>0.989114</td>\n",
       "      <td>0.989102</td>\n",
       "      <td>places: [ p_12, p_13, p_14, p_15, p_3, p_4, p_...</td>\n",
       "      <td>{source: 1}</td>\n",
       "      <td>{sink: 1}</td>\n",
       "    </tr>\n",
       "    <tr>\n",
       "      <th>0</th>\n",
       "      <td>IMF</td>\n",
       "      <td>lp_2012.xes</td>\n",
       "      <td></td>\n",
       "      <td>0.2</td>\n",
       "      <td>0</td>\n",
       "      <td>0</td>\n",
       "      <td>0</td>\n",
       "      <td>0.998129</td>\n",
       "      <td>0.998613</td>\n",
       "      <td>0.977643</td>\n",
       "      <td>0.977643</td>\n",
       "      <td>0.987780</td>\n",
       "      <td>0.988017</td>\n",
       "      <td>places: [ p_12, p_13, p_14, p_15, p_3, p_4, p_...</td>\n",
       "      <td>{source: 1}</td>\n",
       "      <td>{sink: 1}</td>\n",
       "    </tr>\n",
       "    <tr>\n",
       "      <th>0</th>\n",
       "      <td>HM</td>\n",
       "      <td>lp_2012.xes</td>\n",
       "      <td></td>\n",
       "      <td>0</td>\n",
       "      <td>0.99</td>\n",
       "      <td>0</td>\n",
       "      <td>0</td>\n",
       "      <td>0.895280</td>\n",
       "      <td>0.867262</td>\n",
       "      <td>1.000000</td>\n",
       "      <td>1.000000</td>\n",
       "      <td>0.944747</td>\n",
       "      <td>0.928913</td>\n",
       "      <td>places: [ intplace_A_ACCEPTED, intplace_A_PART...</td>\n",
       "      <td>{source0: 1}</td>\n",
       "      <td>{sink0: 1}</td>\n",
       "    </tr>\n",
       "    <tr>\n",
       "      <th>0</th>\n",
       "      <td>IM</td>\n",
       "      <td>lp_2012.xes</td>\n",
       "      <td></td>\n",
       "      <td>0</td>\n",
       "      <td>0</td>\n",
       "      <td>0</td>\n",
       "      <td>0</td>\n",
       "      <td>1.000000</td>\n",
       "      <td>0.999975</td>\n",
       "      <td>0.978462</td>\n",
       "      <td>0.978462</td>\n",
       "      <td>0.989114</td>\n",
       "      <td>0.989102</td>\n",
       "      <td>places: [ p_12, p_13, p_14, p_15, p_3, p_4, p_...</td>\n",
       "      <td>{source: 1}</td>\n",
       "      <td>{sink: 1}</td>\n",
       "    </tr>\n",
       "    <tr>\n",
       "      <th>0</th>\n",
       "      <td>IMF</td>\n",
       "      <td>lp_2012.xes</td>\n",
       "      <td></td>\n",
       "      <td>0.2</td>\n",
       "      <td>0</td>\n",
       "      <td>0</td>\n",
       "      <td>0</td>\n",
       "      <td>0.998129</td>\n",
       "      <td>0.998613</td>\n",
       "      <td>0.977643</td>\n",
       "      <td>0.977643</td>\n",
       "      <td>0.987780</td>\n",
       "      <td>0.988017</td>\n",
       "      <td>places: [ p_12, p_13, p_14, p_15, p_3, p_4, p_...</td>\n",
       "      <td>{source: 1}</td>\n",
       "      <td>{sink: 1}</td>\n",
       "    </tr>\n",
       "    <tr>\n",
       "      <th>0</th>\n",
       "      <td>HM</td>\n",
       "      <td>lp_2012.xes</td>\n",
       "      <td></td>\n",
       "      <td>0</td>\n",
       "      <td>0.99</td>\n",
       "      <td>0</td>\n",
       "      <td>0</td>\n",
       "      <td>0.895280</td>\n",
       "      <td>0.867262</td>\n",
       "      <td>1.000000</td>\n",
       "      <td>1.000000</td>\n",
       "      <td>0.944747</td>\n",
       "      <td>0.928913</td>\n",
       "      <td>places: [ intplace_A_ACCEPTED, intplace_A_PART...</td>\n",
       "      <td>{source0: 1}</td>\n",
       "      <td>{sink0: 1}</td>\n",
       "    </tr>\n",
       "    <tr>\n",
       "      <th>0</th>\n",
       "      <td>IM</td>\n",
       "      <td>lp_2012.xes</td>\n",
       "      <td></td>\n",
       "      <td>0</td>\n",
       "      <td>0</td>\n",
       "      <td>0</td>\n",
       "      <td>0</td>\n",
       "      <td>1.000000</td>\n",
       "      <td>0.999975</td>\n",
       "      <td>0.978462</td>\n",
       "      <td>0.978462</td>\n",
       "      <td>0.989114</td>\n",
       "      <td>0.989102</td>\n",
       "      <td>places: [ p_12, p_13, p_14, p_15, p_3, p_4, p_...</td>\n",
       "      <td>{source: 1}</td>\n",
       "      <td>{sink: 1}</td>\n",
       "    </tr>\n",
       "    <tr>\n",
       "      <th>0</th>\n",
       "      <td>IMF</td>\n",
       "      <td>lp_2012.xes</td>\n",
       "      <td></td>\n",
       "      <td>0.2</td>\n",
       "      <td>0</td>\n",
       "      <td>0</td>\n",
       "      <td>0</td>\n",
       "      <td>0.998129</td>\n",
       "      <td>0.998613</td>\n",
       "      <td>0.977643</td>\n",
       "      <td>0.977643</td>\n",
       "      <td>0.987780</td>\n",
       "      <td>0.988017</td>\n",
       "      <td>places: [ p_12, p_13, p_14, p_15, p_3, p_4, p_...</td>\n",
       "      <td>{source: 1}</td>\n",
       "      <td>{sink: 1}</td>\n",
       "    </tr>\n",
       "    <tr>\n",
       "      <th>0</th>\n",
       "      <td>HM</td>\n",
       "      <td>lp_2012.xes</td>\n",
       "      <td></td>\n",
       "      <td>0</td>\n",
       "      <td>0.99</td>\n",
       "      <td>0</td>\n",
       "      <td>0</td>\n",
       "      <td>0.895280</td>\n",
       "      <td>0.867262</td>\n",
       "      <td>1.000000</td>\n",
       "      <td>1.000000</td>\n",
       "      <td>0.944747</td>\n",
       "      <td>0.928913</td>\n",
       "      <td>places: [ intplace_A_ACCEPTED, intplace_A_PART...</td>\n",
       "      <td>{source0: 1}</td>\n",
       "      <td>{sink0: 1}</td>\n",
       "    </tr>\n",
       "    <tr>\n",
       "      <th rowspan=\"2\" valign=\"top\">0.2</th>\n",
       "      <th>0</th>\n",
       "      <td>IMbi_ali</td>\n",
       "      <td>lp_2012.xes</td>\n",
       "      <td></td>\n",
       "      <td>0</td>\n",
       "      <td>0</td>\n",
       "      <td>0.2</td>\n",
       "      <td>0</td>\n",
       "      <td>1.000000</td>\n",
       "      <td>0.999958</td>\n",
       "      <td>0.682827</td>\n",
       "      <td>0.682827</td>\n",
       "      <td>0.811524</td>\n",
       "      <td>0.811510</td>\n",
       "      <td>places: [ p_11, p_12, p_13, p_14, p_15, p_3, p...</td>\n",
       "      <td>{source: 1}</td>\n",
       "      <td>{sink: 1}</td>\n",
       "    </tr>\n",
       "    <tr>\n",
       "      <th>0</th>\n",
       "      <td>IMbi_mar</td>\n",
       "      <td>lp_2012.xes</td>\n",
       "      <td></td>\n",
       "      <td>0</td>\n",
       "      <td>0</td>\n",
       "      <td>0.2</td>\n",
       "      <td>0</td>\n",
       "      <td>0.989393</td>\n",
       "      <td>0.987099</td>\n",
       "      <td>0.745194</td>\n",
       "      <td>0.745194</td>\n",
       "      <td>0.850104</td>\n",
       "      <td>0.849256</td>\n",
       "      <td>places: [ p_10, p_12, p_13, p_14, p_3, p_4, p_...</td>\n",
       "      <td>{source: 1}</td>\n",
       "      <td>{sink: 1}</td>\n",
       "    </tr>\n",
       "    <tr>\n",
       "      <th rowspan=\"2\" valign=\"top\">0.3</th>\n",
       "      <th>0</th>\n",
       "      <td>IMbi_ali</td>\n",
       "      <td>lp_2012.xes</td>\n",
       "      <td></td>\n",
       "      <td>0</td>\n",
       "      <td>0</td>\n",
       "      <td>0.3</td>\n",
       "      <td>0</td>\n",
       "      <td>0.991197</td>\n",
       "      <td>0.988460</td>\n",
       "      <td>0.689923</td>\n",
       "      <td>0.689923</td>\n",
       "      <td>0.813565</td>\n",
       "      <td>0.812641</td>\n",
       "      <td>places: [ p_11, p_12, p_13, p_14, p_15, p_3, p...</td>\n",
       "      <td>{source: 1}</td>\n",
       "      <td>{sink: 1}</td>\n",
       "    </tr>\n",
       "    <tr>\n",
       "      <th>0</th>\n",
       "      <td>IMbi_mar</td>\n",
       "      <td>lp_2012.xes</td>\n",
       "      <td></td>\n",
       "      <td>0</td>\n",
       "      <td>0</td>\n",
       "      <td>0.3</td>\n",
       "      <td>0</td>\n",
       "      <td>0.988836</td>\n",
       "      <td>0.987102</td>\n",
       "      <td>0.846963</td>\n",
       "      <td>0.846963</td>\n",
       "      <td>0.912418</td>\n",
       "      <td>0.911679</td>\n",
       "      <td>places: [ p_10, p_11, p_12, p_13, p_14, p_15, ...</td>\n",
       "      <td>{source: 1}</td>\n",
       "      <td>{sink: 1}</td>\n",
       "    </tr>\n",
       "    <tr>\n",
       "      <th rowspan=\"2\" valign=\"top\">0.5</th>\n",
       "      <th>0</th>\n",
       "      <td>IMbi_ali</td>\n",
       "      <td>lp_2012.xes</td>\n",
       "      <td></td>\n",
       "      <td>0</td>\n",
       "      <td>0</td>\n",
       "      <td>0.5</td>\n",
       "      <td>0</td>\n",
       "      <td>0.961017</td>\n",
       "      <td>0.951493</td>\n",
       "      <td>0.733685</td>\n",
       "      <td>0.733685</td>\n",
       "      <td>0.832104</td>\n",
       "      <td>0.828513</td>\n",
       "      <td>places: [ p_11, p_12, p_13, p_14, p_15, p_3, p...</td>\n",
       "      <td>{source: 1}</td>\n",
       "      <td>{sink: 1}</td>\n",
       "    </tr>\n",
       "    <tr>\n",
       "      <th>0</th>\n",
       "      <td>IMbi_mar</td>\n",
       "      <td>lp_2012.xes</td>\n",
       "      <td></td>\n",
       "      <td>0</td>\n",
       "      <td>0</td>\n",
       "      <td>0.5</td>\n",
       "      <td>0</td>\n",
       "      <td>0.938168</td>\n",
       "      <td>0.927234</td>\n",
       "      <td>0.857388</td>\n",
       "      <td>0.857388</td>\n",
       "      <td>0.895961</td>\n",
       "      <td>0.890944</td>\n",
       "      <td>places: [ p_10, p_11, p_12, p_13, p_3, p_4, p_...</td>\n",
       "      <td>{source: 1}</td>\n",
       "      <td>{sink: 1}</td>\n",
       "    </tr>\n",
       "    <tr>\n",
       "      <th rowspan=\"20\" valign=\"top\">lp_2017.xes</th>\n",
       "      <th rowspan=\"20\" valign=\"top\"></th>\n",
       "      <th rowspan=\"14\" valign=\"top\">0.0</th>\n",
       "      <th>0</th>\n",
       "      <td>IM</td>\n",
       "      <td>lp_2017.xes</td>\n",
       "      <td></td>\n",
       "      <td>0</td>\n",
       "      <td>0</td>\n",
       "      <td>0</td>\n",
       "      <td>0</td>\n",
       "      <td>1.000000</td>\n",
       "      <td>0.999921</td>\n",
       "      <td>0.492539</td>\n",
       "      <td>0.492539</td>\n",
       "      <td>0.660001</td>\n",
       "      <td>0.659984</td>\n",
       "      <td>places: [ p_11, p_12, p_13, p_14, p_15, p_16, ...</td>\n",
       "      <td>{source: 1}</td>\n",
       "      <td>{sink: 1}</td>\n",
       "    </tr>\n",
       "    <tr>\n",
       "      <th>0</th>\n",
       "      <td>IMF</td>\n",
       "      <td>lp_2017.xes</td>\n",
       "      <td></td>\n",
       "      <td>0.2</td>\n",
       "      <td>0</td>\n",
       "      <td>0</td>\n",
       "      <td>0</td>\n",
       "      <td>0.971095</td>\n",
       "      <td>0.961927</td>\n",
       "      <td>0.540599</td>\n",
       "      <td>0.540599</td>\n",
       "      <td>0.694550</td>\n",
       "      <td>0.692190</td>\n",
       "      <td>places: [ p_10, p_14, p_15, p_17, p_22, p_23, ...</td>\n",
       "      <td>{source: 1}</td>\n",
       "      <td>{sink: 1}</td>\n",
       "    </tr>\n",
       "    <tr>\n",
       "      <th>0</th>\n",
       "      <td>HM</td>\n",
       "      <td>lp_2017.xes</td>\n",
       "      <td></td>\n",
       "      <td>0</td>\n",
       "      <td>0.99</td>\n",
       "      <td>0</td>\n",
       "      <td>0</td>\n",
       "      <td>0.898145</td>\n",
       "      <td>0.605225</td>\n",
       "      <td>0.999467</td>\n",
       "      <td>0.999467</td>\n",
       "      <td>0.946101</td>\n",
       "      <td>0.753917</td>\n",
       "      <td>places: [ intplace_A_Complete, intplace_A_Inco...</td>\n",
       "      <td>{source0: 1}</td>\n",
       "      <td>{sink0: 1}</td>\n",
       "    </tr>\n",
       "    <tr>\n",
       "      <th>0</th>\n",
       "      <td>IMbi_ali</td>\n",
       "      <td>lp_2017.xes</td>\n",
       "      <td></td>\n",
       "      <td>0</td>\n",
       "      <td>0</td>\n",
       "      <td>0</td>\n",
       "      <td>0</td>\n",
       "      <td>1.000000</td>\n",
       "      <td>0.999879</td>\n",
       "      <td>0.509795</td>\n",
       "      <td>0.509795</td>\n",
       "      <td>0.675317</td>\n",
       "      <td>0.675289</td>\n",
       "      <td>places: [ p_10, p_11, p_12, p_13, p_14, p_15, ...</td>\n",
       "      <td>{source: 1}</td>\n",
       "      <td>{sink: 1}</td>\n",
       "    </tr>\n",
       "    <tr>\n",
       "      <th>0</th>\n",
       "      <td>IMbi_mar</td>\n",
       "      <td>lp_2017.xes</td>\n",
       "      <td></td>\n",
       "      <td>0</td>\n",
       "      <td>0</td>\n",
       "      <td>0</td>\n",
       "      <td>0</td>\n",
       "      <td>1.000000</td>\n",
       "      <td>0.999925</td>\n",
       "      <td>0.498074</td>\n",
       "      <td>0.498074</td>\n",
       "      <td>0.664953</td>\n",
       "      <td>0.664936</td>\n",
       "      <td>places: [ p_10, p_11, p_12, p_13, p_14, p_15, ...</td>\n",
       "      <td>{source: 1}</td>\n",
       "      <td>{sink: 1}</td>\n",
       "    </tr>\n",
       "    <tr>\n",
       "      <th>0</th>\n",
       "      <td>IM</td>\n",
       "      <td>lp_2017.xes</td>\n",
       "      <td></td>\n",
       "      <td>0</td>\n",
       "      <td>0</td>\n",
       "      <td>0</td>\n",
       "      <td>0</td>\n",
       "      <td>1.000000</td>\n",
       "      <td>0.999921</td>\n",
       "      <td>0.492539</td>\n",
       "      <td>0.492539</td>\n",
       "      <td>0.660001</td>\n",
       "      <td>0.659984</td>\n",
       "      <td>places: [ p_11, p_12, p_13, p_14, p_15, p_16, ...</td>\n",
       "      <td>{source: 1}</td>\n",
       "      <td>{sink: 1}</td>\n",
       "    </tr>\n",
       "    <tr>\n",
       "      <th>0</th>\n",
       "      <td>IMF</td>\n",
       "      <td>lp_2017.xes</td>\n",
       "      <td></td>\n",
       "      <td>0.2</td>\n",
       "      <td>0</td>\n",
       "      <td>0</td>\n",
       "      <td>0</td>\n",
       "      <td>0.971095</td>\n",
       "      <td>0.961927</td>\n",
       "      <td>0.540599</td>\n",
       "      <td>0.540599</td>\n",
       "      <td>0.694550</td>\n",
       "      <td>0.692190</td>\n",
       "      <td>places: [ p_10, p_14, p_15, p_17, p_22, p_23, ...</td>\n",
       "      <td>{source: 1}</td>\n",
       "      <td>{sink: 1}</td>\n",
       "    </tr>\n",
       "    <tr>\n",
       "      <th>0</th>\n",
       "      <td>HM</td>\n",
       "      <td>lp_2017.xes</td>\n",
       "      <td></td>\n",
       "      <td>0</td>\n",
       "      <td>0.99</td>\n",
       "      <td>0</td>\n",
       "      <td>0</td>\n",
       "      <td>0.844251</td>\n",
       "      <td>0.605225</td>\n",
       "      <td>0.999467</td>\n",
       "      <td>0.999467</td>\n",
       "      <td>0.915325</td>\n",
       "      <td>0.753917</td>\n",
       "      <td>places: [ intplace_A_Complete, intplace_A_Inco...</td>\n",
       "      <td>{source0: 1}</td>\n",
       "      <td>{sink0: 1}</td>\n",
       "    </tr>\n",
       "    <tr>\n",
       "      <th>0</th>\n",
       "      <td>IM</td>\n",
       "      <td>lp_2017.xes</td>\n",
       "      <td></td>\n",
       "      <td>0</td>\n",
       "      <td>0</td>\n",
       "      <td>0</td>\n",
       "      <td>0</td>\n",
       "      <td>1.000000</td>\n",
       "      <td>0.999921</td>\n",
       "      <td>0.492539</td>\n",
       "      <td>0.492539</td>\n",
       "      <td>0.660001</td>\n",
       "      <td>0.659984</td>\n",
       "      <td>places: [ p_11, p_12, p_13, p_14, p_15, p_16, ...</td>\n",
       "      <td>{source: 1}</td>\n",
       "      <td>{sink: 1}</td>\n",
       "    </tr>\n",
       "    <tr>\n",
       "      <th>0</th>\n",
       "      <td>IMF</td>\n",
       "      <td>lp_2017.xes</td>\n",
       "      <td></td>\n",
       "      <td>0.2</td>\n",
       "      <td>0</td>\n",
       "      <td>0</td>\n",
       "      <td>0</td>\n",
       "      <td>0.971095</td>\n",
       "      <td>0.961927</td>\n",
       "      <td>0.540599</td>\n",
       "      <td>0.540599</td>\n",
       "      <td>0.694550</td>\n",
       "      <td>0.692190</td>\n",
       "      <td>places: [ p_10, p_14, p_15, p_17, p_22, p_23, ...</td>\n",
       "      <td>{source: 1}</td>\n",
       "      <td>{sink: 1}</td>\n",
       "    </tr>\n",
       "    <tr>\n",
       "      <th>0</th>\n",
       "      <td>HM</td>\n",
       "      <td>lp_2017.xes</td>\n",
       "      <td></td>\n",
       "      <td>0</td>\n",
       "      <td>0.99</td>\n",
       "      <td>0</td>\n",
       "      <td>0</td>\n",
       "      <td>0.898145</td>\n",
       "      <td>0.605225</td>\n",
       "      <td>0.999467</td>\n",
       "      <td>0.999467</td>\n",
       "      <td>0.946101</td>\n",
       "      <td>0.753917</td>\n",
       "      <td>places: [ intplace_A_Complete, intplace_A_Inco...</td>\n",
       "      <td>{source0: 1}</td>\n",
       "      <td>{sink0: 1}</td>\n",
       "    </tr>\n",
       "    <tr>\n",
       "      <th>0</th>\n",
       "      <td>IM</td>\n",
       "      <td>lp_2017.xes</td>\n",
       "      <td></td>\n",
       "      <td>0</td>\n",
       "      <td>0</td>\n",
       "      <td>0</td>\n",
       "      <td>0</td>\n",
       "      <td>1.000000</td>\n",
       "      <td>0.999921</td>\n",
       "      <td>0.492539</td>\n",
       "      <td>0.492539</td>\n",
       "      <td>0.660001</td>\n",
       "      <td>0.659984</td>\n",
       "      <td>places: [ p_11, p_12, p_13, p_14, p_15, p_16, ...</td>\n",
       "      <td>{source: 1}</td>\n",
       "      <td>{sink: 1}</td>\n",
       "    </tr>\n",
       "    <tr>\n",
       "      <th>0</th>\n",
       "      <td>IMF</td>\n",
       "      <td>lp_2017.xes</td>\n",
       "      <td></td>\n",
       "      <td>0.2</td>\n",
       "      <td>0</td>\n",
       "      <td>0</td>\n",
       "      <td>0</td>\n",
       "      <td>0.971095</td>\n",
       "      <td>0.961927</td>\n",
       "      <td>0.540599</td>\n",
       "      <td>0.540599</td>\n",
       "      <td>0.694550</td>\n",
       "      <td>0.692190</td>\n",
       "      <td>places: [ p_10, p_14, p_15, p_17, p_22, p_23, ...</td>\n",
       "      <td>{source: 1}</td>\n",
       "      <td>{sink: 1}</td>\n",
       "    </tr>\n",
       "    <tr>\n",
       "      <th>0</th>\n",
       "      <td>HM</td>\n",
       "      <td>lp_2017.xes</td>\n",
       "      <td></td>\n",
       "      <td>0</td>\n",
       "      <td>0.99</td>\n",
       "      <td>0</td>\n",
       "      <td>0</td>\n",
       "      <td>0.898145</td>\n",
       "      <td>0.605225</td>\n",
       "      <td>0.999467</td>\n",
       "      <td>0.999467</td>\n",
       "      <td>0.946101</td>\n",
       "      <td>0.753917</td>\n",
       "      <td>places: [ intplace_A_Complete, intplace_A_Inco...</td>\n",
       "      <td>{source0: 1}</td>\n",
       "      <td>{sink0: 1}</td>\n",
       "    </tr>\n",
       "    <tr>\n",
       "      <th rowspan=\"2\" valign=\"top\">0.2</th>\n",
       "      <th>0</th>\n",
       "      <td>IMbi_ali</td>\n",
       "      <td>lp_2017.xes</td>\n",
       "      <td></td>\n",
       "      <td>0</td>\n",
       "      <td>0</td>\n",
       "      <td>0.2</td>\n",
       "      <td>0</td>\n",
       "      <td>0.959056</td>\n",
       "      <td>0.955833</td>\n",
       "      <td>0.668667</td>\n",
       "      <td>0.668667</td>\n",
       "      <td>0.787959</td>\n",
       "      <td>0.786868</td>\n",
       "      <td>places: [ p_10, p_11, p_12, p_13, p_14, p_18, ...</td>\n",
       "      <td>{source: 1}</td>\n",
       "      <td>{sink: 1}</td>\n",
       "    </tr>\n",
       "    <tr>\n",
       "      <th>0</th>\n",
       "      <td>IMbi_mar</td>\n",
       "      <td>lp_2017.xes</td>\n",
       "      <td></td>\n",
       "      <td>0</td>\n",
       "      <td>0</td>\n",
       "      <td>0.2</td>\n",
       "      <td>0</td>\n",
       "      <td>0.973729</td>\n",
       "      <td>0.937582</td>\n",
       "      <td>0.684525</td>\n",
       "      <td>0.684525</td>\n",
       "      <td>0.803908</td>\n",
       "      <td>0.791314</td>\n",
       "      <td>places: [ p_11, p_12, p_4, p_5, p_6, p_7, p_8,...</td>\n",
       "      <td>{source: 1}</td>\n",
       "      <td>{sink: 1}</td>\n",
       "    </tr>\n",
       "    <tr>\n",
       "      <th rowspan=\"2\" valign=\"top\">0.3</th>\n",
       "      <th>0</th>\n",
       "      <td>IMbi_ali</td>\n",
       "      <td>lp_2017.xes</td>\n",
       "      <td></td>\n",
       "      <td>0</td>\n",
       "      <td>0</td>\n",
       "      <td>0.3</td>\n",
       "      <td>0</td>\n",
       "      <td>0.929154</td>\n",
       "      <td>0.929601</td>\n",
       "      <td>0.812575</td>\n",
       "      <td>0.812575</td>\n",
       "      <td>0.866963</td>\n",
       "      <td>0.867158</td>\n",
       "      <td>places: [ p_10, p_11, p_15, p_16, p_18, p_19, ...</td>\n",
       "      <td>{source: 1}</td>\n",
       "      <td>{sink: 1}</td>\n",
       "    </tr>\n",
       "    <tr>\n",
       "      <th>0</th>\n",
       "      <td>IMbi_mar</td>\n",
       "      <td>lp_2017.xes</td>\n",
       "      <td></td>\n",
       "      <td>0</td>\n",
       "      <td>0</td>\n",
       "      <td>0.3</td>\n",
       "      <td>0</td>\n",
       "      <td>0.973729</td>\n",
       "      <td>0.937582</td>\n",
       "      <td>0.684525</td>\n",
       "      <td>0.684525</td>\n",
       "      <td>0.803908</td>\n",
       "      <td>0.791314</td>\n",
       "      <td>places: [ p_11, p_12, p_4, p_5, p_6, p_7, p_8,...</td>\n",
       "      <td>{source: 1}</td>\n",
       "      <td>{sink: 1}</td>\n",
       "    </tr>\n",
       "    <tr>\n",
       "      <th rowspan=\"2\" valign=\"top\">0.5</th>\n",
       "      <th>0</th>\n",
       "      <td>IMbi_ali</td>\n",
       "      <td>lp_2017.xes</td>\n",
       "      <td></td>\n",
       "      <td>0</td>\n",
       "      <td>0</td>\n",
       "      <td>0.5</td>\n",
       "      <td>0</td>\n",
       "      <td>0.868466</td>\n",
       "      <td>0.879776</td>\n",
       "      <td>0.864722</td>\n",
       "      <td>0.864722</td>\n",
       "      <td>0.866590</td>\n",
       "      <td>0.872184</td>\n",
       "      <td>places: [ p_11, p_13, p_14, p_15, p_16, p_17, ...</td>\n",
       "      <td>{source: 1}</td>\n",
       "      <td>{sink: 1}</td>\n",
       "    </tr>\n",
       "    <tr>\n",
       "      <th>0</th>\n",
       "      <td>IMbi_mar</td>\n",
       "      <td>lp_2017.xes</td>\n",
       "      <td></td>\n",
       "      <td>0</td>\n",
       "      <td>0</td>\n",
       "      <td>0.5</td>\n",
       "      <td>0</td>\n",
       "      <td>0.909699</td>\n",
       "      <td>0.890847</td>\n",
       "      <td>0.977955</td>\n",
       "      <td>0.977955</td>\n",
       "      <td>0.942593</td>\n",
       "      <td>0.932371</td>\n",
       "      <td>places: [ p_11, p_12, p_14, p_4, p_5, p_6, p_7...</td>\n",
       "      <td>{source: 1}</td>\n",
       "      <td>{sink: 1}</td>\n",
       "    </tr>\n",
       "    <tr>\n",
       "      <th rowspan=\"20\" valign=\"top\">lp_2018.xes</th>\n",
       "      <th rowspan=\"20\" valign=\"top\"></th>\n",
       "      <th rowspan=\"14\" valign=\"top\">0.0</th>\n",
       "      <th>0</th>\n",
       "      <td>IM</td>\n",
       "      <td>lp_2018.xes</td>\n",
       "      <td></td>\n",
       "      <td>0</td>\n",
       "      <td>0</td>\n",
       "      <td>0</td>\n",
       "      <td>0</td>\n",
       "      <td>1.000000</td>\n",
       "      <td>0.999896</td>\n",
       "      <td>0.383235</td>\n",
       "      <td>0.383235</td>\n",
       "      <td>0.554115</td>\n",
       "      <td>0.554099</td>\n",
       "      <td>places: [ p_10, p_15, p_16, p_17, p_18, p_22, ...</td>\n",
       "      <td>{source: 1}</td>\n",
       "      <td>{sink: 1}</td>\n",
       "    </tr>\n",
       "    <tr>\n",
       "      <th>0</th>\n",
       "      <td>IMF</td>\n",
       "      <td>lp_2018.xes</td>\n",
       "      <td></td>\n",
       "      <td>0.2</td>\n",
       "      <td>0</td>\n",
       "      <td>0</td>\n",
       "      <td>0</td>\n",
       "      <td>0.998372</td>\n",
       "      <td>0.997275</td>\n",
       "      <td>0.515132</td>\n",
       "      <td>0.515132</td>\n",
       "      <td>0.679606</td>\n",
       "      <td>0.679352</td>\n",
       "      <td>places: [ p_10, p_11, p_15, p_16, p_20, p_21, ...</td>\n",
       "      <td>{source: 1}</td>\n",
       "      <td>{sink: 1}</td>\n",
       "    </tr>\n",
       "    <tr>\n",
       "      <th>0</th>\n",
       "      <td>HM</td>\n",
       "      <td>lp_2018.xes</td>\n",
       "      <td></td>\n",
       "      <td>0</td>\n",
       "      <td>0.99</td>\n",
       "      <td>0</td>\n",
       "      <td>0</td>\n",
       "      <td>0.957687</td>\n",
       "      <td>0.000000</td>\n",
       "      <td>0.934827</td>\n",
       "      <td>0.000000</td>\n",
       "      <td>0.946119</td>\n",
       "      <td>0.000000</td>\n",
       "      <td>places: [ intplace_begin payment, intplace_cal...</td>\n",
       "      <td>{source0: 1}</td>\n",
       "      <td>{sink0: 1}</td>\n",
       "    </tr>\n",
       "    <tr>\n",
       "      <th>0</th>\n",
       "      <td>IMbi_ali</td>\n",
       "      <td>lp_2018.xes</td>\n",
       "      <td></td>\n",
       "      <td>0</td>\n",
       "      <td>0</td>\n",
       "      <td>0</td>\n",
       "      <td>0</td>\n",
       "      <td>0.990839</td>\n",
       "      <td>0.984197</td>\n",
       "      <td>0.661360</td>\n",
       "      <td>0.661360</td>\n",
       "      <td>0.793247</td>\n",
       "      <td>0.791110</td>\n",
       "      <td>places: [ p_10, p_11, p_12, p_13, p_14, p_15, ...</td>\n",
       "      <td>{source: 1}</td>\n",
       "      <td>{sink: 1}</td>\n",
       "    </tr>\n",
       "    <tr>\n",
       "      <th>0</th>\n",
       "      <td>IMbi_mar</td>\n",
       "      <td>lp_2018.xes</td>\n",
       "      <td></td>\n",
       "      <td>0</td>\n",
       "      <td>0</td>\n",
       "      <td>0</td>\n",
       "      <td>0</td>\n",
       "      <td>0.989696</td>\n",
       "      <td>0.984242</td>\n",
       "      <td>0.610729</td>\n",
       "      <td>0.610729</td>\n",
       "      <td>0.755344</td>\n",
       "      <td>0.753750</td>\n",
       "      <td>places: [ p_10, p_11, p_13, p_14, p_15, p_16, ...</td>\n",
       "      <td>{source: 1}</td>\n",
       "      <td>{sink: 1}</td>\n",
       "    </tr>\n",
       "    <tr>\n",
       "      <th>0</th>\n",
       "      <td>IM</td>\n",
       "      <td>lp_2018.xes</td>\n",
       "      <td></td>\n",
       "      <td>0</td>\n",
       "      <td>0</td>\n",
       "      <td>0</td>\n",
       "      <td>0</td>\n",
       "      <td>1.000000</td>\n",
       "      <td>0.999896</td>\n",
       "      <td>0.383235</td>\n",
       "      <td>0.383235</td>\n",
       "      <td>0.554115</td>\n",
       "      <td>0.554099</td>\n",
       "      <td>places: [ p_10, p_15, p_16, p_17, p_18, p_22, ...</td>\n",
       "      <td>{source: 1}</td>\n",
       "      <td>{sink: 1}</td>\n",
       "    </tr>\n",
       "    <tr>\n",
       "      <th>0</th>\n",
       "      <td>IMF</td>\n",
       "      <td>lp_2018.xes</td>\n",
       "      <td></td>\n",
       "      <td>0.2</td>\n",
       "      <td>0</td>\n",
       "      <td>0</td>\n",
       "      <td>0</td>\n",
       "      <td>0.998372</td>\n",
       "      <td>0.997275</td>\n",
       "      <td>0.515132</td>\n",
       "      <td>0.515132</td>\n",
       "      <td>0.679606</td>\n",
       "      <td>0.679352</td>\n",
       "      <td>places: [ p_10, p_11, p_15, p_16, p_20, p_21, ...</td>\n",
       "      <td>{source: 1}</td>\n",
       "      <td>{sink: 1}</td>\n",
       "    </tr>\n",
       "    <tr>\n",
       "      <th>0</th>\n",
       "      <td>HM</td>\n",
       "      <td>lp_2018.xes</td>\n",
       "      <td></td>\n",
       "      <td>0</td>\n",
       "      <td>0.99</td>\n",
       "      <td>0</td>\n",
       "      <td>0</td>\n",
       "      <td>0.957687</td>\n",
       "      <td>0.000000</td>\n",
       "      <td>0.934827</td>\n",
       "      <td>0.000000</td>\n",
       "      <td>0.946119</td>\n",
       "      <td>0.000000</td>\n",
       "      <td>places: [ intplace_begin payment, intplace_cal...</td>\n",
       "      <td>{source0: 1}</td>\n",
       "      <td>{sink0: 1}</td>\n",
       "    </tr>\n",
       "    <tr>\n",
       "      <th>0</th>\n",
       "      <td>IM</td>\n",
       "      <td>lp_2018.xes</td>\n",
       "      <td></td>\n",
       "      <td>0</td>\n",
       "      <td>0</td>\n",
       "      <td>0</td>\n",
       "      <td>0</td>\n",
       "      <td>1.000000</td>\n",
       "      <td>0.999896</td>\n",
       "      <td>0.383235</td>\n",
       "      <td>0.383235</td>\n",
       "      <td>0.554115</td>\n",
       "      <td>0.554099</td>\n",
       "      <td>places: [ p_10, p_15, p_16, p_17, p_18, p_22, ...</td>\n",
       "      <td>{source: 1}</td>\n",
       "      <td>{sink: 1}</td>\n",
       "    </tr>\n",
       "    <tr>\n",
       "      <th>0</th>\n",
       "      <td>IMF</td>\n",
       "      <td>lp_2018.xes</td>\n",
       "      <td></td>\n",
       "      <td>0.2</td>\n",
       "      <td>0</td>\n",
       "      <td>0</td>\n",
       "      <td>0</td>\n",
       "      <td>0.998372</td>\n",
       "      <td>0.997275</td>\n",
       "      <td>0.515132</td>\n",
       "      <td>0.515132</td>\n",
       "      <td>0.679606</td>\n",
       "      <td>0.679352</td>\n",
       "      <td>places: [ p_10, p_11, p_15, p_16, p_20, p_21, ...</td>\n",
       "      <td>{source: 1}</td>\n",
       "      <td>{sink: 1}</td>\n",
       "    </tr>\n",
       "    <tr>\n",
       "      <th>0</th>\n",
       "      <td>HM</td>\n",
       "      <td>lp_2018.xes</td>\n",
       "      <td></td>\n",
       "      <td>0</td>\n",
       "      <td>0.99</td>\n",
       "      <td>0</td>\n",
       "      <td>0</td>\n",
       "      <td>0.957687</td>\n",
       "      <td>0.000000</td>\n",
       "      <td>0.934827</td>\n",
       "      <td>0.000000</td>\n",
       "      <td>0.946119</td>\n",
       "      <td>0.000000</td>\n",
       "      <td>places: [ intplace_begin payment, intplace_cal...</td>\n",
       "      <td>{source0: 1}</td>\n",
       "      <td>{sink0: 1}</td>\n",
       "    </tr>\n",
       "    <tr>\n",
       "      <th>0</th>\n",
       "      <td>IM</td>\n",
       "      <td>lp_2018.xes</td>\n",
       "      <td></td>\n",
       "      <td>0</td>\n",
       "      <td>0</td>\n",
       "      <td>0</td>\n",
       "      <td>0</td>\n",
       "      <td>1.000000</td>\n",
       "      <td>0.999896</td>\n",
       "      <td>0.383235</td>\n",
       "      <td>0.383235</td>\n",
       "      <td>0.554115</td>\n",
       "      <td>0.554099</td>\n",
       "      <td>places: [ p_10, p_15, p_16, p_17, p_18, p_22, ...</td>\n",
       "      <td>{source: 1}</td>\n",
       "      <td>{sink: 1}</td>\n",
       "    </tr>\n",
       "    <tr>\n",
       "      <th>0</th>\n",
       "      <td>IMF</td>\n",
       "      <td>lp_2018.xes</td>\n",
       "      <td></td>\n",
       "      <td>0.2</td>\n",
       "      <td>0</td>\n",
       "      <td>0</td>\n",
       "      <td>0</td>\n",
       "      <td>0.998372</td>\n",
       "      <td>0.997275</td>\n",
       "      <td>0.515132</td>\n",
       "      <td>0.515132</td>\n",
       "      <td>0.679606</td>\n",
       "      <td>0.679352</td>\n",
       "      <td>places: [ p_10, p_11, p_15, p_16, p_20, p_21, ...</td>\n",
       "      <td>{source: 1}</td>\n",
       "      <td>{sink: 1}</td>\n",
       "    </tr>\n",
       "    <tr>\n",
       "      <th>0</th>\n",
       "      <td>HM</td>\n",
       "      <td>lp_2018.xes</td>\n",
       "      <td></td>\n",
       "      <td>0</td>\n",
       "      <td>0.99</td>\n",
       "      <td>0</td>\n",
       "      <td>0</td>\n",
       "      <td>0.957687</td>\n",
       "      <td>0.000000</td>\n",
       "      <td>0.934827</td>\n",
       "      <td>0.000000</td>\n",
       "      <td>0.946119</td>\n",
       "      <td>0.000000</td>\n",
       "      <td>places: [ intplace_begin payment, intplace_cal...</td>\n",
       "      <td>{source0: 1}</td>\n",
       "      <td>{sink0: 1}</td>\n",
       "    </tr>\n",
       "    <tr>\n",
       "      <th rowspan=\"2\" valign=\"top\">0.2</th>\n",
       "      <th>0</th>\n",
       "      <td>IMbi_ali</td>\n",
       "      <td>lp_2018.xes</td>\n",
       "      <td></td>\n",
       "      <td>0</td>\n",
       "      <td>0</td>\n",
       "      <td>0.2</td>\n",
       "      <td>0</td>\n",
       "      <td>0.977823</td>\n",
       "      <td>0.972895</td>\n",
       "      <td>0.867943</td>\n",
       "      <td>0.867943</td>\n",
       "      <td>0.919612</td>\n",
       "      <td>0.917427</td>\n",
       "      <td>places: [ p_10, p_11, p_14, p_15, p_22, p_23, ...</td>\n",
       "      <td>{source: 1}</td>\n",
       "      <td>{sink: 1}</td>\n",
       "    </tr>\n",
       "    <tr>\n",
       "      <th>0</th>\n",
       "      <td>IMbi_mar</td>\n",
       "      <td>lp_2018.xes</td>\n",
       "      <td></td>\n",
       "      <td>0</td>\n",
       "      <td>0</td>\n",
       "      <td>0.2</td>\n",
       "      <td>0</td>\n",
       "      <td>0.980113</td>\n",
       "      <td>0.957753</td>\n",
       "      <td>0.916124</td>\n",
       "      <td>0.916124</td>\n",
       "      <td>0.947038</td>\n",
       "      <td>0.936476</td>\n",
       "      <td>places: [ p_11, p_12, p_15, p_18, p_19, p_3, p...</td>\n",
       "      <td>{source: 1}</td>\n",
       "      <td>{sink: 1}</td>\n",
       "    </tr>\n",
       "    <tr>\n",
       "      <th rowspan=\"2\" valign=\"top\">0.3</th>\n",
       "      <th>0</th>\n",
       "      <td>IMbi_ali</td>\n",
       "      <td>lp_2018.xes</td>\n",
       "      <td></td>\n",
       "      <td>0</td>\n",
       "      <td>0</td>\n",
       "      <td>0.3</td>\n",
       "      <td>0</td>\n",
       "      <td>0.873172</td>\n",
       "      <td>0.882260</td>\n",
       "      <td>0.875717</td>\n",
       "      <td>0.875717</td>\n",
       "      <td>0.874443</td>\n",
       "      <td>0.878976</td>\n",
       "      <td>places: [ p_10, p_11, p_12, p_13, p_16, p_17, ...</td>\n",
       "      <td>{source: 1}</td>\n",
       "      <td>{sink: 1}</td>\n",
       "    </tr>\n",
       "    <tr>\n",
       "      <th>0</th>\n",
       "      <td>IMbi_mar</td>\n",
       "      <td>lp_2018.xes</td>\n",
       "      <td></td>\n",
       "      <td>0</td>\n",
       "      <td>0</td>\n",
       "      <td>0.3</td>\n",
       "      <td>0</td>\n",
       "      <td>0.868033</td>\n",
       "      <td>0.867371</td>\n",
       "      <td>0.901481</td>\n",
       "      <td>0.901481</td>\n",
       "      <td>0.884441</td>\n",
       "      <td>0.884097</td>\n",
       "      <td>places: [ p_10, p_12, p_13, p_14, p_3, p_4, p_...</td>\n",
       "      <td>{source: 1}</td>\n",
       "      <td>{sink: 1}</td>\n",
       "    </tr>\n",
       "    <tr>\n",
       "      <th rowspan=\"2\" valign=\"top\">0.5</th>\n",
       "      <th>0</th>\n",
       "      <td>IMbi_ali</td>\n",
       "      <td>lp_2018.xes</td>\n",
       "      <td></td>\n",
       "      <td>0</td>\n",
       "      <td>0</td>\n",
       "      <td>0.5</td>\n",
       "      <td>0</td>\n",
       "      <td>0.868033</td>\n",
       "      <td>0.867371</td>\n",
       "      <td>0.901481</td>\n",
       "      <td>0.901481</td>\n",
       "      <td>0.884441</td>\n",
       "      <td>0.884097</td>\n",
       "      <td>places: [ p_10, p_12, p_13, p_14, p_3, p_4, p_...</td>\n",
       "      <td>{source: 1}</td>\n",
       "      <td>{sink: 1}</td>\n",
       "    </tr>\n",
       "    <tr>\n",
       "      <th>0</th>\n",
       "      <td>IMbi_mar</td>\n",
       "      <td>lp_2018.xes</td>\n",
       "      <td></td>\n",
       "      <td>0</td>\n",
       "      <td>0</td>\n",
       "      <td>0.5</td>\n",
       "      <td>0</td>\n",
       "      <td>0.868033</td>\n",
       "      <td>0.867371</td>\n",
       "      <td>0.901481</td>\n",
       "      <td>0.901481</td>\n",
       "      <td>0.884441</td>\n",
       "      <td>0.884097</td>\n",
       "      <td>places: [ p_10, p_12, p_13, p_14, p_3, p_4, p_...</td>\n",
       "      <td>{source: 1}</td>\n",
       "      <td>{sink: 1}</td>\n",
       "    </tr>\n",
       "  </tbody>\n",
       "</table>\n",
       "</div>"
      ],
      "text/plain": [
       "                                      miner    logP_Name logM_Name  \\\n",
       "logP_Name   logM_Name im_bi_sup                                      \n",
       "lp_2012.xes           0.0       0        IM  lp_2012.xes             \n",
       "                                0       IMF  lp_2012.xes             \n",
       "                                0        HM  lp_2012.xes             \n",
       "                                0  IMbi_ali  lp_2012.xes             \n",
       "                                0  IMbi_mar  lp_2012.xes             \n",
       "                                0        IM  lp_2012.xes             \n",
       "                                0       IMF  lp_2012.xes             \n",
       "                                0        HM  lp_2012.xes             \n",
       "                                0        IM  lp_2012.xes             \n",
       "                                0       IMF  lp_2012.xes             \n",
       "                                0        HM  lp_2012.xes             \n",
       "                                0        IM  lp_2012.xes             \n",
       "                                0       IMF  lp_2012.xes             \n",
       "                                0        HM  lp_2012.xes             \n",
       "                      0.2       0  IMbi_ali  lp_2012.xes             \n",
       "                                0  IMbi_mar  lp_2012.xes             \n",
       "                      0.3       0  IMbi_ali  lp_2012.xes             \n",
       "                                0  IMbi_mar  lp_2012.xes             \n",
       "                      0.5       0  IMbi_ali  lp_2012.xes             \n",
       "                                0  IMbi_mar  lp_2012.xes             \n",
       "lp_2017.xes           0.0       0        IM  lp_2017.xes             \n",
       "                                0       IMF  lp_2017.xes             \n",
       "                                0        HM  lp_2017.xes             \n",
       "                                0  IMbi_ali  lp_2017.xes             \n",
       "                                0  IMbi_mar  lp_2017.xes             \n",
       "                                0        IM  lp_2017.xes             \n",
       "                                0       IMF  lp_2017.xes             \n",
       "                                0        HM  lp_2017.xes             \n",
       "                                0        IM  lp_2017.xes             \n",
       "                                0       IMF  lp_2017.xes             \n",
       "                                0        HM  lp_2017.xes             \n",
       "                                0        IM  lp_2017.xes             \n",
       "                                0       IMF  lp_2017.xes             \n",
       "                                0        HM  lp_2017.xes             \n",
       "                      0.2       0  IMbi_ali  lp_2017.xes             \n",
       "                                0  IMbi_mar  lp_2017.xes             \n",
       "                      0.3       0  IMbi_ali  lp_2017.xes             \n",
       "                                0  IMbi_mar  lp_2017.xes             \n",
       "                      0.5       0  IMbi_ali  lp_2017.xes             \n",
       "                                0  IMbi_mar  lp_2017.xes             \n",
       "lp_2018.xes           0.0       0        IM  lp_2018.xes             \n",
       "                                0       IMF  lp_2018.xes             \n",
       "                                0        HM  lp_2018.xes             \n",
       "                                0  IMbi_ali  lp_2018.xes             \n",
       "                                0  IMbi_mar  lp_2018.xes             \n",
       "                                0        IM  lp_2018.xes             \n",
       "                                0       IMF  lp_2018.xes             \n",
       "                                0        HM  lp_2018.xes             \n",
       "                                0        IM  lp_2018.xes             \n",
       "                                0       IMF  lp_2018.xes             \n",
       "                                0        HM  lp_2018.xes             \n",
       "                                0        IM  lp_2018.xes             \n",
       "                                0       IMF  lp_2018.xes             \n",
       "                                0        HM  lp_2018.xes             \n",
       "                      0.2       0  IMbi_ali  lp_2018.xes             \n",
       "                                0  IMbi_mar  lp_2018.xes             \n",
       "                      0.3       0  IMbi_ali  lp_2018.xes             \n",
       "                                0  IMbi_mar  lp_2018.xes             \n",
       "                      0.5       0  IMbi_ali  lp_2018.xes             \n",
       "                                0  IMbi_mar  lp_2018.xes             \n",
       "\n",
       "                                  imf_noise_thr hm_depen_thr im_bi_sup  \\\n",
       "logP_Name   logM_Name im_bi_sup                                          \n",
       "lp_2012.xes           0.0       0             0            0         0   \n",
       "                                0           0.2            0         0   \n",
       "                                0             0         0.99         0   \n",
       "                                0             0            0         0   \n",
       "                                0             0            0         0   \n",
       "                                0             0            0         0   \n",
       "                                0           0.2            0         0   \n",
       "                                0             0         0.99         0   \n",
       "                                0             0            0         0   \n",
       "                                0           0.2            0         0   \n",
       "                                0             0         0.99         0   \n",
       "                                0             0            0         0   \n",
       "                                0           0.2            0         0   \n",
       "                                0             0         0.99         0   \n",
       "                      0.2       0             0            0       0.2   \n",
       "                                0             0            0       0.2   \n",
       "                      0.3       0             0            0       0.3   \n",
       "                                0             0            0       0.3   \n",
       "                      0.5       0             0            0       0.5   \n",
       "                                0             0            0       0.5   \n",
       "lp_2017.xes           0.0       0             0            0         0   \n",
       "                                0           0.2            0         0   \n",
       "                                0             0         0.99         0   \n",
       "                                0             0            0         0   \n",
       "                                0             0            0         0   \n",
       "                                0             0            0         0   \n",
       "                                0           0.2            0         0   \n",
       "                                0             0         0.99         0   \n",
       "                                0             0            0         0   \n",
       "                                0           0.2            0         0   \n",
       "                                0             0         0.99         0   \n",
       "                                0             0            0         0   \n",
       "                                0           0.2            0         0   \n",
       "                                0             0         0.99         0   \n",
       "                      0.2       0             0            0       0.2   \n",
       "                                0             0            0       0.2   \n",
       "                      0.3       0             0            0       0.3   \n",
       "                                0             0            0       0.3   \n",
       "                      0.5       0             0            0       0.5   \n",
       "                                0             0            0       0.5   \n",
       "lp_2018.xes           0.0       0             0            0         0   \n",
       "                                0           0.2            0         0   \n",
       "                                0             0         0.99         0   \n",
       "                                0             0            0         0   \n",
       "                                0             0            0         0   \n",
       "                                0             0            0         0   \n",
       "                                0           0.2            0         0   \n",
       "                                0             0         0.99         0   \n",
       "                                0             0            0         0   \n",
       "                                0           0.2            0         0   \n",
       "                                0             0         0.99         0   \n",
       "                                0             0            0         0   \n",
       "                                0           0.2            0         0   \n",
       "                                0             0         0.99         0   \n",
       "                      0.2       0             0            0       0.2   \n",
       "                                0             0            0       0.2   \n",
       "                      0.3       0             0            0       0.3   \n",
       "                                0             0            0       0.3   \n",
       "                      0.5       0             0            0       0.5   \n",
       "                                0             0            0       0.5   \n",
       "\n",
       "                                  im_bi_ratio   fit_tok  fit_alig  prec_tok  \\\n",
       "logP_Name   logM_Name im_bi_sup                                               \n",
       "lp_2012.xes           0.0       0           0  1.000000  0.999975  0.978462   \n",
       "                                0           0  0.998129  0.998613  0.977643   \n",
       "                                0           0  0.895280  0.867262  1.000000   \n",
       "                                0           0  1.000000  0.999960  0.682827   \n",
       "                                0           0  1.000000  0.999930  0.716316   \n",
       "                                0           0  1.000000  0.999975  0.978462   \n",
       "                                0           0  0.998129  0.998613  0.977643   \n",
       "                                0           0  0.895280  0.867262  1.000000   \n",
       "                                0           0  1.000000  0.999975  0.978462   \n",
       "                                0           0  0.998129  0.998613  0.977643   \n",
       "                                0           0  0.895280  0.867262  1.000000   \n",
       "                                0           0  1.000000  0.999975  0.978462   \n",
       "                                0           0  0.998129  0.998613  0.977643   \n",
       "                                0           0  0.895280  0.867262  1.000000   \n",
       "                      0.2       0           0  1.000000  0.999958  0.682827   \n",
       "                                0           0  0.989393  0.987099  0.745194   \n",
       "                      0.3       0           0  0.991197  0.988460  0.689923   \n",
       "                                0           0  0.988836  0.987102  0.846963   \n",
       "                      0.5       0           0  0.961017  0.951493  0.733685   \n",
       "                                0           0  0.938168  0.927234  0.857388   \n",
       "lp_2017.xes           0.0       0           0  1.000000  0.999921  0.492539   \n",
       "                                0           0  0.971095  0.961927  0.540599   \n",
       "                                0           0  0.898145  0.605225  0.999467   \n",
       "                                0           0  1.000000  0.999879  0.509795   \n",
       "                                0           0  1.000000  0.999925  0.498074   \n",
       "                                0           0  1.000000  0.999921  0.492539   \n",
       "                                0           0  0.971095  0.961927  0.540599   \n",
       "                                0           0  0.844251  0.605225  0.999467   \n",
       "                                0           0  1.000000  0.999921  0.492539   \n",
       "                                0           0  0.971095  0.961927  0.540599   \n",
       "                                0           0  0.898145  0.605225  0.999467   \n",
       "                                0           0  1.000000  0.999921  0.492539   \n",
       "                                0           0  0.971095  0.961927  0.540599   \n",
       "                                0           0  0.898145  0.605225  0.999467   \n",
       "                      0.2       0           0  0.959056  0.955833  0.668667   \n",
       "                                0           0  0.973729  0.937582  0.684525   \n",
       "                      0.3       0           0  0.929154  0.929601  0.812575   \n",
       "                                0           0  0.973729  0.937582  0.684525   \n",
       "                      0.5       0           0  0.868466  0.879776  0.864722   \n",
       "                                0           0  0.909699  0.890847  0.977955   \n",
       "lp_2018.xes           0.0       0           0  1.000000  0.999896  0.383235   \n",
       "                                0           0  0.998372  0.997275  0.515132   \n",
       "                                0           0  0.957687  0.000000  0.934827   \n",
       "                                0           0  0.990839  0.984197  0.661360   \n",
       "                                0           0  0.989696  0.984242  0.610729   \n",
       "                                0           0  1.000000  0.999896  0.383235   \n",
       "                                0           0  0.998372  0.997275  0.515132   \n",
       "                                0           0  0.957687  0.000000  0.934827   \n",
       "                                0           0  1.000000  0.999896  0.383235   \n",
       "                                0           0  0.998372  0.997275  0.515132   \n",
       "                                0           0  0.957687  0.000000  0.934827   \n",
       "                                0           0  1.000000  0.999896  0.383235   \n",
       "                                0           0  0.998372  0.997275  0.515132   \n",
       "                                0           0  0.957687  0.000000  0.934827   \n",
       "                      0.2       0           0  0.977823  0.972895  0.867943   \n",
       "                                0           0  0.980113  0.957753  0.916124   \n",
       "                      0.3       0           0  0.873172  0.882260  0.875717   \n",
       "                                0           0  0.868033  0.867371  0.901481   \n",
       "                      0.5       0           0  0.868033  0.867371  0.901481   \n",
       "                                0           0  0.868033  0.867371  0.901481   \n",
       "\n",
       "                                   prec_alig    f1_tok   f1_alig  \\\n",
       "logP_Name   logM_Name im_bi_sup                                    \n",
       "lp_2012.xes           0.0       0   0.978462  0.989114  0.989102   \n",
       "                                0   0.977643  0.987780  0.988017   \n",
       "                                0   1.000000  0.944747  0.928913   \n",
       "                                0   0.682827  0.811524  0.811510   \n",
       "                                0   0.716316  0.834713  0.834689   \n",
       "                                0   0.978462  0.989114  0.989102   \n",
       "                                0   0.977643  0.987780  0.988017   \n",
       "                                0   1.000000  0.944747  0.928913   \n",
       "                                0   0.978462  0.989114  0.989102   \n",
       "                                0   0.977643  0.987780  0.988017   \n",
       "                                0   1.000000  0.944747  0.928913   \n",
       "                                0   0.978462  0.989114  0.989102   \n",
       "                                0   0.977643  0.987780  0.988017   \n",
       "                                0   1.000000  0.944747  0.928913   \n",
       "                      0.2       0   0.682827  0.811524  0.811510   \n",
       "                                0   0.745194  0.850104  0.849256   \n",
       "                      0.3       0   0.689923  0.813565  0.812641   \n",
       "                                0   0.846963  0.912418  0.911679   \n",
       "                      0.5       0   0.733685  0.832104  0.828513   \n",
       "                                0   0.857388  0.895961  0.890944   \n",
       "lp_2017.xes           0.0       0   0.492539  0.660001  0.659984   \n",
       "                                0   0.540599  0.694550  0.692190   \n",
       "                                0   0.999467  0.946101  0.753917   \n",
       "                                0   0.509795  0.675317  0.675289   \n",
       "                                0   0.498074  0.664953  0.664936   \n",
       "                                0   0.492539  0.660001  0.659984   \n",
       "                                0   0.540599  0.694550  0.692190   \n",
       "                                0   0.999467  0.915325  0.753917   \n",
       "                                0   0.492539  0.660001  0.659984   \n",
       "                                0   0.540599  0.694550  0.692190   \n",
       "                                0   0.999467  0.946101  0.753917   \n",
       "                                0   0.492539  0.660001  0.659984   \n",
       "                                0   0.540599  0.694550  0.692190   \n",
       "                                0   0.999467  0.946101  0.753917   \n",
       "                      0.2       0   0.668667  0.787959  0.786868   \n",
       "                                0   0.684525  0.803908  0.791314   \n",
       "                      0.3       0   0.812575  0.866963  0.867158   \n",
       "                                0   0.684525  0.803908  0.791314   \n",
       "                      0.5       0   0.864722  0.866590  0.872184   \n",
       "                                0   0.977955  0.942593  0.932371   \n",
       "lp_2018.xes           0.0       0   0.383235  0.554115  0.554099   \n",
       "                                0   0.515132  0.679606  0.679352   \n",
       "                                0   0.000000  0.946119  0.000000   \n",
       "                                0   0.661360  0.793247  0.791110   \n",
       "                                0   0.610729  0.755344  0.753750   \n",
       "                                0   0.383235  0.554115  0.554099   \n",
       "                                0   0.515132  0.679606  0.679352   \n",
       "                                0   0.000000  0.946119  0.000000   \n",
       "                                0   0.383235  0.554115  0.554099   \n",
       "                                0   0.515132  0.679606  0.679352   \n",
       "                                0   0.000000  0.946119  0.000000   \n",
       "                                0   0.383235  0.554115  0.554099   \n",
       "                                0   0.515132  0.679606  0.679352   \n",
       "                                0   0.000000  0.946119  0.000000   \n",
       "                      0.2       0   0.867943  0.919612  0.917427   \n",
       "                                0   0.916124  0.947038  0.936476   \n",
       "                      0.3       0   0.875717  0.874443  0.878976   \n",
       "                                0   0.901481  0.884441  0.884097   \n",
       "                      0.5       0   0.901481  0.884441  0.884097   \n",
       "                                0   0.901481  0.884441  0.884097   \n",
       "\n",
       "                                                                                 net  \\\n",
       "logP_Name   logM_Name im_bi_sup                                                        \n",
       "lp_2012.xes           0.0       0  places: [ p_12, p_13, p_14, p_15, p_3, p_4, p_...   \n",
       "                                0  places: [ p_12, p_13, p_14, p_15, p_3, p_4, p_...   \n",
       "                                0  places: [ intplace_A_ACCEPTED, intplace_A_PART...   \n",
       "                                0  places: [ p_11, p_12, p_13, p_14, p_15, p_3, p...   \n",
       "                                0  places: [ p_10, p_11, p_13, p_14, p_16, p_3, p...   \n",
       "                                0  places: [ p_12, p_13, p_14, p_15, p_3, p_4, p_...   \n",
       "                                0  places: [ p_12, p_13, p_14, p_15, p_3, p_4, p_...   \n",
       "                                0  places: [ intplace_A_ACCEPTED, intplace_A_PART...   \n",
       "                                0  places: [ p_12, p_13, p_14, p_15, p_3, p_4, p_...   \n",
       "                                0  places: [ p_12, p_13, p_14, p_15, p_3, p_4, p_...   \n",
       "                                0  places: [ intplace_A_ACCEPTED, intplace_A_PART...   \n",
       "                                0  places: [ p_12, p_13, p_14, p_15, p_3, p_4, p_...   \n",
       "                                0  places: [ p_12, p_13, p_14, p_15, p_3, p_4, p_...   \n",
       "                                0  places: [ intplace_A_ACCEPTED, intplace_A_PART...   \n",
       "                      0.2       0  places: [ p_11, p_12, p_13, p_14, p_15, p_3, p...   \n",
       "                                0  places: [ p_10, p_12, p_13, p_14, p_3, p_4, p_...   \n",
       "                      0.3       0  places: [ p_11, p_12, p_13, p_14, p_15, p_3, p...   \n",
       "                                0  places: [ p_10, p_11, p_12, p_13, p_14, p_15, ...   \n",
       "                      0.5       0  places: [ p_11, p_12, p_13, p_14, p_15, p_3, p...   \n",
       "                                0  places: [ p_10, p_11, p_12, p_13, p_3, p_4, p_...   \n",
       "lp_2017.xes           0.0       0  places: [ p_11, p_12, p_13, p_14, p_15, p_16, ...   \n",
       "                                0  places: [ p_10, p_14, p_15, p_17, p_22, p_23, ...   \n",
       "                                0  places: [ intplace_A_Complete, intplace_A_Inco...   \n",
       "                                0  places: [ p_10, p_11, p_12, p_13, p_14, p_15, ...   \n",
       "                                0  places: [ p_10, p_11, p_12, p_13, p_14, p_15, ...   \n",
       "                                0  places: [ p_11, p_12, p_13, p_14, p_15, p_16, ...   \n",
       "                                0  places: [ p_10, p_14, p_15, p_17, p_22, p_23, ...   \n",
       "                                0  places: [ intplace_A_Complete, intplace_A_Inco...   \n",
       "                                0  places: [ p_11, p_12, p_13, p_14, p_15, p_16, ...   \n",
       "                                0  places: [ p_10, p_14, p_15, p_17, p_22, p_23, ...   \n",
       "                                0  places: [ intplace_A_Complete, intplace_A_Inco...   \n",
       "                                0  places: [ p_11, p_12, p_13, p_14, p_15, p_16, ...   \n",
       "                                0  places: [ p_10, p_14, p_15, p_17, p_22, p_23, ...   \n",
       "                                0  places: [ intplace_A_Complete, intplace_A_Inco...   \n",
       "                      0.2       0  places: [ p_10, p_11, p_12, p_13, p_14, p_18, ...   \n",
       "                                0  places: [ p_11, p_12, p_4, p_5, p_6, p_7, p_8,...   \n",
       "                      0.3       0  places: [ p_10, p_11, p_15, p_16, p_18, p_19, ...   \n",
       "                                0  places: [ p_11, p_12, p_4, p_5, p_6, p_7, p_8,...   \n",
       "                      0.5       0  places: [ p_11, p_13, p_14, p_15, p_16, p_17, ...   \n",
       "                                0  places: [ p_11, p_12, p_14, p_4, p_5, p_6, p_7...   \n",
       "lp_2018.xes           0.0       0  places: [ p_10, p_15, p_16, p_17, p_18, p_22, ...   \n",
       "                                0  places: [ p_10, p_11, p_15, p_16, p_20, p_21, ...   \n",
       "                                0  places: [ intplace_begin payment, intplace_cal...   \n",
       "                                0  places: [ p_10, p_11, p_12, p_13, p_14, p_15, ...   \n",
       "                                0  places: [ p_10, p_11, p_13, p_14, p_15, p_16, ...   \n",
       "                                0  places: [ p_10, p_15, p_16, p_17, p_18, p_22, ...   \n",
       "                                0  places: [ p_10, p_11, p_15, p_16, p_20, p_21, ...   \n",
       "                                0  places: [ intplace_begin payment, intplace_cal...   \n",
       "                                0  places: [ p_10, p_15, p_16, p_17, p_18, p_22, ...   \n",
       "                                0  places: [ p_10, p_11, p_15, p_16, p_20, p_21, ...   \n",
       "                                0  places: [ intplace_begin payment, intplace_cal...   \n",
       "                                0  places: [ p_10, p_15, p_16, p_17, p_18, p_22, ...   \n",
       "                                0  places: [ p_10, p_11, p_15, p_16, p_20, p_21, ...   \n",
       "                                0  places: [ intplace_begin payment, intplace_cal...   \n",
       "                      0.2       0  places: [ p_10, p_11, p_14, p_15, p_22, p_23, ...   \n",
       "                                0  places: [ p_11, p_12, p_15, p_18, p_19, p_3, p...   \n",
       "                      0.3       0  places: [ p_10, p_11, p_12, p_13, p_16, p_17, ...   \n",
       "                                0  places: [ p_10, p_12, p_13, p_14, p_3, p_4, p_...   \n",
       "                      0.5       0  places: [ p_10, p_12, p_13, p_14, p_3, p_4, p_...   \n",
       "                                0  places: [ p_10, p_12, p_13, p_14, p_3, p_4, p_...   \n",
       "\n",
       "                                             im          fm  \n",
       "logP_Name   logM_Name im_bi_sup                              \n",
       "lp_2012.xes           0.0       0   {source: 1}   {sink: 1}  \n",
       "                                0   {source: 1}   {sink: 1}  \n",
       "                                0  {source0: 1}  {sink0: 1}  \n",
       "                                0   {source: 1}   {sink: 1}  \n",
       "                                0   {source: 1}   {sink: 1}  \n",
       "                                0   {source: 1}   {sink: 1}  \n",
       "                                0   {source: 1}   {sink: 1}  \n",
       "                                0  {source0: 1}  {sink0: 1}  \n",
       "                                0   {source: 1}   {sink: 1}  \n",
       "                                0   {source: 1}   {sink: 1}  \n",
       "                                0  {source0: 1}  {sink0: 1}  \n",
       "                                0   {source: 1}   {sink: 1}  \n",
       "                                0   {source: 1}   {sink: 1}  \n",
       "                                0  {source0: 1}  {sink0: 1}  \n",
       "                      0.2       0   {source: 1}   {sink: 1}  \n",
       "                                0   {source: 1}   {sink: 1}  \n",
       "                      0.3       0   {source: 1}   {sink: 1}  \n",
       "                                0   {source: 1}   {sink: 1}  \n",
       "                      0.5       0   {source: 1}   {sink: 1}  \n",
       "                                0   {source: 1}   {sink: 1}  \n",
       "lp_2017.xes           0.0       0   {source: 1}   {sink: 1}  \n",
       "                                0   {source: 1}   {sink: 1}  \n",
       "                                0  {source0: 1}  {sink0: 1}  \n",
       "                                0   {source: 1}   {sink: 1}  \n",
       "                                0   {source: 1}   {sink: 1}  \n",
       "                                0   {source: 1}   {sink: 1}  \n",
       "                                0   {source: 1}   {sink: 1}  \n",
       "                                0  {source0: 1}  {sink0: 1}  \n",
       "                                0   {source: 1}   {sink: 1}  \n",
       "                                0   {source: 1}   {sink: 1}  \n",
       "                                0  {source0: 1}  {sink0: 1}  \n",
       "                                0   {source: 1}   {sink: 1}  \n",
       "                                0   {source: 1}   {sink: 1}  \n",
       "                                0  {source0: 1}  {sink0: 1}  \n",
       "                      0.2       0   {source: 1}   {sink: 1}  \n",
       "                                0   {source: 1}   {sink: 1}  \n",
       "                      0.3       0   {source: 1}   {sink: 1}  \n",
       "                                0   {source: 1}   {sink: 1}  \n",
       "                      0.5       0   {source: 1}   {sink: 1}  \n",
       "                                0   {source: 1}   {sink: 1}  \n",
       "lp_2018.xes           0.0       0   {source: 1}   {sink: 1}  \n",
       "                                0   {source: 1}   {sink: 1}  \n",
       "                                0  {source0: 1}  {sink0: 1}  \n",
       "                                0   {source: 1}   {sink: 1}  \n",
       "                                0   {source: 1}   {sink: 1}  \n",
       "                                0   {source: 1}   {sink: 1}  \n",
       "                                0   {source: 1}   {sink: 1}  \n",
       "                                0  {source0: 1}  {sink0: 1}  \n",
       "                                0   {source: 1}   {sink: 1}  \n",
       "                                0   {source: 1}   {sink: 1}  \n",
       "                                0  {source0: 1}  {sink0: 1}  \n",
       "                                0   {source: 1}   {sink: 1}  \n",
       "                                0   {source: 1}   {sink: 1}  \n",
       "                                0  {source0: 1}  {sink0: 1}  \n",
       "                      0.2       0   {source: 1}   {sink: 1}  \n",
       "                                0   {source: 1}   {sink: 1}  \n",
       "                      0.3       0   {source: 1}   {sink: 1}  \n",
       "                                0   {source: 1}   {sink: 1}  \n",
       "                      0.5       0   {source: 1}   {sink: 1}  \n",
       "                                0   {source: 1}   {sink: 1}  "
      ]
     },
     "metadata": {},
     "output_type": "display_data"
    },
    {
     "data": {
      "image/png": "[encoded data removed]",
      "text/plain": [
       "<Figure size 1500x1600 with 12 Axes>"
      ]
     },
     "metadata": {},
     "output_type": "display_data"
    },
    {
     "data": {
      "image/png": "[encoded data removed]",
      "text/plain": [
       "<Figure size 1500x1600 with 12 Axes>"
      ]
     },
     "metadata": {},
     "output_type": "display_data"
    }
   ],
   "source": [
    "if runSingleLog == False:\n",
    "  displayDoubleLog(df)\n",
    "else:\n",
    "  displaySingleLog(df)"
   ]
  },
  {
   "cell_type": "code",
   "execution_count": 266,
   "metadata": {},
   "outputs": [],
   "source": [
    "if False:\n",
    "  if runSingleLog == False:\n",
    "    visualize_petriNet(df, \"IM\", \"lp_2012.xes\", \"\")\n",
    "    visualize_petriNet(df, \"IMbi_mar\", \"lp_2012\", \"lm_2012\")\n",
    "    visualize_petriNet(df, \"IMbi_ali\", \"lp_2012\", \"lm_2012\")\n",
    "  else:\n",
    "    visualize_petriNet(df, \"IM\", \"lp_2012.xes\", \"\")\n",
    "    visualize_petriNet(df, \"IMbi_mar\", \"lp_2012.xes\", \"\")\n",
    "    visualize_petriNet(df, \"IMbi_ali\", \"lp_2012.xes\", \"\")\n"
   ]
  },
  {
   "cell_type": "code",
   "execution_count": 267,
   "metadata": {},
   "outputs": [],
   "source": [
    "if False:\n",
    "  display(df)"
   ]
  },
  {
   "attachments": {},
   "cell_type": "markdown",
   "metadata": {},
   "source": [
    "from pm4py.objects.petri_net.exporter import exporter as pnml_exporter\n",
    "\n",
    "net, im, fm = df.iloc[4].net, df.iloc[4].im, df.iloc[4].fm\n",
    "view_petri_net(net, im, fm)\n",
    "pnml_exporter.apply(net, im, \"petri_IMbi.pnml\", final_marking=fm)"
   ]
  },
  {
   "cell_type": "code",
   "execution_count": null,
   "metadata": {},
   "outputs": [],
   "source": []
  }
 ],
 "metadata": {
  "kernelspec": {
   "display_name": "Python 3 (ipykernel)",
   "language": "python",
   "name": "python3"
  },
  "language_info": {
   "codemirror_mode": {
    "name": "ipython",
    "version": 3
   },
   "file_extension": ".py",
   "mimetype": "text/x-python",
   "name": "python",
   "nbconvert_exporter": "python",
   "pygments_lexer": "ipython3",
   "version": "3.8.5"
  }
 },
 "nbformat": 4,
 "nbformat_minor": 2
}
