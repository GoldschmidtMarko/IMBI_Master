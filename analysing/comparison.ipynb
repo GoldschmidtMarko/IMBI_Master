{
 "cells": [
  {
   "attachments": {},
   "cell_type": "markdown",
   "metadata": {},
   "source": [
    "# This file compares and analyses the IMBI_Marko miner"
   ]
  },
  {
   "cell_type": "code",
   "execution_count": 1,
   "metadata": {},
   "outputs": [],
   "source": [
    "import sys\n",
    "# caution: path[0] is reserved for script path (or '' in REPL)\n",
    "sys.path.insert(1, 'C:/Users/Marko/Desktop/GIt/IMBI_Master')"
   ]
  },
  {
   "cell_type": "code",
   "execution_count": 2,
   "metadata": {},
   "outputs": [],
   "source": [
    "from local_pm4py.algo.discovery.inductive import algorithm as inductive_miner\n",
    "from pm4py.objects.log.importer.xes import importer as xes_importer\n",
    "from local_pm4py.algo.analysis import custom_enum\n",
    "from pm4py.visualization.petri_net import visualizer as pn_visualizer\n",
    "from pm4py import view_petri_net\n",
    "from pm4py.algo.evaluation.replay_fitness import algorithm as replay_fitness_evaluator\n",
    "from pm4py import precision_alignments\n",
    "from pm4py import precision_token_based_replay\n",
    "from pm4py import discover_petri_net_heuristics\n",
    "from pm4py.convert import convert_to_petri_net\n",
    "from pm4py.algo.discovery.inductive import algorithm as pm4py_algorithm\n",
    "from pm4py.algo.discovery.inductive.variants import imf as pm4py_imf\n",
    "import pandas as pd\n",
    "from pm4py.algo.discovery.inductive.algorithm import Variants as ind_Variants\n",
    "from local_pm4py.algo.analysis import Optimzation_Goals\n",
    "import matplotlib.pyplot as plt\n",
    "import numpy as np\n",
    "import math\n",
    "import fpdf\n",
    "from PIL import Image\n",
    "import os"
   ]
  },
  {
   "cell_type": "code",
   "execution_count": 3,
   "metadata": {},
   "outputs": [],
   "source": [
    "def f1_score(a, b):\n",
    "  # try: catch\n",
    "  if math.isclose(a+b,0):\n",
    "    return 0\n",
    "  return 2 * (a * b) / (a + b)"
   ]
  },
  {
   "cell_type": "code",
   "execution_count": 4,
   "metadata": {},
   "outputs": [],
   "source": [
    "def visualize_cuts(fileName):\n",
    "  pdf = fpdf.FPDF(format='letter') #pdf format\n",
    "  pdf.add_page() #create new page\n",
    "  pdf.set_font(\"Arial\", size=8) # font and textsize\n",
    "\n",
    "  i = 0\n",
    "  try:\n",
    "    while(True):\n",
    "      with open(\"imbi_cuts/cut\" + str(i) + \".txt\") as f:\n",
    "        pdf.cell(150, 4, txt=\"Cut: \" + str(i + 1), ln=1, align=\"C\")\n",
    "        pdf.cell(1000, 4, txt=\"cut | type | cost_p | cost_m | cost_ratio\", ln=1, align=\"L\")\n",
    "        pdf.cell(1000, 4, txt=\"\", ln=1, align=\"L\")\n",
    "        lines = f.readlines()\n",
    "        readLines = 0\n",
    "        for line in lines:\n",
    "          if readLines == 0:\n",
    "            outputLine = line.replace(\" \", \" | \")\n",
    "          else:\n",
    "            outputLine = line\n",
    "          pdf.cell(1000, 4, txt=outputLine, ln=1, align=\"L\")\n",
    "          readLines += 1\n",
    "          if readLines == 3:\n",
    "            readLines = 0\n",
    "            pdf.cell(1000, 4, txt=\"\", ln=1, align=\"L\")\n",
    "        img = Image.open(\"imbi_cuts/cut\" + str(i) + \".png\")\n",
    "        width,height = img.size\n",
    "        # print(width, height)\n",
    "        pdf.image(\"imbi_cuts/cut\" + str(i) + \".png\",w=min(150,width/3),h=min(150,height/3))\n",
    "        pdf.add_page()\n",
    "      i += 1\n",
    "  except:\n",
    "    pdf.output(fileName + \".pdf\")"
   ]
  },
  {
   "cell_type": "code",
   "execution_count": 5,
   "metadata": {},
   "outputs": [],
   "source": [
    "def visualize_petriNet(df, miner, logPName, logMName = \"\"):\n",
    "  df_temp = df[df[\"miner\"] == miner]\n",
    "  df_temp = df_temp[df_temp[\"logM_Name\"] == logMName]\n",
    "  df_temp = df_temp[df_temp[\"logP_Name\"] == logPName]\n",
    "  for net, im, fm in zip(df_temp.net, df_temp.im, df_temp.fm):\n",
    "    print(\"Displaying: \" + str(miner) + \" \" + str(logPName) + \" \" + str(logMName))\n",
    "    view_petri_net(net, im, fm)"
   ]
  },
  {
   "cell_type": "code",
   "execution_count": 6,
   "metadata": {},
   "outputs": [],
   "source": [
    "def visualize_All_petriNet(df, miner):\n",
    "  df_temp = df[df[\"miner\"] == miner]\n",
    "  for logPName, logMName in zip(df_temp.logP_Name, df_temp.logM_Name):\n",
    "    visualize_petriNet(df,miner,logPName,logMName)"
   ]
  },
  {
   "cell_type": "code",
   "execution_count": 7,
   "metadata": {},
   "outputs": [],
   "source": [
    "def runDoubleLogEvaluation(df,log,logM, name,net, im, fm, logPName = \"\",logMName = \"\", imf_noiseThreshold = 0, hm_dependency_threshold = 0,im_bi_sup = 0, im_bi_ratio = 0):\n",
    "  mes = Optimzation_Goals.apply_petri(log,logM,net,im,fm)\n",
    "\n",
    "  df = pd.concat([df, pd.DataFrame.from_records([{\n",
    "    \"miner\" : name,\n",
    "    \"logP_Name\": logPName[:logPName.rfind(\".\")],\n",
    "    \"logM_Name\": logMName[:logMName.rfind(\".\")],\n",
    "    \"imf_noise_thr\" : imf_noiseThreshold,\n",
    "    \"hm_depen_thr\" : hm_dependency_threshold,\n",
    "    \"im_bi_sup\" : im_bi_sup,\n",
    "    \"im_bi_ratio\" : im_bi_ratio,\n",
    "    \"acc_logs\": mes['acc'],\n",
    "    \"fitP\" : mes['fitP'],\n",
    "    \"fitM\" : mes['fitM'],\n",
    "    \"f1_fit_logs\": mes['F1'],\n",
    "    \"precP\" : mes['precision'],\n",
    "    \"net\": net,\n",
    "    \"im\" : im,\n",
    "    \"fm\" : fm\n",
    "  }])])\n",
    "  return df"
   ]
  },
  {
   "cell_type": "code",
   "execution_count": 8,
   "metadata": {},
   "outputs": [],
   "source": [
    "def runSingleLogEvaluation(df,log,logM, name,net, im, fm, logPName = \"\",logMName = \"\", imf_noiseThreshold = 0, hm_dependency_threshold = 0,im_bi_sup = 0, im_bi_ratio = 0):\n",
    "  parameters = {pn_visualizer.Variants.WO_DECORATION.value.Parameters.FORMAT:\"pdf\"}\n",
    "  gviz = pn_visualizer.apply(net, im, fm, parameters=parameters)\n",
    "\n",
    "  try:\n",
    "    fitness_token = replay_fitness_evaluator.apply(log, net, im, fm, variant=replay_fitness_evaluator.Variants.TOKEN_BASED)[\"log_fitness\"]\n",
    "  except:\n",
    "    fitness_token = 0\n",
    "  try:\n",
    "    fitness_align = replay_fitness_evaluator.apply(log, net, im, fm, variant=replay_fitness_evaluator.Variants.ALIGNMENT_BASED)[\"log_fitness\"]\n",
    "  except:\n",
    "    fitness_align = 0\n",
    "    \n",
    "  try:\n",
    "    prec_token = precision_token_based_replay(log, net, im, fm)\n",
    "  except:\n",
    "    prec_token = 0\n",
    "    \n",
    "  try:\n",
    "    prec_alignment = precision_alignments(log, net, im, fm)\n",
    "  except:\n",
    "    prec_alignment = 0\n",
    "\n",
    "  df = pd.concat([df, pd.DataFrame.from_records([{\n",
    "      \"miner\" : name,\n",
    "      \"logP_Name\": logPName,\n",
    "      \"logM_Name\": logMName,\n",
    "      \"imf_noise_thr\" : imf_noiseThreshold,\n",
    "      \"hm_depen_thr\" : hm_dependency_threshold,\n",
    "      \"im_bi_sup\" : im_bi_sup,\n",
    "      \"im_bi_ratio\" : im_bi_ratio,\n",
    "      \"fit_tok\": fitness_token,\n",
    "      \"fit_alig\": fitness_align,\n",
    "      \"prec_tok\": prec_token,\n",
    "      \"prec_alig\": prec_alignment,\n",
    "      \"f1_tok\": f1_score(fitness_token, prec_token),\n",
    "      \"f1_alig\": f1_score(fitness_align, prec_alignment),\n",
    "      \"net\": net,\n",
    "      \"im\" : im,\n",
    "      \"fm\" : fm\n",
    "  }])])\n",
    "  return df"
   ]
  },
  {
   "cell_type": "code",
   "execution_count": 9,
   "metadata": {},
   "outputs": [],
   "source": [
    "def add_Model_To_Database(df,log,logM, name,net, im, fm, logPName = \"\",logMName = \"\", imf_noiseThreshold = 0, hm_dependency_threshold = 0,im_bi_sup = 0, im_bi_ratio = 0):\n",
    "  if logMName == \"\":\n",
    "    df = runSingleLogEvaluation(df,log,logM, name,net, im, fm, logPName,logMName, imf_noiseThreshold, hm_dependency_threshold,im_bi_sup, im_bi_ratio)\n",
    "  else:\n",
    "    df = runDoubleLogEvaluation(df,log,logM, name,net, im, fm, logPName,logMName, imf_noiseThreshold, hm_dependency_threshold,im_bi_sup, im_bi_ratio)\n",
    "  return df"
   ]
  },
  {
   "cell_type": "code",
   "execution_count": 10,
   "metadata": {},
   "outputs": [],
   "source": [
    "def getF1Value(df, miner, logPName, logMName, support, ratio):\n",
    "  dftemp = df[df[\"miner\"] == miner]\n",
    "  dftemp = dftemp[dftemp[\"logP_Name\"] == logPName[:logPName.rfind(\".\")]]\n",
    "  dftemp = dftemp[dftemp[\"logM_Name\"] == logMName[:logPName.rfind(\".\")]]\n",
    "  dftemp = dftemp[dftemp[\"im_bi_sup\"] == support]\n",
    "  dftemp = dftemp[dftemp[\"im_bi_ratio\"] == ratio]\n",
    "  if len(dftemp.index) > 1:\n",
    "    raise Exception(\"Error, too many rows.\")\n",
    "  return dftemp[\"f1_fit_logs\"].iloc[0]\n",
    "\n",
    "# a = getF1Value(df, \"IMbi_ali\", \"lp_2012.\", \"lm_2012.\",0.4,0.3)\n",
    "# b = getF1Value(df, \"IMbi_mar\", \"lp_2012.\", \"lm_2012.\",0.4,0.3)\n",
    "# if int(a) > int(b):\n",
    "#   display(\"test\")\n"
   ]
  },
  {
   "cell_type": "code",
   "execution_count": 11,
   "metadata": {},
   "outputs": [],
   "source": [
    "def applyMinerToLog(df, logPathP, logPathM,logPName, logMName = \"\", noiseThreshold = 0.0, dependency_threshold=0.0, support = 0, ratio = 0):\n",
    "  logP = xes_importer.apply(logPathP)\n",
    "  if logMName == \"\":\n",
    "    logM = logP\n",
    "    # inductive miner\n",
    "    print(\"Running IM\")\n",
    "    pt = pm4py_algorithm.apply(logP,variant=ind_Variants.IM)\n",
    "    net, im, fm = convert_to_petri_net(pt)\n",
    "    df = add_Model_To_Database(df=df, log=logP, logM=logM,net=net,im=im,fm=fm,name=\"IM\",logPName=logPName)\n",
    "    \n",
    "    #imf \n",
    "    print(\"Running IMF\")\n",
    "    parameters = {pm4py_imf.IMFParameters.NOISE_THRESHOLD : noiseThreshold}\n",
    "    pt = pm4py_algorithm.apply(logP,variant=ind_Variants.IMf, parameters=parameters)\n",
    "    net, im, fm = convert_to_petri_net(pt)\n",
    "    df = add_Model_To_Database(df=df, log=logP, logM=logM,net=net,im=im,fm=fm,name=\"IMF\",logPName=logPName,imf_noiseThreshold=noiseThreshold)\n",
    "    \n",
    "    #hm\n",
    "    print(\"Running HM\")\n",
    "    net, im, fm = discover_petri_net_heuristics(logP,dependency_threshold=dependency_threshold)\n",
    "    df = add_Model_To_Database(df=df, log=logP, logM=logM,net=net,im=im,fm=fm,name=\"HM\",logPName=logPName,hm_dependency_threshold=dependency_threshold)\n",
    "  else:\n",
    "    logM = xes_importer.apply(logPathM)\n",
    "    \n",
    "  # imbi_ali\n",
    "  print(\"Running IMbi_ali\")\n",
    "  cost_Variant = custom_enum.Cost_Variant.ACTIVITY_FREQUENCY_SCORE\n",
    "  net, im, fm = inductive_miner.apply_bi(logP,logM, variant=inductive_miner.Variants.IMbi, sup=support, ratio=ratio, size_par=len(logP)/len(logM), cost_Variant=cost_Variant)\n",
    "  df = add_Model_To_Database(df=df,log=logP, logM=logM,net=net,im=im,fm=fm,name=\"IMbi_ali\",logPName=logPName, logMName=logMName,im_bi_sup=support,im_bi_ratio=ratio)\n",
    "  \n",
    "  fileName_cuts_ali = \"cuts_IMbi_ali_sup_\" + str(support) + \"_ratio_\" + str(ratio) + \"_logP_\" + logPName[:logPName.rfind(\".\")] + \"_logM_\" + logMName[:logMName.rfind(\".\")]\n",
    "  visualize_cuts(fileName_cuts_ali)\n",
    "  \n",
    "  for f in os.listdir(\"imbi_cuts\"):\n",
    "    os.remove(os.path.join(\"imbi_cuts\", f))\n",
    "  \n",
    "  #imbi_mar\n",
    "  print(\"Running IMbi_mar\")\n",
    "  cost_Variant = custom_enum.Cost_Variant.ACTIVITY_RELATION_SCORE\n",
    "  net, im, fm = inductive_miner.apply_bi(logP,logM, variant=inductive_miner.Variants.IMbi, sup=support, ratio=ratio, size_par=len(logP)/len(logM), cost_Variant=cost_Variant)\n",
    "  df = add_Model_To_Database(df=df, log=logP, logM=logM,net=net,im=im,fm=fm,name=\"IMbi_mar\",logPName=logPName, logMName=logMName, im_bi_sup=support,im_bi_ratio=ratio)\n",
    "  \n",
    "  fileName_cuts_mar = \"cuts_IMbi_mar_sup_\" + str(support) + \"_ratio_\" + str(ratio) + \"_logP-\" + logPName[:logPName.rfind(\".\")] + \"_logM-\" + logMName[:logMName.rfind(\".\")]\n",
    "  visualize_cuts(fileName_cuts_mar)\n",
    "  \n",
    "  for f in os.listdir(\"imbi_cuts\"):\n",
    "    os.remove(os.path.join(\"imbi_cuts\", f))\n",
    "  \n",
    "  # for double log\n",
    "  marImproved = False\n",
    "  if logMName != \"\":\n",
    "    f1_ali = getF1Value(df,\"IMbi_ali\",logPName,logMName,support,ratio)\n",
    "    f1_mar = getF1Value(df,\"IMbi_mar\",logPName,logMName,support,ratio)\n",
    "    if f1_ali < f1_mar:\n",
    "      display(\"Mar > Ali\")\n",
    "      marImproved = True\n",
    "      if os.path.exists(fileName_cuts_ali+ \".pdf\"):\n",
    "        os.remove(fileName_cuts_ali+ \".pdf\")\n",
    "      if os.path.exists(fileName_cuts_mar+ \".pdf\"):\n",
    "        os.remove(fileName_cuts_mar + \".pdf\")\n",
    "    else:\n",
    "      display(\"Ali > Mar\")\n",
    "  return df, marImproved"
   ]
  },
  {
   "cell_type": "code",
   "execution_count": 12,
   "metadata": {},
   "outputs": [],
   "source": [
    "columns = [\"miner\", \"logP_Name\", \"logM_Name\",\"imf_noise_thr\",\"hm_depen_thr\",\"im_bi_sup\",\"im_bi_ratio\", \"fit_tok\", \"fit_alig\", \"prec_tok\", \"prec_alig\", \"f1_tok\", \"f1_alig\", \"net\", \"im\", \"fm\"]\n",
    "df = pd.DataFrame(data=None, index=None, columns=columns, dtype=None, copy=None)"
   ]
  },
  {
   "cell_type": "code",
   "execution_count": 13,
   "metadata": {},
   "outputs": [],
   "source": [
    "rootPath = \"C:/Users/Marko/Desktop/IMbi_Data/analysing/\"\n",
    "\n",
    "# lpNames = [\"lp_2012.xes\", \"lp_2017.xes\", \"lp_2018.xes\"]\n",
    "lpNames = [\"lp_2012.xes\"]\n",
    "\n",
    "# lMNames = [\"lm_2012.xes\", \"lm_2017.xes\", \"lm_2018.xes\"]\n",
    "lMNames = [\"lm_2012.xes\"]\n",
    "lpPaths = []\n",
    "lmPaths = []\n",
    "\n",
    "for lp in lpNames:\n",
    "  lpPaths.append((lp,rootPath + lp))\n",
    "for lm in lMNames:\n",
    "  lmPaths.append((lm,rootPath + lm))\n",
    "  "
   ]
  },
  {
   "cell_type": "code",
   "execution_count": 14,
   "metadata": {},
   "outputs": [
    {
     "name": "stderr",
     "output_type": "stream",
     "text": [
      "c:\\Users\\Marko\\AppData\\Local\\Programs\\Python\\Python38\\lib\\site-packages\\pm4py\\util\\dt_parsing\\parser.py:76: UserWarning: ISO8601 strings are not fully supported with strpfromiso for Python versions below 3.11\n",
      "  warnings.warn(\n",
      "c:\\Users\\Marko\\AppData\\Local\\Programs\\Python\\Python38\\lib\\site-packages\\tqdm\\auto.py:22: TqdmWarning: IProgress not found. Please update jupyter and ipywidgets. See https://ipywidgets.readthedocs.io/en/stable/user_install.html\n",
      "  from .autonotebook import tqdm as notebook_tqdm\n",
      "parsing log, completed traces :: 100%|██████████| 10556/10556 [00:01<00:00, 8033.48it/s]\n",
      "parsing log, completed traces :: 100%|██████████| 587/587 [00:00<00:00, 2849.42it/s]\n"
     ]
    },
    {
     "name": "stdout",
     "output_type": "stream",
     "text": [
      "Running IMbi_ali\n"
     ]
    },
    {
     "name": "stderr",
     "output_type": "stream",
     "text": [
      "aligning log, completed variants :: 100%|██████████| 25/25 [00:00<00:00, 310.56it/s]\n",
      "computing precision with alignments, completed variants :: 100%|██████████| 43/43 [00:00<00:00, 1036.14it/s]\n",
      "aligning log, completed variants :: 100%|██████████| 49/49 [00:00<00:00, 219.73it/s]\n"
     ]
    },
    {
     "name": "stdout",
     "output_type": "stream",
     "text": [
      "Running IMbi_mar\n"
     ]
    },
    {
     "name": "stderr",
     "output_type": "stream",
     "text": [
      "aligning log, completed variants :: 100%|██████████| 25/25 [00:00<00:00, 208.34it/s]\n",
      "computing precision with alignments, completed variants :: 100%|██████████| 43/43 [00:00<00:00, 977.24it/s]\n",
      "aligning log, completed variants :: 100%|██████████| 49/49 [00:00<00:00, 135.55it/s]\n"
     ]
    },
    {
     "data": {
      "text/plain": [
       "'Ali > Mar'"
      ]
     },
     "metadata": {},
     "output_type": "display_data"
    }
   ],
   "source": [
    "for i in range(0,len(lpPaths)):\n",
    "  for ratio in [0.3]:\n",
    "    for sup in [0.4]:\n",
    "      df, marImproved = applyMinerToLog(df, lpPaths[i][1], lmPaths[i][1], lpPaths[i][0],lmPaths[i][0], 0.2, 0.99, sup, ratio)"
   ]
  },
  {
   "cell_type": "code",
   "execution_count": 14,
   "metadata": {},
   "outputs": [
    {
     "name": "stdout",
     "output_type": "stream",
     "text": [
      "Running: lp_2012.xes 1/36\n",
      "i: 0 ratio: 0 sup: 1\n"
     ]
    },
    {
     "name": "stderr",
     "output_type": "stream",
     "text": [
      "c:\\Users\\Marko\\AppData\\Local\\Programs\\Python\\Python38\\lib\\site-packages\\pm4py\\util\\dt_parsing\\parser.py:76: UserWarning: ISO8601 strings are not fully supported with strpfromiso for Python versions below 3.11\n",
      "  warnings.warn(\n",
      "c:\\Users\\Marko\\AppData\\Local\\Programs\\Python\\Python38\\lib\\site-packages\\tqdm\\auto.py:22: TqdmWarning: IProgress not found. Please update jupyter and ipywidgets. See https://ipywidgets.readthedocs.io/en/stable/user_install.html\n",
      "  from .autonotebook import tqdm as notebook_tqdm\n",
      "parsing log, completed traces :: 100%|██████████| 10556/10556 [00:01<00:00, 7819.27it/s]\n",
      "parsing log, completed traces :: 100%|██████████| 587/587 [00:00<00:00, 2835.76it/s]\n"
     ]
    },
    {
     "name": "stdout",
     "output_type": "stream",
     "text": [
      "Running IMbi_ali\n"
     ]
    },
    {
     "name": "stderr",
     "output_type": "stream",
     "text": [
      "aligning log, completed variants :: 100%|██████████| 25/25 [00:00<00:00, 354.61it/s]\n",
      "computing precision with alignments, completed variants :: 100%|██████████| 43/43 [00:00<00:00, 767.84it/s]\n",
      "aligning log, completed variants :: 100%|██████████| 49/49 [00:00<00:00, 280.80it/s]\n"
     ]
    },
    {
     "name": "stdout",
     "output_type": "stream",
     "text": [
      "Running IMbi_mar\n"
     ]
    },
    {
     "name": "stderr",
     "output_type": "stream",
     "text": [
      "aligning log, completed variants :: 100%|██████████| 25/25 [00:00<00:00, 215.52it/s]\n",
      "computing precision with alignments, completed variants :: 100%|██████████| 43/43 [00:00<00:00, 1036.14it/s]\n",
      "aligning log, completed variants :: 100%|██████████| 49/49 [00:00<00:00, 160.92it/s]\n"
     ]
    },
    {
     "data": {
      "text/plain": [
       "'Mar > Ali'"
      ]
     },
     "metadata": {},
     "output_type": "display_data"
    },
    {
     "name": "stdout",
     "output_type": "stream",
     "text": [
      "Running: lp_2012.xes 2/36\n",
      "i: 0 ratio: 0 sup: 0.8\n"
     ]
    },
    {
     "name": "stderr",
     "output_type": "stream",
     "text": [
      "parsing log, completed traces :: 100%|██████████| 10556/10556 [00:01<00:00, 8351.24it/s]\n",
      "parsing log, completed traces :: 100%|██████████| 587/587 [00:00<00:00, 2736.61it/s]\n"
     ]
    },
    {
     "name": "stdout",
     "output_type": "stream",
     "text": [
      "Running IMbi_ali\n"
     ]
    },
    {
     "name": "stderr",
     "output_type": "stream",
     "text": [
      "aligning log, completed variants :: 100%|██████████| 25/25 [00:00<00:00, 370.38it/s]\n",
      "computing precision with alignments, completed variants :: 100%|██████████| 43/43 [00:00<00:00, 1011.84it/s]\n",
      "aligning log, completed variants :: 100%|██████████| 49/49 [00:00<00:00, 265.58it/s]\n"
     ]
    },
    {
     "name": "stdout",
     "output_type": "stream",
     "text": [
      "Running IMbi_mar\n"
     ]
    },
    {
     "name": "stderr",
     "output_type": "stream",
     "text": [
      "aligning log, completed variants :: 100%|██████████| 25/25 [00:00<00:00, 352.11it/s]\n",
      "computing precision with alignments, completed variants :: 100%|██████████| 43/43 [00:00<00:00, 1023.83it/s]\n",
      "aligning log, completed variants :: 100%|██████████| 49/49 [00:00<00:00, 287.39it/s]\n"
     ]
    },
    {
     "data": {
      "text/plain": [
       "'Mar > Ali'"
      ]
     },
     "metadata": {},
     "output_type": "display_data"
    },
    {
     "name": "stdout",
     "output_type": "stream",
     "text": [
      "Running: lp_2012.xes 3/36\n",
      "i: 0 ratio: 0 sup: 0.4\n"
     ]
    },
    {
     "name": "stderr",
     "output_type": "stream",
     "text": [
      "parsing log, completed traces :: 100%|██████████| 10556/10556 [00:01<00:00, 7683.95it/s]\n",
      "parsing log, completed traces :: 100%|██████████| 587/587 [00:00<00:00, 2680.38it/s]\n"
     ]
    },
    {
     "name": "stdout",
     "output_type": "stream",
     "text": [
      "Running IMbi_ali\n"
     ]
    },
    {
     "name": "stderr",
     "output_type": "stream",
     "text": [
      "aligning log, completed variants :: 100%|██████████| 25/25 [00:00<00:00, 188.68it/s]\n",
      "computing precision with alignments, completed variants :: 100%|██████████| 43/43 [00:00<00:00, 710.76it/s]\n",
      "aligning log, completed variants :: 100%|██████████| 49/49 [00:00<00:00, 166.95it/s]\n"
     ]
    },
    {
     "name": "stdout",
     "output_type": "stream",
     "text": [
      "Running IMbi_mar\n"
     ]
    },
    {
     "name": "stderr",
     "output_type": "stream",
     "text": [
      "aligning log, completed variants :: 100%|██████████| 25/25 [00:00<00:00, 280.90it/s]\n",
      "computing precision with alignments, completed variants :: 100%|██████████| 43/43 [00:00<00:00, 467.40it/s]\n",
      "aligning log, completed variants :: 100%|██████████| 49/49 [00:00<00:00, 212.12it/s]\n"
     ]
    },
    {
     "data": {
      "text/plain": [
       "'Mar > Ali'"
      ]
     },
     "metadata": {},
     "output_type": "display_data"
    },
    {
     "name": "stdout",
     "output_type": "stream",
     "text": [
      "Running: lp_2012.xes 4/36\n",
      "i: 0 ratio: 0.3 sup: 1\n"
     ]
    },
    {
     "name": "stderr",
     "output_type": "stream",
     "text": [
      "parsing log, completed traces :: 100%|██████████| 10556/10556 [00:01<00:00, 7269.97it/s]\n",
      "parsing log, completed traces :: 100%|██████████| 587/587 [00:00<00:00, 2063.27it/s]\n"
     ]
    },
    {
     "name": "stdout",
     "output_type": "stream",
     "text": [
      "Running IMbi_ali\n"
     ]
    },
    {
     "name": "stderr",
     "output_type": "stream",
     "text": [
      "aligning log, completed variants :: 100%|██████████| 25/25 [00:00<00:00, 282.48it/s]\n",
      "computing precision with alignments, completed variants :: 100%|██████████| 43/43 [00:00<00:00, 417.48it/s]\n",
      "aligning log, completed variants :: 100%|██████████| 49/49 [00:00<00:00, 331.08it/s]\n"
     ]
    },
    {
     "name": "stdout",
     "output_type": "stream",
     "text": [
      "Running IMbi_mar\n"
     ]
    },
    {
     "name": "stderr",
     "output_type": "stream",
     "text": [
      "aligning log, completed variants :: 100%|██████████| 25/25 [00:00<00:00, 423.76it/s]\n",
      "computing precision with alignments, completed variants :: 100%|██████████| 43/43 [00:00<00:00, 1194.44it/s]\n",
      "aligning log, completed variants :: 100%|██████████| 49/49 [00:00<00:00, 316.13it/s]\n"
     ]
    },
    {
     "data": {
      "text/plain": [
       "'Mar > Ali'"
      ]
     },
     "metadata": {},
     "output_type": "display_data"
    },
    {
     "name": "stdout",
     "output_type": "stream",
     "text": [
      "Running: lp_2012.xes 5/36\n",
      "i: 0 ratio: 0.3 sup: 0.8\n"
     ]
    },
    {
     "name": "stderr",
     "output_type": "stream",
     "text": [
      "parsing log, completed traces :: 100%|██████████| 10556/10556 [00:01<00:00, 8756.54it/s]\n",
      "parsing log, completed traces :: 100%|██████████| 587/587 [00:00<00:00, 2870.43it/s]\n"
     ]
    },
    {
     "name": "stdout",
     "output_type": "stream",
     "text": [
      "Running IMbi_ali\n"
     ]
    },
    {
     "name": "stderr",
     "output_type": "stream",
     "text": [
      "aligning log, completed variants :: 100%|██████████| 25/25 [00:00<00:00, 387.60it/s]\n",
      "computing precision with alignments, completed variants :: 100%|██████████| 43/43 [00:00<00:00, 1194.48it/s]\n",
      "aligning log, completed variants :: 100%|██████████| 49/49 [00:00<00:00, 333.33it/s]\n"
     ]
    },
    {
     "name": "stdout",
     "output_type": "stream",
     "text": [
      "Running IMbi_mar\n"
     ]
    },
    {
     "name": "stderr",
     "output_type": "stream",
     "text": [
      "aligning log, completed variants :: 100%|██████████| 25/25 [00:00<00:00, 431.04it/s]\n",
      "computing precision with alignments, completed variants :: 100%|██████████| 43/43 [00:00<00:00, 1178.06it/s]\n",
      "aligning log, completed variants :: 100%|██████████| 49/49 [00:00<00:00, 345.07it/s]\n"
     ]
    },
    {
     "data": {
      "text/plain": [
       "'Mar > Ali'"
      ]
     },
     "metadata": {},
     "output_type": "display_data"
    },
    {
     "name": "stdout",
     "output_type": "stream",
     "text": [
      "Running: lp_2012.xes 6/36\n",
      "i: 0 ratio: 0.3 sup: 0.4\n"
     ]
    },
    {
     "name": "stderr",
     "output_type": "stream",
     "text": [
      "parsing log, completed traces :: 100%|██████████| 10556/10556 [00:01<00:00, 7537.31it/s]\n",
      "parsing log, completed traces :: 100%|██████████| 587/587 [00:00<00:00, 2870.44it/s]\n"
     ]
    },
    {
     "name": "stdout",
     "output_type": "stream",
     "text": [
      "Running IMbi_ali\n"
     ]
    },
    {
     "name": "stderr",
     "output_type": "stream",
     "text": [
      "aligning log, completed variants :: 100%|██████████| 25/25 [00:00<00:00, 257.73it/s]\n",
      "computing precision with alignments, completed variants :: 100%|██████████| 43/43 [00:00<00:00, 859.98it/s]\n",
      "aligning log, completed variants :: 100%|██████████| 49/49 [00:00<00:00, 220.22it/s]\n"
     ]
    },
    {
     "name": "stdout",
     "output_type": "stream",
     "text": [
      "Running IMbi_mar\n"
     ]
    },
    {
     "name": "stderr",
     "output_type": "stream",
     "text": [
      "aligning log, completed variants :: 100%|██████████| 25/25 [00:00<00:00, 221.25it/s]\n",
      "computing precision with alignments, completed variants :: 100%|██████████| 43/43 [00:00<00:00, 945.08it/s]\n",
      "aligning log, completed variants :: 100%|██████████| 49/49 [00:00<00:00, 142.03it/s]\n"
     ]
    },
    {
     "data": {
      "text/plain": [
       "'Ali > Mar'"
      ]
     },
     "metadata": {},
     "output_type": "display_data"
    },
    {
     "name": "stdout",
     "output_type": "stream",
     "text": [
      "Running: lp_2012.xes 7/36\n",
      "i: 0 ratio: 0.6 sup: 1\n"
     ]
    },
    {
     "name": "stderr",
     "output_type": "stream",
     "text": [
      "parsing log, completed traces :: 100%|██████████| 10556/10556 [00:01<00:00, 8471.91it/s]\n",
      "parsing log, completed traces :: 100%|██████████| 587/587 [00:00<00:00, 2801.92it/s]\n"
     ]
    },
    {
     "name": "stdout",
     "output_type": "stream",
     "text": [
      "Running IMbi_ali\n"
     ]
    },
    {
     "name": "stderr",
     "output_type": "stream",
     "text": [
      "aligning log, completed variants :: 100%|██████████| 25/25 [00:00<00:00, 416.67it/s]\n",
      "computing precision with alignments, completed variants :: 100%|██████████| 43/43 [00:00<00:00, 1178.09it/s]\n",
      "aligning log, completed variants :: 100%|██████████| 49/49 [00:00<00:00, 343.86it/s]\n"
     ]
    },
    {
     "name": "stdout",
     "output_type": "stream",
     "text": [
      "Running IMbi_mar\n"
     ]
    },
    {
     "name": "stderr",
     "output_type": "stream",
     "text": [
      "aligning log, completed variants :: 100%|██████████| 25/25 [00:00<00:00, 458.72it/s]\n",
      "computing precision with alignments, completed variants :: 100%|██████████| 43/43 [00:00<00:00, 1194.39it/s]\n",
      "aligning log, completed variants :: 100%|██████████| 49/49 [00:00<00:00, 326.66it/s]\n"
     ]
    },
    {
     "data": {
      "text/plain": [
       "'Mar > Ali'"
      ]
     },
     "metadata": {},
     "output_type": "display_data"
    },
    {
     "name": "stdout",
     "output_type": "stream",
     "text": [
      "Running: lp_2012.xes 8/36\n",
      "i: 0 ratio: 0.6 sup: 0.8\n"
     ]
    },
    {
     "name": "stderr",
     "output_type": "stream",
     "text": [
      "parsing log, completed traces :: 100%|██████████| 10556/10556 [00:01<00:00, 7901.20it/s]\n",
      "parsing log, completed traces :: 100%|██████████| 587/587 [00:00<00:00, 2898.73it/s]\n"
     ]
    },
    {
     "name": "stdout",
     "output_type": "stream",
     "text": [
      "Running IMbi_ali\n"
     ]
    },
    {
     "name": "stderr",
     "output_type": "stream",
     "text": [
      "aligning log, completed variants :: 100%|██████████| 25/25 [00:00<00:00, 403.21it/s]\n",
      "computing precision with alignments, completed variants :: 100%|██████████| 43/43 [00:00<00:00, 1228.62it/s]\n",
      "aligning log, completed variants :: 100%|██████████| 49/49 [00:00<00:00, 340.28it/s]\n"
     ]
    },
    {
     "name": "stdout",
     "output_type": "stream",
     "text": [
      "Running IMbi_mar\n"
     ]
    },
    {
     "name": "stderr",
     "output_type": "stream",
     "text": [
      "aligning log, completed variants :: 100%|██████████| 25/25 [00:00<00:00, 381.70it/s]\n",
      "computing precision with alignments, completed variants :: 100%|██████████| 43/43 [00:00<00:00, 1194.47it/s]\n",
      "aligning log, completed variants :: 100%|██████████| 49/49 [00:00<00:00, 339.10it/s]\n"
     ]
    },
    {
     "data": {
      "text/plain": [
       "'Mar > Ali'"
      ]
     },
     "metadata": {},
     "output_type": "display_data"
    },
    {
     "name": "stdout",
     "output_type": "stream",
     "text": [
      "Running: lp_2012.xes 9/36\n",
      "i: 0 ratio: 0.6 sup: 0.4\n"
     ]
    },
    {
     "name": "stderr",
     "output_type": "stream",
     "text": [
      "parsing log, completed traces :: 100%|██████████| 10556/10556 [00:01<00:00, 8321.62it/s]\n",
      "parsing log, completed traces :: 100%|██████████| 587/587 [00:00<00:00, 2227.70it/s]\n"
     ]
    },
    {
     "name": "stdout",
     "output_type": "stream",
     "text": [
      "Running IMbi_ali\n"
     ]
    },
    {
     "name": "stderr",
     "output_type": "stream",
     "text": [
      "aligning log, completed variants :: 100%|██████████| 25/25 [00:00<00:00, 282.49it/s]\n",
      "computing precision with alignments, completed variants :: 100%|██████████| 43/43 [00:00<00:00, 977.21it/s]\n",
      "aligning log, completed variants :: 100%|██████████| 49/49 [00:00<00:00, 167.24it/s]\n"
     ]
    },
    {
     "name": "stdout",
     "output_type": "stream",
     "text": [
      "Running IMbi_mar\n"
     ]
    },
    {
     "name": "stderr",
     "output_type": "stream",
     "text": [
      "aligning log, completed variants :: 100%|██████████| 25/25 [00:00<00:00, 212.73it/s]\n",
      "computing precision with alignments, completed variants :: 100%|██████████| 43/43 [00:00<00:00, 834.99it/s]\n",
      "aligning log, completed variants :: 100%|██████████| 49/49 [00:00<00:00, 139.21it/s]\n"
     ]
    },
    {
     "data": {
      "text/plain": [
       "'Ali > Mar'"
      ]
     },
     "metadata": {},
     "output_type": "display_data"
    },
    {
     "name": "stdout",
     "output_type": "stream",
     "text": [
      "Running: lp_2012.xes 10/36\n",
      "i: 0 ratio: 1 sup: 1\n"
     ]
    },
    {
     "name": "stderr",
     "output_type": "stream",
     "text": [
      "parsing log, completed traces :: 100%|██████████| 10556/10556 [00:01<00:00, 7781.79it/s]\n",
      "parsing log, completed traces :: 100%|██████████| 587/587 [00:00<00:00, 2822.13it/s]\n"
     ]
    },
    {
     "name": "stdout",
     "output_type": "stream",
     "text": [
      "Running IMbi_ali\n"
     ]
    },
    {
     "name": "stderr",
     "output_type": "stream",
     "text": [
      "aligning log, completed variants :: 100%|██████████| 25/25 [00:00<00:00, 384.61it/s]\n",
      "computing precision with alignments, completed variants :: 100%|██████████| 43/43 [00:00<00:00, 1264.68it/s]\n",
      "aligning log, completed variants :: 100%|██████████| 49/49 [00:00<00:00, 334.47it/s]\n"
     ]
    },
    {
     "name": "stdout",
     "output_type": "stream",
     "text": [
      "Running IMbi_mar\n"
     ]
    },
    {
     "name": "stderr",
     "output_type": "stream",
     "text": [
      "aligning log, completed variants :: 100%|██████████| 25/25 [00:00<00:00, 409.85it/s]\n",
      "computing precision with alignments, completed variants :: 100%|██████████| 43/43 [00:00<00:00, 1048.79it/s]\n",
      "aligning log, completed variants :: 100%|██████████| 49/49 [00:00<00:00, 316.13it/s]\n"
     ]
    },
    {
     "data": {
      "text/plain": [
       "'Mar > Ali'"
      ]
     },
     "metadata": {},
     "output_type": "display_data"
    },
    {
     "name": "stdout",
     "output_type": "stream",
     "text": [
      "Running: lp_2012.xes 11/36\n",
      "i: 0 ratio: 1 sup: 0.8\n"
     ]
    },
    {
     "name": "stderr",
     "output_type": "stream",
     "text": [
      "parsing log, completed traces :: 100%|██████████| 10556/10556 [00:01<00:00, 8599.60it/s]\n",
      "parsing log, completed traces :: 100%|██████████| 587/587 [00:00<00:00, 2749.42it/s]\n"
     ]
    },
    {
     "name": "stdout",
     "output_type": "stream",
     "text": [
      "Running IMbi_ali\n"
     ]
    },
    {
     "name": "stderr",
     "output_type": "stream",
     "text": [
      "aligning log, completed variants :: 100%|██████████| 25/25 [00:00<00:00, 384.62it/s]\n",
      "computing precision with alignments, completed variants :: 100%|██████████| 43/43 [00:00<00:00, 1162.17it/s]\n",
      "aligning log, completed variants :: 100%|██████████| 49/49 [00:00<00:00, 343.86it/s]\n"
     ]
    },
    {
     "name": "stdout",
     "output_type": "stream",
     "text": [
      "Running IMbi_mar\n"
     ]
    },
    {
     "name": "stderr",
     "output_type": "stream",
     "text": [
      "aligning log, completed variants :: 100%|██████████| 25/25 [00:00<00:00, 420.17it/s]\n",
      "computing precision with alignments, completed variants :: 100%|██████████| 43/43 [00:00<00:00, 1194.41it/s]\n",
      "aligning log, completed variants :: 100%|██████████| 49/49 [00:00<00:00, 317.15it/s]\n"
     ]
    },
    {
     "data": {
      "text/plain": [
       "'Mar > Ali'"
      ]
     },
     "metadata": {},
     "output_type": "display_data"
    },
    {
     "name": "stdout",
     "output_type": "stream",
     "text": [
      "Running: lp_2012.xes 12/36\n",
      "i: 0 ratio: 1 sup: 0.4\n"
     ]
    },
    {
     "name": "stderr",
     "output_type": "stream",
     "text": [
      "parsing log, completed traces :: 100%|██████████| 10556/10556 [00:01<00:00, 7933.86it/s]\n",
      "parsing log, completed traces :: 100%|██████████| 587/587 [00:00<00:00, 2223.49it/s]\n"
     ]
    },
    {
     "name": "stdout",
     "output_type": "stream",
     "text": [
      "Running IMbi_ali\n"
     ]
    },
    {
     "name": "stderr",
     "output_type": "stream",
     "text": [
      "aligning log, completed variants :: 100%|██████████| 25/25 [00:00<00:00, 270.27it/s]\n",
      "computing precision with alignments, completed variants :: 100%|██████████| 43/43 [00:00<00:00, 977.30it/s]\n",
      "aligning log, completed variants :: 100%|██████████| 49/49 [00:00<00:00, 198.38it/s]\n"
     ]
    },
    {
     "name": "stdout",
     "output_type": "stream",
     "text": [
      "Running IMbi_mar\n"
     ]
    },
    {
     "name": "stderr",
     "output_type": "stream",
     "text": [
      "aligning log, completed variants :: 100%|██████████| 25/25 [00:00<00:00, 222.22it/s]\n",
      "computing precision with alignments, completed variants :: 100%|██████████| 43/43 [00:00<00:00, 934.78it/s]\n",
      "aligning log, completed variants :: 100%|██████████| 49/49 [00:00<00:00, 133.15it/s]\n"
     ]
    },
    {
     "data": {
      "text/plain": [
       "'Ali > Mar'"
      ]
     },
     "metadata": {},
     "output_type": "display_data"
    },
    {
     "name": "stdout",
     "output_type": "stream",
     "text": [
      "Running: lp_2017.xes 13/36\n",
      "i: 1 ratio: 0 sup: 1\n"
     ]
    },
    {
     "name": "stderr",
     "output_type": "stream",
     "text": [
      "parsing log, completed traces :: 100%|██████████| 3000/3000 [00:01<00:00, 1533.35it/s]\n",
      "parsing log, completed traces :: 100%|██████████| 3000/3000 [00:01<00:00, 2035.28it/s]\n"
     ]
    },
    {
     "name": "stdout",
     "output_type": "stream",
     "text": [
      "Running IMbi_ali\n"
     ]
    },
    {
     "name": "stderr",
     "output_type": "stream",
     "text": [
      "aligning log, completed variants :: 100%|██████████| 446/446 [00:02<00:00, 221.23it/s]\n",
      "computing precision with alignments, completed variants :: 100%|██████████| 1199/1199 [00:01<00:00, 798.27it/s]\n",
      "aligning log, completed variants :: 100%|██████████| 82/82 [00:00<00:00, 261.15it/s]\n"
     ]
    },
    {
     "name": "stdout",
     "output_type": "stream",
     "text": [
      "Running IMbi_mar\n"
     ]
    },
    {
     "name": "stderr",
     "output_type": "stream",
     "text": [
      "aligning log, completed variants :: 100%|██████████| 446/446 [00:02<00:00, 159.22it/s]\n",
      "computing precision with alignments, completed variants :: 100%|██████████| 1199/1199 [00:01<00:00, 796.41it/s]\n",
      "aligning log, completed variants :: 100%|██████████| 82/82 [00:00<00:00, 154.72it/s]\n"
     ]
    },
    {
     "data": {
      "text/plain": [
       "'Ali > Mar'"
      ]
     },
     "metadata": {},
     "output_type": "display_data"
    },
    {
     "name": "stdout",
     "output_type": "stream",
     "text": [
      "Running: lp_2017.xes 14/36\n",
      "i: 1 ratio: 0 sup: 0.8\n"
     ]
    },
    {
     "name": "stderr",
     "output_type": "stream",
     "text": [
      "parsing log, completed traces :: 100%|██████████| 3000/3000 [00:01<00:00, 1527.88it/s]\n",
      "parsing log, completed traces :: 100%|██████████| 3000/3000 [00:01<00:00, 1895.74it/s]\n"
     ]
    },
    {
     "name": "stdout",
     "output_type": "stream",
     "text": [
      "Running IMbi_ali\n"
     ]
    },
    {
     "name": "stderr",
     "output_type": "stream",
     "text": [
      "aligning log, completed variants :: 100%|██████████| 446/446 [00:02<00:00, 212.63it/s]\n",
      "computing precision with alignments, completed variants :: 100%|██████████| 1199/1199 [00:01<00:00, 781.62it/s]\n",
      "aligning log, completed variants :: 100%|██████████| 82/82 [00:00<00:00, 267.10it/s]\n"
     ]
    },
    {
     "name": "stdout",
     "output_type": "stream",
     "text": [
      "Running IMbi_mar\n"
     ]
    },
    {
     "name": "stderr",
     "output_type": "stream",
     "text": [
      "aligning log, completed variants :: 100%|██████████| 446/446 [00:02<00:00, 190.97it/s]\n",
      "computing precision with alignments, completed variants :: 100%|██████████| 1199/1199 [00:01<00:00, 812.61it/s]\n",
      "aligning log, completed variants :: 100%|██████████| 82/82 [00:00<00:00, 269.29it/s]\n"
     ]
    },
    {
     "data": {
      "text/plain": [
       "'Ali > Mar'"
      ]
     },
     "metadata": {},
     "output_type": "display_data"
    },
    {
     "name": "stdout",
     "output_type": "stream",
     "text": [
      "Running: lp_2017.xes 15/36\n",
      "i: 1 ratio: 0 sup: 0.4\n"
     ]
    },
    {
     "name": "stderr",
     "output_type": "stream",
     "text": [
      "parsing log, completed traces :: 100%|██████████| 3000/3000 [00:02<00:00, 1441.27it/s]\n",
      "parsing log, completed traces :: 100%|██████████| 3000/3000 [00:01<00:00, 1842.75it/s]\n"
     ]
    },
    {
     "name": "stdout",
     "output_type": "stream",
     "text": [
      "Running IMbi_ali\n"
     ]
    },
    {
     "name": "stderr",
     "output_type": "stream",
     "text": [
      "aligning log, completed variants :: 100%|██████████| 446/446 [00:05<00:00, 80.59it/s]\n",
      "computing precision with alignments, completed variants :: 100%|██████████| 1199/1199 [00:01<00:00, 772.80it/s]\n",
      "aligning log, completed variants :: 100%|██████████| 82/82 [00:00<00:00, 105.20it/s]\n"
     ]
    },
    {
     "name": "stdout",
     "output_type": "stream",
     "text": [
      "Running IMbi_mar\n"
     ]
    },
    {
     "name": "stderr",
     "output_type": "stream",
     "text": [
      "aligning log, completed variants :: 100%|██████████| 446/446 [00:02<00:00, 165.83it/s]\n",
      "computing precision with alignments, completed variants :: 100%|██████████| 1199/1199 [00:01<00:00, 744.26it/s]\n",
      "aligning log, completed variants :: 100%|██████████| 82/82 [00:00<00:00, 266.67it/s]\n"
     ]
    },
    {
     "data": {
      "text/plain": [
       "'Ali > Mar'"
      ]
     },
     "metadata": {},
     "output_type": "display_data"
    },
    {
     "name": "stdout",
     "output_type": "stream",
     "text": [
      "Running: lp_2017.xes 16/36\n",
      "i: 1 ratio: 0.3 sup: 1\n"
     ]
    },
    {
     "name": "stderr",
     "output_type": "stream",
     "text": [
      "parsing log, completed traces :: 100%|██████████| 3000/3000 [00:02<00:00, 1487.73it/s]\n",
      "parsing log, completed traces :: 100%|██████████| 3000/3000 [00:01<00:00, 1824.26it/s]\n"
     ]
    },
    {
     "name": "stdout",
     "output_type": "stream",
     "text": [
      "Running IMbi_ali\n"
     ]
    },
    {
     "name": "stderr",
     "output_type": "stream",
     "text": [
      "aligning log, completed variants :: 100%|██████████| 446/446 [00:02<00:00, 209.88it/s]\n",
      "computing precision with alignments, completed variants :: 100%|██████████| 1199/1199 [00:01<00:00, 837.00it/s]\n",
      "aligning log, completed variants :: 100%|██████████| 82/82 [00:00<00:00, 258.68it/s]\n"
     ]
    },
    {
     "name": "stdout",
     "output_type": "stream",
     "text": [
      "Running IMbi_mar\n"
     ]
    },
    {
     "name": "stderr",
     "output_type": "stream",
     "text": [
      "aligning log, completed variants :: 100%|██████████| 446/446 [00:02<00:00, 166.60it/s]\n",
      "computing precision with alignments, completed variants :: 100%|██████████| 1199/1199 [00:01<00:00, 719.04it/s]\n",
      "aligning log, completed variants :: 100%|██████████| 82/82 [00:00<00:00, 216.36it/s]\n"
     ]
    },
    {
     "data": {
      "text/plain": [
       "'Ali > Mar'"
      ]
     },
     "metadata": {},
     "output_type": "display_data"
    },
    {
     "name": "stdout",
     "output_type": "stream",
     "text": [
      "Running: lp_2017.xes 17/36\n",
      "i: 1 ratio: 0.3 sup: 0.8\n"
     ]
    },
    {
     "name": "stderr",
     "output_type": "stream",
     "text": [
      "parsing log, completed traces :: 100%|██████████| 3000/3000 [00:01<00:00, 1531.00it/s]\n",
      "parsing log, completed traces :: 100%|██████████| 3000/3000 [00:01<00:00, 1895.13it/s]\n"
     ]
    },
    {
     "name": "stdout",
     "output_type": "stream",
     "text": [
      "Running IMbi_ali\n"
     ]
    },
    {
     "name": "stderr",
     "output_type": "stream",
     "text": [
      "aligning log, completed variants :: 100%|██████████| 446/446 [00:01<00:00, 223.67it/s]\n",
      "computing precision with alignments, completed variants :: 100%|██████████| 1199/1199 [00:01<00:00, 840.22it/s]\n",
      "aligning log, completed variants :: 100%|██████████| 82/82 [00:00<00:00, 275.17it/s]\n"
     ]
    },
    {
     "name": "stdout",
     "output_type": "stream",
     "text": [
      "Running IMbi_mar\n"
     ]
    },
    {
     "name": "stderr",
     "output_type": "stream",
     "text": [
      "aligning log, completed variants :: 100%|██████████| 446/446 [00:02<00:00, 200.67it/s]\n",
      "computing precision with alignments, completed variants :: 100%|██████████| 1199/1199 [00:01<00:00, 877.42it/s]\n",
      "aligning log, completed variants :: 100%|██████████| 82/82 [00:00<00:00, 286.71it/s]\n"
     ]
    },
    {
     "data": {
      "text/plain": [
       "'Ali > Mar'"
      ]
     },
     "metadata": {},
     "output_type": "display_data"
    },
    {
     "name": "stdout",
     "output_type": "stream",
     "text": [
      "Running: lp_2017.xes 18/36\n",
      "i: 1 ratio: 0.3 sup: 0.4\n"
     ]
    },
    {
     "name": "stderr",
     "output_type": "stream",
     "text": [
      "parsing log, completed traces :: 100%|██████████| 3000/3000 [00:02<00:00, 1469.51it/s]\n",
      "parsing log, completed traces :: 100%|██████████| 3000/3000 [00:01<00:00, 1905.97it/s]\n"
     ]
    },
    {
     "name": "stdout",
     "output_type": "stream",
     "text": [
      "Running IMbi_ali\n"
     ]
    },
    {
     "name": "stderr",
     "output_type": "stream",
     "text": [
      "aligning log, completed variants :: 100%|██████████| 446/446 [00:05<00:00, 83.58it/s] \n",
      "computing precision with alignments, completed variants :: 100%|██████████| 1199/1199 [00:01<00:00, 835.54it/s]\n",
      "aligning log, completed variants :: 100%|██████████| 82/82 [00:00<00:00, 113.34it/s]\n"
     ]
    },
    {
     "name": "stdout",
     "output_type": "stream",
     "text": [
      "Running IMbi_mar\n"
     ]
    },
    {
     "name": "stderr",
     "output_type": "stream",
     "text": [
      "aligning log, completed variants :: 100%|██████████| 446/446 [00:02<00:00, 174.25it/s]\n",
      "computing precision with alignments, completed variants :: 100%|██████████| 1199/1199 [00:01<00:00, 722.51it/s]\n",
      "aligning log, completed variants :: 100%|██████████| 82/82 [00:00<00:00, 271.98it/s]\n"
     ]
    },
    {
     "data": {
      "text/plain": [
       "'Ali > Mar'"
      ]
     },
     "metadata": {},
     "output_type": "display_data"
    },
    {
     "name": "stdout",
     "output_type": "stream",
     "text": [
      "Running: lp_2017.xes 19/36\n",
      "i: 1 ratio: 0.6 sup: 1\n"
     ]
    },
    {
     "name": "stderr",
     "output_type": "stream",
     "text": [
      "parsing log, completed traces :: 100%|██████████| 3000/3000 [00:01<00:00, 1555.21it/s]\n",
      "parsing log, completed traces :: 100%|██████████| 3000/3000 [00:01<00:00, 1862.20it/s]\n"
     ]
    },
    {
     "name": "stdout",
     "output_type": "stream",
     "text": [
      "Running IMbi_ali\n"
     ]
    },
    {
     "name": "stderr",
     "output_type": "stream",
     "text": [
      "aligning log, completed variants :: 100%|██████████| 446/446 [00:02<00:00, 218.95it/s]\n",
      "computing precision with alignments, completed variants :: 100%|██████████| 1199/1199 [00:01<00:00, 796.94it/s]\n",
      "aligning log, completed variants :: 100%|██████████| 82/82 [00:00<00:00, 276.56it/s]\n"
     ]
    },
    {
     "name": "stdout",
     "output_type": "stream",
     "text": [
      "Running IMbi_mar\n"
     ]
    },
    {
     "name": "stderr",
     "output_type": "stream",
     "text": [
      "aligning log, completed variants :: 100%|██████████| 446/446 [00:02<00:00, 166.79it/s]\n",
      "computing precision with alignments, completed variants :: 100%|██████████| 1199/1199 [00:01<00:00, 839.93it/s]\n",
      "aligning log, completed variants :: 100%|██████████| 82/82 [00:00<00:00, 225.58it/s]\n"
     ]
    },
    {
     "data": {
      "text/plain": [
       "'Ali > Mar'"
      ]
     },
     "metadata": {},
     "output_type": "display_data"
    },
    {
     "name": "stdout",
     "output_type": "stream",
     "text": [
      "Running: lp_2017.xes 20/36\n",
      "i: 1 ratio: 0.6 sup: 0.8\n"
     ]
    },
    {
     "name": "stderr",
     "output_type": "stream",
     "text": [
      "parsing log, completed traces :: 100%|██████████| 3000/3000 [00:01<00:00, 1538.07it/s]\n",
      "parsing log, completed traces :: 100%|██████████| 3000/3000 [00:01<00:00, 2024.98it/s]\n"
     ]
    },
    {
     "name": "stdout",
     "output_type": "stream",
     "text": [
      "Running IMbi_ali\n"
     ]
    },
    {
     "name": "stderr",
     "output_type": "stream",
     "text": [
      "aligning log, completed variants :: 100%|██████████| 446/446 [00:01<00:00, 223.73it/s]\n",
      "computing precision with alignments, completed variants :: 100%|██████████| 1199/1199 [00:01<00:00, 782.13it/s]\n",
      "aligning log, completed variants :: 100%|██████████| 82/82 [00:00<00:00, 279.86it/s]\n"
     ]
    },
    {
     "name": "stdout",
     "output_type": "stream",
     "text": [
      "Running IMbi_mar\n"
     ]
    },
    {
     "name": "stderr",
     "output_type": "stream",
     "text": [
      "aligning log, completed variants :: 100%|██████████| 446/446 [00:02<00:00, 202.87it/s]\n",
      "computing precision with alignments, completed variants :: 100%|██████████| 1199/1199 [00:01<00:00, 829.76it/s]\n",
      "aligning log, completed variants :: 100%|██████████| 82/82 [00:00<00:00, 284.23it/s]\n"
     ]
    },
    {
     "data": {
      "text/plain": [
       "'Ali > Mar'"
      ]
     },
     "metadata": {},
     "output_type": "display_data"
    },
    {
     "name": "stdout",
     "output_type": "stream",
     "text": [
      "Running: lp_2017.xes 21/36\n",
      "i: 1 ratio: 0.6 sup: 0.4\n"
     ]
    },
    {
     "name": "stderr",
     "output_type": "stream",
     "text": [
      "parsing log, completed traces :: 100%|██████████| 3000/3000 [00:01<00:00, 1527.49it/s]\n",
      "parsing log, completed traces :: 100%|██████████| 3000/3000 [00:01<00:00, 1913.27it/s]\n"
     ]
    },
    {
     "name": "stdout",
     "output_type": "stream",
     "text": [
      "Running IMbi_ali\n"
     ]
    },
    {
     "name": "stderr",
     "output_type": "stream",
     "text": [
      "aligning log, completed variants :: 100%|██████████| 446/446 [00:05<00:00, 85.64it/s] \n",
      "computing precision with alignments, completed variants :: 100%|██████████| 1199/1199 [00:01<00:00, 819.55it/s]\n",
      "aligning log, completed variants :: 100%|██████████| 82/82 [00:00<00:00, 113.26it/s]\n"
     ]
    },
    {
     "name": "stdout",
     "output_type": "stream",
     "text": [
      "Running IMbi_mar\n"
     ]
    },
    {
     "name": "stderr",
     "output_type": "stream",
     "text": [
      "aligning log, completed variants :: 100%|██████████| 446/446 [00:02<00:00, 174.42it/s]\n",
      "computing precision with alignments, completed variants :: 100%|██████████| 1199/1199 [00:01<00:00, 769.33it/s]\n",
      "aligning log, completed variants :: 100%|██████████| 82/82 [00:00<00:00, 206.55it/s]\n"
     ]
    },
    {
     "data": {
      "text/plain": [
       "'Ali > Mar'"
      ]
     },
     "metadata": {},
     "output_type": "display_data"
    },
    {
     "name": "stdout",
     "output_type": "stream",
     "text": [
      "Running: lp_2017.xes 22/36\n",
      "i: 1 ratio: 1 sup: 1\n"
     ]
    },
    {
     "name": "stderr",
     "output_type": "stream",
     "text": [
      "parsing log, completed traces :: 100%|██████████| 3000/3000 [00:01<00:00, 1581.44it/s]\n",
      "parsing log, completed traces :: 100%|██████████| 3000/3000 [00:01<00:00, 1893.34it/s]\n"
     ]
    },
    {
     "name": "stdout",
     "output_type": "stream",
     "text": [
      "Running IMbi_ali\n"
     ]
    },
    {
     "name": "stderr",
     "output_type": "stream",
     "text": [
      "aligning log, completed variants :: 100%|██████████| 446/446 [00:02<00:00, 222.22it/s]\n",
      "computing precision with alignments, completed variants :: 100%|██████████| 1199/1199 [00:01<00:00, 791.94it/s]\n",
      "aligning log, completed variants :: 100%|██████████| 82/82 [00:00<00:00, 266.23it/s]\n"
     ]
    },
    {
     "name": "stdout",
     "output_type": "stream",
     "text": [
      "Running IMbi_mar\n"
     ]
    },
    {
     "name": "stderr",
     "output_type": "stream",
     "text": [
      "aligning log, completed variants :: 100%|██████████| 446/446 [00:02<00:00, 166.89it/s]\n",
      "computing precision with alignments, completed variants :: 100%|██████████| 1199/1199 [00:01<00:00, 834.09it/s]\n",
      "aligning log, completed variants :: 100%|██████████| 82/82 [00:00<00:00, 227.46it/s]\n"
     ]
    },
    {
     "data": {
      "text/plain": [
       "'Ali > Mar'"
      ]
     },
     "metadata": {},
     "output_type": "display_data"
    },
    {
     "name": "stdout",
     "output_type": "stream",
     "text": [
      "Running: lp_2017.xes 23/36\n",
      "i: 1 ratio: 1 sup: 0.8\n"
     ]
    },
    {
     "name": "stderr",
     "output_type": "stream",
     "text": [
      "parsing log, completed traces :: 100%|██████████| 3000/3000 [00:01<00:00, 1532.57it/s]\n",
      "parsing log, completed traces :: 100%|██████████| 3000/3000 [00:01<00:00, 1928.02it/s]\n"
     ]
    },
    {
     "name": "stdout",
     "output_type": "stream",
     "text": [
      "Running IMbi_ali\n"
     ]
    },
    {
     "name": "stderr",
     "output_type": "stream",
     "text": [
      "aligning log, completed variants :: 100%|██████████| 446/446 [00:01<00:00, 225.14it/s]\n",
      "computing precision with alignments, completed variants :: 100%|██████████| 1199/1199 [00:01<00:00, 839.93it/s]\n",
      "aligning log, completed variants :: 100%|██████████| 82/82 [00:00<00:00, 277.03it/s]\n"
     ]
    },
    {
     "name": "stdout",
     "output_type": "stream",
     "text": [
      "Running IMbi_mar\n"
     ]
    },
    {
     "name": "stderr",
     "output_type": "stream",
     "text": [
      "aligning log, completed variants :: 100%|██████████| 446/446 [00:02<00:00, 202.73it/s]\n",
      "computing precision with alignments, completed variants :: 100%|██████████| 1199/1199 [00:01<00:00, 892.78it/s]\n",
      "aligning log, completed variants :: 100%|██████████| 82/82 [00:00<00:00, 267.54it/s]\n"
     ]
    },
    {
     "data": {
      "text/plain": [
       "'Ali > Mar'"
      ]
     },
     "metadata": {},
     "output_type": "display_data"
    },
    {
     "name": "stdout",
     "output_type": "stream",
     "text": [
      "Running: lp_2017.xes 24/36\n",
      "i: 1 ratio: 1 sup: 0.4\n"
     ]
    },
    {
     "name": "stderr",
     "output_type": "stream",
     "text": [
      "parsing log, completed traces :: 100%|██████████| 3000/3000 [00:02<00:00, 1452.43it/s]\n",
      "parsing log, completed traces :: 100%|██████████| 3000/3000 [00:01<00:00, 1876.76it/s]\n"
     ]
    },
    {
     "name": "stdout",
     "output_type": "stream",
     "text": [
      "Running IMbi_ali\n"
     ]
    },
    {
     "name": "stderr",
     "output_type": "stream",
     "text": [
      "aligning log, completed variants :: 100%|██████████| 446/446 [00:05<00:00, 86.44it/s] \n",
      "computing precision with alignments, completed variants :: 100%|██████████| 1199/1199 [00:01<00:00, 782.89it/s]\n",
      "aligning log, completed variants :: 100%|██████████| 82/82 [00:00<00:00, 113.65it/s]\n"
     ]
    },
    {
     "name": "stdout",
     "output_type": "stream",
     "text": [
      "Running IMbi_mar\n"
     ]
    },
    {
     "name": "stderr",
     "output_type": "stream",
     "text": [
      "aligning log, completed variants :: 100%|██████████| 446/446 [00:02<00:00, 172.33it/s]\n",
      "computing precision with alignments, completed variants :: 100%|██████████| 1199/1199 [00:01<00:00, 794.57it/s]\n",
      "aligning log, completed variants :: 100%|██████████| 82/82 [00:00<00:00, 286.71it/s]\n"
     ]
    },
    {
     "data": {
      "text/plain": [
       "'Ali > Mar'"
      ]
     },
     "metadata": {},
     "output_type": "display_data"
    },
    {
     "name": "stdout",
     "output_type": "stream",
     "text": [
      "Running: lp_2018.xes 25/36\n",
      "i: 2 ratio: 0 sup: 1\n"
     ]
    },
    {
     "name": "stderr",
     "output_type": "stream",
     "text": [
      "parsing log, completed traces :: 100%|██████████| 3000/3000 [00:01<00:00, 2555.36it/s]\n",
      "parsing log, completed traces :: 100%|██████████| 3000/3000 [00:00<00:00, 3409.09it/s]\n"
     ]
    },
    {
     "name": "stdout",
     "output_type": "stream",
     "text": [
      "Running IMbi_ali\n"
     ]
    },
    {
     "name": "stderr",
     "output_type": "stream",
     "text": [
      "aligning log, completed variants :: 100%|██████████| 197/197 [00:01<00:00, 147.18it/s]\n",
      "computing precision with alignments, completed variants :: 100%|██████████| 1326/1326 [00:01<00:00, 737.08it/s]\n",
      "aligning log, completed variants :: 100%|██████████| 137/137 [00:00<00:00, 181.10it/s]\n"
     ]
    },
    {
     "name": "stdout",
     "output_type": "stream",
     "text": [
      "Running IMbi_mar\n"
     ]
    },
    {
     "name": "stderr",
     "output_type": "stream",
     "text": [
      "aligning log, completed variants :: 100%|██████████| 197/197 [00:02<00:00, 78.78it/s]\n",
      "computing precision with alignments, completed variants :: 100%|██████████| 1326/1326 [00:02<00:00, 638.11it/s]\n",
      "aligning log, completed variants :: 100%|██████████| 137/137 [00:01<00:00, 79.79it/s]\n"
     ]
    },
    {
     "data": {
      "text/plain": [
       "'Ali > Mar'"
      ]
     },
     "metadata": {},
     "output_type": "display_data"
    },
    {
     "name": "stdout",
     "output_type": "stream",
     "text": [
      "Running: lp_2018.xes 26/36\n",
      "i: 2 ratio: 0 sup: 0.8\n"
     ]
    },
    {
     "name": "stderr",
     "output_type": "stream",
     "text": [
      "parsing log, completed traces :: 100%|██████████| 3000/3000 [00:00<00:00, 3012.05it/s]\n",
      "parsing log, completed traces :: 100%|██████████| 3000/3000 [00:00<00:00, 3225.80it/s]\n"
     ]
    },
    {
     "name": "stdout",
     "output_type": "stream",
     "text": [
      "Running IMbi_ali\n"
     ]
    },
    {
     "name": "stderr",
     "output_type": "stream",
     "text": [
      "aligning log, completed variants :: 100%|██████████| 197/197 [00:01<00:00, 149.36it/s]\n",
      "computing precision with alignments, completed variants :: 100%|██████████| 1326/1326 [00:01<00:00, 846.47it/s]\n",
      "aligning log, completed variants :: 100%|██████████| 137/137 [00:00<00:00, 180.51it/s]\n"
     ]
    },
    {
     "name": "stdout",
     "output_type": "stream",
     "text": [
      "Running IMbi_mar\n"
     ]
    },
    {
     "name": "stderr",
     "output_type": "stream",
     "text": [
      "aligning log, completed variants :: 100%|██████████| 197/197 [00:02<00:00, 80.05it/s]\n",
      "computing precision with alignments, completed variants :: 100%|██████████| 1326/1326 [00:02<00:00, 589.07it/s]\n",
      "aligning log, completed variants :: 100%|██████████| 137/137 [00:01<00:00, 78.52it/s]\n"
     ]
    },
    {
     "data": {
      "text/plain": [
       "'Ali > Mar'"
      ]
     },
     "metadata": {},
     "output_type": "display_data"
    },
    {
     "name": "stdout",
     "output_type": "stream",
     "text": [
      "Running: lp_2018.xes 27/36\n",
      "i: 2 ratio: 0 sup: 0.4\n"
     ]
    },
    {
     "name": "stderr",
     "output_type": "stream",
     "text": [
      "parsing log, completed traces :: 100%|██████████| 3000/3000 [00:01<00:00, 2391.39it/s]\n",
      "parsing log, completed traces :: 100%|██████████| 3000/3000 [00:00<00:00, 3498.54it/s]\n"
     ]
    },
    {
     "name": "stdout",
     "output_type": "stream",
     "text": [
      "Running IMbi_ali\n"
     ]
    },
    {
     "name": "stderr",
     "output_type": "stream",
     "text": [
      "aligning log, completed variants :: 100%|██████████| 197/197 [00:01<00:00, 121.64it/s]\n",
      "computing precision with alignments, completed variants :: 100%|██████████| 1326/1326 [00:01<00:00, 709.47it/s]\n",
      "aligning log, completed variants :: 100%|██████████| 137/137 [00:00<00:00, 143.83it/s]\n"
     ]
    },
    {
     "name": "stdout",
     "output_type": "stream",
     "text": [
      "Running IMbi_mar\n"
     ]
    },
    {
     "name": "stderr",
     "output_type": "stream",
     "text": [
      "aligning log, completed variants :: 100%|██████████| 197/197 [00:01<00:00, 148.62it/s]\n",
      "computing precision with alignments, completed variants :: 100%|██████████| 1326/1326 [00:01<00:00, 776.12it/s]\n",
      "aligning log, completed variants :: 100%|██████████| 137/137 [00:00<00:00, 197.83it/s]\n"
     ]
    },
    {
     "data": {
      "text/plain": [
       "'Mar > Ali'"
      ]
     },
     "metadata": {},
     "output_type": "display_data"
    },
    {
     "name": "stdout",
     "output_type": "stream",
     "text": [
      "Running: lp_2018.xes 28/36\n",
      "i: 2 ratio: 0.3 sup: 1\n"
     ]
    },
    {
     "name": "stderr",
     "output_type": "stream",
     "text": [
      "parsing log, completed traces :: 100%|██████████| 3000/3000 [00:01<00:00, 2639.68it/s]\n",
      "parsing log, completed traces :: 100%|██████████| 3000/3000 [00:00<00:00, 3454.23it/s]\n"
     ]
    },
    {
     "name": "stdout",
     "output_type": "stream",
     "text": [
      "Running IMbi_ali\n"
     ]
    },
    {
     "name": "stderr",
     "output_type": "stream",
     "text": [
      "aligning log, completed variants :: 100%|██████████| 197/197 [00:01<00:00, 148.46it/s]\n",
      "computing precision with alignments, completed variants :: 100%|██████████| 1326/1326 [00:01<00:00, 832.65it/s]\n",
      "aligning log, completed variants :: 100%|██████████| 137/137 [00:00<00:00, 150.30it/s]\n"
     ]
    },
    {
     "name": "stdout",
     "output_type": "stream",
     "text": [
      "Running IMbi_mar\n"
     ]
    },
    {
     "name": "stderr",
     "output_type": "stream",
     "text": [
      "aligning log, completed variants :: 100%|██████████| 197/197 [00:02<00:00, 73.88it/s]\n",
      "computing precision with alignments, completed variants :: 100%|██████████| 1326/1326 [00:02<00:00, 521.53it/s]\n",
      "aligning log, completed variants :: 100%|██████████| 137/137 [00:01<00:00, 72.28it/s]\n"
     ]
    },
    {
     "data": {
      "text/plain": [
       "'Ali > Mar'"
      ]
     },
     "metadata": {},
     "output_type": "display_data"
    },
    {
     "name": "stdout",
     "output_type": "stream",
     "text": [
      "Running: lp_2018.xes 29/36\n",
      "i: 2 ratio: 0.3 sup: 0.8\n"
     ]
    },
    {
     "name": "stderr",
     "output_type": "stream",
     "text": [
      "parsing log, completed traces :: 100%|██████████| 3000/3000 [00:01<00:00, 2458.01it/s]\n",
      "parsing log, completed traces :: 100%|██████████| 3000/3000 [00:00<00:00, 3218.89it/s]\n"
     ]
    },
    {
     "name": "stdout",
     "output_type": "stream",
     "text": [
      "Running IMbi_ali\n"
     ]
    },
    {
     "name": "stderr",
     "output_type": "stream",
     "text": [
      "aligning log, completed variants :: 100%|██████████| 197/197 [00:01<00:00, 139.32it/s]\n",
      "computing precision with alignments, completed variants :: 100%|██████████| 1326/1326 [00:01<00:00, 810.76it/s]\n",
      "aligning log, completed variants :: 100%|██████████| 137/137 [00:00<00:00, 171.79it/s]\n"
     ]
    },
    {
     "name": "stdout",
     "output_type": "stream",
     "text": [
      "Running IMbi_mar\n"
     ]
    },
    {
     "name": "stderr",
     "output_type": "stream",
     "text": [
      "aligning log, completed variants :: 100%|██████████| 197/197 [00:02<00:00, 73.25it/s]\n",
      "computing precision with alignments, completed variants :: 100%|██████████| 1326/1326 [00:02<00:00, 615.60it/s]\n",
      "aligning log, completed variants :: 100%|██████████| 137/137 [00:01<00:00, 74.07it/s]\n"
     ]
    },
    {
     "data": {
      "text/plain": [
       "'Ali > Mar'"
      ]
     },
     "metadata": {},
     "output_type": "display_data"
    },
    {
     "name": "stdout",
     "output_type": "stream",
     "text": [
      "Running: lp_2018.xes 30/36\n",
      "i: 2 ratio: 0.3 sup: 0.4\n"
     ]
    },
    {
     "name": "stderr",
     "output_type": "stream",
     "text": [
      "parsing log, completed traces :: 100%|██████████| 3000/3000 [00:01<00:00, 2237.14it/s]\n",
      "parsing log, completed traces :: 100%|██████████| 3000/3000 [00:00<00:00, 3264.42it/s]\n"
     ]
    },
    {
     "name": "stdout",
     "output_type": "stream",
     "text": [
      "Running IMbi_ali\n"
     ]
    },
    {
     "name": "stderr",
     "output_type": "stream",
     "text": [
      "aligning log, completed variants :: 100%|██████████| 197/197 [00:01<00:00, 106.37it/s]\n",
      "computing precision with alignments, completed variants :: 100%|██████████| 1326/1326 [00:02<00:00, 590.65it/s]\n",
      "aligning log, completed variants :: 100%|██████████| 137/137 [00:01<00:00, 133.85it/s]\n"
     ]
    },
    {
     "name": "stdout",
     "output_type": "stream",
     "text": [
      "Running IMbi_mar\n"
     ]
    },
    {
     "name": "stderr",
     "output_type": "stream",
     "text": [
      "aligning log, completed variants :: 100%|██████████| 197/197 [00:01<00:00, 116.29it/s]\n",
      "computing precision with alignments, completed variants :: 100%|██████████| 1326/1326 [00:01<00:00, 709.28it/s]\n",
      "aligning log, completed variants :: 100%|██████████| 137/137 [00:00<00:00, 191.07it/s]\n"
     ]
    },
    {
     "data": {
      "text/plain": [
       "'Mar > Ali'"
      ]
     },
     "metadata": {},
     "output_type": "display_data"
    },
    {
     "name": "stdout",
     "output_type": "stream",
     "text": [
      "Running: lp_2018.xes 31/36\n",
      "i: 2 ratio: 0.6 sup: 1\n"
     ]
    },
    {
     "name": "stderr",
     "output_type": "stream",
     "text": [
      "parsing log, completed traces :: 100%|██████████| 3000/3000 [00:01<00:00, 2353.86it/s]\n",
      "parsing log, completed traces :: 100%|██████████| 3000/3000 [00:00<00:00, 3167.90it/s]\n"
     ]
    },
    {
     "name": "stdout",
     "output_type": "stream",
     "text": [
      "Running IMbi_ali\n"
     ]
    },
    {
     "name": "stderr",
     "output_type": "stream",
     "text": [
      "aligning log, completed variants :: 100%|██████████| 197/197 [00:01<00:00, 139.72it/s]\n",
      "computing precision with alignments, completed variants :: 100%|██████████| 1326/1326 [00:01<00:00, 818.27it/s]\n",
      "aligning log, completed variants :: 100%|██████████| 137/137 [00:00<00:00, 177.12it/s]\n"
     ]
    },
    {
     "name": "stdout",
     "output_type": "stream",
     "text": [
      "Running IMbi_mar\n"
     ]
    },
    {
     "name": "stderr",
     "output_type": "stream",
     "text": [
      "aligning log, completed variants :: 100%|██████████| 197/197 [00:02<00:00, 72.40it/s]\n",
      "computing precision with alignments, completed variants :: 100%|██████████| 1326/1326 [00:02<00:00, 623.56it/s]\n",
      "aligning log, completed variants :: 100%|██████████| 137/137 [00:01<00:00, 73.70it/s]\n"
     ]
    },
    {
     "data": {
      "text/plain": [
       "'Ali > Mar'"
      ]
     },
     "metadata": {},
     "output_type": "display_data"
    },
    {
     "name": "stdout",
     "output_type": "stream",
     "text": [
      "Running: lp_2018.xes 32/36\n",
      "i: 2 ratio: 0.6 sup: 0.8\n"
     ]
    },
    {
     "name": "stderr",
     "output_type": "stream",
     "text": [
      "parsing log, completed traces :: 100%|██████████| 3000/3000 [00:01<00:00, 2884.61it/s]\n",
      "parsing log, completed traces :: 100%|██████████| 3000/3000 [00:01<00:00, 2916.87it/s]\n"
     ]
    },
    {
     "name": "stdout",
     "output_type": "stream",
     "text": [
      "Running IMbi_ali\n"
     ]
    },
    {
     "name": "stderr",
     "output_type": "stream",
     "text": [
      "aligning log, completed variants :: 100%|██████████| 197/197 [00:01<00:00, 139.96it/s]\n",
      "computing precision with alignments, completed variants :: 100%|██████████| 1326/1326 [00:01<00:00, 765.42it/s]\n",
      "aligning log, completed variants :: 100%|██████████| 137/137 [00:00<00:00, 175.30it/s]\n"
     ]
    },
    {
     "name": "stdout",
     "output_type": "stream",
     "text": [
      "Running IMbi_mar\n"
     ]
    },
    {
     "name": "stderr",
     "output_type": "stream",
     "text": [
      "aligning log, completed variants :: 100%|██████████| 197/197 [00:02<00:00, 73.80it/s]\n",
      "computing precision with alignments, completed variants :: 100%|██████████| 1326/1326 [00:02<00:00, 514.85it/s]\n",
      "aligning log, completed variants :: 100%|██████████| 137/137 [00:01<00:00, 74.82it/s]\n"
     ]
    },
    {
     "data": {
      "text/plain": [
       "'Ali > Mar'"
      ]
     },
     "metadata": {},
     "output_type": "display_data"
    },
    {
     "name": "stdout",
     "output_type": "stream",
     "text": [
      "Running: lp_2018.xes 33/36\n",
      "i: 2 ratio: 0.6 sup: 0.4\n"
     ]
    },
    {
     "name": "stderr",
     "output_type": "stream",
     "text": [
      "parsing log, completed traces :: 100%|██████████| 3000/3000 [00:01<00:00, 2271.87it/s]\n",
      "parsing log, completed traces :: 100%|██████████| 3000/3000 [00:00<00:00, 3556.61it/s]\n"
     ]
    },
    {
     "name": "stdout",
     "output_type": "stream",
     "text": [
      "Running IMbi_ali\n"
     ]
    },
    {
     "name": "stderr",
     "output_type": "stream",
     "text": [
      "aligning log, completed variants :: 100%|██████████| 197/197 [00:01<00:00, 116.53it/s]\n",
      "computing precision with alignments, completed variants :: 100%|██████████| 1326/1326 [00:01<00:00, 757.28it/s]\n",
      "aligning log, completed variants :: 100%|██████████| 137/137 [00:00<00:00, 139.87it/s]\n"
     ]
    },
    {
     "name": "stdout",
     "output_type": "stream",
     "text": [
      "Running IMbi_mar\n"
     ]
    },
    {
     "name": "stderr",
     "output_type": "stream",
     "text": [
      "aligning log, completed variants :: 100%|██████████| 197/197 [00:01<00:00, 148.85it/s]\n",
      "computing precision with alignments, completed variants :: 100%|██████████| 1326/1326 [00:01<00:00, 834.23it/s]\n",
      "aligning log, completed variants :: 100%|██████████| 137/137 [00:00<00:00, 187.16it/s]\n"
     ]
    },
    {
     "data": {
      "text/plain": [
       "'Mar > Ali'"
      ]
     },
     "metadata": {},
     "output_type": "display_data"
    },
    {
     "name": "stdout",
     "output_type": "stream",
     "text": [
      "Running: lp_2018.xes 34/36\n",
      "i: 2 ratio: 1 sup: 1\n"
     ]
    },
    {
     "name": "stderr",
     "output_type": "stream",
     "text": [
      "parsing log, completed traces :: 100%|██████████| 3000/3000 [00:01<00:00, 2357.56it/s]\n",
      "parsing log, completed traces :: 100%|██████████| 3000/3000 [00:00<00:00, 3291.28it/s]\n"
     ]
    },
    {
     "name": "stdout",
     "output_type": "stream",
     "text": [
      "Running IMbi_ali\n"
     ]
    },
    {
     "name": "stderr",
     "output_type": "stream",
     "text": [
      "aligning log, completed variants :: 100%|██████████| 197/197 [00:01<00:00, 118.96it/s]\n",
      "computing precision with alignments, completed variants :: 100%|██████████| 1326/1326 [00:01<00:00, 708.14it/s]\n",
      "aligning log, completed variants :: 100%|██████████| 137/137 [00:00<00:00, 141.31it/s]\n"
     ]
    },
    {
     "name": "stdout",
     "output_type": "stream",
     "text": [
      "Running IMbi_mar\n"
     ]
    },
    {
     "name": "stderr",
     "output_type": "stream",
     "text": [
      "aligning log, completed variants :: 100%|██████████| 197/197 [00:02<00:00, 66.13it/s]\n",
      "computing precision with alignments, completed variants :: 100%|██████████| 1326/1326 [00:01<00:00, 810.27it/s]\n",
      "aligning log, completed variants :: 100%|██████████| 137/137 [00:01<00:00, 74.95it/s]\n"
     ]
    },
    {
     "data": {
      "text/plain": [
       "'Mar > Ali'"
      ]
     },
     "metadata": {},
     "output_type": "display_data"
    },
    {
     "name": "stdout",
     "output_type": "stream",
     "text": [
      "Running: lp_2018.xes 35/36\n",
      "i: 2 ratio: 1 sup: 0.8\n"
     ]
    },
    {
     "name": "stderr",
     "output_type": "stream",
     "text": [
      "parsing log, completed traces :: 100%|██████████| 3000/3000 [00:01<00:00, 2387.58it/s]\n",
      "parsing log, completed traces :: 100%|██████████| 3000/3000 [00:00<00:00, 3573.55it/s]\n"
     ]
    },
    {
     "name": "stdout",
     "output_type": "stream",
     "text": [
      "Running IMbi_ali\n"
     ]
    },
    {
     "name": "stderr",
     "output_type": "stream",
     "text": [
      "aligning log, completed variants :: 100%|██████████| 197/197 [00:01<00:00, 118.21it/s]\n",
      "computing precision with alignments, completed variants :: 100%|██████████| 1326/1326 [00:01<00:00, 774.53it/s]\n",
      "aligning log, completed variants :: 100%|██████████| 137/137 [00:00<00:00, 141.46it/s]\n"
     ]
    },
    {
     "name": "stdout",
     "output_type": "stream",
     "text": [
      "Running IMbi_mar\n"
     ]
    },
    {
     "name": "stderr",
     "output_type": "stream",
     "text": [
      "aligning log, completed variants :: 100%|██████████| 197/197 [00:02<00:00, 66.73it/s]\n",
      "computing precision with alignments, completed variants :: 100%|██████████| 1326/1326 [00:01<00:00, 791.17it/s]\n",
      "aligning log, completed variants :: 100%|██████████| 137/137 [00:01<00:00, 75.46it/s]\n"
     ]
    },
    {
     "data": {
      "text/plain": [
       "'Mar > Ali'"
      ]
     },
     "metadata": {},
     "output_type": "display_data"
    },
    {
     "name": "stdout",
     "output_type": "stream",
     "text": [
      "Running: lp_2018.xes 36/36\n",
      "i: 2 ratio: 1 sup: 0.4\n"
     ]
    },
    {
     "name": "stderr",
     "output_type": "stream",
     "text": [
      "parsing log, completed traces :: 100%|██████████| 3000/3000 [00:01<00:00, 2358.53it/s]\n",
      "parsing log, completed traces :: 100%|██████████| 3000/3000 [00:00<00:00, 3201.77it/s]\n"
     ]
    },
    {
     "name": "stdout",
     "output_type": "stream",
     "text": [
      "Running IMbi_ali\n"
     ]
    },
    {
     "name": "stderr",
     "output_type": "stream",
     "text": [
      "aligning log, completed variants :: 100%|██████████| 197/197 [00:01<00:00, 118.78it/s]\n",
      "computing precision with alignments, completed variants :: 100%|██████████| 1326/1326 [00:01<00:00, 770.48it/s]\n",
      "aligning log, completed variants :: 100%|██████████| 137/137 [00:00<00:00, 140.44it/s]\n"
     ]
    },
    {
     "name": "stdout",
     "output_type": "stream",
     "text": [
      "Running IMbi_mar\n"
     ]
    },
    {
     "name": "stderr",
     "output_type": "stream",
     "text": [
      "aligning log, completed variants :: 100%|██████████| 197/197 [00:02<00:00, 78.10it/s]\n",
      "computing precision with alignments, completed variants :: 100%|██████████| 1326/1326 [00:01<00:00, 762.73it/s]\n",
      "aligning log, completed variants :: 100%|██████████| 137/137 [00:01<00:00, 83.95it/s]\n"
     ]
    },
    {
     "data": {
      "text/plain": [
       "'Ali > Mar'"
      ]
     },
     "metadata": {},
     "output_type": "display_data"
    }
   ],
   "source": [
    "totalRuns = len(lpPaths) * 4 * 3\n",
    "cur = 1\n",
    "runs = 0\n",
    "improving_runs = 0\n",
    "\n",
    "for i in range(0,len(lpPaths)):\n",
    "  for ratio in [0, 0.3, 0.6, 1]:\n",
    "    for sup in [1, 0.8, 0.4]:\n",
    "      display(\"Running: \" + lpPaths[i][0] + \" \" + str(cur) + \"/\" + str(totalRuns))\n",
    "      display(\"i: \" + str(i) + \" ratio: \" + str(ratio) + \" sup: \" + str(sup))\n",
    "      display(\"Stats: \" + str(improving_runs) + \"/\" + str(runs))\n",
    "      df, marImproved = applyMinerToLog(df, lpPaths[i][1], lmPaths[i][1], lpPaths[i][0],lmPaths[i][0], 0.2, 0.99, sup, ratio)\n",
    "      if marImproved:\n",
    "        improving_runs += 1\n",
    "      runs += 1\n",
    "      cur += 1\n",
    "  \n",
    "# display(df)"
   ]
  },
  {
   "cell_type": "code",
   "execution_count": 15,
   "metadata": {},
   "outputs": [],
   "source": [
    "\n",
    "def setupYTickList(minValue, step):\n",
    "  res = []\n",
    "  cur = 1\n",
    "  while cur > minValue:\n",
    "    res.append(cur)\n",
    "    cur -= step\n",
    "  res.append(cur)\n",
    "  return res\n",
    "    \n",
    "\n",
    "def displayDoubleLog(df, saveFig = False):\n",
    "  df_grouped = df.groupby(by=[\"logP_Name\",\t\"logM_Name\", \"im_bi_sup\", \"im_bi_ratio\"], group_keys=True).apply(lambda x : x)\n",
    "  \n",
    "  numberOfPlotPerRow = 4\n",
    "  rows = math.ceil(float(len(df_grouped.index.unique()))/numberOfPlotPerRow)\n",
    "  cols = min(len(df_grouped.index.unique()),numberOfPlotPerRow)\n",
    "\n",
    "  fig, axs = plt.subplots(rows, cols, figsize=(15 * (cols / numberOfPlotPerRow), 4 * rows), squeeze=False)\n",
    "  fig.tight_layout(pad=10.0)\n",
    "  cur_Row = 0\n",
    "  cur_Col = 0\n",
    "  for logGroup in df_grouped.index.unique():\n",
    "    df_log_grouped = df_grouped.loc[logGroup]\n",
    "    axs[cur_Row,cur_Col].set_title(\"LogP: \" + logGroup[0] + \" LogM: \" + logGroup[1] + \"\\n\" + \"Sup: \" + str(df_log_grouped.im_bi_sup[0]) + \" ratio: \" + str(df_log_grouped.im_bi_ratio[0]))\n",
    "    axs[cur_Row,cur_Col].set_xlabel(\"Miners\")\n",
    "    j = 0\n",
    "    xTickLabel = []\n",
    "    idx = []\n",
    "    minValue = 0\n",
    "    for miner, acc, fitP, fitM, f1_fit in zip(df_log_grouped.miner, df_log_grouped.acc_logs, df_log_grouped.fitP, df_log_grouped.fitM, df_log_grouped.f1_fit_logs):\n",
    "      minValue = min([minValue, acc, fitP, fitM, f1_fit])\n",
    "      axs[cur_Row,cur_Col].bar(j,acc, color=\"r\", label=\"acc\")\n",
    "      axs[cur_Row,cur_Col].bar(j+1,fitP, color=\"g\", label=\"fitP\")\n",
    "      axs[cur_Row,cur_Col].bar(j+2,fitM, color=\"b\", label=\"fitM\")\n",
    "      axs[cur_Row,cur_Col].bar(j+3,f1_fit, color=\"orange\", label=\"f1_fit\")\n",
    "      xTickLabel.append(miner)\n",
    "      idx.append(j + 1.5)\n",
    "      j += 5\n",
    "      \n",
    "    \n",
    "    axs[cur_Row,cur_Col].set_yticks(setupYTickList(minValue, 0.25))\n",
    "    axs[cur_Row,cur_Col].set_xticks(idx)\n",
    "    axs[cur_Row,cur_Col].set_xticklabels(xTickLabel)\n",
    "    axs[cur_Row,cur_Col].legend(loc='center left', ncols=1, labels=[\"acc\", \"fitP\", \"fitM\", \"f1_fit\"], bbox_to_anchor=(1, 0.5))\n",
    "    cur_Col += 1\n",
    "    \n",
    "    if cur_Col == numberOfPlotPerRow:\n",
    "      cur_Row += 1\n",
    "      cur_Col = 0\n",
    "      \n",
    "  plt.show()\n",
    "\n",
    "  if saveFig:\n",
    "    fig.savefig(\"plot_\" +  + \".pdf\")"
   ]
  },
  {
   "cell_type": "code",
   "execution_count": 16,
   "metadata": {},
   "outputs": [
    {
     "data": {
      "image/png": "[encoded data removed]",
      "text/plain": [
       "<Figure size 1500x3600 with 36 Axes>"
      ]
     },
     "metadata": {},
     "output_type": "display_data"
    }
   ],
   "source": [
    "displayDoubleLog(df)"
   ]
  },
  {
   "cell_type": "code",
   "execution_count": 17,
   "metadata": {},
   "outputs": [],
   "source": [
    "\n",
    "def displaySingleLog(df, saveFig = False):\n",
    "  df_grouped = df.groupby(by=[\"logP_Name\",\t\"logM_Name\"], group_keys=True).apply(lambda x : x)\n",
    "\n",
    "  numberOfPlotPerRow = 3\n",
    "  rows = math.ceil(float(len(df_grouped.index.unique()))/numberOfPlotPerRow)\n",
    "  cols = min(len(df_grouped.index.unique()),numberOfPlotPerRow)\n",
    "\n",
    "\n",
    "  for f1_measure in [\"f1_tok\", \"f1_alig\"]:\n",
    "    fig, axs = plt.subplots(rows, cols, figsize=(15 * (cols / numberOfPlotPerRow), 4 * rows), squeeze=False)\n",
    "    fig.tight_layout(pad=10.0)\n",
    "    cur_Row = 0\n",
    "    cur_Col = 0\n",
    "    for logGroup in df_grouped.index.unique():\n",
    "      df_log_grouped = df_grouped.loc[logGroup]\n",
    "      axs[cur_Row,cur_Col].set_title(\"LogP: \" + logGroup[0] + \" LogM: \" + logGroup[1])\n",
    "      axs[cur_Row,cur_Col].set_ylabel(f1_measure)\n",
    "      axs[cur_Row,cur_Col].set_xlabel(\"Miners\")\n",
    "      j = 0\n",
    "      xTickLabel = []\n",
    "      idx = []\n",
    "      for miner, f1_tok in zip(df_log_grouped.miner, df_log_grouped[f1_measure]):\n",
    "        axs[cur_Row,cur_Col].bar(j,f1_tok, label=str(miner))\n",
    "        xTickLabel.append(miner)\n",
    "        idx.append(j)\n",
    "        j += 1\n",
    "      axs[cur_Row,cur_Col].set_xticks(idx)\n",
    "      axs[cur_Row,cur_Col].set_xticklabels(xTickLabel, rotation=90)\n",
    "      cur_Col += 1\n",
    "      if cur_Col == numberOfPlotPerRow:\n",
    "        cur_Row += 1\n",
    "        cur_Col = 0\n",
    "        \n",
    "    plt.show()\n",
    "    if saveFig:\n",
    "      fig.savefig(\"plot_\" + f1_measure + \".pdf\")"
   ]
  },
  {
   "cell_type": "code",
   "execution_count": 18,
   "metadata": {},
   "outputs": [],
   "source": [
    "visualize_petriNet(df, \"IM\", \"lp_2012.xes\", \"lm_2012.xes\")\n",
    "visualize_petriNet(df, \"IMbi_mar\", \"lp_2012.xes\", \"lm_2012.xes\")\n",
    "visualize_petriNet(df, \"IMbi_ali\", \"lp_2012.xes\", \"lm_2012.xes\")"
   ]
  },
  {
   "cell_type": "code",
   "execution_count": 19,
   "metadata": {},
   "outputs": [
    {
     "data": {
      "text/html": [
       "<div>\n",
       "<style scoped>\n",
       "    .dataframe tbody tr th:only-of-type {\n",
       "        vertical-align: middle;\n",
       "    }\n",
       "\n",
       "    .dataframe tbody tr th {\n",
       "        vertical-align: top;\n",
       "    }\n",
       "\n",
       "    .dataframe thead th {\n",
       "        text-align: right;\n",
       "    }\n",
       "</style>\n",
       "<table border=\"1\" class=\"dataframe\">\n",
       "  <thead>\n",
       "    <tr style=\"text-align: right;\">\n",
       "      <th></th>\n",
       "      <th>miner</th>\n",
       "      <th>logP_Name</th>\n",
       "      <th>logM_Name</th>\n",
       "      <th>imf_noise_thr</th>\n",
       "      <th>hm_depen_thr</th>\n",
       "      <th>im_bi_sup</th>\n",
       "      <th>im_bi_ratio</th>\n",
       "      <th>fit_tok</th>\n",
       "      <th>fit_alig</th>\n",
       "      <th>prec_tok</th>\n",
       "      <th>...</th>\n",
       "      <th>f1_tok</th>\n",
       "      <th>f1_alig</th>\n",
       "      <th>net</th>\n",
       "      <th>im</th>\n",
       "      <th>fm</th>\n",
       "      <th>acc_logs</th>\n",
       "      <th>fitP</th>\n",
       "      <th>fitM</th>\n",
       "      <th>f1_fit_logs</th>\n",
       "      <th>precP</th>\n",
       "    </tr>\n",
       "  </thead>\n",
       "  <tbody>\n",
       "    <tr>\n",
       "      <th>0</th>\n",
       "      <td>IMbi_ali</td>\n",
       "      <td>lp_2012</td>\n",
       "      <td>lm_2012</td>\n",
       "      <td>0</td>\n",
       "      <td>0</td>\n",
       "      <td>1</td>\n",
       "      <td>0</td>\n",
       "      <td>NaN</td>\n",
       "      <td>NaN</td>\n",
       "      <td>NaN</td>\n",
       "      <td>...</td>\n",
       "      <td>NaN</td>\n",
       "      <td>NaN</td>\n",
       "      <td>places: [ p_10, p_12, p_13, p_14, p_15, p_16, ...</td>\n",
       "      <td>{source: 1}</td>\n",
       "      <td>{sink: 1}</td>\n",
       "      <td>-0.19</td>\n",
       "      <td>0.61</td>\n",
       "      <td>0.80</td>\n",
       "      <td>0.30</td>\n",
       "      <td>0.87</td>\n",
       "    </tr>\n",
       "    <tr>\n",
       "      <th>0</th>\n",
       "      <td>IMbi_mar</td>\n",
       "      <td>lp_2012</td>\n",
       "      <td>lm_2012</td>\n",
       "      <td>0</td>\n",
       "      <td>0</td>\n",
       "      <td>1</td>\n",
       "      <td>0</td>\n",
       "      <td>NaN</td>\n",
       "      <td>NaN</td>\n",
       "      <td>NaN</td>\n",
       "      <td>...</td>\n",
       "      <td>NaN</td>\n",
       "      <td>NaN</td>\n",
       "      <td>places: [ p_10, p_11, p_3, p_4, p_5, p_6, p_7,...</td>\n",
       "      <td>{source: 1}</td>\n",
       "      <td>{sink: 1}</td>\n",
       "      <td>0.00</td>\n",
       "      <td>0.79</td>\n",
       "      <td>0.79</td>\n",
       "      <td>0.33</td>\n",
       "      <td>0.94</td>\n",
       "    </tr>\n",
       "    <tr>\n",
       "      <th>0</th>\n",
       "      <td>IMbi_ali</td>\n",
       "      <td>lp_2012</td>\n",
       "      <td>lm_2012</td>\n",
       "      <td>0</td>\n",
       "      <td>0</td>\n",
       "      <td>0.8</td>\n",
       "      <td>0</td>\n",
       "      <td>NaN</td>\n",
       "      <td>NaN</td>\n",
       "      <td>NaN</td>\n",
       "      <td>...</td>\n",
       "      <td>NaN</td>\n",
       "      <td>NaN</td>\n",
       "      <td>places: [ p_10, p_12, p_13, p_14, p_15, p_16, ...</td>\n",
       "      <td>{source: 1}</td>\n",
       "      <td>{sink: 1}</td>\n",
       "      <td>0.04</td>\n",
       "      <td>0.80</td>\n",
       "      <td>0.75</td>\n",
       "      <td>0.38</td>\n",
       "      <td>0.87</td>\n",
       "    </tr>\n",
       "    <tr>\n",
       "      <th>0</th>\n",
       "      <td>IMbi_mar</td>\n",
       "      <td>lp_2012</td>\n",
       "      <td>lm_2012</td>\n",
       "      <td>0</td>\n",
       "      <td>0</td>\n",
       "      <td>0.8</td>\n",
       "      <td>0</td>\n",
       "      <td>NaN</td>\n",
       "      <td>NaN</td>\n",
       "      <td>NaN</td>\n",
       "      <td>...</td>\n",
       "      <td>NaN</td>\n",
       "      <td>NaN</td>\n",
       "      <td>places: [ p_10, p_11, p_12, p_13, p_3, p_4, p_...</td>\n",
       "      <td>{source: 1}</td>\n",
       "      <td>{sink: 1}</td>\n",
       "      <td>0.04</td>\n",
       "      <td>0.80</td>\n",
       "      <td>0.75</td>\n",
       "      <td>0.38</td>\n",
       "      <td>1.00</td>\n",
       "    </tr>\n",
       "    <tr>\n",
       "      <th>0</th>\n",
       "      <td>IMbi_ali</td>\n",
       "      <td>lp_2012</td>\n",
       "      <td>lm_2012</td>\n",
       "      <td>0</td>\n",
       "      <td>0</td>\n",
       "      <td>0.4</td>\n",
       "      <td>0</td>\n",
       "      <td>NaN</td>\n",
       "      <td>NaN</td>\n",
       "      <td>NaN</td>\n",
       "      <td>...</td>\n",
       "      <td>NaN</td>\n",
       "      <td>NaN</td>\n",
       "      <td>places: [ p_10, p_11, p_12, p_13, p_15, p_16, ...</td>\n",
       "      <td>{source: 1}</td>\n",
       "      <td>{sink: 1}</td>\n",
       "      <td>0.16</td>\n",
       "      <td>0.96</td>\n",
       "      <td>0.80</td>\n",
       "      <td>0.33</td>\n",
       "      <td>0.64</td>\n",
       "    </tr>\n",
       "    <tr>\n",
       "      <th>...</th>\n",
       "      <td>...</td>\n",
       "      <td>...</td>\n",
       "      <td>...</td>\n",
       "      <td>...</td>\n",
       "      <td>...</td>\n",
       "      <td>...</td>\n",
       "      <td>...</td>\n",
       "      <td>...</td>\n",
       "      <td>...</td>\n",
       "      <td>...</td>\n",
       "      <td>...</td>\n",
       "      <td>...</td>\n",
       "      <td>...</td>\n",
       "      <td>...</td>\n",
       "      <td>...</td>\n",
       "      <td>...</td>\n",
       "      <td>...</td>\n",
       "      <td>...</td>\n",
       "      <td>...</td>\n",
       "      <td>...</td>\n",
       "      <td>...</td>\n",
       "    </tr>\n",
       "    <tr>\n",
       "      <th>0</th>\n",
       "      <td>IMbi_mar</td>\n",
       "      <td>lp_2018</td>\n",
       "      <td>lm_2018</td>\n",
       "      <td>0</td>\n",
       "      <td>0</td>\n",
       "      <td>1</td>\n",
       "      <td>1</td>\n",
       "      <td>NaN</td>\n",
       "      <td>NaN</td>\n",
       "      <td>NaN</td>\n",
       "      <td>...</td>\n",
       "      <td>NaN</td>\n",
       "      <td>NaN</td>\n",
       "      <td>places: [ p_10, p_13, p_14, p_15, p_3, p_4, p_...</td>\n",
       "      <td>{source: 1}</td>\n",
       "      <td>{sink: 1}</td>\n",
       "      <td>0.15</td>\n",
       "      <td>0.84</td>\n",
       "      <td>0.68</td>\n",
       "      <td>0.46</td>\n",
       "      <td>0.90</td>\n",
       "    </tr>\n",
       "    <tr>\n",
       "      <th>0</th>\n",
       "      <td>IMbi_ali</td>\n",
       "      <td>lp_2018</td>\n",
       "      <td>lm_2018</td>\n",
       "      <td>0</td>\n",
       "      <td>0</td>\n",
       "      <td>0.8</td>\n",
       "      <td>1</td>\n",
       "      <td>NaN</td>\n",
       "      <td>NaN</td>\n",
       "      <td>NaN</td>\n",
       "      <td>...</td>\n",
       "      <td>NaN</td>\n",
       "      <td>NaN</td>\n",
       "      <td>places: [ p_10, p_11, p_12, p_13, p_17, p_18, ...</td>\n",
       "      <td>{source: 1}</td>\n",
       "      <td>{sink: 1}</td>\n",
       "      <td>0.14</td>\n",
       "      <td>0.89</td>\n",
       "      <td>0.75</td>\n",
       "      <td>0.39</td>\n",
       "      <td>0.85</td>\n",
       "    </tr>\n",
       "    <tr>\n",
       "      <th>0</th>\n",
       "      <td>IMbi_mar</td>\n",
       "      <td>lp_2018</td>\n",
       "      <td>lm_2018</td>\n",
       "      <td>0</td>\n",
       "      <td>0</td>\n",
       "      <td>0.8</td>\n",
       "      <td>1</td>\n",
       "      <td>NaN</td>\n",
       "      <td>NaN</td>\n",
       "      <td>NaN</td>\n",
       "      <td>...</td>\n",
       "      <td>NaN</td>\n",
       "      <td>NaN</td>\n",
       "      <td>places: [ p_10, p_13, p_14, p_15, p_3, p_4, p_...</td>\n",
       "      <td>{source: 1}</td>\n",
       "      <td>{sink: 1}</td>\n",
       "      <td>0.15</td>\n",
       "      <td>0.84</td>\n",
       "      <td>0.68</td>\n",
       "      <td>0.46</td>\n",
       "      <td>0.90</td>\n",
       "    </tr>\n",
       "    <tr>\n",
       "      <th>0</th>\n",
       "      <td>IMbi_ali</td>\n",
       "      <td>lp_2018</td>\n",
       "      <td>lm_2018</td>\n",
       "      <td>0</td>\n",
       "      <td>0</td>\n",
       "      <td>0.4</td>\n",
       "      <td>1</td>\n",
       "      <td>NaN</td>\n",
       "      <td>NaN</td>\n",
       "      <td>NaN</td>\n",
       "      <td>...</td>\n",
       "      <td>NaN</td>\n",
       "      <td>NaN</td>\n",
       "      <td>places: [ p_10, p_11, p_12, p_13, p_17, p_18, ...</td>\n",
       "      <td>{source: 1}</td>\n",
       "      <td>{sink: 1}</td>\n",
       "      <td>0.14</td>\n",
       "      <td>0.89</td>\n",
       "      <td>0.75</td>\n",
       "      <td>0.39</td>\n",
       "      <td>0.85</td>\n",
       "    </tr>\n",
       "    <tr>\n",
       "      <th>0</th>\n",
       "      <td>IMbi_mar</td>\n",
       "      <td>lp_2018</td>\n",
       "      <td>lm_2018</td>\n",
       "      <td>0</td>\n",
       "      <td>0</td>\n",
       "      <td>0.4</td>\n",
       "      <td>1</td>\n",
       "      <td>NaN</td>\n",
       "      <td>NaN</td>\n",
       "      <td>NaN</td>\n",
       "      <td>...</td>\n",
       "      <td>NaN</td>\n",
       "      <td>NaN</td>\n",
       "      <td>places: [ p_13, p_14, p_15, p_3, p_4, p_5, p_8...</td>\n",
       "      <td>{source: 1}</td>\n",
       "      <td>{sink: 1}</td>\n",
       "      <td>-0.02</td>\n",
       "      <td>0.75</td>\n",
       "      <td>0.77</td>\n",
       "      <td>0.36</td>\n",
       "      <td>0.96</td>\n",
       "    </tr>\n",
       "  </tbody>\n",
       "</table>\n",
       "<p>72 rows × 21 columns</p>\n",
       "</div>"
      ],
      "text/plain": [
       "       miner logP_Name logM_Name imf_noise_thr hm_depen_thr im_bi_sup  \\\n",
       "0   IMbi_ali   lp_2012   lm_2012             0            0         1   \n",
       "0   IMbi_mar   lp_2012   lm_2012             0            0         1   \n",
       "0   IMbi_ali   lp_2012   lm_2012             0            0       0.8   \n",
       "0   IMbi_mar   lp_2012   lm_2012             0            0       0.8   \n",
       "0   IMbi_ali   lp_2012   lm_2012             0            0       0.4   \n",
       "..       ...       ...       ...           ...          ...       ...   \n",
       "0   IMbi_mar   lp_2018   lm_2018             0            0         1   \n",
       "0   IMbi_ali   lp_2018   lm_2018             0            0       0.8   \n",
       "0   IMbi_mar   lp_2018   lm_2018             0            0       0.8   \n",
       "0   IMbi_ali   lp_2018   lm_2018             0            0       0.4   \n",
       "0   IMbi_mar   lp_2018   lm_2018             0            0       0.4   \n",
       "\n",
       "   im_bi_ratio fit_tok fit_alig prec_tok  ... f1_tok f1_alig  \\\n",
       "0            0     NaN      NaN      NaN  ...    NaN     NaN   \n",
       "0            0     NaN      NaN      NaN  ...    NaN     NaN   \n",
       "0            0     NaN      NaN      NaN  ...    NaN     NaN   \n",
       "0            0     NaN      NaN      NaN  ...    NaN     NaN   \n",
       "0            0     NaN      NaN      NaN  ...    NaN     NaN   \n",
       "..         ...     ...      ...      ...  ...    ...     ...   \n",
       "0            1     NaN      NaN      NaN  ...    NaN     NaN   \n",
       "0            1     NaN      NaN      NaN  ...    NaN     NaN   \n",
       "0            1     NaN      NaN      NaN  ...    NaN     NaN   \n",
       "0            1     NaN      NaN      NaN  ...    NaN     NaN   \n",
       "0            1     NaN      NaN      NaN  ...    NaN     NaN   \n",
       "\n",
       "                                                  net           im         fm  \\\n",
       "0   places: [ p_10, p_12, p_13, p_14, p_15, p_16, ...  {source: 1}  {sink: 1}   \n",
       "0   places: [ p_10, p_11, p_3, p_4, p_5, p_6, p_7,...  {source: 1}  {sink: 1}   \n",
       "0   places: [ p_10, p_12, p_13, p_14, p_15, p_16, ...  {source: 1}  {sink: 1}   \n",
       "0   places: [ p_10, p_11, p_12, p_13, p_3, p_4, p_...  {source: 1}  {sink: 1}   \n",
       "0   places: [ p_10, p_11, p_12, p_13, p_15, p_16, ...  {source: 1}  {sink: 1}   \n",
       "..                                                ...          ...        ...   \n",
       "0   places: [ p_10, p_13, p_14, p_15, p_3, p_4, p_...  {source: 1}  {sink: 1}   \n",
       "0   places: [ p_10, p_11, p_12, p_13, p_17, p_18, ...  {source: 1}  {sink: 1}   \n",
       "0   places: [ p_10, p_13, p_14, p_15, p_3, p_4, p_...  {source: 1}  {sink: 1}   \n",
       "0   places: [ p_10, p_11, p_12, p_13, p_17, p_18, ...  {source: 1}  {sink: 1}   \n",
       "0   places: [ p_13, p_14, p_15, p_3, p_4, p_5, p_8...  {source: 1}  {sink: 1}   \n",
       "\n",
       "   acc_logs  fitP  fitM  f1_fit_logs  precP  \n",
       "0     -0.19  0.61  0.80         0.30   0.87  \n",
       "0      0.00  0.79  0.79         0.33   0.94  \n",
       "0      0.04  0.80  0.75         0.38   0.87  \n",
       "0      0.04  0.80  0.75         0.38   1.00  \n",
       "0      0.16  0.96  0.80         0.33   0.64  \n",
       "..      ...   ...   ...          ...    ...  \n",
       "0      0.15  0.84  0.68         0.46   0.90  \n",
       "0      0.14  0.89  0.75         0.39   0.85  \n",
       "0      0.15  0.84  0.68         0.46   0.90  \n",
       "0      0.14  0.89  0.75         0.39   0.85  \n",
       "0     -0.02  0.75  0.77         0.36   0.96  \n",
       "\n",
       "[72 rows x 21 columns]"
      ]
     },
     "metadata": {},
     "output_type": "display_data"
    }
   ],
   "source": [
    "display(df)"
   ]
  },
  {
   "cell_type": "markdown",
   "metadata": {},
   "source": [
    "from pm4py.objects.petri_net.exporter import exporter as pnml_exporter\n",
    "\n",
    "net, im, fm = df.iloc[4].net, df.iloc[4].im, df.iloc[4].fm\n",
    "view_petri_net(net, im, fm)\n",
    "pnml_exporter.apply(net, im, \"petri_IMbi.pnml\", final_marking=fm)"
   ]
  }
 ],
 "metadata": {
  "kernelspec": {
   "display_name": "Python 3 (ipykernel)",
   "language": "python",
   "name": "python3"
  },
  "language_info": {
   "codemirror_mode": {
    "name": "ipython",
    "version": 3
   },
   "file_extension": ".py",
   "mimetype": "text/x-python",
   "name": "python",
   "nbconvert_exporter": "python",
   "pygments_lexer": "ipython3",
   "version": "3.8.5"
  }
 },
 "nbformat": 4,
 "nbformat_minor": 2
}
