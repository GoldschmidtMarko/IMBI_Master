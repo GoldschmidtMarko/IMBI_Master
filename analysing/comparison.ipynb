{
 "cells": [
  {
   "attachments": {},
   "cell_type": "markdown",
   "metadata": {},
   "source": [
    "# This file compares and analyses the IMBI_Marko miner"
   ]
  },
  {
   "cell_type": "code",
   "execution_count": 1,
   "metadata": {},
   "outputs": [],
   "source": [
    "import sys\n",
    "# caution: path[0] is reserved for script path (or '' in REPL)\n",
    "sys.path.insert(1, 'C:/Users/Marko/Desktop/GIt/IMBI_Master')"
   ]
  },
  {
   "cell_type": "code",
   "execution_count": 2,
   "metadata": {},
   "outputs": [],
   "source": [
    "from local_pm4py.algo.discovery.inductive import algorithm as inductive_miner\n",
    "from pm4py.objects.log.importer.xes import importer as xes_importer\n",
    "from local_pm4py.algo.analysis import custom_enum\n",
    "from pm4py.visualization.petri_net import visualizer as pn_visualizer\n",
    "from pm4py import view_petri_net\n",
    "from pm4py.algo.evaluation.replay_fitness import algorithm as replay_fitness_evaluator\n",
    "from pm4py import precision_alignments\n",
    "from pm4py import precision_token_based_replay\n",
    "from pm4py import discover_petri_net_heuristics\n",
    "from pm4py.convert import convert_to_petri_net\n",
    "from pm4py.algo.discovery.inductive import algorithm as pm4py_algorithm\n",
    "from pm4py.algo.discovery.inductive.variants import imf as pm4py_imf\n",
    "import pandas as pd\n",
    "from pm4py.algo.discovery.inductive.algorithm import Variants as ind_Variants\n",
    "import matplotlib.pyplot as plt\n",
    "import numpy as np\n",
    "import math"
   ]
  },
  {
   "cell_type": "code",
   "execution_count": 3,
   "metadata": {},
   "outputs": [],
   "source": [
    "def f1_score(a, b):\n",
    "  try:\n",
    "    return 2 * (a * b) / (a + b)\n",
    "  except:\n",
    "    return 0"
   ]
  },
  {
   "cell_type": "code",
   "execution_count": 4,
   "metadata": {},
   "outputs": [],
   "source": [
    "def add_Model_To_Database(df,log, name,net, im, fm, logPName = \"\",logMName = \"\", imf_noiseThreshold = 0, hm_dependency_threshold = 0,im_bi_sup = 0, im_bi_ratio = 0):\n",
    "  \n",
    "  parameters = {pn_visualizer.Variants.WO_DECORATION.value.Parameters.FORMAT:\"pdf\"}\n",
    "  gviz = pn_visualizer.apply(net, im, fm, parameters=parameters)\n",
    "\n",
    "  try:\n",
    "    fitness_token = replay_fitness_evaluator.apply(log, net, im, fm, variant=replay_fitness_evaluator.Variants.TOKEN_BASED)[\"log_fitness\"]\n",
    "  except:\n",
    "    fitness_token = 0\n",
    "  try:\n",
    "    fitness_align = replay_fitness_evaluator.apply(log, net, im, fm, variant=replay_fitness_evaluator.Variants.ALIGNMENT_BASED)[\"log_fitness\"]\n",
    "  except:\n",
    "    fitness_align = 0\n",
    "    \n",
    "  try:\n",
    "    prec_token = precision_token_based_replay(log, net, im, fm)\n",
    "  except:\n",
    "    prec_token = 0\n",
    "    \n",
    "  try:\n",
    "    prec_alignment = precision_alignments(log, net, im, fm)\n",
    "  except:\n",
    "    prec_alignment = 0\n",
    "\n",
    "  df = pd.concat([df, pd.DataFrame.from_records([{\n",
    "      \"miner\" : name,\n",
    "      \"logP_Name\": logPName,\n",
    "      \"logM_Name\": logMName,\n",
    "      \"imf_noise_thr\" : imf_noiseThreshold,\n",
    "      \"hm_depen_thr\" : hm_dependency_threshold,\n",
    "      \"im_bi_sup\" : im_bi_sup,\n",
    "      \"im_bi_ratio\" : im_bi_ratio,\n",
    "      \"fit_tok\": fitness_token,\n",
    "      \"fit_alig\": fitness_align,\n",
    "      \"prec_tok\": prec_token,\n",
    "      \"prec_alig\": prec_alignment,\n",
    "      \"f1_tok\": f1_score(fitness_token, prec_token),\n",
    "      \"f1_alig\": f1_score(fitness_align, prec_alignment),\n",
    "      \"net\": net,\n",
    "      \"im\" : im,\n",
    "      \"fm\" : fm\n",
    "  }])])\n",
    "  return df"
   ]
  },
  {
   "cell_type": "code",
   "execution_count": 5,
   "metadata": {},
   "outputs": [],
   "source": [
    "def applyMinerToLog(df, logPathP, logPathM,logPName, logMName = \"\", noiseThreshold = 0.0, dependency_threshold=0.0, support = 0, ratio = 0):\n",
    "  logP = xes_importer.apply(logPathP)\n",
    "  if logMName == \"\":\n",
    "    # inductive miner\n",
    "    print(\"Running IM\")\n",
    "    pt = pm4py_algorithm.apply(logP,variant=ind_Variants.IM)\n",
    "    net, im, fm = convert_to_petri_net(pt)\n",
    "    df = add_Model_To_Database(df=df, log=logP,net=net,im=im,fm=fm,name=\"IM\",logPName=logPName)\n",
    "    \n",
    "    #imf \n",
    "    print(\"Running IMF\")\n",
    "    parameters = {pm4py_imf.IMFParameters.NOISE_THRESHOLD : noiseThreshold}\n",
    "    pt = pm4py_algorithm.apply(logP,variant=ind_Variants.IMf, parameters=parameters)\n",
    "    net, im, fm = convert_to_petri_net(pt)\n",
    "    df = add_Model_To_Database(df=df, log=logP,net=net,im=im,fm=fm,name=\"IMF\",logPName=logPName,imf_noiseThreshold=noiseThreshold)\n",
    "    \n",
    "    #hm\n",
    "    print(\"Running HM\")\n",
    "    net, im, fm = discover_petri_net_heuristics(logP,dependency_threshold=dependency_threshold)\n",
    "    df = add_Model_To_Database(df=df, log=logP,net=net,im=im,fm=fm,name=\"HM\",logPName=logPName,hm_dependency_threshold=dependency_threshold)\n",
    "    \n",
    "    logM = logP\n",
    "  else:\n",
    "    logM = xes_importer.apply(logPathM)\n",
    "    \n",
    "  # imbi_ali\n",
    "  print(\"Running IMbi_ali\")\n",
    "  cost_Variant = custom_enum.Cost_Variant.ACTIVITY_FREQUENCY_SCORE\n",
    "  net, im, fm = inductive_miner.apply_bi(logP,logM, variant=inductive_miner.Variants.IMbi, sup=support, ratio=ratio, size_par=len(logP)/len(logM), cost_Variant=cost_Variant)\n",
    "  df = add_Model_To_Database(df=df,log=logP,net=net,im=im,fm=fm,name=\"IMbi_ali\",logPName=logPName, logMName=logMName,im_bi_sup=support,im_bi_ratio=ratio)\n",
    "  \n",
    "  #imbi_mar\n",
    "  print(\"Running IMbi_mar\")\n",
    "  cost_Variant = custom_enum.Cost_Variant.ACTIVITY_RELATION_SCORE\n",
    "  net, im, fm = inductive_miner.apply_bi(logP,logM, variant=inductive_miner.Variants.IMbi, sup=support, ratio=ratio, size_par=len(logP)/len(logM), cost_Variant=cost_Variant)\n",
    "  df = add_Model_To_Database(df=df, log=logP,net=net,im=im,fm=fm,name=\"IMbi_mar\",logPName=logPName, logMName=logMName, im_bi_sup=support,im_bi_ratio=ratio)\n",
    "  return df"
   ]
  },
  {
   "cell_type": "code",
   "execution_count": 6,
   "metadata": {},
   "outputs": [],
   "source": [
    "columns = [\"miner\", \"logP_Name\", \"logM_Name\",\"imf_noise_thr\",\"hm_depen_thr\",\"im_bi_sup\",\"im_bi_ratio\", \"fit_tok\", \"fit_alig\", \"prec_tok\", \"prec_alig\", \"f1_tok\", \"f1_alig\", \"net\", \"im\", \"fm\"]\n",
    "df = pd.DataFrame(data=None, index=None, columns=columns, dtype=None, copy=None)"
   ]
  },
  {
   "cell_type": "code",
   "execution_count": 7,
   "metadata": {},
   "outputs": [],
   "source": [
    "rootPath = \"C:/Users/Marko/Desktop/IMbi_Data/analysing/\"\n",
    "lpNames = [\"lp_2012.xes\", \"lp_2017.xes\", \"lp_2018.xes\"]\n",
    "lMNames = [\"lm_2012.xes\", \"lm_2017.xes\", \"lm_2018.xes\"]\n",
    "lpPaths = []\n",
    "lmPaths = []\n",
    "\n",
    "for lp in lpNames:\n",
    "  lpPaths.append((lp,rootPath + lp))\n",
    "for lm in lMNames:\n",
    "  lmPaths.append((lm,rootPath + lm))\n",
    "  "
   ]
  },
  {
   "cell_type": "code",
   "execution_count": 8,
   "metadata": {},
   "outputs": [
    {
     "name": "stdout",
     "output_type": "stream",
     "text": [
      "Running: lp_2012.xes 1/3\n"
     ]
    },
    {
     "name": "stderr",
     "output_type": "stream",
     "text": [
      "c:\\Users\\Marko\\AppData\\Local\\Programs\\Python\\Python38\\lib\\site-packages\\pm4py\\util\\dt_parsing\\parser.py:76: UserWarning: ISO8601 strings are not fully supported with strpfromiso for Python versions below 3.11\n",
      "  warnings.warn(\n",
      "c:\\Users\\Marko\\AppData\\Local\\Programs\\Python\\Python38\\lib\\site-packages\\tqdm\\auto.py:22: TqdmWarning: IProgress not found. Please update jupyter and ipywidgets. See https://ipywidgets.readthedocs.io/en/stable/user_install.html\n",
      "  from .autonotebook import tqdm as notebook_tqdm\n",
      "parsing log, completed traces :: 100%|██████████| 10556/10556 [00:01<00:00, 5522.36it/s]\n"
     ]
    },
    {
     "name": "stdout",
     "output_type": "stream",
     "text": [
      "Running IM\n"
     ]
    },
    {
     "name": "stderr",
     "output_type": "stream",
     "text": [
      "replaying log with TBR, completed variants :: 100%|██████████| 25/25 [00:00<00:00, 847.43it/s]\n",
      "aligning log, completed variants :: 100%|██████████| 25/25 [00:00<00:00, 187.97it/s]\n",
      "c:\\Users\\Marko\\AppData\\Local\\Programs\\Python\\Python38\\lib\\site-packages\\pm4py\\utils.py:486: UserWarning: the EventLog class has been deprecated and will be removed in a future release.\n",
      "  warnings.warn(\"the EventLog class has been deprecated and will be removed in a future release.\")\n",
      "replaying log with TBR, completed variants :: 100%|██████████| 43/43 [00:00<00:00, 741.38it/s]\n",
      "computing precision with alignments, completed variants :: 100%|██████████| 43/43 [00:00<00:00, 372.30it/s]\n"
     ]
    },
    {
     "name": "stdout",
     "output_type": "stream",
     "text": [
      "Running IMF\n"
     ]
    },
    {
     "name": "stderr",
     "output_type": "stream",
     "text": [
      "replaying log with TBR, completed variants :: 100%|██████████| 25/25 [00:00<00:00, 806.48it/s]\n",
      "aligning log, completed variants :: 100%|██████████| 25/25 [00:00<00:00, 227.27it/s]\n",
      "replaying log with TBR, completed variants :: 100%|██████████| 43/43 [00:00<00:00, 977.29it/s]\n",
      "computing precision with alignments, completed variants :: 100%|██████████| 43/43 [00:00<00:00, 207.23it/s]\n"
     ]
    },
    {
     "name": "stdout",
     "output_type": "stream",
     "text": [
      "Running HM\n"
     ]
    },
    {
     "name": "stderr",
     "output_type": "stream",
     "text": [
      "replaying log with TBR, completed variants :: 100%|██████████| 25/25 [00:00<00:00, 1020.42it/s]\n",
      "aligning log, completed variants :: 100%|██████████| 25/25 [00:00<00:00, 218.34it/s]\n",
      "replaying log with TBR, completed variants :: 100%|██████████| 43/43 [00:00<00:00, 1592.61it/s]\n",
      "computing precision with alignments, completed variants :: 100%|██████████| 43/43 [00:00<00:00, 688.00it/s]\n"
     ]
    },
    {
     "name": "stdout",
     "output_type": "stream",
     "text": [
      "Running IMbi_ali\n"
     ]
    },
    {
     "name": "stderr",
     "output_type": "stream",
     "text": [
      "replaying log with TBR, completed variants :: 100%|██████████| 25/25 [00:00<00:00, 1087.08it/s]\n",
      "aligning log, completed variants :: 100%|██████████| 25/25 [00:00<00:00, 314.47it/s]\n",
      "replaying log with TBR, completed variants :: 100%|██████████| 43/43 [00:00<00:00, 1246.45it/s]\n",
      "computing precision with alignments, completed variants :: 100%|██████████| 43/43 [00:00<00:00, 651.54it/s]\n"
     ]
    },
    {
     "name": "stdout",
     "output_type": "stream",
     "text": [
      "Running IMbi_mar\n"
     ]
    },
    {
     "name": "stderr",
     "output_type": "stream",
     "text": [
      "replaying log with TBR, completed variants :: 100%|██████████| 25/25 [00:00<00:00, 961.57it/s]\n",
      "aligning log, completed variants :: 100%|██████████| 25/25 [00:00<00:00, 129.20it/s]\n",
      "replaying log with TBR, completed variants :: 100%|██████████| 43/43 [00:00<00:00, 1829.88it/s]\n",
      "computing precision with alignments, completed variants :: 100%|██████████| 43/43 [00:00<00:00, 646.64it/s]\n"
     ]
    },
    {
     "name": "stdout",
     "output_type": "stream",
     "text": [
      "Running: lp_2017.xes 2/3\n"
     ]
    },
    {
     "name": "stderr",
     "output_type": "stream",
     "text": [
      "parsing log, completed traces :: 100%|██████████| 3000/3000 [00:01<00:00, 1690.62it/s]\n"
     ]
    },
    {
     "name": "stdout",
     "output_type": "stream",
     "text": [
      "Running IM\n"
     ]
    },
    {
     "name": "stderr",
     "output_type": "stream",
     "text": [
      "replaying log with TBR, completed variants :: 100%|██████████| 446/446 [00:00<00:00, 725.46it/s]\n",
      "aligning log, completed variants :: 100%|██████████| 446/446 [00:11<00:00, 39.38it/s]\n",
      "c:\\Users\\Marko\\AppData\\Local\\Programs\\Python\\Python38\\lib\\site-packages\\pm4py\\utils.py:486: UserWarning: the EventLog class has been deprecated and will be removed in a future release.\n",
      "  warnings.warn(\"the EventLog class has been deprecated and will be removed in a future release.\")\n",
      "replaying log with TBR, completed variants :: 100%|██████████| 1199/1199 [00:02<00:00, 557.16it/s]\n",
      "computing precision with alignments, completed variants :: 100%|██████████| 1199/1199 [00:14<00:00, 83.14it/s]\n"
     ]
    },
    {
     "name": "stdout",
     "output_type": "stream",
     "text": [
      "Running IMF\n"
     ]
    },
    {
     "name": "stderr",
     "output_type": "stream",
     "text": [
      "replaying log with TBR, completed variants :: 100%|██████████| 446/446 [00:00<00:00, 836.77it/s] \n",
      "aligning log, completed variants :: 100%|██████████| 446/446 [00:13<00:00, 32.51it/s]\n",
      "replaying log with TBR, completed variants :: 100%|██████████| 1199/1199 [00:00<00:00, 1506.25it/s]\n",
      "computing precision with alignments, completed variants :: 100%|██████████| 1199/1199 [00:02<00:00, 411.11it/s]\n"
     ]
    },
    {
     "name": "stdout",
     "output_type": "stream",
     "text": [
      "Running HM\n"
     ]
    },
    {
     "name": "stderr",
     "output_type": "stream",
     "text": [
      "replaying log with TBR, completed variants :: 100%|██████████| 446/446 [00:00<00:00, 852.77it/s] \n",
      "aligning log, completed variants :: 100%|██████████| 446/446 [00:06<00:00, 72.40it/s]\n",
      "replaying log with TBR, completed variants :: 100%|██████████| 1199/1199 [00:00<00:00, 2434.52it/s]\n",
      "computing precision with alignments, completed variants :: 100%|██████████| 1199/1199 [00:01<00:00, 686.91it/s]\n"
     ]
    },
    {
     "name": "stdout",
     "output_type": "stream",
     "text": [
      "Running IMbi_ali\n"
     ]
    },
    {
     "name": "stderr",
     "output_type": "stream",
     "text": [
      "replaying log with TBR, completed variants :: 100%|██████████| 446/446 [00:00<00:00, 630.39it/s]\n",
      "aligning log, completed variants :: 100%|██████████| 446/446 [00:17<00:00, 24.91it/s]\n",
      "replaying log with TBR, completed variants :: 100%|██████████| 1199/1199 [00:02<00:00, 437.92it/s]\n",
      "computing precision with alignments, completed variants :: 100%|██████████| 1199/1199 [00:15<00:00, 77.07it/s]\n"
     ]
    },
    {
     "name": "stdout",
     "output_type": "stream",
     "text": [
      "Running IMbi_mar\n"
     ]
    },
    {
     "name": "stderr",
     "output_type": "stream",
     "text": [
      "replaying log with TBR, completed variants :: 100%|██████████| 446/446 [00:01<00:00, 426.59it/s]\n",
      "aligning log, completed variants :: 100%|██████████| 446/446 [00:17<00:00, 24.99it/s]\n",
      "replaying log with TBR, completed variants :: 100%|██████████| 1199/1199 [00:01<00:00, 946.23it/s]\n",
      "computing precision with alignments, completed variants :: 100%|██████████| 1199/1199 [00:02<00:00, 411.53it/s]\n"
     ]
    },
    {
     "name": "stdout",
     "output_type": "stream",
     "text": [
      "Running: lp_2018.xes 3/3\n"
     ]
    },
    {
     "name": "stderr",
     "output_type": "stream",
     "text": [
      "parsing log, completed traces :: 100%|██████████| 3000/3000 [00:01<00:00, 2385.68it/s]\n"
     ]
    },
    {
     "name": "stdout",
     "output_type": "stream",
     "text": [
      "Running IM\n"
     ]
    },
    {
     "name": "stderr",
     "output_type": "stream",
     "text": [
      "replaying log with TBR, completed variants :: 100%|██████████| 197/197 [00:00<00:00, 530.28it/s]\n",
      "aligning log, completed variants :: 100%|██████████| 197/197 [00:04<00:00, 39.87it/s]\n",
      "c:\\Users\\Marko\\AppData\\Local\\Programs\\Python\\Python38\\lib\\site-packages\\pm4py\\utils.py:486: UserWarning: the EventLog class has been deprecated and will be removed in a future release.\n",
      "  warnings.warn(\"the EventLog class has been deprecated and will be removed in a future release.\")\n",
      "replaying log with TBR, completed variants :: 100%|██████████| 1326/1326 [00:02<00:00, 499.43it/s]\n",
      "computing precision with alignments, completed variants :: 100%|██████████| 1326/1326 [00:17<00:00, 75.77it/s]\n"
     ]
    },
    {
     "name": "stdout",
     "output_type": "stream",
     "text": [
      "Running IMF\n"
     ]
    },
    {
     "name": "stderr",
     "output_type": "stream",
     "text": [
      "replaying log with TBR, completed variants :: 100%|██████████| 197/197 [00:00<00:00, 628.38it/s]\n",
      "aligning log, completed variants :: 100%|██████████| 197/197 [00:02<00:00, 79.18it/s]\n",
      "replaying log with TBR, completed variants :: 100%|██████████| 1326/1326 [00:02<00:00, 471.63it/s]\n",
      "computing precision with alignments, completed variants :: 100%|██████████| 1326/1326 [00:05<00:00, 241.64it/s]\n"
     ]
    },
    {
     "name": "stdout",
     "output_type": "stream",
     "text": [
      "Running HM\n"
     ]
    },
    {
     "name": "stderr",
     "output_type": "stream",
     "text": [
      "replaying log with TBR, completed variants :: 100%|██████████| 197/197 [00:00<00:00, 784.86it/s]\n",
      "replaying log with TBR, completed variants :: 100%|██████████| 1326/1326 [00:01<00:00, 1126.38it/s]\n"
     ]
    },
    {
     "name": "stdout",
     "output_type": "stream",
     "text": [
      "Running IMbi_ali\n"
     ]
    },
    {
     "name": "stderr",
     "output_type": "stream",
     "text": [
      "replaying log with TBR, completed variants :: 100%|██████████| 197/197 [00:00<00:00, 557.28it/s]\n",
      "aligning log, completed variants :: 100%|██████████| 197/197 [00:03<00:00, 57.30it/s]\n",
      "replaying log with TBR, completed variants :: 100%|██████████| 1326/1326 [00:01<00:00, 669.86it/s]\n",
      "computing precision with alignments, completed variants :: 100%|██████████| 1326/1326 [00:03<00:00, 390.23it/s]\n"
     ]
    },
    {
     "name": "stdout",
     "output_type": "stream",
     "text": [
      "Running IMbi_mar\n"
     ]
    },
    {
     "name": "stderr",
     "output_type": "stream",
     "text": [
      "replaying log with TBR, completed variants :: 100%|██████████| 197/197 [00:00<00:00, 557.28it/s]\n",
      "aligning log, completed variants :: 100%|██████████| 197/197 [00:06<00:00, 31.65it/s]\n",
      "replaying log with TBR, completed variants :: 100%|██████████| 1326/1326 [00:00<00:00, 1421.22it/s]\n",
      "computing precision with alignments, completed variants :: 100%|██████████| 1326/1326 [00:02<00:00, 536.08it/s]\n"
     ]
    }
   ],
   "source": [
    "i = 1\n",
    "for pairLP in lpPaths:\n",
    "  print(\"Running: \" + pairLP[0] + \" \" + str(i) + \"/\" + str(len(lpPaths)))\n",
    "  df = applyMinerToLog(df,pairLP[1],\"\",pairLP[0],\"\", 0.2, 0.99, 0, 0)\n",
    "  i += 1"
   ]
  },
  {
   "cell_type": "code",
   "execution_count": 13,
   "metadata": {},
   "outputs": [
    {
     "data": {
      "text/plain": [
       "'F1 measure: f1_tok'"
      ]
     },
     "metadata": {},
     "output_type": "display_data"
    },
    {
     "data": {
      "image/png": "[encoded data removed]",
      "text/plain": [
       "<Figure size 1500x400 with 3 Axes>"
      ]
     },
     "metadata": {},
     "output_type": "display_data"
    },
    {
     "data": {
      "text/plain": [
       "'F1 measure: f1_alig'"
      ]
     },
     "metadata": {},
     "output_type": "display_data"
    },
    {
     "data": {
      "image/png": "[encoded data removed]",
      "text/plain": [
       "<Figure size 1500x400 with 3 Axes>"
      ]
     },
     "metadata": {},
     "output_type": "display_data"
    }
   ],
   "source": [
    "# display f1 score subplots\n",
    "df_grouped = df.groupby(by=[\"logP_Name\",\t\"logM_Name\"], group_keys=True).apply(lambda x : x)\n",
    "# display(dfN)\n",
    "\n",
    "numberOfPlotPerRow = 3\n",
    "rows = math.ceil(float(len(df_grouped.index.unique()))/numberOfPlotPerRow)\n",
    "cols = min(len(df_grouped.index.unique()),numberOfPlotPerRow)\n",
    "\n",
    "for f1_measure in [\"f1_tok\", \"f1_alig\"]:\n",
    "  fig, axs = plt.subplots(rows, cols, figsize=(15 * (cols / numberOfPlotPerRow), 4 * rows), squeeze=False)\n",
    "  fig.tight_layout(pad=10.0)\n",
    "  cur_Row = 0\n",
    "  cur_Col = 0\n",
    "  for logGroup in df_grouped.index.unique():\n",
    "    df_log_grouped = df_grouped.loc[logGroup]\n",
    "    axs[cur_Row,cur_Col].set_title(\"LogP: \" + logGroup[0] + \" LogM: \" + logGroup[1])\n",
    "    axs[cur_Row,cur_Col].set_ylabel(f1_measure)\n",
    "    axs[cur_Row,cur_Col].set_xlabel(\"Miners\")\n",
    "    j = 0\n",
    "    xTickLabel = []\n",
    "    idx = []\n",
    "    for miner, f1_tok in zip(df_log_grouped.miner, df_log_grouped[f1_measure]):\n",
    "      axs[cur_Row,cur_Col].bar(j,f1_tok, label=str(miner))\n",
    "      xTickLabel.append(miner)\n",
    "      idx.append(j)\n",
    "      j += 1\n",
    "    axs[cur_Row,cur_Col].set_xticks(idx)\n",
    "    axs[cur_Row,cur_Col].set_xticklabels(xTickLabel, rotation=90)\n",
    "    cur_Col += 1\n",
    "    if cur_Col == numberOfPlotPerRow:\n",
    "      cur_Row += 1\n",
    "      cur_Col = 0\n",
    "      \n",
    "    \n",
    "  display(\"F1 measure: \" + f1_measure)\n",
    "  plt.show()\n",
    "  fig.savefig(\"plot_\" + f1_measure + \".pdf\")\n",
    "\n",
    "\n",
    "#alignment"
   ]
  },
  {
   "cell_type": "code",
   "execution_count": 10,
   "metadata": {},
   "outputs": [
    {
     "data": {
      "text/html": [
       "<div>\n",
       "<style scoped>\n",
       "    .dataframe tbody tr th:only-of-type {\n",
       "        vertical-align: middle;\n",
       "    }\n",
       "\n",
       "    .dataframe tbody tr th {\n",
       "        vertical-align: top;\n",
       "    }\n",
       "\n",
       "    .dataframe thead th {\n",
       "        text-align: right;\n",
       "    }\n",
       "</style>\n",
       "<table border=\"1\" class=\"dataframe\">\n",
       "  <thead>\n",
       "    <tr style=\"text-align: right;\">\n",
       "      <th></th>\n",
       "      <th>miner</th>\n",
       "      <th>logP_Name</th>\n",
       "      <th>logM_Name</th>\n",
       "      <th>imf_noise_thr</th>\n",
       "      <th>hm_depen_thr</th>\n",
       "      <th>im_bi_sup</th>\n",
       "      <th>im_bi_ratio</th>\n",
       "      <th>fit_tok</th>\n",
       "      <th>fit_alig</th>\n",
       "      <th>prec_tok</th>\n",
       "      <th>prec_alig</th>\n",
       "      <th>f1_tok</th>\n",
       "      <th>f1_alig</th>\n",
       "      <th>net</th>\n",
       "      <th>im</th>\n",
       "      <th>fm</th>\n",
       "    </tr>\n",
       "  </thead>\n",
       "  <tbody>\n",
       "    <tr>\n",
       "      <th>0</th>\n",
       "      <td>IM</td>\n",
       "      <td>lp_2012.xes</td>\n",
       "      <td></td>\n",
       "      <td>0</td>\n",
       "      <td>0</td>\n",
       "      <td>0</td>\n",
       "      <td>0</td>\n",
       "      <td>1.000000</td>\n",
       "      <td>0.999975</td>\n",
       "      <td>0.978462</td>\n",
       "      <td>0.978462</td>\n",
       "      <td>0.989114</td>\n",
       "      <td>0.989102</td>\n",
       "      <td>places: [ p_12, p_13, p_14, p_15, p_3, p_4, p_...</td>\n",
       "      <td>{source: 1}</td>\n",
       "      <td>{sink: 1}</td>\n",
       "    </tr>\n",
       "    <tr>\n",
       "      <th>0</th>\n",
       "      <td>IMF</td>\n",
       "      <td>lp_2012.xes</td>\n",
       "      <td></td>\n",
       "      <td>0.2</td>\n",
       "      <td>0</td>\n",
       "      <td>0</td>\n",
       "      <td>0</td>\n",
       "      <td>0.998129</td>\n",
       "      <td>0.998613</td>\n",
       "      <td>0.977643</td>\n",
       "      <td>0.977643</td>\n",
       "      <td>0.987780</td>\n",
       "      <td>0.988017</td>\n",
       "      <td>places: [ p_12, p_13, p_14, p_15, p_3, p_4, p_...</td>\n",
       "      <td>{source: 1}</td>\n",
       "      <td>{sink: 1}</td>\n",
       "    </tr>\n",
       "    <tr>\n",
       "      <th>0</th>\n",
       "      <td>HM</td>\n",
       "      <td>lp_2012.xes</td>\n",
       "      <td></td>\n",
       "      <td>0</td>\n",
       "      <td>0.99</td>\n",
       "      <td>0</td>\n",
       "      <td>0</td>\n",
       "      <td>0.895280</td>\n",
       "      <td>0.867262</td>\n",
       "      <td>1.000000</td>\n",
       "      <td>1.000000</td>\n",
       "      <td>0.944747</td>\n",
       "      <td>0.928913</td>\n",
       "      <td>places: [ intplace_A_ACCEPTED, intplace_A_PART...</td>\n",
       "      <td>{source0: 1}</td>\n",
       "      <td>{sink0: 1}</td>\n",
       "    </tr>\n",
       "    <tr>\n",
       "      <th>0</th>\n",
       "      <td>IMbi_ali</td>\n",
       "      <td>lp_2012.xes</td>\n",
       "      <td></td>\n",
       "      <td>0</td>\n",
       "      <td>0</td>\n",
       "      <td>0</td>\n",
       "      <td>0</td>\n",
       "      <td>1.000000</td>\n",
       "      <td>0.999960</td>\n",
       "      <td>0.682827</td>\n",
       "      <td>0.682827</td>\n",
       "      <td>0.811524</td>\n",
       "      <td>0.811510</td>\n",
       "      <td>places: [ p_11, p_12, p_13, p_14, p_15, p_3, p...</td>\n",
       "      <td>{source: 1}</td>\n",
       "      <td>{sink: 1}</td>\n",
       "    </tr>\n",
       "    <tr>\n",
       "      <th>0</th>\n",
       "      <td>IMbi_mar</td>\n",
       "      <td>lp_2012.xes</td>\n",
       "      <td></td>\n",
       "      <td>0</td>\n",
       "      <td>0</td>\n",
       "      <td>0</td>\n",
       "      <td>0</td>\n",
       "      <td>0.989007</td>\n",
       "      <td>0.976895</td>\n",
       "      <td>0.425530</td>\n",
       "      <td>0.425530</td>\n",
       "      <td>0.595039</td>\n",
       "      <td>0.592828</td>\n",
       "      <td>places: [ p_10, p_11, p_12, p_13, p_14, p_15, ...</td>\n",
       "      <td>{source: 1}</td>\n",
       "      <td>{sink: 1}</td>\n",
       "    </tr>\n",
       "    <tr>\n",
       "      <th>0</th>\n",
       "      <td>IM</td>\n",
       "      <td>lp_2017.xes</td>\n",
       "      <td></td>\n",
       "      <td>0</td>\n",
       "      <td>0</td>\n",
       "      <td>0</td>\n",
       "      <td>0</td>\n",
       "      <td>1.000000</td>\n",
       "      <td>0.999921</td>\n",
       "      <td>0.492170</td>\n",
       "      <td>0.492170</td>\n",
       "      <td>0.659670</td>\n",
       "      <td>0.659653</td>\n",
       "      <td>places: [ p_11, p_12, p_13, p_14, p_15, p_16, ...</td>\n",
       "      <td>{source: 1}</td>\n",
       "      <td>{sink: 1}</td>\n",
       "    </tr>\n",
       "    <tr>\n",
       "      <th>0</th>\n",
       "      <td>IMF</td>\n",
       "      <td>lp_2017.xes</td>\n",
       "      <td></td>\n",
       "      <td>0.2</td>\n",
       "      <td>0</td>\n",
       "      <td>0</td>\n",
       "      <td>0</td>\n",
       "      <td>0.971095</td>\n",
       "      <td>0.961927</td>\n",
       "      <td>0.540599</td>\n",
       "      <td>0.540599</td>\n",
       "      <td>0.694550</td>\n",
       "      <td>0.692190</td>\n",
       "      <td>places: [ p_10, p_14, p_15, p_17, p_22, p_23, ...</td>\n",
       "      <td>{source: 1}</td>\n",
       "      <td>{sink: 1}</td>\n",
       "    </tr>\n",
       "    <tr>\n",
       "      <th>0</th>\n",
       "      <td>HM</td>\n",
       "      <td>lp_2017.xes</td>\n",
       "      <td></td>\n",
       "      <td>0</td>\n",
       "      <td>0.99</td>\n",
       "      <td>0</td>\n",
       "      <td>0</td>\n",
       "      <td>0.898145</td>\n",
       "      <td>0.605225</td>\n",
       "      <td>0.999467</td>\n",
       "      <td>0.999467</td>\n",
       "      <td>0.946101</td>\n",
       "      <td>0.753917</td>\n",
       "      <td>places: [ intplace_A_Complete, intplace_A_Inco...</td>\n",
       "      <td>{source0: 1}</td>\n",
       "      <td>{sink0: 1}</td>\n",
       "    </tr>\n",
       "    <tr>\n",
       "      <th>0</th>\n",
       "      <td>IMbi_ali</td>\n",
       "      <td>lp_2017.xes</td>\n",
       "      <td></td>\n",
       "      <td>0</td>\n",
       "      <td>0</td>\n",
       "      <td>0</td>\n",
       "      <td>0</td>\n",
       "      <td>1.000000</td>\n",
       "      <td>0.999879</td>\n",
       "      <td>0.509795</td>\n",
       "      <td>0.509795</td>\n",
       "      <td>0.675317</td>\n",
       "      <td>0.675289</td>\n",
       "      <td>places: [ p_10, p_11, p_12, p_13, p_14, p_15, ...</td>\n",
       "      <td>{source: 1}</td>\n",
       "      <td>{sink: 1}</td>\n",
       "    </tr>\n",
       "    <tr>\n",
       "      <th>0</th>\n",
       "      <td>IMbi_mar</td>\n",
       "      <td>lp_2017.xes</td>\n",
       "      <td></td>\n",
       "      <td>0</td>\n",
       "      <td>0</td>\n",
       "      <td>0</td>\n",
       "      <td>0</td>\n",
       "      <td>0.986078</td>\n",
       "      <td>0.943070</td>\n",
       "      <td>0.497910</td>\n",
       "      <td>0.497910</td>\n",
       "      <td>0.661701</td>\n",
       "      <td>0.651728</td>\n",
       "      <td>places: [ p_10, p_12, p_13, p_14, p_16, p_17, ...</td>\n",
       "      <td>{source: 1}</td>\n",
       "      <td>{sink: 1}</td>\n",
       "    </tr>\n",
       "    <tr>\n",
       "      <th>0</th>\n",
       "      <td>IM</td>\n",
       "      <td>lp_2018.xes</td>\n",
       "      <td></td>\n",
       "      <td>0</td>\n",
       "      <td>0</td>\n",
       "      <td>0</td>\n",
       "      <td>0</td>\n",
       "      <td>1.000000</td>\n",
       "      <td>0.999896</td>\n",
       "      <td>0.383235</td>\n",
       "      <td>0.383235</td>\n",
       "      <td>0.554115</td>\n",
       "      <td>0.554099</td>\n",
       "      <td>places: [ p_10, p_15, p_16, p_17, p_18, p_22, ...</td>\n",
       "      <td>{source: 1}</td>\n",
       "      <td>{sink: 1}</td>\n",
       "    </tr>\n",
       "    <tr>\n",
       "      <th>0</th>\n",
       "      <td>IMF</td>\n",
       "      <td>lp_2018.xes</td>\n",
       "      <td></td>\n",
       "      <td>0.2</td>\n",
       "      <td>0</td>\n",
       "      <td>0</td>\n",
       "      <td>0</td>\n",
       "      <td>0.998372</td>\n",
       "      <td>0.997275</td>\n",
       "      <td>0.515132</td>\n",
       "      <td>0.515132</td>\n",
       "      <td>0.679606</td>\n",
       "      <td>0.679352</td>\n",
       "      <td>places: [ p_10, p_11, p_15, p_16, p_20, p_21, ...</td>\n",
       "      <td>{source: 1}</td>\n",
       "      <td>{sink: 1}</td>\n",
       "    </tr>\n",
       "    <tr>\n",
       "      <th>0</th>\n",
       "      <td>HM</td>\n",
       "      <td>lp_2018.xes</td>\n",
       "      <td></td>\n",
       "      <td>0</td>\n",
       "      <td>0.99</td>\n",
       "      <td>0</td>\n",
       "      <td>0</td>\n",
       "      <td>0.957687</td>\n",
       "      <td>0.000000</td>\n",
       "      <td>0.934827</td>\n",
       "      <td>0.000000</td>\n",
       "      <td>0.946119</td>\n",
       "      <td>0.000000</td>\n",
       "      <td>places: [ intplace_begin payment, intplace_cal...</td>\n",
       "      <td>{source0: 1}</td>\n",
       "      <td>{sink0: 1}</td>\n",
       "    </tr>\n",
       "    <tr>\n",
       "      <th>0</th>\n",
       "      <td>IMbi_ali</td>\n",
       "      <td>lp_2018.xes</td>\n",
       "      <td></td>\n",
       "      <td>0</td>\n",
       "      <td>0</td>\n",
       "      <td>0</td>\n",
       "      <td>0</td>\n",
       "      <td>0.990839</td>\n",
       "      <td>0.984197</td>\n",
       "      <td>0.661360</td>\n",
       "      <td>0.661360</td>\n",
       "      <td>0.793247</td>\n",
       "      <td>0.791110</td>\n",
       "      <td>places: [ p_10, p_11, p_12, p_13, p_14, p_15, ...</td>\n",
       "      <td>{source: 1}</td>\n",
       "      <td>{sink: 1}</td>\n",
       "    </tr>\n",
       "    <tr>\n",
       "      <th>0</th>\n",
       "      <td>IMbi_mar</td>\n",
       "      <td>lp_2018.xes</td>\n",
       "      <td></td>\n",
       "      <td>0</td>\n",
       "      <td>0</td>\n",
       "      <td>0</td>\n",
       "      <td>0</td>\n",
       "      <td>0.928872</td>\n",
       "      <td>0.796793</td>\n",
       "      <td>0.875126</td>\n",
       "      <td>0.875126</td>\n",
       "      <td>0.901198</td>\n",
       "      <td>0.834124</td>\n",
       "      <td>places: [ p_12, p_13, p_15, p_16, p_17, p_19, ...</td>\n",
       "      <td>{source: 1}</td>\n",
       "      <td>{sink: 1}</td>\n",
       "    </tr>\n",
       "  </tbody>\n",
       "</table>\n",
       "</div>"
      ],
      "text/plain": [
       "      miner    logP_Name logM_Name imf_noise_thr hm_depen_thr im_bi_sup  \\\n",
       "0        IM  lp_2012.xes                       0            0         0   \n",
       "0       IMF  lp_2012.xes                     0.2            0         0   \n",
       "0        HM  lp_2012.xes                       0         0.99         0   \n",
       "0  IMbi_ali  lp_2012.xes                       0            0         0   \n",
       "0  IMbi_mar  lp_2012.xes                       0            0         0   \n",
       "0        IM  lp_2017.xes                       0            0         0   \n",
       "0       IMF  lp_2017.xes                     0.2            0         0   \n",
       "0        HM  lp_2017.xes                       0         0.99         0   \n",
       "0  IMbi_ali  lp_2017.xes                       0            0         0   \n",
       "0  IMbi_mar  lp_2017.xes                       0            0         0   \n",
       "0        IM  lp_2018.xes                       0            0         0   \n",
       "0       IMF  lp_2018.xes                     0.2            0         0   \n",
       "0        HM  lp_2018.xes                       0         0.99         0   \n",
       "0  IMbi_ali  lp_2018.xes                       0            0         0   \n",
       "0  IMbi_mar  lp_2018.xes                       0            0         0   \n",
       "\n",
       "  im_bi_ratio   fit_tok  fit_alig  prec_tok  prec_alig    f1_tok   f1_alig  \\\n",
       "0           0  1.000000  0.999975  0.978462   0.978462  0.989114  0.989102   \n",
       "0           0  0.998129  0.998613  0.977643   0.977643  0.987780  0.988017   \n",
       "0           0  0.895280  0.867262  1.000000   1.000000  0.944747  0.928913   \n",
       "0           0  1.000000  0.999960  0.682827   0.682827  0.811524  0.811510   \n",
       "0           0  0.989007  0.976895  0.425530   0.425530  0.595039  0.592828   \n",
       "0           0  1.000000  0.999921  0.492170   0.492170  0.659670  0.659653   \n",
       "0           0  0.971095  0.961927  0.540599   0.540599  0.694550  0.692190   \n",
       "0           0  0.898145  0.605225  0.999467   0.999467  0.946101  0.753917   \n",
       "0           0  1.000000  0.999879  0.509795   0.509795  0.675317  0.675289   \n",
       "0           0  0.986078  0.943070  0.497910   0.497910  0.661701  0.651728   \n",
       "0           0  1.000000  0.999896  0.383235   0.383235  0.554115  0.554099   \n",
       "0           0  0.998372  0.997275  0.515132   0.515132  0.679606  0.679352   \n",
       "0           0  0.957687  0.000000  0.934827   0.000000  0.946119  0.000000   \n",
       "0           0  0.990839  0.984197  0.661360   0.661360  0.793247  0.791110   \n",
       "0           0  0.928872  0.796793  0.875126   0.875126  0.901198  0.834124   \n",
       "\n",
       "                                                 net            im          fm  \n",
       "0  places: [ p_12, p_13, p_14, p_15, p_3, p_4, p_...   {source: 1}   {sink: 1}  \n",
       "0  places: [ p_12, p_13, p_14, p_15, p_3, p_4, p_...   {source: 1}   {sink: 1}  \n",
       "0  places: [ intplace_A_ACCEPTED, intplace_A_PART...  {source0: 1}  {sink0: 1}  \n",
       "0  places: [ p_11, p_12, p_13, p_14, p_15, p_3, p...   {source: 1}   {sink: 1}  \n",
       "0  places: [ p_10, p_11, p_12, p_13, p_14, p_15, ...   {source: 1}   {sink: 1}  \n",
       "0  places: [ p_11, p_12, p_13, p_14, p_15, p_16, ...   {source: 1}   {sink: 1}  \n",
       "0  places: [ p_10, p_14, p_15, p_17, p_22, p_23, ...   {source: 1}   {sink: 1}  \n",
       "0  places: [ intplace_A_Complete, intplace_A_Inco...  {source0: 1}  {sink0: 1}  \n",
       "0  places: [ p_10, p_11, p_12, p_13, p_14, p_15, ...   {source: 1}   {sink: 1}  \n",
       "0  places: [ p_10, p_12, p_13, p_14, p_16, p_17, ...   {source: 1}   {sink: 1}  \n",
       "0  places: [ p_10, p_15, p_16, p_17, p_18, p_22, ...   {source: 1}   {sink: 1}  \n",
       "0  places: [ p_10, p_11, p_15, p_16, p_20, p_21, ...   {source: 1}   {sink: 1}  \n",
       "0  places: [ intplace_begin payment, intplace_cal...  {source0: 1}  {sink0: 1}  \n",
       "0  places: [ p_10, p_11, p_12, p_13, p_14, p_15, ...   {source: 1}   {sink: 1}  \n",
       "0  places: [ p_12, p_13, p_15, p_16, p_17, p_19, ...   {source: 1}   {sink: 1}  "
      ]
     },
     "metadata": {},
     "output_type": "display_data"
    }
   ],
   "source": [
    "display(df)"
   ]
  }
 ],
 "metadata": {
  "kernelspec": {
   "display_name": "Python 3 (ipykernel)",
   "language": "python",
   "name": "python3"
  },
  "language_info": {
   "codemirror_mode": {
    "name": "ipython",
    "version": 3
   },
   "file_extension": ".py",
   "mimetype": "text/x-python",
   "name": "python",
   "nbconvert_exporter": "python",
   "pygments_lexer": "ipython3",
   "version": "3.8.5"
  }
 },
 "nbformat": 4,
 "nbformat_minor": 2
}
