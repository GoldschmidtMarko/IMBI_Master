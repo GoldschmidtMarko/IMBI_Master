{
 "cells": [
  {
   "attachments": {},
   "cell_type": "markdown",
   "metadata": {},
   "source": [
    "# This file compares and analyses the IMBI_Marko miner"
   ]
  },
  {
   "cell_type": "code",
   "execution_count": 2,
   "metadata": {},
   "outputs": [],
   "source": [
    "import sys\n",
    "# caution: path[0] is reserved for script path (or '' in REPL)\n",
    "sys.path.insert(1, 'C:/Users/Marko/Desktop/GIt/IMBI_Master')"
   ]
  },
  {
   "cell_type": "code",
   "execution_count": 3,
   "metadata": {},
   "outputs": [],
   "source": [
    "from local_pm4py.algo.discovery.inductive import algorithm as inductive_miner\n",
    "from pm4py.objects.log.importer.xes import importer as xes_importer\n",
    "from local_pm4py.algo.analysis import custom_enum\n",
    "from pm4py.visualization.petri_net import visualizer as pn_visualizer\n",
    "from pm4py import view_petri_net\n",
    "from pm4py import save_vis_petri_net\n",
    "from pm4py.algo.evaluation.replay_fitness import algorithm as replay_fitness_evaluator\n",
    "from pm4py import precision_alignments\n",
    "from pm4py import precision_token_based_replay\n",
    "from pm4py import discover_petri_net_heuristics\n",
    "from pm4py.convert import convert_to_petri_net\n",
    "from pm4py.algo.discovery.inductive import algorithm as pm4py_algorithm\n",
    "from pm4py.algo.discovery.inductive.variants import imf as pm4py_imf\n",
    "import pandas as pd\n",
    "from pm4py.algo.discovery.inductive.algorithm import Variants as ind_Variants\n",
    "from pm4py.algo.evaluation.precision import algorithm as precision_evaluator\n",
    "from local_pm4py.algo.analysis import Optimzation_Goals\n",
    "import matplotlib.pyplot as plt\n",
    "import numpy as np\n",
    "import math\n",
    "import fpdf\n",
    "from PIL import Image\n",
    "import os"
   ]
  },
  {
   "cell_type": "code",
   "execution_count": 4,
   "metadata": {},
   "outputs": [],
   "source": [
    "def f1_score(a, b):\n",
    "  # try: catch\n",
    "  if math.isclose(a+b,0):\n",
    "    return 0\n",
    "  return 2 * (a * b) / (a + b)"
   ]
  },
  {
   "cell_type": "code",
   "execution_count": 5,
   "metadata": {},
   "outputs": [],
   "source": [
    "def visualize_cuts(fileName):\n",
    "  pdf = fpdf.FPDF(format='letter') #pdf format\n",
    "  pdf.add_page() #create new page\n",
    "  pdf.set_font(\"Arial\", size=8) # font and textsize\n",
    "\n",
    "  depth = 0\n",
    "  currentIteration = 1\n",
    "  file_path = \"imbi_cuts/depth_\" + str(depth) + \"_It_\" + str(currentIteration)\n",
    "  \n",
    "  folder_name = \"imbi_cuts\"\n",
    "  # Check if the folder already exists\n",
    "  if not os.path.exists(folder_name):\n",
    "      # Create the folder\n",
    "      os.makedirs(folder_name)\n",
    "    \n",
    "  # for depth\n",
    "  while(os.path.isfile(file_path + \".png\")):\n",
    "    # for iteration\n",
    "    while(os.path.isfile(file_path + \".png\")):\n",
    "      with open(file_path + \".txt\") as f:\n",
    "        pdf.cell(100, 4, txt=\"Cut: \" + str(depth + 1) + \" it: \" + str(currentIteration), ln=1, align=\"C\")\n",
    "        pdf.cell(1000, 4, txt=\"cut | type | cost_p | cost_m | cost_ratio | fitP\", ln=1, align=\"L\")\n",
    "        pdf.cell(1000, 4, txt=\"\", ln=1, align=\"L\")\n",
    "        lines = f.readlines()\n",
    "        readLines = 0\n",
    "        for line in lines:\n",
    "          if readLines == 0:\n",
    "            outputLine = line.replace(\" \", \" | \")\n",
    "          else:\n",
    "            outputLine = line\n",
    "          pdf.cell(1000, 4, txt=outputLine, ln=1, align=\"L\")\n",
    "          readLines += 1\n",
    "          if readLines == 3:\n",
    "            readLines = 0\n",
    "            pdf.cell(1000, 4, txt=\"\", ln=1, align=\"L\")\n",
    "      img = Image.open(file_path + \".png\")\n",
    "      width,height = img.size\n",
    "      # print(width, height)\n",
    "      pdf.image(file_path + \".png\",w=min(150,width/3),h=min(150,height/3))\n",
    "      pdf.add_page()\n",
    "      currentIteration += 1\n",
    "      file_path = \"imbi_cuts/depth_\" + str(depth) + \"_It_\" + str(currentIteration)\n",
    "      \n",
    "    depth += 1\n",
    "    currentIteration = 1\n",
    "    file_path = \"imbi_cuts/depth_\" + str(depth) + \"_It_\" + str(currentIteration)\n",
    "  pdf.output(fileName + \".pdf\")"
   ]
  },
  {
   "cell_type": "code",
   "execution_count": 6,
   "metadata": {},
   "outputs": [],
   "source": [
    "def visualize_petriNet(df, miner, logPName, logMName = \"\", use_gnn = False):\n",
    "  df_temp = df[df[\"miner\"] == miner]\n",
    "  df_temp = df_temp[df_temp[\"logM_Name\"] == logMName]\n",
    "  df_temp = df_temp[df_temp[\"logP_Name\"] == logPName]\n",
    "  df_temp = df_temp[df_temp[\"use_gnn\"] == use_gnn]\n",
    "  for net, im, fm, sup, ratio in zip(df_temp.net, df_temp.im, df_temp.fm, df_temp.im_bi_sup, df_temp.im_bi_ratio):\n",
    "    print(\"Displaying: \" + str(miner) + \" \" + str(logPName) + \" \" + str(logMName) + \" Sup: \" + str(sup) + \" Ratio: \" + str(ratio) + \" GNN:\" + str(use_gnn))\n",
    "    view_petri_net(net, im, fm)"
   ]
  },
  {
   "cell_type": "code",
   "execution_count": 7,
   "metadata": {},
   "outputs": [],
   "source": [
    "def visualize_petriNet_Advanced(df, miner, logPName, logMName = \"\", sup = 0, ratio = 0, use_gnn = False):\n",
    "  df_temp = df[df[\"miner\"] == miner]\n",
    "  df_temp = df_temp[df_temp[\"logM_Name\"] == logMName]\n",
    "  df_temp = df_temp[df_temp[\"logP_Name\"] == logPName]\n",
    "  df_temp = df_temp[df_temp[\"use_gnn\"] == use_gnn]\n",
    "  df_temp = df_temp[df_temp[\"im_bi_sup\"] == sup]\n",
    "  df_temp = df_temp[df_temp[\"im_bi_ratio\"] == ratio]\n",
    "  for net, im, fm, sup, ratio in zip(df_temp.net, df_temp.im, df_temp.fm, df_temp.im_bi_sup, df_temp.im_bi_ratio):\n",
    "    print(\"Displaying: \" + str(miner) + \" \" + str(logPName) + \" \" + str(logMName) + \" Sup: \" + str(sup) + \" Ratio: \" + str(ratio) + \" GNN:\" + str(use_gnn))\n",
    "    view_petri_net(net, im, fm)"
   ]
  },
  {
   "cell_type": "code",
   "execution_count": 8,
   "metadata": {},
   "outputs": [],
   "source": [
    "def save_petriNet(fileName, df, miner, logPName, logMName = \"\", use_gnn = False):\n",
    "  df_temp = df[df[\"miner\"] == miner]\n",
    "  df_temp = df_temp[df_temp[\"logM_Name\"] == logMName]\n",
    "  df_temp = df_temp[df_temp[\"logP_Name\"] == logPName]\n",
    "  df_temp = df_temp[df_temp[\"use_gnn\"] == use_gnn]\n",
    "  for net, im, fm, sup, ratio in zip(df_temp.net, df_temp.im, df_temp.fm, df_temp.im_bi_sup, df_temp.im_bi_ratio):\n",
    "    print(\"Saving: \" + str(miner) + \" \" + str(logPName) + \" \" + str(logMName) + \" Sup: \" + str(sup) + \" Ratio: \" + str(ratio) + \" GNN:\" + str(use_gnn))\n",
    "    save_vis_petri_net(net, im, fm,file_path=fileName)"
   ]
  },
  {
   "cell_type": "code",
   "execution_count": 92,
   "metadata": {},
   "outputs": [],
   "source": [
    "def save_petriNet_Advanced(fileName, df, miner, logPName, logMName = \"\", sup = 0, ratio = 0, use_gnn = False):\n",
    "  df_temp = df[df[\"miner\"] == miner]\n",
    "  df_temp = df_temp[df_temp[\"logM_Name\"] == logMName]\n",
    "  df_temp = df_temp[df_temp[\"logP_Name\"] == logPName]\n",
    "  df_temp = df_temp[df_temp[\"use_gnn\"] == use_gnn]\n",
    "  df_temp = df_temp[df_temp[\"im_bi_sup\"] == sup]\n",
    "  df_temp = df_temp[df_temp[\"im_bi_ratio\"] == ratio]\n",
    "  for net, im, fm, sup, ratio in zip(df_temp.net, df_temp.im, df_temp.fm, df_temp.im_bi_sup, df_temp.im_bi_ratio):\n",
    "    print(\"Displaying: \" + str(miner) + \" \" + str(logPName) + \" \" + str(logMName) + \" Sup: \" + str(sup) + \" Ratio: \" + str(ratio) + \" GNN:\" + str(use_gnn))\n",
    "    save_vis_petri_net(net, im, fm,file_path=fileName)"
   ]
  },
  {
   "cell_type": "code",
   "execution_count": 9,
   "metadata": {},
   "outputs": [],
   "source": [
    "def visualize_All_petriNet(df, miner):\n",
    "  df_temp = df[df[\"miner\"] == miner]\n",
    "  for logPName, logMName in zip(df_temp.logP_Name, df_temp.logM_Name):\n",
    "    visualize_petriNet(df,miner,logPName,logMName)"
   ]
  },
  {
   "cell_type": "code",
   "execution_count": 10,
   "metadata": {},
   "outputs": [],
   "source": [
    "def isRowPresent(df, miner, logPName, logMName, imf_noiseThreshold, hm_dependency_threshold, im_bi_sup, im_bi_ratio,pruning_threshold):\n",
    "  dftemp = df[df[\"miner\"] == miner]\n",
    "  dftemp = dftemp[dftemp[\"logP_Name\"] == logPName]\n",
    "  dftemp = dftemp[dftemp[\"logM_Name\"] == logMName]\n",
    "  dftemp = dftemp[dftemp[\"imf_noise_thr\"] == imf_noiseThreshold]\n",
    "  dftemp = dftemp[dftemp[\"hm_depen_thr\"] == hm_dependency_threshold]\n",
    "  dftemp = dftemp[dftemp[\"im_bi_sup\"] == im_bi_sup]\n",
    "  dftemp = dftemp[dftemp[\"im_bi_ratio\"] == im_bi_ratio]\n",
    "  dftemp = dftemp[dftemp[\"pruning_threshold\"] == pruning_threshold]\n",
    "  if len(dftemp.index) > 0:\n",
    "    return True\n",
    "  return False\n"
   ]
  },
  {
   "cell_type": "code",
   "execution_count": 11,
   "metadata": {},
   "outputs": [],
   "source": [
    "def runDoubleLogEvaluation(df,log,logM, name,net, im, fm, logPName = \"\",logMName = \"\", imf_noiseThreshold = 0, hm_dependency_threshold = 0,im_bi_sup = 0, im_bi_ratio = 0, pruning_threshold = 0, use_gnn = False):\n",
    "  mes = Optimzation_Goals.apply_petri(log,logM,net,im,fm)\n",
    "\n",
    "  df = pd.concat([df, pd.DataFrame.from_records([{\n",
    "    \"miner\" : name,\n",
    "    \"logP_Name\": logPName[:logPName.rfind(\".\")],\n",
    "    \"logM_Name\": logMName[:logMName.rfind(\".\")],\n",
    "    \"imf_noise_thr\" : imf_noiseThreshold,\n",
    "    \"hm_depen_thr\" : hm_dependency_threshold,\n",
    "    \"im_bi_sup\" : im_bi_sup,\n",
    "    \"im_bi_ratio\" : im_bi_ratio,\n",
    "    \"pruning_threshold\" : pruning_threshold,\n",
    "    \"use_gnn\" : use_gnn,\n",
    "    \"acc_logs\": mes['acc'],\n",
    "    \"fitP\" : mes['fitP'],\n",
    "    \"fitM\" : mes['fitM'],\n",
    "    \"f1_fit_logs\": mes['F1'],\n",
    "    \"precP\" : mes['precision'],\n",
    "    \"net\": net,\n",
    "    \"im\" : im,\n",
    "    \"fm\" : fm\n",
    "  }])])\n",
    "  return df"
   ]
  },
  {
   "cell_type": "code",
   "execution_count": 12,
   "metadata": {},
   "outputs": [],
   "source": [
    "def runSingleLogEvaluation(df,log,logM, name, net, im, fm, logPName = \"\",logMName = \"\", imf_noiseThreshold = 0, hm_dependency_threshold = 0,im_bi_sup = 0, im_bi_ratio = 0, pruning_threshold = 0, use_gnn = False):\n",
    "  \n",
    "  # if isRowPresent(df, name, logPName, logMName, imf_noiseThreshold, hm_dependency_threshold, im_bi_sup, im_bi_ratio) == True:\n",
    "  #   print (\"Skipped because present\")\n",
    "  #   return df\n",
    "  \n",
    "  parameters = {pn_visualizer.Variants.WO_DECORATION.value.Parameters.FORMAT:\"pdf\"}\n",
    "  gviz = pn_visualizer.apply(net, im, fm, parameters=parameters)\n",
    "\n",
    "  try:\n",
    "    fitness_token = replay_fitness_evaluator.apply(log, net, im, fm, variant=replay_fitness_evaluator.Variants.TOKEN_BASED)[\"log_fitness\"]\n",
    "  except:\n",
    "    fitness_token = 0\n",
    "  try:\n",
    "    fitness_align = replay_fitness_evaluator.apply(log, net, im, fm, variant=replay_fitness_evaluator.Variants.ALIGNMENT_BASED)[\"log_fitness\"]\n",
    "  except:\n",
    "    fitness_align = 0\n",
    "    \n",
    "  try:\n",
    "    prec_token = precision_token_based_replay(log, net, im, fm)\n",
    "  except:\n",
    "    prec_token = 0\n",
    "    \n",
    "  try:\n",
    "    prec_alignment = precision_alignments(log, net, im, fm)\n",
    "  except:\n",
    "    prec_alignment = 0\n",
    "    \n",
    "\n",
    "  df = pd.concat([df, pd.DataFrame.from_records([{\n",
    "      \"miner\" : name,\n",
    "      \"logP_Name\": logPName,\n",
    "      \"logM_Name\": logMName,\n",
    "      \"imf_noise_thr\" : imf_noiseThreshold,\n",
    "      \"hm_depen_thr\" : hm_dependency_threshold,\n",
    "      \"im_bi_sup\" : im_bi_sup,\n",
    "      \"im_bi_ratio\" : im_bi_ratio,\n",
    "      \"pruning_threshold\" : pruning_threshold,\n",
    "      \"use_gnn\" : use_gnn,\n",
    "      \"fit_tok\": fitness_token,\n",
    "      \"fit_alig\": fitness_align,\n",
    "      \"prec_tok\": prec_token,\n",
    "      \"prec_alig\": prec_alignment,\n",
    "      \"f1_tok\": f1_score(fitness_token, prec_token),\n",
    "      \"f1_alig\": f1_score(fitness_align, prec_alignment),\n",
    "      \"net\": net,\n",
    "      \"im\" : im,\n",
    "      \"fm\" : fm\n",
    "  }])])\n",
    "  return df"
   ]
  },
  {
   "cell_type": "code",
   "execution_count": 13,
   "metadata": {},
   "outputs": [],
   "source": [
    "def add_Model_To_Database(df,log,logM, name,net, im, fm, logPName = \"\",logMName = \"\", imf_noiseThreshold = 0, hm_dependency_threshold = 0,im_bi_sup = 0, im_bi_ratio = 0, pruning_threshold = 0, use_gnn = False):\n",
    "  if logMName == \"\":\n",
    "    df = runSingleLogEvaluation(df,log,logM, name,net, im, fm, logPName,logMName, imf_noiseThreshold, hm_dependency_threshold,im_bi_sup, im_bi_ratio, pruning_threshold, use_gnn = use_gnn)\n",
    "  else:\n",
    "    df = runDoubleLogEvaluation(df,log,logM, name,net, im, fm, logPName,logMName, imf_noiseThreshold, hm_dependency_threshold,im_bi_sup, im_bi_ratio, pruning_threshold, use_gnn=use_gnn)\n",
    "  return df"
   ]
  },
  {
   "cell_type": "code",
   "execution_count": 14,
   "metadata": {},
   "outputs": [],
   "source": [
    "def getF1Value(df, miner, logPName, logMName, support, ratio, pruning_threshold, use_gnn):\n",
    "  dftemp = df[df[\"miner\"] == miner]\n",
    "  dftemp = dftemp[dftemp[\"logP_Name\"] == logPName[:logPName.rfind(\".\")]]\n",
    "  dftemp = dftemp[dftemp[\"logM_Name\"] == logMName[:logPName.rfind(\".\")]]\n",
    "  dftemp = dftemp[dftemp[\"im_bi_sup\"] == support]\n",
    "  dftemp = dftemp[dftemp[\"im_bi_ratio\"] == ratio]\n",
    "  dftemp = dftemp[dftemp[\"pruning_threshold\"] == pruning_threshold]\n",
    "  dftemp = dftemp[dftemp[\"use_gnn\"] == use_gnn]\n",
    "  if len(dftemp.index) > 1:\n",
    "    raise Exception(\"Error, too many rows.\")\n",
    "  return dftemp[\"f1_fit_logs\"].iloc[0]\n"
   ]
  },
  {
   "cell_type": "code",
   "execution_count": 15,
   "metadata": {},
   "outputs": [],
   "source": [
    "def applyMinerToLog(df, logPathP, logPathM,logPName, logMName = \"\", noiseThreshold = 0.0, dependency_threshold=0.0, support = 0, ratio = 0, pruning_threshold = 0, use_gnn = False):\n",
    "  logP = xes_importer.apply(logPathP)\n",
    "  if logMName == \"\":\n",
    "    logM = logP\n",
    "    # inductive miner\n",
    "    print(\"Running IM\")\n",
    "    pt = pm4py_algorithm.apply(logP,variant=ind_Variants.IM)\n",
    "    net, im, fm = convert_to_petri_net(pt)\n",
    "    df = add_Model_To_Database(df=df, log=logP, logM=logM,net=net,im=im,fm=fm,name=\"IM\",logPName=logPName, im_bi_sup=support,im_bi_ratio=ratio,pruning_threshold = pruning_threshold, use_gnn = use_gnn)\n",
    "    \n",
    "    #imf \n",
    "    print(\"Running IMF\")\n",
    "    parameters = {pm4py_imf.IMFParameters.NOISE_THRESHOLD : noiseThreshold}\n",
    "    pt = pm4py_algorithm.apply(logP,variant=ind_Variants.IMf, parameters=parameters)\n",
    "    net, im, fm = convert_to_petri_net(pt)\n",
    "    df = add_Model_To_Database(df=df, log=logP, logM=logM,net=net,im=im,fm=fm,name=\"IMF\",logPName=logPName,imf_noiseThreshold=noiseThreshold, im_bi_sup=support,im_bi_ratio=ratio,pruning_threshold = pruning_threshold, use_gnn = use_gnn)\n",
    "    \n",
    "    #hm\n",
    "    print(\"Running HM\")\n",
    "    net, im, fm = discover_petri_net_heuristics(logP,dependency_threshold=dependency_threshold)\n",
    "    df = add_Model_To_Database(df=df, log=logP, logM=logM,net=net,im=im,fm=fm,name=\"HM\",logPName=logPName,hm_dependency_threshold=dependency_threshold, im_bi_sup=support,im_bi_ratio=ratio,pruning_threshold = pruning_threshold, use_gnn = use_gnn)\n",
    "  else:\n",
    "    logM = xes_importer.apply(logPathM)\n",
    "    \n",
    "  # imbi_ali\n",
    "  print(\"Running IMbi_ali\")\n",
    "  cost_Variant = custom_enum.Cost_Variant.ACTIVITY_FREQUENCY_SCORE\n",
    "  net, im, fm = inductive_miner.apply_bi(logP,logM, variant=inductive_miner.Variants.IMbi, sup=support, ratio=ratio, pruning_threshold = pruning_threshold, size_par=len(logP)/len(logM), cost_Variant=cost_Variant,use_gnn=use_gnn)\n",
    "  df = add_Model_To_Database(df=df,log=logP, logM=logM,net=net,im=im,fm=fm,name=\"IMbi_ali\",logPName=logPName, logMName=logMName,im_bi_sup=support,im_bi_ratio=ratio,pruning_threshold = pruning_threshold, use_gnn = use_gnn)\n",
    "  \n",
    "  fileName_cuts_ali = \"cuts_IMbi_ali_sup_\" + str(support) + \"_ratio_\" + str(ratio) + \"_logP_\" + logPName[:logPName.rfind(\".\")] + \"_logM_\" + logMName[:logMName.rfind(\".\")]\n",
    "  visualize_cuts(fileName_cuts_ali)\n",
    "  \n",
    "  for f in os.listdir(\"imbi_cuts\"):\n",
    "    os.remove(os.path.join(\"imbi_cuts\", f))\n",
    "  \n",
    "  #imbi_mar\n",
    "  print(\"Running IMbi_mar\")\n",
    "  cost_Variant = custom_enum.Cost_Variant.ACTIVITY_RELATION_SCORE\n",
    "  net, im, fm = inductive_miner.apply_bi(logP,logM, variant=inductive_miner.Variants.IMbi, sup=support, ratio=ratio, pruning_threshold = pruning_threshold, size_par=len(logP)/len(logM), cost_Variant=cost_Variant,use_gnn=use_gnn)\n",
    "  df = add_Model_To_Database(df=df, log=logP, logM=logM,net=net,im=im,fm=fm,name=\"IMbi_mar\",logPName=logPName, logMName=logMName, im_bi_sup=support,im_bi_ratio=ratio,pruning_threshold = pruning_threshold, use_gnn = use_gnn)\n",
    "  \n",
    "  fileName_cuts_mar = \"cuts_IMbi_mar_sup_\" + str(support) + \"_ratio_\" + str(ratio) + \"_logP-\" + logPName[:logPName.rfind(\".\")] + \"_logM-\" + logMName[:logMName.rfind(\".\")]\n",
    "  visualize_cuts(fileName_cuts_mar)\n",
    "  \n",
    "  for f in os.listdir(\"imbi_cuts\"):\n",
    "    os.remove(os.path.join(\"imbi_cuts\", f))\n",
    "  \n",
    "  # for double log\n",
    "  marImproved = False\n",
    "  if logMName != \"\":\n",
    "    f1_ali = getF1Value(df,\"IMbi_ali\",logPName,logMName,support,ratio, pruning_threshold, use_gnn = use_gnn)\n",
    "    f1_mar = getF1Value(df,\"IMbi_mar\",logPName,logMName,support,ratio, pruning_threshold, use_gnn = use_gnn)\n",
    "    if f1_ali < f1_mar:\n",
    "      display(\"Mar > Ali\")\n",
    "      marImproved = True\n",
    "      if True:\n",
    "        if os.path.exists(fileName_cuts_ali+ \".pdf\"):\n",
    "          os.remove(fileName_cuts_ali+ \".pdf\")\n",
    "        if os.path.exists(fileName_cuts_mar+ \".pdf\"):\n",
    "          os.remove(fileName_cuts_mar + \".pdf\")\n",
    "    else:\n",
    "      display(\"Ali > Mar\")\n",
    "  return df, marImproved"
   ]
  },
  {
   "cell_type": "code",
   "execution_count": 16,
   "metadata": {},
   "outputs": [],
   "source": [
    "def applyMinerToLogForGNN(df, logPathP, logPathM,logPName, logMName = \"\", noiseThreshold = 0.0, dependency_threshold=0.0, support = 0, ratio = 0, pruning_threshold = 0, use_gnn = False):\n",
    "  logP = xes_importer.apply(logPathP)\n",
    "  logM = xes_importer.apply(logPathM)\n",
    "    \n",
    "  # imbi_ali\n",
    "  print(\"Running IMbi_ali\")\n",
    "  cost_Variant = custom_enum.Cost_Variant.ACTIVITY_FREQUENCY_SCORE\n",
    "  net, im, fm = inductive_miner.apply_bi(logP,logM, variant=inductive_miner.Variants.IMbi, sup=support, ratio=ratio, pruning_threshold = pruning_threshold, size_par=len(logP)/len(logM), cost_Variant=cost_Variant,use_gnn=use_gnn)\n",
    "  df = add_Model_To_Database(df=df,log=logP, logM=logM,net=net,im=im,fm=fm,name=\"IMbi_ali\",logPName=logPName, logMName=logMName,im_bi_sup=support,im_bi_ratio=ratio,pruning_threshold = pruning_threshold, use_gnn = use_gnn)\n",
    "  \n",
    "  save_cuts = False\n",
    "  if save_cuts == True:\n",
    "    fileName_cuts_ali = \"cuts_IMbi_ali_sup_\" + str(support) + \"_ratio_\" + str(ratio) + \"_logP_\" + logPName[:logPName.rfind(\".\")] + \"_logM_\" + logMName[:logMName.rfind(\".\")]\n",
    "    visualize_cuts(fileName_cuts_ali)\n",
    "  \n",
    "  return df"
   ]
  },
  {
   "cell_type": "code",
   "execution_count": 17,
   "metadata": {},
   "outputs": [],
   "source": [
    "columns = [\"miner\", \"logP_Name\", \"logM_Name\",\"imf_noise_thr\",\"hm_depen_thr\",\"im_bi_sup\",\"im_bi_ratio\", \"pruning_threshold\", \"use_gnn\", \"fit_tok\", \"fit_alig\", \"prec_tok\", \"prec_alig\", \"f1_tok\", \"f1_alig\", \"net\", \"im\", \"fm\"]\n",
    "df = pd.DataFrame(data=None, index=None, columns=columns, dtype=None, copy=None)\n",
    "df['use_gnn'] = df['use_gnn'].astype(bool)"
   ]
  },
  {
   "cell_type": "code",
   "execution_count": 18,
   "metadata": {},
   "outputs": [],
   "source": [
    "rootPath = \"C:/Users/Marko/Desktop/IMbi_Data/analysing/\"\n",
    "\n",
    "lpNames = [\"lp_2012.xes\", \"lp_2017.xes\", \"lp_2018.xes\"]\n",
    "# lpNames = [\"lp_2012.xes\"]\n",
    "\n",
    "lMNames = [\"lm_2012.xes\", \"lm_2017.xes\", \"lm_2018.xes\"]\n",
    "# lMNames = [\"lm_2012.xes\"]\n",
    "lpPaths = []\n",
    "lmPaths = []\n",
    "\n",
    "for lp in lpNames:\n",
    "  lpPaths.append((lp,rootPath + lp))\n",
    "for lm in lMNames:\n",
    "  lmPaths.append((lm,rootPath + lm))\n",
    "  "
   ]
  },
  {
   "cell_type": "code",
   "execution_count": 19,
   "metadata": {},
   "outputs": [],
   "source": [
    "runSingleLog = False\n",
    "analyse_gnn = True"
   ]
  },
  {
   "cell_type": "code",
   "execution_count": 20,
   "metadata": {},
   "outputs": [],
   "source": [
    "ratios = [0]\n",
    "sups = [0.2, 0.4]\n",
    "pruning_thresholds = [0, 0.1, 0.2]\n",
    "runs = 1\n",
    "\n",
    "totalRuns = len(lpPaths) * len(ratios) * len(sups) * len(pruning_thresholds)\n",
    "if runSingleLog:\n",
    "  if analyse_gnn == False:\n",
    "    for i in range(0,len(lpPaths)):\n",
    "      for ratio in ratios:\n",
    "        for sup in sups:\n",
    "          for pruning_threshold in pruning_thresholds:\n",
    "            display(\"Running: \" + lpPaths[i][0] + \" \" + str(runs) + \"/\" + str(totalRuns))\n",
    "            display(\"i: \" + str(i) + \" ratio: \" + str(ratio) + \" sup: \" + str(sup) + \" pruning: \" + str(pruning_threshold))\n",
    "            df, marImproved = applyMinerToLog(df, lpPaths[i][1], \"\", lpPaths[i][0],\"\", 0.2, 0.99, sup, ratio, pruning_threshold)\n",
    "            runs += 1"
   ]
  },
  {
   "cell_type": "code",
   "execution_count": 21,
   "metadata": {},
   "outputs": [],
   "source": [
    "if runSingleLog == False:\n",
    "  if analyse_gnn == False:\n",
    "    runs = 1\n",
    "    improving_runs = 0\n",
    "    \n",
    "    ratios = [1, 0.8]\n",
    "    sups = [0.2, 0.3]\n",
    "    pruning_thresholds = [0]\n",
    "    \n",
    "    totalRuns = len(lpPaths) * len(ratios) * len(sups) * len(pruning_thresholds)\n",
    "\n",
    "    for i in range(0,len(lpPaths)):\n",
    "      for ratio in ratios:\n",
    "        for sup in sups:\n",
    "          for pruning_threshold in pruning_thresholds:\n",
    "            display(\"Running: \" + lpPaths[i][0] + \" \" + str(runs) + \"/\" + str(totalRuns))\n",
    "            display(\"i: \" + str(i) + \" ratio: \" + str(ratio) + \" sup: \" + str(sup) + \" pruning: \" + str(pruning_threshold))\n",
    "            display(\"Stats: \" + str(improving_runs) + \"/\" + str(runs))\n",
    "            df, marImproved = applyMinerToLog(df, lpPaths[i][1], lmPaths[i][1], lpPaths[i][0],lmPaths[i][0], 0.2, 0.99, sup, ratio, pruning_threshold)\n",
    "            if marImproved:\n",
    "              improving_runs += 1\n",
    "            runs += 1\n",
    "    \n",
    "# display(df)"
   ]
  },
  {
   "cell_type": "code",
   "execution_count": 22,
   "metadata": {},
   "outputs": [
    {
     "data": {
      "text/plain": [
       "'Running: lp_2012.xes 1/36'"
      ]
     },
     "metadata": {},
     "output_type": "display_data"
    },
    {
     "data": {
      "text/plain": [
       "'i: 0 ratio: 1 sup: 0.2 pruning: 0'"
      ]
     },
     "metadata": {},
     "output_type": "display_data"
    },
    {
     "name": "stderr",
     "output_type": "stream",
     "text": [
      "c:\\Users\\Marko\\AppData\\Local\\Programs\\Python\\Python38\\lib\\site-packages\\pm4py\\util\\dt_parsing\\parser.py:76: UserWarning: ISO8601 strings are not fully supported with strpfromiso for Python versions below 3.11\n",
      "  warnings.warn(\n",
      "c:\\Users\\Marko\\AppData\\Local\\Programs\\Python\\Python38\\lib\\site-packages\\tqdm\\auto.py:22: TqdmWarning: IProgress not found. Please update jupyter and ipywidgets. See https://ipywidgets.readthedocs.io/en/stable/user_install.html\n",
      "  from .autonotebook import tqdm as notebook_tqdm\n",
      "parsing log, completed traces :: 100%|██████████| 10556/10556 [00:01<00:00, 7460.08it/s]\n",
      "parsing log, completed traces :: 100%|██████████| 587/587 [00:00<00:00, 2808.62it/s]\n"
     ]
    },
    {
     "name": "stdout",
     "output_type": "stream",
     "text": [
      "Running IMbi_ali\n"
     ]
    },
    {
     "name": "stderr",
     "output_type": "stream",
     "text": [
      "aligning log, completed variants :: 100%|██████████| 25/25 [00:00<00:00, 340.14it/s]\n",
      "computing precision with alignments, completed variants :: 100%|██████████| 43/43 [00:00<00:00, 1146.59it/s]\n",
      "aligning log, completed variants :: 100%|██████████| 49/49 [00:00<00:00, 282.42it/s]\n"
     ]
    },
    {
     "data": {
      "text/plain": [
       "'Running: lp_2012.xes 2/36'"
      ]
     },
     "metadata": {},
     "output_type": "display_data"
    },
    {
     "data": {
      "text/plain": [
       "'i: 0 ratio: 1 sup: 0.2 pruning: 0'"
      ]
     },
     "metadata": {},
     "output_type": "display_data"
    },
    {
     "name": "stderr",
     "output_type": "stream",
     "text": [
      "parsing log, completed traces :: 100%|██████████| 10556/10556 [00:01<00:00, 8652.46it/s]\n",
      "parsing log, completed traces :: 100%|██████████| 587/587 [00:00<00:00, 2808.60it/s]\n"
     ]
    },
    {
     "name": "stdout",
     "output_type": "stream",
     "text": [
      "Running IMbi_ali\n"
     ]
    },
    {
     "name": "stderr",
     "output_type": "stream",
     "text": [
      "aligning log, completed variants :: 100%|██████████| 25/25 [00:00<00:00, 400.00it/s]\n",
      "computing precision with alignments, completed variants :: 100%|██████████| 43/43 [00:00<00:00, 1036.15it/s]\n",
      "aligning log, completed variants :: 100%|██████████| 49/49 [00:00<00:00, 303.41it/s]\n"
     ]
    },
    {
     "data": {
      "text/plain": [
       "'Running: lp_2012.xes 3/36'"
      ]
     },
     "metadata": {},
     "output_type": "display_data"
    },
    {
     "data": {
      "text/plain": [
       "'i: 0 ratio: 1 sup: 0.3 pruning: 0'"
      ]
     },
     "metadata": {},
     "output_type": "display_data"
    },
    {
     "name": "stderr",
     "output_type": "stream",
     "text": [
      "parsing log, completed traces :: 100%|██████████| 10556/10556 [00:01<00:00, 8243.65it/s]\n",
      "parsing log, completed traces :: 100%|██████████| 587/587 [00:00<00:00, 2768.87it/s]\n"
     ]
    },
    {
     "name": "stdout",
     "output_type": "stream",
     "text": [
      "Running IMbi_ali\n"
     ]
    },
    {
     "name": "stderr",
     "output_type": "stream",
     "text": [
      "aligning log, completed variants :: 100%|██████████| 25/25 [00:00<00:00, 359.71it/s]\n",
      "computing precision with alignments, completed variants :: 100%|██████████| 43/43 [00:00<00:00, 955.55it/s]\n",
      "aligning log, completed variants :: 100%|██████████| 49/49 [00:00<00:00, 267.03it/s]\n"
     ]
    },
    {
     "data": {
      "text/plain": [
       "'Running: lp_2012.xes 4/36'"
      ]
     },
     "metadata": {},
     "output_type": "display_data"
    },
    {
     "data": {
      "text/plain": [
       "'i: 0 ratio: 1 sup: 0.3 pruning: 0'"
      ]
     },
     "metadata": {},
     "output_type": "display_data"
    },
    {
     "name": "stderr",
     "output_type": "stream",
     "text": [
      "parsing log, completed traces :: 100%|██████████| 10556/10556 [00:01<00:00, 8999.15it/s]\n",
      "parsing log, completed traces :: 100%|██████████| 587/587 [00:00<00:00, 2842.61it/s]\n"
     ]
    },
    {
     "name": "stdout",
     "output_type": "stream",
     "text": [
      "Running IMbi_ali\n"
     ]
    },
    {
     "name": "stderr",
     "output_type": "stream",
     "text": [
      "aligning log, completed variants :: 100%|██████████| 25/25 [00:00<00:00, 357.14it/s]\n",
      "computing precision with alignments, completed variants :: 100%|██████████| 43/43 [00:00<00:00, 955.55it/s]\n",
      "aligning log, completed variants :: 100%|██████████| 49/49 [00:00<00:00, 294.29it/s]\n"
     ]
    },
    {
     "data": {
      "text/plain": [
       "'Running: lp_2012.xes 5/36'"
      ]
     },
     "metadata": {},
     "output_type": "display_data"
    },
    {
     "data": {
      "text/plain": [
       "'i: 0 ratio: 0.8 sup: 0.2 pruning: 0'"
      ]
     },
     "metadata": {},
     "output_type": "display_data"
    },
    {
     "name": "stderr",
     "output_type": "stream",
     "text": [
      "parsing log, completed traces :: 100%|██████████| 10556/10556 [00:01<00:00, 8082.70it/s]\n",
      "parsing log, completed traces :: 100%|██████████| 587/587 [00:00<00:00, 2835.74it/s]\n"
     ]
    },
    {
     "name": "stdout",
     "output_type": "stream",
     "text": [
      "Running IMbi_ali\n"
     ]
    },
    {
     "name": "stderr",
     "output_type": "stream",
     "text": [
      "aligning log, completed variants :: 100%|██████████| 25/25 [00:00<00:00, 352.11it/s]\n",
      "computing precision with alignments, completed variants :: 100%|██████████| 43/43 [00:00<00:00, 1178.04it/s]\n",
      "aligning log, completed variants :: 100%|██████████| 49/49 [00:00<00:00, 276.84it/s]\n"
     ]
    },
    {
     "data": {
      "text/plain": [
       "'Running: lp_2012.xes 6/36'"
      ]
     },
     "metadata": {},
     "output_type": "display_data"
    },
    {
     "data": {
      "text/plain": [
       "'i: 0 ratio: 0.8 sup: 0.2 pruning: 0'"
      ]
     },
     "metadata": {},
     "output_type": "display_data"
    },
    {
     "name": "stderr",
     "output_type": "stream",
     "text": [
      "parsing log, completed traces :: 100%|██████████| 10556/10556 [00:01<00:00, 8796.65it/s]\n",
      "parsing log, completed traces :: 100%|██████████| 587/587 [00:00<00:00, 2835.73it/s]\n"
     ]
    },
    {
     "name": "stdout",
     "output_type": "stream",
     "text": [
      "Running IMbi_ali\n"
     ]
    },
    {
     "name": "stderr",
     "output_type": "stream",
     "text": [
      "aligning log, completed variants :: 100%|██████████| 25/25 [00:00<00:00, 52.85it/s] \n",
      "computing precision with alignments, completed variants :: 100%|██████████| 43/43 [00:00<00:00, 945.06it/s]\n",
      "aligning log, completed variants :: 100%|██████████| 49/49 [00:01<00:00, 34.56it/s]\n"
     ]
    },
    {
     "data": {
      "text/plain": [
       "'Running: lp_2012.xes 7/36'"
      ]
     },
     "metadata": {},
     "output_type": "display_data"
    },
    {
     "data": {
      "text/plain": [
       "'i: 0 ratio: 0.8 sup: 0.3 pruning: 0'"
      ]
     },
     "metadata": {},
     "output_type": "display_data"
    },
    {
     "name": "stderr",
     "output_type": "stream",
     "text": [
      "parsing log, completed traces :: 100%|██████████| 10556/10556 [00:01<00:00, 8141.92it/s]\n",
      "parsing log, completed traces :: 100%|██████████| 587/587 [00:00<00:00, 2935.03it/s]\n"
     ]
    },
    {
     "name": "stdout",
     "output_type": "stream",
     "text": [
      "Running IMbi_ali\n"
     ]
    },
    {
     "name": "stderr",
     "output_type": "stream",
     "text": [
      "aligning log, completed variants :: 100%|██████████| 25/25 [00:00<00:00, 354.61it/s]\n",
      "computing precision with alignments, completed variants :: 100%|██████████| 43/43 [00:00<00:00, 1131.58it/s]\n",
      "aligning log, completed variants :: 100%|██████████| 49/49 [00:00<00:00, 272.22it/s]\n"
     ]
    },
    {
     "data": {
      "text/plain": [
       "'Running: lp_2012.xes 8/36'"
      ]
     },
     "metadata": {},
     "output_type": "display_data"
    },
    {
     "data": {
      "text/plain": [
       "'i: 0 ratio: 0.8 sup: 0.3 pruning: 0'"
      ]
     },
     "metadata": {},
     "output_type": "display_data"
    },
    {
     "name": "stderr",
     "output_type": "stream",
     "text": [
      "parsing log, completed traces :: 100%|██████████| 10556/10556 [00:01<00:00, 7660.37it/s]\n",
      "parsing log, completed traces :: 100%|██████████| 587/587 [00:00<00:00, 2788.60it/s]\n"
     ]
    },
    {
     "name": "stdout",
     "output_type": "stream",
     "text": [
      "Running IMbi_ali\n"
     ]
    },
    {
     "name": "stderr",
     "output_type": "stream",
     "text": [
      "aligning log, completed variants :: 100%|██████████| 25/25 [00:00<00:00, 53.82it/s] \n",
      "computing precision with alignments, completed variants :: 100%|██████████| 43/43 [00:00<00:00, 1011.75it/s]\n",
      "aligning log, completed variants :: 100%|██████████| 49/49 [00:01<00:00, 36.12it/s]\n"
     ]
    },
    {
     "data": {
      "text/plain": [
       "'Running: lp_2012.xes 9/36'"
      ]
     },
     "metadata": {},
     "output_type": "display_data"
    },
    {
     "data": {
      "text/plain": [
       "'i: 0 ratio: 0.5 sup: 0.2 pruning: 0'"
      ]
     },
     "metadata": {},
     "output_type": "display_data"
    },
    {
     "name": "stderr",
     "output_type": "stream",
     "text": [
      "parsing log, completed traces :: 100%|██████████| 10556/10556 [00:01<00:00, 8132.52it/s]\n",
      "parsing log, completed traces :: 100%|██████████| 587/587 [00:00<00:00, 2775.40it/s]\n"
     ]
    },
    {
     "name": "stdout",
     "output_type": "stream",
     "text": [
      "Running IMbi_ali\n"
     ]
    },
    {
     "name": "stderr",
     "output_type": "stream",
     "text": [
      "aligning log, completed variants :: 100%|██████████| 25/25 [00:00<00:00, 333.33it/s]\n",
      "computing precision with alignments, completed variants :: 100%|██████████| 43/43 [00:00<00:00, 1131.63it/s]\n",
      "aligning log, completed variants :: 100%|██████████| 49/49 [00:00<00:00, 278.41it/s]\n"
     ]
    },
    {
     "data": {
      "text/plain": [
       "'Running: lp_2012.xes 10/36'"
      ]
     },
     "metadata": {},
     "output_type": "display_data"
    },
    {
     "data": {
      "text/plain": [
       "'i: 0 ratio: 0.5 sup: 0.2 pruning: 0'"
      ]
     },
     "metadata": {},
     "output_type": "display_data"
    },
    {
     "name": "stderr",
     "output_type": "stream",
     "text": [
      "parsing log, completed traces :: 100%|██████████| 10556/10556 [00:01<00:00, 8237.77it/s]\n",
      "parsing log, completed traces :: 100%|██████████| 587/587 [00:00<00:00, 2749.39it/s]\n"
     ]
    },
    {
     "name": "stdout",
     "output_type": "stream",
     "text": [
      "Running IMbi_ali\n"
     ]
    },
    {
     "name": "stderr",
     "output_type": "stream",
     "text": [
      "aligning log, completed variants :: 100%|██████████| 25/25 [00:00<00:00, 60.75it/s] \n",
      "computing precision with alignments, completed variants :: 100%|██████████| 43/43 [00:00<00:00, 796.29it/s]\n",
      "aligning log, completed variants :: 100%|██████████| 49/49 [00:01<00:00, 41.14it/s]\n"
     ]
    },
    {
     "data": {
      "text/plain": [
       "'Running: lp_2012.xes 11/36'"
      ]
     },
     "metadata": {},
     "output_type": "display_data"
    },
    {
     "data": {
      "text/plain": [
       "'i: 0 ratio: 0.5 sup: 0.3 pruning: 0'"
      ]
     },
     "metadata": {},
     "output_type": "display_data"
    },
    {
     "name": "stderr",
     "output_type": "stream",
     "text": [
      "parsing log, completed traces :: 100%|██████████| 10556/10556 [00:01<00:00, 7497.17it/s]\n",
      "parsing log, completed traces :: 100%|██████████| 587/587 [00:00<00:00, 2842.63it/s]\n"
     ]
    },
    {
     "name": "stdout",
     "output_type": "stream",
     "text": [
      "Running IMbi_ali\n"
     ]
    },
    {
     "name": "stderr",
     "output_type": "stream",
     "text": [
      "aligning log, completed variants :: 100%|██████████| 25/25 [00:00<00:00, 364.97it/s]\n",
      "computing precision with alignments, completed variants :: 100%|██████████| 43/43 [00:00<00:00, 1146.74it/s]\n",
      "aligning log, completed variants :: 100%|██████████| 49/49 [00:00<00:00, 276.83it/s]\n"
     ]
    },
    {
     "data": {
      "text/plain": [
       "'Running: lp_2012.xes 12/36'"
      ]
     },
     "metadata": {},
     "output_type": "display_data"
    },
    {
     "data": {
      "text/plain": [
       "'i: 0 ratio: 0.5 sup: 0.3 pruning: 0'"
      ]
     },
     "metadata": {},
     "output_type": "display_data"
    },
    {
     "name": "stderr",
     "output_type": "stream",
     "text": [
      "parsing log, completed traces :: 100%|██████████| 10556/10556 [00:01<00:00, 8926.84it/s]\n",
      "parsing log, completed traces :: 100%|██████████| 587/587 [00:00<00:00, 2898.77it/s]\n"
     ]
    },
    {
     "name": "stdout",
     "output_type": "stream",
     "text": [
      "Running IMbi_ali\n"
     ]
    },
    {
     "name": "stderr",
     "output_type": "stream",
     "text": [
      "aligning log, completed variants :: 100%|██████████| 25/25 [00:00<00:00, 65.42it/s] \n",
      "computing precision with alignments, completed variants :: 100%|██████████| 43/43 [00:00<00:00, 860.02it/s]\n",
      "aligning log, completed variants :: 100%|██████████| 49/49 [00:01<00:00, 43.74it/s]\n"
     ]
    },
    {
     "data": {
      "text/plain": [
       "'Running: lp_2017.xes 13/36'"
      ]
     },
     "metadata": {},
     "output_type": "display_data"
    },
    {
     "data": {
      "text/plain": [
       "'i: 1 ratio: 1 sup: 0.2 pruning: 0'"
      ]
     },
     "metadata": {},
     "output_type": "display_data"
    },
    {
     "name": "stderr",
     "output_type": "stream",
     "text": [
      "parsing log, completed traces :: 100%|██████████| 3000/3000 [00:01<00:00, 1647.90it/s]\n",
      "parsing log, completed traces :: 100%|██████████| 3000/3000 [00:01<00:00, 1794.79it/s]\n"
     ]
    },
    {
     "name": "stdout",
     "output_type": "stream",
     "text": [
      "Running IMbi_ali\n"
     ]
    },
    {
     "name": "stderr",
     "output_type": "stream",
     "text": [
      "aligning log, completed variants :: 100%|██████████| 446/446 [00:08<00:00, 51.34it/s]\n",
      "computing precision with alignments, completed variants :: 100%|██████████| 1199/1199 [00:01<00:00, 723.60it/s]\n",
      "aligning log, completed variants :: 100%|██████████| 82/82 [00:00<00:00, 181.82it/s]\n"
     ]
    },
    {
     "data": {
      "text/plain": [
       "'Running: lp_2017.xes 14/36'"
      ]
     },
     "metadata": {},
     "output_type": "display_data"
    },
    {
     "data": {
      "text/plain": [
       "'i: 1 ratio: 1 sup: 0.2 pruning: 0'"
      ]
     },
     "metadata": {},
     "output_type": "display_data"
    },
    {
     "name": "stderr",
     "output_type": "stream",
     "text": [
      "parsing log, completed traces :: 100%|██████████| 3000/3000 [00:02<00:00, 1497.75it/s]\n",
      "parsing log, completed traces :: 100%|██████████| 3000/3000 [00:01<00:00, 1917.55it/s]\n"
     ]
    },
    {
     "name": "stdout",
     "output_type": "stream",
     "text": [
      "Running IMbi_ali\n",
      "Error: the number of nodes in the generated dataset is bigger then the number of nodes in the model. Dataset: 14, model: 12\n"
     ]
    },
    {
     "name": "stderr",
     "output_type": "stream",
     "text": [
      "aligning log, completed variants :: 100%|██████████| 446/446 [00:02<00:00, 189.95it/s]\n",
      "computing precision with alignments, completed variants :: 100%|██████████| 1199/1199 [00:01<00:00, 705.09it/s]\n",
      "aligning log, completed variants :: 100%|██████████| 82/82 [00:00<00:00, 221.02it/s]\n"
     ]
    },
    {
     "data": {
      "text/plain": [
       "'Running: lp_2017.xes 15/36'"
      ]
     },
     "metadata": {},
     "output_type": "display_data"
    },
    {
     "data": {
      "text/plain": [
       "'i: 1 ratio: 1 sup: 0.3 pruning: 0'"
      ]
     },
     "metadata": {},
     "output_type": "display_data"
    },
    {
     "name": "stderr",
     "output_type": "stream",
     "text": [
      "parsing log, completed traces :: 100%|██████████| 3000/3000 [00:02<00:00, 1396.65it/s]\n",
      "parsing log, completed traces :: 100%|██████████| 3000/3000 [00:01<00:00, 1860.46it/s]\n"
     ]
    },
    {
     "name": "stdout",
     "output_type": "stream",
     "text": [
      "Running IMbi_ali\n"
     ]
    },
    {
     "name": "stderr",
     "output_type": "stream",
     "text": [
      "aligning log, completed variants :: 100%|██████████| 446/446 [00:08<00:00, 49.70it/s]\n",
      "computing precision with alignments, completed variants :: 100%|██████████| 1199/1199 [00:01<00:00, 741.73it/s]\n",
      "aligning log, completed variants :: 100%|██████████| 82/82 [00:00<00:00, 177.30it/s]\n"
     ]
    },
    {
     "data": {
      "text/plain": [
       "'Running: lp_2017.xes 16/36'"
      ]
     },
     "metadata": {},
     "output_type": "display_data"
    },
    {
     "data": {
      "text/plain": [
       "'i: 1 ratio: 1 sup: 0.3 pruning: 0'"
      ]
     },
     "metadata": {},
     "output_type": "display_data"
    },
    {
     "name": "stderr",
     "output_type": "stream",
     "text": [
      "parsing log, completed traces :: 100%|██████████| 3000/3000 [00:02<00:00, 1487.36it/s]\n",
      "parsing log, completed traces :: 100%|██████████| 3000/3000 [00:01<00:00, 1803.97it/s]\n"
     ]
    },
    {
     "name": "stdout",
     "output_type": "stream",
     "text": [
      "Running IMbi_ali\n",
      "Error: the number of nodes in the generated dataset is bigger then the number of nodes in the model. Dataset: 14, model: 12\n"
     ]
    },
    {
     "name": "stderr",
     "output_type": "stream",
     "text": [
      "aligning log, completed variants :: 100%|██████████| 446/446 [00:10<00:00, 40.99it/s]\n",
      "computing precision with alignments, completed variants :: 100%|██████████| 1199/1199 [00:02<00:00, 549.37it/s]\n",
      "aligning log, completed variants :: 100%|██████████| 82/82 [00:04<00:00, 19.78it/s]\n"
     ]
    },
    {
     "data": {
      "text/plain": [
       "'Running: lp_2017.xes 17/36'"
      ]
     },
     "metadata": {},
     "output_type": "display_data"
    },
    {
     "data": {
      "text/plain": [
       "'i: 1 ratio: 0.8 sup: 0.2 pruning: 0'"
      ]
     },
     "metadata": {},
     "output_type": "display_data"
    },
    {
     "name": "stderr",
     "output_type": "stream",
     "text": [
      "parsing log, completed traces :: 100%|██████████| 3000/3000 [00:02<00:00, 1459.87it/s]\n",
      "parsing log, completed traces :: 100%|██████████| 3000/3000 [00:01<00:00, 1825.37it/s]\n"
     ]
    },
    {
     "name": "stdout",
     "output_type": "stream",
     "text": [
      "Running IMbi_ali\n"
     ]
    },
    {
     "name": "stderr",
     "output_type": "stream",
     "text": [
      "aligning log, completed variants :: 100%|██████████| 446/446 [00:05<00:00, 79.94it/s]\n",
      "computing precision with alignments, completed variants :: 100%|██████████| 1199/1199 [00:02<00:00, 502.20it/s]\n",
      "aligning log, completed variants :: 100%|██████████| 82/82 [00:00<00:00, 83.33it/s] \n"
     ]
    },
    {
     "data": {
      "text/plain": [
       "'Running: lp_2017.xes 18/36'"
      ]
     },
     "metadata": {},
     "output_type": "display_data"
    },
    {
     "data": {
      "text/plain": [
       "'i: 1 ratio: 0.8 sup: 0.2 pruning: 0'"
      ]
     },
     "metadata": {},
     "output_type": "display_data"
    },
    {
     "name": "stderr",
     "output_type": "stream",
     "text": [
      "parsing log, completed traces :: 100%|██████████| 3000/3000 [00:02<00:00, 1419.11it/s]\n",
      "parsing log, completed traces :: 100%|██████████| 3000/3000 [00:01<00:00, 1893.94it/s]\n"
     ]
    },
    {
     "name": "stdout",
     "output_type": "stream",
     "text": [
      "Running IMbi_ali\n",
      "Error: the number of nodes in the generated dataset is bigger then the number of nodes in the model. Dataset: 14, model: 12\n"
     ]
    },
    {
     "name": "stderr",
     "output_type": "stream",
     "text": [
      "aligning log, completed variants :: 100%|██████████| 446/446 [00:04<00:00, 98.36it/s] \n",
      "computing precision with alignments, completed variants :: 100%|██████████| 1199/1199 [00:02<00:00, 476.83it/s]\n",
      "aligning log, completed variants :: 100%|██████████| 82/82 [00:01<00:00, 52.16it/s] \n"
     ]
    },
    {
     "data": {
      "text/plain": [
       "'Running: lp_2017.xes 19/36'"
      ]
     },
     "metadata": {},
     "output_type": "display_data"
    },
    {
     "data": {
      "text/plain": [
       "'i: 1 ratio: 0.8 sup: 0.3 pruning: 0'"
      ]
     },
     "metadata": {},
     "output_type": "display_data"
    },
    {
     "name": "stderr",
     "output_type": "stream",
     "text": [
      "parsing log, completed traces :: 100%|██████████| 3000/3000 [00:02<00:00, 1470.66it/s]\n",
      "parsing log, completed traces :: 100%|██████████| 3000/3000 [00:01<00:00, 1862.20it/s]\n"
     ]
    },
    {
     "name": "stdout",
     "output_type": "stream",
     "text": [
      "Running IMbi_ali\n"
     ]
    },
    {
     "name": "stderr",
     "output_type": "stream",
     "text": [
      "aligning log, completed variants :: 100%|██████████| 446/446 [00:15<00:00, 29.62it/s]\n",
      "computing precision with alignments, completed variants :: 100%|██████████| 1199/1199 [00:01<00:00, 679.13it/s]\n",
      "aligning log, completed variants :: 100%|██████████| 82/82 [00:00<00:00, 151.43it/s]\n"
     ]
    },
    {
     "data": {
      "text/plain": [
       "'Running: lp_2017.xes 20/36'"
      ]
     },
     "metadata": {},
     "output_type": "display_data"
    },
    {
     "data": {
      "text/plain": [
       "'i: 1 ratio: 0.8 sup: 0.3 pruning: 0'"
      ]
     },
     "metadata": {},
     "output_type": "display_data"
    },
    {
     "name": "stderr",
     "output_type": "stream",
     "text": [
      "parsing log, completed traces :: 100%|██████████| 3000/3000 [00:02<00:00, 1489.94it/s]\n",
      "parsing log, completed traces :: 100%|██████████| 3000/3000 [00:01<00:00, 1931.75it/s]\n"
     ]
    },
    {
     "name": "stdout",
     "output_type": "stream",
     "text": [
      "Running IMbi_ali\n",
      "Error: the number of nodes in the generated dataset is bigger then the number of nodes in the model. Dataset: 14, model: 12\n"
     ]
    },
    {
     "name": "stderr",
     "output_type": "stream",
     "text": [
      "aligning log, completed variants :: 100%|██████████| 446/446 [00:05<00:00, 77.20it/s] \n",
      "computing precision with alignments, completed variants :: 100%|██████████| 1199/1199 [00:01<00:00, 688.68it/s]\n",
      "aligning log, completed variants :: 100%|██████████| 82/82 [00:01<00:00, 60.34it/s]\n"
     ]
    },
    {
     "data": {
      "text/plain": [
       "'Running: lp_2017.xes 21/36'"
      ]
     },
     "metadata": {},
     "output_type": "display_data"
    },
    {
     "data": {
      "text/plain": [
       "'i: 1 ratio: 0.5 sup: 0.2 pruning: 0'"
      ]
     },
     "metadata": {},
     "output_type": "display_data"
    },
    {
     "name": "stderr",
     "output_type": "stream",
     "text": [
      "parsing log, completed traces :: 100%|██████████| 3000/3000 [00:02<00:00, 1495.14it/s]\n",
      "parsing log, completed traces :: 100%|██████████| 3000/3000 [00:01<00:00, 1936.11it/s]\n"
     ]
    },
    {
     "name": "stdout",
     "output_type": "stream",
     "text": [
      "Running IMbi_ali\n"
     ]
    },
    {
     "name": "stderr",
     "output_type": "stream",
     "text": [
      "aligning log, completed variants :: 100%|██████████| 446/446 [00:05<00:00, 75.52it/s]\n",
      "computing precision with alignments, completed variants :: 100%|██████████| 1199/1199 [00:01<00:00, 691.86it/s]\n",
      "aligning log, completed variants :: 100%|██████████| 82/82 [00:00<00:00, 86.23it/s] \n"
     ]
    },
    {
     "data": {
      "text/plain": [
       "'Running: lp_2017.xes 22/36'"
      ]
     },
     "metadata": {},
     "output_type": "display_data"
    },
    {
     "data": {
      "text/plain": [
       "'i: 1 ratio: 0.5 sup: 0.2 pruning: 0'"
      ]
     },
     "metadata": {},
     "output_type": "display_data"
    },
    {
     "name": "stderr",
     "output_type": "stream",
     "text": [
      "parsing log, completed traces :: 100%|██████████| 3000/3000 [00:02<00:00, 1440.13it/s]\n",
      "parsing log, completed traces :: 100%|██████████| 3000/3000 [00:01<00:00, 1877.35it/s]\n"
     ]
    },
    {
     "name": "stdout",
     "output_type": "stream",
     "text": [
      "Running IMbi_ali\n",
      "Error: the number of nodes in the generated dataset is bigger then the number of nodes in the model. Dataset: 14, model: 12\n"
     ]
    },
    {
     "name": "stderr",
     "output_type": "stream",
     "text": [
      "aligning log, completed variants :: 100%|██████████| 446/446 [00:06<00:00, 74.22it/s] \n",
      "computing precision with alignments, completed variants :: 100%|██████████| 1199/1199 [00:01<00:00, 695.07it/s]\n",
      "aligning log, completed variants :: 100%|██████████| 82/82 [00:01<00:00, 62.26it/s] \n"
     ]
    },
    {
     "data": {
      "text/plain": [
       "'Running: lp_2017.xes 23/36'"
      ]
     },
     "metadata": {},
     "output_type": "display_data"
    },
    {
     "data": {
      "text/plain": [
       "'i: 1 ratio: 0.5 sup: 0.3 pruning: 0'"
      ]
     },
     "metadata": {},
     "output_type": "display_data"
    },
    {
     "name": "stderr",
     "output_type": "stream",
     "text": [
      "parsing log, completed traces :: 100%|██████████| 3000/3000 [00:02<00:00, 1463.42it/s]\n",
      "parsing log, completed traces :: 100%|██████████| 3000/3000 [00:01<00:00, 1938.61it/s]\n"
     ]
    },
    {
     "name": "stdout",
     "output_type": "stream",
     "text": [
      "Running IMbi_ali\n"
     ]
    },
    {
     "name": "stderr",
     "output_type": "stream",
     "text": [
      "aligning log, completed variants :: 100%|██████████| 446/446 [00:03<00:00, 125.35it/s]\n",
      "computing precision with alignments, completed variants :: 100%|██████████| 1199/1199 [00:01<00:00, 714.54it/s]\n",
      "aligning log, completed variants :: 100%|██████████| 82/82 [00:00<00:00, 129.75it/s]\n"
     ]
    },
    {
     "data": {
      "text/plain": [
       "'Running: lp_2017.xes 24/36'"
      ]
     },
     "metadata": {},
     "output_type": "display_data"
    },
    {
     "data": {
      "text/plain": [
       "'i: 1 ratio: 0.5 sup: 0.3 pruning: 0'"
      ]
     },
     "metadata": {},
     "output_type": "display_data"
    },
    {
     "name": "stderr",
     "output_type": "stream",
     "text": [
      "parsing log, completed traces :: 100%|██████████| 3000/3000 [00:01<00:00, 1590.25it/s]\n",
      "parsing log, completed traces :: 100%|██████████| 3000/3000 [00:01<00:00, 1915.71it/s]\n"
     ]
    },
    {
     "name": "stdout",
     "output_type": "stream",
     "text": [
      "Running IMbi_ali\n",
      "Error: the number of nodes in the generated dataset is bigger then the number of nodes in the model. Dataset: 14, model: 12\n"
     ]
    },
    {
     "name": "stderr",
     "output_type": "stream",
     "text": [
      "aligning log, completed variants :: 100%|██████████| 446/446 [00:06<00:00, 73.11it/s]\n",
      "computing precision with alignments, completed variants :: 100%|██████████| 1199/1199 [00:01<00:00, 636.75it/s]\n",
      "aligning log, completed variants :: 100%|██████████| 82/82 [00:01<00:00, 57.56it/s] \n"
     ]
    },
    {
     "data": {
      "text/plain": [
       "'Running: lp_2018.xes 25/36'"
      ]
     },
     "metadata": {},
     "output_type": "display_data"
    },
    {
     "data": {
      "text/plain": [
       "'i: 2 ratio: 1 sup: 0.2 pruning: 0'"
      ]
     },
     "metadata": {},
     "output_type": "display_data"
    },
    {
     "name": "stderr",
     "output_type": "stream",
     "text": [
      "parsing log, completed traces :: 100%|██████████| 3000/3000 [00:01<00:00, 2135.99it/s]\n",
      "parsing log, completed traces :: 100%|██████████| 3000/3000 [00:01<00:00, 2945.51it/s]\n"
     ]
    },
    {
     "name": "stdout",
     "output_type": "stream",
     "text": [
      "Running IMbi_ali\n"
     ]
    },
    {
     "name": "stderr",
     "output_type": "stream",
     "text": [
      "aligning log, completed variants :: 100%|██████████| 197/197 [00:01<00:00, 103.11it/s]\n",
      "computing precision with alignments, completed variants :: 100%|██████████| 1326/1326 [00:02<00:00, 473.23it/s]\n",
      "aligning log, completed variants :: 100%|██████████| 137/137 [00:01<00:00, 116.35it/s]\n"
     ]
    },
    {
     "data": {
      "text/plain": [
       "'Running: lp_2018.xes 26/36'"
      ]
     },
     "metadata": {},
     "output_type": "display_data"
    },
    {
     "data": {
      "text/plain": [
       "'i: 2 ratio: 1 sup: 0.2 pruning: 0'"
      ]
     },
     "metadata": {},
     "output_type": "display_data"
    },
    {
     "name": "stderr",
     "output_type": "stream",
     "text": [
      "parsing log, completed traces :: 100%|██████████| 3000/3000 [00:01<00:00, 1997.34it/s]\n",
      "parsing log, completed traces :: 100%|██████████| 3000/3000 [00:00<00:00, 3257.33it/s]\n"
     ]
    },
    {
     "name": "stdout",
     "output_type": "stream",
     "text": [
      "Running IMbi_ali\n",
      "Error: the number of nodes in the generated dataset is bigger then the number of nodes in the model. Dataset: 13, model: 12\n"
     ]
    },
    {
     "name": "stderr",
     "output_type": "stream",
     "text": [
      "aligning log, completed variants :: 100%|██████████| 197/197 [00:04<00:00, 41.49it/s]\n",
      "computing precision with alignments, completed variants :: 100%|██████████| 1326/1326 [00:04<00:00, 322.35it/s]\n",
      "aligning log, completed variants :: 100%|██████████| 137/137 [00:02<00:00, 47.65it/s]\n"
     ]
    },
    {
     "data": {
      "text/plain": [
       "'Running: lp_2018.xes 27/36'"
      ]
     },
     "metadata": {},
     "output_type": "display_data"
    },
    {
     "data": {
      "text/plain": [
       "'i: 2 ratio: 1 sup: 0.3 pruning: 0'"
      ]
     },
     "metadata": {},
     "output_type": "display_data"
    },
    {
     "name": "stderr",
     "output_type": "stream",
     "text": [
      "parsing log, completed traces :: 100%|██████████| 3000/3000 [00:01<00:00, 2826.18it/s]\n",
      "parsing log, completed traces :: 100%|██████████| 3000/3000 [00:01<00:00, 2181.03it/s]\n"
     ]
    },
    {
     "name": "stdout",
     "output_type": "stream",
     "text": [
      "Running IMbi_ali\n"
     ]
    },
    {
     "name": "stderr",
     "output_type": "stream",
     "text": [
      "aligning log, completed variants :: 100%|██████████| 197/197 [00:01<00:00, 116.11it/s]\n",
      "computing precision with alignments, completed variants :: 100%|██████████| 1326/1326 [00:01<00:00, 738.31it/s]\n",
      "aligning log, completed variants :: 100%|██████████| 137/137 [00:01<00:00, 135.04it/s]\n"
     ]
    },
    {
     "data": {
      "text/plain": [
       "'Running: lp_2018.xes 28/36'"
      ]
     },
     "metadata": {},
     "output_type": "display_data"
    },
    {
     "data": {
      "text/plain": [
       "'i: 2 ratio: 1 sup: 0.3 pruning: 0'"
      ]
     },
     "metadata": {},
     "output_type": "display_data"
    },
    {
     "name": "stderr",
     "output_type": "stream",
     "text": [
      "parsing log, completed traces :: 100%|██████████| 3000/3000 [00:01<00:00, 2206.70it/s]\n",
      "parsing log, completed traces :: 100%|██████████| 3000/3000 [00:00<00:00, 3269.76it/s]\n"
     ]
    },
    {
     "name": "stdout",
     "output_type": "stream",
     "text": [
      "Running IMbi_ali\n",
      "Error: the number of nodes in the generated dataset is bigger then the number of nodes in the model. Dataset: 13, model: 12\n"
     ]
    },
    {
     "name": "stderr",
     "output_type": "stream",
     "text": [
      "aligning log, completed variants :: 100%|██████████| 197/197 [00:02<00:00, 77.42it/s]\n",
      "computing precision with alignments, completed variants :: 100%|██████████| 1326/1326 [00:02<00:00, 582.60it/s]\n",
      "aligning log, completed variants :: 100%|██████████| 137/137 [00:01<00:00, 111.11it/s]\n"
     ]
    },
    {
     "data": {
      "text/plain": [
       "'Running: lp_2018.xes 29/36'"
      ]
     },
     "metadata": {},
     "output_type": "display_data"
    },
    {
     "data": {
      "text/plain": [
       "'i: 2 ratio: 0.8 sup: 0.2 pruning: 0'"
      ]
     },
     "metadata": {},
     "output_type": "display_data"
    },
    {
     "name": "stderr",
     "output_type": "stream",
     "text": [
      "parsing log, completed traces :: 100%|██████████| 3000/3000 [00:01<00:00, 2451.98it/s]\n",
      "parsing log, completed traces :: 100%|██████████| 3000/3000 [00:01<00:00, 2822.40it/s]\n"
     ]
    },
    {
     "name": "stdout",
     "output_type": "stream",
     "text": [
      "Running IMbi_ali\n"
     ]
    },
    {
     "name": "stderr",
     "output_type": "stream",
     "text": [
      "aligning log, completed variants :: 100%|██████████| 197/197 [00:02<00:00, 93.59it/s]\n",
      "computing precision with alignments, completed variants :: 100%|██████████| 1326/1326 [00:02<00:00, 443.63it/s]\n",
      "aligning log, completed variants :: 100%|██████████| 137/137 [00:01<00:00, 112.43it/s]\n"
     ]
    },
    {
     "data": {
      "text/plain": [
       "'Running: lp_2018.xes 30/36'"
      ]
     },
     "metadata": {},
     "output_type": "display_data"
    },
    {
     "data": {
      "text/plain": [
       "'i: 2 ratio: 0.8 sup: 0.2 pruning: 0'"
      ]
     },
     "metadata": {},
     "output_type": "display_data"
    },
    {
     "name": "stderr",
     "output_type": "stream",
     "text": [
      "parsing log, completed traces :: 100%|██████████| 3000/3000 [00:01<00:00, 2119.39it/s]\n",
      "parsing log, completed traces :: 100%|██████████| 3000/3000 [00:00<00:00, 3257.33it/s]\n"
     ]
    },
    {
     "name": "stdout",
     "output_type": "stream",
     "text": [
      "Running IMbi_ali\n",
      "Error: the number of nodes in the generated dataset is bigger then the number of nodes in the model. Dataset: 13, model: 12\n"
     ]
    },
    {
     "name": "stderr",
     "output_type": "stream",
     "text": [
      "aligning log, completed variants :: 100%|██████████| 197/197 [00:04<00:00, 40.75it/s]\n",
      "computing precision with alignments, completed variants :: 100%|██████████| 1326/1326 [00:03<00:00, 353.18it/s]\n",
      "aligning log, completed variants :: 100%|██████████| 137/137 [00:02<00:00, 52.66it/s]\n"
     ]
    },
    {
     "data": {
      "text/plain": [
       "'Running: lp_2018.xes 31/36'"
      ]
     },
     "metadata": {},
     "output_type": "display_data"
    },
    {
     "data": {
      "text/plain": [
       "'i: 2 ratio: 0.8 sup: 0.3 pruning: 0'"
      ]
     },
     "metadata": {},
     "output_type": "display_data"
    },
    {
     "name": "stderr",
     "output_type": "stream",
     "text": [
      "parsing log, completed traces :: 100%|██████████| 3000/3000 [00:01<00:00, 2025.66it/s]\n",
      "parsing log, completed traces :: 100%|██████████| 3000/3000 [00:00<00:00, 3291.28it/s]\n"
     ]
    },
    {
     "name": "stdout",
     "output_type": "stream",
     "text": [
      "Running IMbi_ali\n"
     ]
    },
    {
     "name": "stderr",
     "output_type": "stream",
     "text": [
      "aligning log, completed variants :: 100%|██████████| 197/197 [00:01<00:00, 115.37it/s]\n",
      "computing precision with alignments, completed variants :: 100%|██████████| 1326/1326 [00:02<00:00, 655.62it/s]\n",
      "aligning log, completed variants :: 100%|██████████| 137/137 [00:01<00:00, 135.24it/s]\n"
     ]
    },
    {
     "data": {
      "text/plain": [
       "'Running: lp_2018.xes 32/36'"
      ]
     },
     "metadata": {},
     "output_type": "display_data"
    },
    {
     "data": {
      "text/plain": [
       "'i: 2 ratio: 0.8 sup: 0.3 pruning: 0'"
      ]
     },
     "metadata": {},
     "output_type": "display_data"
    },
    {
     "name": "stderr",
     "output_type": "stream",
     "text": [
      "parsing log, completed traces :: 100%|██████████| 3000/3000 [00:01<00:00, 2443.00it/s]\n",
      "parsing log, completed traces :: 100%|██████████| 3000/3000 [00:01<00:00, 2797.21it/s]\n"
     ]
    },
    {
     "name": "stdout",
     "output_type": "stream",
     "text": [
      "Running IMbi_ali\n",
      "Error: the number of nodes in the generated dataset is bigger then the number of nodes in the model. Dataset: 13, model: 12\n"
     ]
    },
    {
     "name": "stderr",
     "output_type": "stream",
     "text": [
      "aligning log, completed variants :: 100%|██████████| 197/197 [00:02<00:00, 80.18it/s]\n",
      "computing precision with alignments, completed variants :: 100%|██████████| 1326/1326 [00:02<00:00, 626.80it/s]\n",
      "aligning log, completed variants :: 100%|██████████| 137/137 [00:01<00:00, 108.17it/s]\n"
     ]
    },
    {
     "data": {
      "text/plain": [
       "'Running: lp_2018.xes 33/36'"
      ]
     },
     "metadata": {},
     "output_type": "display_data"
    },
    {
     "data": {
      "text/plain": [
       "'i: 2 ratio: 0.5 sup: 0.2 pruning: 0'"
      ]
     },
     "metadata": {},
     "output_type": "display_data"
    },
    {
     "name": "stderr",
     "output_type": "stream",
     "text": [
      "parsing log, completed traces :: 100%|██████████| 3000/3000 [00:01<00:00, 2436.05it/s]\n",
      "parsing log, completed traces :: 100%|██████████| 3000/3000 [00:01<00:00, 2742.23it/s]\n"
     ]
    },
    {
     "name": "stdout",
     "output_type": "stream",
     "text": [
      "Running IMbi_ali\n"
     ]
    },
    {
     "name": "stderr",
     "output_type": "stream",
     "text": [
      "aligning log, completed variants :: 100%|██████████| 197/197 [00:01<00:00, 100.46it/s]\n",
      "computing precision with alignments, completed variants :: 100%|██████████| 1326/1326 [00:02<00:00, 467.31it/s]\n",
      "aligning log, completed variants :: 100%|██████████| 137/137 [00:01<00:00, 120.28it/s]\n"
     ]
    },
    {
     "data": {
      "text/plain": [
       "'Running: lp_2018.xes 34/36'"
      ]
     },
     "metadata": {},
     "output_type": "display_data"
    },
    {
     "data": {
      "text/plain": [
       "'i: 2 ratio: 0.5 sup: 0.2 pruning: 0'"
      ]
     },
     "metadata": {},
     "output_type": "display_data"
    },
    {
     "name": "stderr",
     "output_type": "stream",
     "text": [
      "parsing log, completed traces :: 100%|██████████| 3000/3000 [00:01<00:00, 2011.40it/s]\n",
      "parsing log, completed traces :: 100%|██████████| 3000/3000 [00:00<00:00, 3271.54it/s]\n"
     ]
    },
    {
     "name": "stdout",
     "output_type": "stream",
     "text": [
      "Running IMbi_ali\n",
      "Error: the number of nodes in the generated dataset is bigger then the number of nodes in the model. Dataset: 13, model: 12\n"
     ]
    },
    {
     "name": "stderr",
     "output_type": "stream",
     "text": [
      "aligning log, completed variants :: 100%|██████████| 197/197 [00:03<00:00, 60.16it/s]\n",
      "computing precision with alignments, completed variants :: 100%|██████████| 1326/1326 [00:03<00:00, 371.95it/s]\n",
      "aligning log, completed variants :: 100%|██████████| 137/137 [00:01<00:00, 79.24it/s]\n"
     ]
    },
    {
     "data": {
      "text/plain": [
       "'Running: lp_2018.xes 35/36'"
      ]
     },
     "metadata": {},
     "output_type": "display_data"
    },
    {
     "data": {
      "text/plain": [
       "'i: 2 ratio: 0.5 sup: 0.3 pruning: 0'"
      ]
     },
     "metadata": {},
     "output_type": "display_data"
    },
    {
     "name": "stderr",
     "output_type": "stream",
     "text": [
      "parsing log, completed traces :: 100%|██████████| 3000/3000 [00:01<00:00, 2047.78it/s]\n",
      "parsing log, completed traces :: 100%|██████████| 3000/3000 [00:01<00:00, 2832.86it/s]\n"
     ]
    },
    {
     "name": "stdout",
     "output_type": "stream",
     "text": [
      "Running IMbi_ali\n"
     ]
    },
    {
     "name": "stderr",
     "output_type": "stream",
     "text": [
      "aligning log, completed variants :: 100%|██████████| 197/197 [00:01<00:00, 108.90it/s]\n",
      "computing precision with alignments, completed variants :: 100%|██████████| 1326/1326 [00:01<00:00, 709.29it/s]\n",
      "aligning log, completed variants :: 100%|██████████| 137/137 [00:01<00:00, 129.80it/s]\n"
     ]
    },
    {
     "data": {
      "text/plain": [
       "'Running: lp_2018.xes 36/36'"
      ]
     },
     "metadata": {},
     "output_type": "display_data"
    },
    {
     "data": {
      "text/plain": [
       "'i: 2 ratio: 0.5 sup: 0.3 pruning: 0'"
      ]
     },
     "metadata": {},
     "output_type": "display_data"
    },
    {
     "name": "stderr",
     "output_type": "stream",
     "text": [
      "parsing log, completed traces :: 100%|██████████| 3000/3000 [00:01<00:00, 2581.76it/s]\n",
      "parsing log, completed traces :: 100%|██████████| 3000/3000 [00:01<00:00, 2389.49it/s]\n"
     ]
    },
    {
     "name": "stdout",
     "output_type": "stream",
     "text": [
      "Running IMbi_ali\n",
      "Error: the number of nodes in the generated dataset is bigger then the number of nodes in the model. Dataset: 13, model: 12\n"
     ]
    },
    {
     "name": "stderr",
     "output_type": "stream",
     "text": [
      "aligning log, completed variants :: 100%|██████████| 197/197 [00:02<00:00, 83.51it/s]\n",
      "computing precision with alignments, completed variants :: 100%|██████████| 1326/1326 [00:02<00:00, 553.88it/s]\n",
      "aligning log, completed variants :: 100%|██████████| 137/137 [00:01<00:00, 107.87it/s]\n"
     ]
    }
   ],
   "source": [
    "if analyse_gnn == True:\n",
    "  runs = 1\n",
    "  \n",
    "  ratios = [1, 0.8, 0.5]\n",
    "  sups = [0.2, 0.3]\n",
    "  using_gnn = [False, True]\n",
    "  pruning_thresholds = [0]\n",
    "  \n",
    "  totalRuns = len(lpPaths) * len(ratios) * len(sups) * len(pruning_thresholds) * len(using_gnn)\n",
    "\n",
    "  for i in range(0,len(lpPaths)):\n",
    "    for ratio in ratios:\n",
    "      for sup in sups:\n",
    "        for pruning_threshold in pruning_thresholds:\n",
    "          for use_gnn in using_gnn:\n",
    "            display(\"Running: \" + lpPaths[i][0] + \" \" + str(runs) + \"/\" + str(totalRuns))\n",
    "            display(\"i: \" + str(i) + \" ratio: \" + str(ratio) + \" sup: \" + str(sup) + \" pruning: \" + str(pruning_threshold))\n",
    "            df = applyMinerToLogForGNN(df, lpPaths[i][1], lmPaths[i][1], lpPaths[i][0],lmPaths[i][0], 0.2, 0.99, sup, ratio, pruning_threshold,use_gnn)\n",
    "            runs += 1\n",
    "    "
   ]
  },
  {
   "cell_type": "code",
   "execution_count": 23,
   "metadata": {},
   "outputs": [],
   "source": [
    "\n",
    "def setupYTickList(minValue, step):\n",
    "  res = []\n",
    "  cur = 1\n",
    "  while cur > minValue:\n",
    "    res.append(cur)\n",
    "    cur -= step\n",
    "  res.append(cur)\n",
    "  return res\n",
    "    \n",
    "\n",
    "def displayDoubleLog(df, saveFig = False):\n",
    "  df_grouped = df.groupby(by=[\"logP_Name\",\t\"logM_Name\", \"im_bi_sup\", \"im_bi_ratio\", \"pruning_threshold\"], group_keys=True).apply(lambda x : x)\n",
    "  numberOfPlotPerRow = 4\n",
    "  rows = math.ceil(float(len(df_grouped.index.unique()))/numberOfPlotPerRow)\n",
    "  cols = min(len(df_grouped.index.unique()),numberOfPlotPerRow)\n",
    "\n",
    "  fig, axs = plt.subplots(rows, cols, figsize=(15 * (cols / numberOfPlotPerRow), 4 * rows), squeeze=False)\n",
    "  fig.tight_layout(pad=10.0)\n",
    "  cur_Row = 0\n",
    "  cur_Col = 0\n",
    "  \n",
    "  for logGroup in df_grouped.index.unique():\n",
    "    df_log_grouped = df_grouped.loc[logGroup]\n",
    "\n",
    "    axs[cur_Row,cur_Col].set_title(\"LogP: \" + logGroup[0] + \" LogM: \" + logGroup[1] + \"\\n\" + \"Sup: \" + str(df_log_grouped.im_bi_sup[0]) + \" ratio: \" + str(df_log_grouped.im_bi_ratio[0]) + \" Pruning: \" + str(df_log_grouped.pruning_threshold[0]))\n",
    "    axs[cur_Row,cur_Col].set_xlabel(\"Miners\")\n",
    "    j = 0\n",
    "    xTickLabel = []\n",
    "    idx = []\n",
    "    minValue = 0\n",
    "    for miner, use_gnn, precP, acc, fitP, fitM, f1_fit in zip(df_log_grouped.miner, df_log_grouped.use_gnn, df_log_grouped.precP, df_log_grouped.acc_logs, df_log_grouped.fitP, df_log_grouped.fitM, df_log_grouped.f1_fit_logs):\n",
    "      minValue = min([minValue, acc, fitP, fitM, f1_fit])\n",
    "      axs[cur_Row,cur_Col].bar(j,precP, color=\"r\", label=\"precP\")\n",
    "      axs[cur_Row,cur_Col].bar(j+1,acc, color=\"black\", label=\"acc\")\n",
    "      axs[cur_Row,cur_Col].bar(j+2,fitP, color=\"g\", label=\"fitP\")\n",
    "      axs[cur_Row,cur_Col].bar(j+3,fitM, color=\"b\", label=\"fitM\")\n",
    "      axs[cur_Row,cur_Col].bar(j+4,f1_fit, color=\"orange\", label=\"f1_fit\")\n",
    "      xTickLabel.append(miner + \"\\nGNN: \" + str(use_gnn))\n",
    "      idx.append(j + 2.5)\n",
    "      j += 6\n",
    "      \n",
    "    \n",
    "    axs[cur_Row,cur_Col].set_yticks(setupYTickList(minValue, 0.25))\n",
    "    axs[cur_Row,cur_Col].set_xticks(idx)\n",
    "    axs[cur_Row,cur_Col].set_xticklabels(xTickLabel)\n",
    "    axs[cur_Row,cur_Col].legend(loc='center left', ncols=1, labels=[\"precP\",\"acc\", \"fitP\", \"fitM\", \"f1_fit\"], bbox_to_anchor=(1, 0.5))\n",
    "    cur_Col += 1\n",
    "    \n",
    "    if cur_Col == numberOfPlotPerRow:\n",
    "      cur_Row += 1\n",
    "      cur_Col = 0\n",
    "  \n",
    "  plt.show()\n",
    "\n",
    "  if saveFig:\n",
    "    fig.savefig(\"plot\" + \".pdf\")"
   ]
  },
  {
   "cell_type": "code",
   "execution_count": 84,
   "metadata": {},
   "outputs": [],
   "source": [
    "def displayDoubleLogSplit(df, saveFig = False):\n",
    "  df_group = df.groupby(by=[\"logP_Name\",\t\"logM_Name\"], group_keys=True).apply(lambda x : x)\n",
    "  for logGroup_index in df_group.index.unique():\n",
    "    \n",
    "    logP_name = logGroup_index[df_group.index.names.index('logP_Name')]\n",
    "    logM_name = logGroup_index[df_group.index.names.index('logM_Name')]\n",
    "    \n",
    "    df_log_cur = df_group.loc[logGroup_index]\n",
    "    df_grouped = df_log_cur.groupby(by=[\"im_bi_sup\", \"im_bi_ratio\", \"pruning_threshold\"], group_keys=True).apply(lambda x : x)\n",
    "    numberOfPlotPerRow = 3\n",
    "    rows = math.ceil(float(len(df_grouped.index.unique()))/numberOfPlotPerRow)\n",
    "    cols = min(len(df_grouped.index.unique()),numberOfPlotPerRow)\n",
    "\n",
    "    fig, axs = plt.subplots(rows, cols, figsize=(15 * (cols / numberOfPlotPerRow), 4 * rows), squeeze=False)\n",
    "    fig.tight_layout(pad=10.0)\n",
    "    cur_Row = 0\n",
    "    cur_Col = 0\n",
    "\n",
    "    for logGroup in df_grouped.index.unique():\n",
    "      df_log_grouped = df_grouped.loc[logGroup]\n",
    "      \n",
    "      im_bi_sup = logGroup[df_grouped.index.names.index('im_bi_sup')]\n",
    "      im_bi_ratio = logGroup[df_grouped.index.names.index('im_bi_ratio')]\n",
    "      pruning_threshold = logGroup[df_grouped.index.names.index('pruning_threshold')]\n",
    "      \n",
    "      axs[cur_Row,cur_Col].set_title(\"LogP: \" + logP_name + \" LogM: \" + logM_name + \"\\n\" + \"Sup: \" + str(im_bi_sup) + \" ratio: \" + str(im_bi_ratio) + \" Pruning: \" + str(pruning_threshold))\n",
    "      axs[cur_Row,cur_Col].set_xlabel(\"Miners\")\n",
    "      j = 0\n",
    "      xTickLabel = []\n",
    "      idx = []\n",
    "      minValue = 0\n",
    "      for miner, use_gnn, precP, acc, fitP, fitM, f1_fit in zip(df_log_grouped.miner, df_log_grouped.use_gnn, df_log_grouped.precP, df_log_grouped.acc_logs, df_log_grouped.fitP, df_log_grouped.fitM, df_log_grouped.f1_fit_logs):\n",
    "        minValue = min([minValue, acc, fitP, fitM, f1_fit])\n",
    "        axs[cur_Row,cur_Col].bar(j,precP, color=\"r\", label=\"precP\")\n",
    "        axs[cur_Row,cur_Col].bar(j+1,acc, color=\"black\", label=\"acc\")\n",
    "        axs[cur_Row,cur_Col].bar(j+2,fitP, color=\"g\", label=\"fitP\")\n",
    "        axs[cur_Row,cur_Col].bar(j+3,fitM, color=\"b\", label=\"fitM\")\n",
    "        axs[cur_Row,cur_Col].bar(j+4,f1_fit, color=\"orange\", label=\"f1_fit\")\n",
    "        xTickLabel.append(miner + \"\\nGNN: \" + str(use_gnn))\n",
    "        idx.append(j + 2.5)\n",
    "        j += 6\n",
    "        \n",
    "      \n",
    "      axs[cur_Row,cur_Col].set_yticks(setupYTickList(minValue, 0.25))\n",
    "      axs[cur_Row,cur_Col].set_xticks(idx)\n",
    "      axs[cur_Row,cur_Col].set_xticklabels(xTickLabel)\n",
    "      axs[cur_Row,cur_Col].legend(loc='center left', ncols=1, labels=[\"precP\",\"acc\", \"fitP\", \"fitM\", \"f1_fit\"], bbox_to_anchor=(1, 0.5))\n",
    "      cur_Col += 1\n",
    "      \n",
    "      if cur_Col == numberOfPlotPerRow:\n",
    "        cur_Row += 1\n",
    "        cur_Col = 0\n",
    "    \n",
    "    plt.show()\n",
    "\n",
    "    if saveFig:\n",
    "      fig.savefig(\"plot_\" + logP_name + \"_\" + logM_name  + \".pdf\")"
   ]
  },
  {
   "cell_type": "code",
   "execution_count": 61,
   "metadata": {},
   "outputs": [],
   "source": [
    "def displaySingleLog(df, saveFig = False):\n",
    "  df_grouped = df.groupby(by=[\"logP_Name\",\t\"logM_Name\", \"im_bi_sup\", \"pruning_threshold\", \"use_gnn\"], group_keys=True).apply(lambda x : x)\n",
    "\n",
    "  numberOfPlotPerRow = 3\n",
    "  rows = math.ceil(float(len(df_grouped.index.unique()))/numberOfPlotPerRow)\n",
    "  cols = min(len(df_grouped.index.unique()),numberOfPlotPerRow)\n",
    "  \n",
    "  f1_measures = [\"f1_tok\", \"f1_alig\"]\n",
    "  f1_measures = [\"f1_alig\"]\n",
    "  \n",
    "  for f1_measure in f1_measures:\n",
    "    fig, axs = plt.subplots(rows, cols, figsize=(15 * (cols / numberOfPlotPerRow), 4 * rows), squeeze=False)\n",
    "    fig.tight_layout(pad=10.0)\n",
    "    cur_Row = 0\n",
    "    cur_Col = 0\n",
    "    for logGroup in df_grouped.index.unique():\n",
    "      df_log_grouped = df_grouped.loc[logGroup]\n",
    "      axs[cur_Row,cur_Col].set_title(\"LogP: \" + logGroup[0] + \" LogM: \" + logGroup[1] + \"\\n\" + \"Sup: \" + str(df_log_grouped.im_bi_sup[0]) + \" Pruning: \" + str(df_log_grouped.pruning_threshold[0]))\n",
    "      axs[cur_Row,cur_Col].set_ylabel(f1_measure)\n",
    "      axs[cur_Row,cur_Col].set_xlabel(\"Miners\")\n",
    "      j = 0\n",
    "      xTickLabel = []\n",
    "      idx = []\n",
    "      for miner, f1_mes in zip(df_log_grouped.miner, df_log_grouped[f1_measure]):\n",
    "        axs[cur_Row,cur_Col].bar(j,f1_mes, label=str(miner))\n",
    "        xTickLabel.append(miner)\n",
    "        idx.append(j)\n",
    "        j += 1\n",
    "      axs[cur_Row,cur_Col].set_xticks(idx)\n",
    "      axs[cur_Row,cur_Col].set_xticklabels(xTickLabel, rotation=90)\n",
    "      cur_Col += 1\n",
    "      if cur_Col == numberOfPlotPerRow:\n",
    "        cur_Row += 1\n",
    "        cur_Col = 0\n",
    "        \n",
    "    plt.show()\n",
    "    if saveFig:\n",
    "      fig.savefig(\"plot_\" + f1_measure + \".pdf\")"
   ]
  },
  {
   "cell_type": "code",
   "execution_count": 85,
   "metadata": {},
   "outputs": [
    {
     "data": {
      "image/png": "[encoded data removed]",
      "text/plain": [
       "<Figure size 1500x800 with 6 Axes>"
      ]
     },
     "metadata": {},
     "output_type": "display_data"
    },
    {
     "data": {
      "image/png": "[encoded data removed]",
      "text/plain": [
       "<Figure size 1500x800 with 6 Axes>"
      ]
     },
     "metadata": {},
     "output_type": "display_data"
    },
    {
     "data": {
      "image/png": "[encoded data removed]",
      "text/plain": [
       "<Figure size 1500x800 with 6 Axes>"
      ]
     },
     "metadata": {},
     "output_type": "display_data"
    }
   ],
   "source": [
    "if analyse_gnn == False:\n",
    "  if runSingleLog == False:\n",
    "    displayDoubleLog(df)\n",
    "  else:\n",
    "    displaySingleLog(df)\n",
    "else:\n",
    "  displayDoubleLogSplit(df,True)"
   ]
  },
  {
   "cell_type": "code",
   "execution_count": 101,
   "metadata": {},
   "outputs": [
    {
     "name": "stdout",
     "output_type": "stream",
     "text": [
      "Displaying: IMbi_ali lp_2018 lm_2018 Sup: 0.3 Ratio: 0.5 GNN:False\n"
     ]
    },
    {
     "data": {
      "image/png": "[encoded data removed]",
      "text/plain": [
       "<IPython.core.display.Image object>"
      ]
     },
     "metadata": {},
     "output_type": "display_data"
    },
    {
     "name": "stdout",
     "output_type": "stream",
     "text": [
      "Displaying: IMbi_ali lp_2018 lm_2018 Sup: 0.3 Ratio: 0.5 GNN:True\n"
     ]
    },
    {
     "data": {
      "image/png": "[encoded data removed]",
      "text/plain": [
       "<IPython.core.display.Image object>"
      ]
     },
     "metadata": {},
     "output_type": "display_data"
    },
    {
     "name": "stdout",
     "output_type": "stream",
     "text": [
      "Displaying: IMbi_ali lp_2018 lm_2018 Sup: 0.3 Ratio: 0.5 GNN:False\n",
      "Displaying: IMbi_ali lp_2018 lm_2018 Sup: 0.3 Ratio: 0.5 GNN:True\n"
     ]
    }
   ],
   "source": [
    "if True:\n",
    "  if analyse_gnn == False:\n",
    "    if runSingleLog == False:\n",
    "      visualize_petriNet(df, \"IM\", \"lp_2012.xes\", \"\")\n",
    "      visualize_petriNet(df, \"IMbi_mar\", \"lp_2012\", \"lm_2012\")\n",
    "      visualize_petriNet(df, \"IMbi_ali\", \"lp_2012\", \"lm_2012\")\n",
    "    else:\n",
    "      visualize_petriNet(df, \"IM\", \"lp_2012.xes\", \"\")\n",
    "      visualize_petriNet(df, \"IMbi_mar\", \"lp_2012.xes\", \"\")\n",
    "      visualize_petriNet(df, \"IMbi_ali\", \"lp_2012.xes\", \"\")\n",
    "  else:\n",
    "    visualize_petriNet_Advanced(df, \"IMbi_ali\", \"lp_2018\", \"lm_2018\",0.3,0.5, False)\n",
    "    visualize_petriNet_Advanced(df, \"IMbi_ali\", \"lp_2018\", \"lm_2018\",0.3,0.5, True)\n",
    "    save_petriNet_Advanced(\"IMbi_ali_gnn_False.pdf\", df, \"IMbi_ali\", \"lp_2018\", \"lm_2018\",0.3,0.5, False)\n",
    "    save_petriNet_Advanced(\"IMbi_ali_gnn_True.pdf\",df, \"IMbi_ali\", \"lp_2018\", \"lm_2018\",0.3,0.5, True)\n",
    "    # save_petriNet(df, \"IMbi_ali\", \"lp_2012\", \"lm_2012\", True)\n"
   ]
  },
  {
   "cell_type": "code",
   "execution_count": 27,
   "metadata": {},
   "outputs": [],
   "source": [
    "if False:\n",
    "  display(df)"
   ]
  },
  {
   "attachments": {},
   "cell_type": "markdown",
   "metadata": {},
   "source": [
    "from pm4py.objects.petri_net.exporter import exporter as pnml_exporter\n",
    "\n",
    "net, im, fm = df.iloc[4].net, df.iloc[4].im, df.iloc[4].fm\n",
    "view_petri_net(net, im, fm)\n",
    "pnml_exporter.apply(net, im, \"petri_IMbi.pnml\", final_marking=fm)"
   ]
  },
  {
   "cell_type": "code",
   "execution_count": null,
   "metadata": {},
   "outputs": [],
   "source": []
  }
 ],
 "metadata": {
  "kernelspec": {
   "display_name": "Python 3 (ipykernel)",
   "language": "python",
   "name": "python3"
  },
  "language_info": {
   "codemirror_mode": {
    "name": "ipython",
    "version": 3
   },
   "file_extension": ".py",
   "mimetype": "text/x-python",
   "name": "python",
   "nbconvert_exporter": "python",
   "pygments_lexer": "ipython3",
   "version": "3.8.5"
  }
 },
 "nbformat": 4,
 "nbformat_minor": 2
}
